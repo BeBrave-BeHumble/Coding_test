{
  "nbformat": 4,
  "nbformat_minor": 0,
  "metadata": {
    "colab": {
      "provenance": [],
      "toc_visible": true,
      "authorship_tag": "ABX9TyMAHSW6VBnk9FsECDvhJ5Rl",
      "include_colab_link": true
    },
    "kernelspec": {
      "name": "python3",
      "display_name": "Python 3"
    },
    "language_info": {
      "name": "python"
    }
  },
  "cells": [
    {
      "cell_type": "markdown",
      "metadata": {
        "id": "view-in-github",
        "colab_type": "text"
      },
      "source": [
        "<a href=\"https://colab.research.google.com/github/BeBrave-BeHumble/Coding_test/blob/main/Codeup/CodeUp_basic.ipynb\" target=\"_parent\"><img src=\"https://colab.research.google.com/assets/colab-badge.svg\" alt=\"Open In Colab\"/></a>"
      ]
    },
    {
      "cell_type": "markdown",
      "source": [
        "# 정수가 입력 되었을 때 짝수면 출력해보자."
      ],
      "metadata": {
        "id": "T-vS6DW-yfnN"
      }
    },
    {
      "cell_type": "code",
      "source": [
        "aa = [ print(i) for i in list(map(int, input().split())) if i % 2 == 0 ]"
      ],
      "metadata": {
        "colab": {
          "base_uri": "https://localhost:8080/"
        },
        "id": "W45Aw0junemm",
        "outputId": "214dc40d-b13d-45bf-a955-e52418c6bff7"
      },
      "execution_count": null,
      "outputs": [
        {
          "output_type": "stream",
          "name": "stdout",
          "text": [
            "1 2 4\n",
            "2\n",
            "4\n"
          ]
        }
      ]
    },
    {
      "cell_type": "markdown",
      "source": [
        "# 정수가 입력 되었을 때 짝(even)/홀(odd)을 출력해보자."
      ],
      "metadata": {
        "id": "iR8UC2Gxymbp"
      }
    },
    {
      "cell_type": "code",
      "source": [
        "for i in list(map(int, input().split())) :\n",
        "    print('even') if i % 2 == 0 else print('odd')"
      ],
      "metadata": {
        "colab": {
          "base_uri": "https://localhost:8080/"
        },
        "id": "QXnhnAlxlrgk",
        "outputId": "9299dd29-d34b-4002-aa2d-67bd0a983cd3"
      },
      "execution_count": null,
      "outputs": [
        {
          "output_type": "stream",
          "name": "stdout",
          "text": [
            "1 2 8\n",
            "odd\n",
            "even\n",
            "even\n"
          ]
        }
      ]
    },
    {
      "cell_type": "markdown",
      "source": [
        "# 6067 : [기초-조건/선택실행구조] 정수 1개 입력받아 분류하기"
      ],
      "metadata": {
        "id": "f1uon6CJ0np_"
      }
    },
    {
      "cell_type": "markdown",
      "source": [
        "0이 아닌 정수 1개가 입력되었을 때, 음(-)/양(+)과 짝(even)/홀(odd)을 구분해 분류해보자.\n",
        "음수이면서 짝수이면, A\n",
        "음수이면서 홀수이면, B\n",
        "양수이면서 짝수이면, C\n",
        "양수이면서 홀수이면, D\n",
        "를 출력한다."
      ],
      "metadata": {
        "id": "Mc9YyGcG00Ni"
      }
    },
    {
      "cell_type": "code",
      "source": [
        "a = int(input())\n",
        "\n",
        "if (a < 0 and a % 2 == 0) : print('A')\n",
        "elif (a < 0 and a % 2 != 0) : print('B')\n",
        "elif (a > 0 and a % 2 == 0) : print('C')\n",
        "else : print('D')"
      ],
      "metadata": {
        "colab": {
          "base_uri": "https://localhost:8080/"
        },
        "id": "9NqXtAka0o8Q",
        "outputId": "7da4f508-599b-42b3-efa8-9eec17d9ab99"
      },
      "execution_count": null,
      "outputs": [
        {
          "output_type": "stream",
          "name": "stdout",
          "text": [
            "-2147483648\n",
            "A\n"
          ]
        }
      ]
    },
    {
      "cell_type": "markdown",
      "source": [
        "# 6069 : [기초-조건/선택실행구조] 평가 입력받아 다르게 출력하기\n",
        "\n",
        "평가 내용\n",
        "평가 : 내용\n",
        "A : best!!!\n",
        "B : good!!\n",
        "C : run!\n",
        "D : slowly~\n",
        "나머지 문자들 : what?"
      ],
      "metadata": {
        "id": "MJdTa4YP2nMe"
      }
    },
    {
      "cell_type": "code",
      "source": [
        "평가 = str(input())\n",
        "\n",
        "if 평가 == 'A' : print('best!!!')\n",
        "elif 평가 == 'B' : print('good!!')\n",
        "elif 평가 == 'C' : print('run!')\n",
        "elif 평가 == 'D' : print('slowly~')\n",
        "else : print('what?')"
      ],
      "metadata": {
        "colab": {
          "base_uri": "https://localhost:8080/"
        },
        "id": "R5wjvmLJ2n_B",
        "outputId": "08f42755-0551-4465-ca56-0d0274dfc0d7"
      },
      "execution_count": null,
      "outputs": [
        {
          "output_type": "stream",
          "name": "stdout",
          "text": [
            "A\n",
            "best!!!\n"
          ]
        }
      ]
    },
    {
      "cell_type": "code",
      "source": [
        "평가 = str(input())\n",
        "\n",
        "평가_매핑 = {'A': 'best!!!', 'B': 'good!!', 'C': 'run!', 'D': 'slowly'}\n",
        "print(평가_매핑.get(평가, 'what?'))"
      ],
      "metadata": {
        "colab": {
          "base_uri": "https://localhost:8080/"
        },
        "id": "RT4M6xrD2n4W",
        "outputId": "eb5c8101-2e07-4e07-bbf5-fc3eac03bcaf"
      },
      "execution_count": null,
      "outputs": [
        {
          "output_type": "stream",
          "name": "stdout",
          "text": [
            "A\n",
            "best!!!\n"
          ]
        }
      ]
    },
    {
      "cell_type": "markdown",
      "source": [
        "# 6071 : [기초-반복실행구조] 0 입력될 때까지 무한 출력하기"
      ],
      "metadata": {
        "id": "iMEK99le7mE9"
      }
    },
    {
      "cell_type": "markdown",
      "source": [
        "임의의 정수가 줄을 바꿔 계속 입력된다.\n",
        "-2147483648 ~ +2147483647, 단 개수는 알 수 없다.\n",
        "\n",
        "0이 아니면 입력된 정수를 출력하고, 0이 입력되면 출력을 중단해보자."
      ],
      "metadata": {
        "id": "WmuoAmtwesNd"
      }
    },
    {
      "cell_type": "code",
      "source": [
        "n = 1\n",
        "\n",
        "while n != 0 :\n",
        "    n = int(input())\n",
        "    if n != 0 : print(n)"
      ],
      "metadata": {
        "colab": {
          "base_uri": "https://localhost:8080/"
        },
        "id": "sEWO0vrs0o5u",
        "outputId": "d96800ec-7c15-4247-c06d-fedfbbd052d2"
      },
      "execution_count": null,
      "outputs": [
        {
          "name": "stdout",
          "output_type": "stream",
          "text": [
            "7\n",
            "7\n",
            "4\n",
            "4\n",
            "2\n",
            "2\n",
            "3\n",
            "3\n",
            "0\n"
          ]
        }
      ]
    },
    {
      "cell_type": "code",
      "source": [
        "n = int(input())\n",
        "\n",
        "while n != 0 :\n",
        "    print(n)\n",
        "    n = int(input())"
      ],
      "metadata": {
        "colab": {
          "base_uri": "https://localhost:8080/"
        },
        "id": "0okJn6adhUR2",
        "outputId": "008146cc-e2e0-4c2a-cf0c-e142cc6fd1dd"
      },
      "execution_count": null,
      "outputs": [
        {
          "name": "stdout",
          "output_type": "stream",
          "text": [
            "7\n",
            "7\n",
            "4\n",
            "4\n",
            "3\n",
            "3\n",
            "5\n",
            "5\n",
            "0\n"
          ]
        }
      ]
    },
    {
      "cell_type": "code",
      "source": [
        "aa = [n for n in iter(lambda: int(input()), 0)]\n",
        "print(aa)\n",
        "\n",
        "# 이렇게하면 출력값을 list에 담아버림 -> 오답"
      ],
      "metadata": {
        "colab": {
          "base_uri": "https://localhost:8080/"
        },
        "id": "D4TqnguKftiE",
        "outputId": "3b7b2582-fa25-46f5-ef31-d4e53207a4f5"
      },
      "execution_count": null,
      "outputs": [
        {
          "output_type": "stream",
          "name": "stdout",
          "text": [
            "7\n",
            "4\n",
            "5\n",
            "3\n",
            "0\n",
            "[7, 4, 5, 3]\n"
          ]
        }
      ]
    },
    {
      "cell_type": "markdown",
      "source": [
        "# 6072 : [기초-반복실행구조] 정수 1개 입력받아 카운트다운 출력하기1"
      ],
      "metadata": {
        "id": "511SIgCPXbgU"
      }
    },
    {
      "cell_type": "code",
      "source": [
        "n = int(input())\n",
        "\n",
        "while n > 0 :\n",
        "  print(n)\n",
        "  n -= 1"
      ],
      "metadata": {
        "colab": {
          "base_uri": "https://localhost:8080/"
        },
        "id": "vsGeMSIgZi7c",
        "outputId": "a3ed828c-c5fb-444b-c268-ffe68286b1c9"
      },
      "execution_count": null,
      "outputs": [
        {
          "output_type": "stream",
          "name": "stdout",
          "text": [
            "10\n",
            "10\n",
            "9\n",
            "8\n",
            "7\n",
            "6\n",
            "5\n",
            "4\n",
            "3\n",
            "2\n",
            "1\n"
          ]
        }
      ]
    },
    {
      "cell_type": "markdown",
      "source": [
        "# 6073 : [기초-반복실행구조] 정수 1개 입력받아 카운트다운 출력하기2"
      ],
      "metadata": {
        "id": "kOPScAhabsRe"
      }
    },
    {
      "cell_type": "code",
      "source": [
        "n = int(input())\n",
        "\n",
        "while n > 0 :\n",
        "    print(n-1)\n",
        "    n -= 1"
      ],
      "metadata": {
        "colab": {
          "base_uri": "https://localhost:8080/"
        },
        "id": "usu02RJhhpBz",
        "outputId": "a47f27d7-ea1e-4b04-cff5-af528aa75a2d"
      },
      "execution_count": null,
      "outputs": [
        {
          "output_type": "stream",
          "name": "stdout",
          "text": [
            "5\n",
            "4\n",
            "3\n",
            "2\n",
            "1\n",
            "0\n"
          ]
        }
      ]
    },
    {
      "cell_type": "markdown",
      "source": [
        "# 6074 : [기초-반복실행구조] 문자 1개 입력받아 알파벳 출력하기\n",
        "\n",
        "a부터 입력한 문자까지 순서대로 공백을 두고 한 줄로 출력한다."
      ],
      "metadata": {
        "id": "AUVbiJADdnRy"
      }
    },
    {
      "cell_type": "code",
      "source": [
        "for i in range(ord('a'), ord(str(input()))+1):\n",
        "    print(chr(i), end=' ')"
      ],
      "metadata": {
        "colab": {
          "base_uri": "https://localhost:8080/"
        },
        "id": "IQR7UvXFdogW",
        "outputId": "78188fb8-b5f8-4769-c34c-89679ca19811"
      },
      "execution_count": null,
      "outputs": [
        {
          "output_type": "stream",
          "name": "stdout",
          "text": [
            "z\n",
            "a b c d e f g h i j k l m n o p q r s t u v w x y z "
          ]
        }
      ]
    },
    {
      "cell_type": "code",
      "source": [
        "alphabet_string = ' '.join(chr(i) for i in range(ord('a'), ord(str(input()))+1))\n",
        "print(alphabet_string)\n",
        "\n",
        "# 이게 조금 더 빠름"
      ],
      "metadata": {
        "colab": {
          "base_uri": "https://localhost:8080/"
        },
        "id": "ax68bz6Eibwh",
        "outputId": "f1939121-2f61-4043-c0f6-7ed401a20321"
      },
      "execution_count": null,
      "outputs": [
        {
          "output_type": "stream",
          "name": "stdout",
          "text": [
            "z\n",
            "a b c d e f g h i j k l m n o p q r s t u v w x y z\n"
          ]
        }
      ]
    },
    {
      "cell_type": "code",
      "source": [
        "print(*range(4))"
      ],
      "metadata": {
        "colab": {
          "base_uri": "https://localhost:8080/"
        },
        "id": "hT_w69uBdodp",
        "outputId": "08cdcc12-a37c-4349-cb6e-d56465928d6c"
      },
      "execution_count": null,
      "outputs": [
        {
          "output_type": "stream",
          "name": "stdout",
          "text": [
            "0 1 2 3\n"
          ]
        }
      ]
    },
    {
      "cell_type": "code",
      "source": [
        "alphabet = [chr(i) for i in range(ord('a'), ord('z')+1)]\n",
        "print(alphabet)"
      ],
      "metadata": {
        "colab": {
          "base_uri": "https://localhost:8080/"
        },
        "id": "xjZA59m4dobI",
        "outputId": "d61554cd-241f-4108-8082-39d34df8e5b9"
      },
      "execution_count": null,
      "outputs": [
        {
          "output_type": "stream",
          "name": "stdout",
          "text": [
            "['a', 'b', 'c', 'd', 'e', 'f', 'g', 'h', 'i', 'j', 'k', 'l', 'm', 'n', 'o', 'p', 'q', 'r', 's', 't', 'u', 'v', 'w', 'x', 'y', 'z']\n"
          ]
        }
      ]
    },
    {
      "cell_type": "code",
      "source": [
        "chr(print(*range(ord('a'), ord('z')+1)))"
      ],
      "metadata": {
        "colab": {
          "base_uri": "https://localhost:8080/"
        },
        "id": "EobjNqmJdoYF",
        "outputId": "f340850b-98e0-477b-f865-eb30d954a248"
      },
      "execution_count": null,
      "outputs": [
        {
          "output_type": "stream",
          "name": "stdout",
          "text": [
            "97 98 99 100 101 102 103 104 105 106 107 108 109 110 111 112 113 114 115 116 117 118 119 120 121 122\n"
          ]
        }
      ]
    },
    {
      "cell_type": "markdown",
      "source": [
        "# 6075 : [기초-반복실행구조] 정수 1개 입력받아 그 수까지 출력하기1\n",
        "\n",
        "0부터 그 수까지 줄을 바꿔 한 개씩 출력한다."
      ],
      "metadata": {
        "id": "6fK6pyd1jR3E"
      }
    },
    {
      "cell_type": "code",
      "source": [
        "kk = '\\n'.join( str(i) for i in range(int(input())+1) )\n",
        "print(kk)\n",
        "\n",
        "# 이게 더 빠름"
      ],
      "metadata": {
        "colab": {
          "base_uri": "https://localhost:8080/"
        },
        "id": "KplAkGxZiVV6",
        "outputId": "df16af70-737b-442e-b7aa-00d714ed4f66"
      },
      "execution_count": null,
      "outputs": [
        {
          "output_type": "stream",
          "name": "stdout",
          "text": [
            "3\n",
            "0\n",
            "1\n",
            "2\n",
            "3\n"
          ]
        }
      ]
    },
    {
      "cell_type": "code",
      "source": [
        "for i in range(int(input())+1):\n",
        "    print(i, end = '\\n')"
      ],
      "metadata": {
        "colab": {
          "base_uri": "https://localhost:8080/"
        },
        "id": "OttvN9qqiVUA",
        "outputId": "4f311847-4a79-498c-dc3e-72c6f6578a9e"
      },
      "execution_count": null,
      "outputs": [
        {
          "output_type": "stream",
          "name": "stdout",
          "text": [
            "3\n",
            "0\n",
            "1\n",
            "2\n",
            "3\n"
          ]
        }
      ]
    },
    {
      "cell_type": "markdown",
      "source": [
        "# 6077 : [기초-종합] 짝수 합 구하기(설명)"
      ],
      "metadata": {
        "id": "fP_E9PVlr6Gv"
      }
    },
    {
      "cell_type": "code",
      "source": [
        "result = 0\n",
        "for i in range(int(input())+1):\n",
        "    if i % 2 == 0 :\n",
        "        result += i\n",
        "print(result)"
      ],
      "metadata": {
        "colab": {
          "base_uri": "https://localhost:8080/"
        },
        "id": "KtRW3n99iVSS",
        "outputId": "1ad1eb8a-a9d7-4376-b9dd-fb1f5def70ab"
      },
      "execution_count": null,
      "outputs": [
        {
          "output_type": "stream",
          "name": "stdout",
          "text": [
            "5\n",
            "6\n"
          ]
        }
      ]
    },
    {
      "cell_type": "code",
      "source": [
        "result = 0\n",
        "kk = [ i for i in range(int(input())+1) if i % 2 == 0 ]\n",
        "print(sum(kk))\n",
        "\n",
        "# 더 빠름"
      ],
      "metadata": {
        "colab": {
          "base_uri": "https://localhost:8080/"
        },
        "id": "7koZleZqiVOt",
        "outputId": "51be554b-c62e-4c33-d2a8-526db744b750"
      },
      "execution_count": null,
      "outputs": [
        {
          "output_type": "stream",
          "name": "stdout",
          "text": [
            "5\n",
            "6\n"
          ]
        }
      ]
    },
    {
      "cell_type": "markdown",
      "source": [
        "# 6078 : [기초-종합] 원하는 문자가 입력될 때까지 반복 출력하기\n",
        "\n",
        "영문 소문자 'q'가 입력될 때까지\n",
        "입력한 문자를 계속 출력하는 프로그램을 작성해보자."
      ],
      "metadata": {
        "id": "jNL_6qPEs2kS"
      }
    },
    {
      "cell_type": "code",
      "source": [
        "while True:\n",
        "    x = str(input())\n",
        "    print(x)\n",
        "    if x == 'q' :\n",
        "        break"
      ],
      "metadata": {
        "colab": {
          "base_uri": "https://localhost:8080/"
        },
        "id": "5Jk9iKS1EJ-2",
        "outputId": "71d5b894-1ec3-4117-8894-c9a28b0482c6"
      },
      "execution_count": null,
      "outputs": [
        {
          "output_type": "stream",
          "name": "stdout",
          "text": [
            "d\n",
            "d\n",
            "s\n",
            "s\n",
            "q\n",
            "q\n"
          ]
        }
      ]
    },
    {
      "cell_type": "code",
      "source": [
        "for x in iter(input, 'q'):\n",
        "    print(x)"
      ],
      "metadata": {
        "id": "bbbuKwY9vTXa",
        "colab": {
          "base_uri": "https://localhost:8080/"
        },
        "outputId": "1e1c482f-7e85-4ff7-ea29-d7fb9bb4cf37"
      },
      "execution_count": null,
      "outputs": [
        {
          "name": "stdout",
          "output_type": "stream",
          "text": [
            "ㄴ\n",
            "ㄴ\n",
            "a\n",
            "a\n",
            "d\n",
            "d\n",
            "q\n"
          ]
        }
      ]
    },
    {
      "cell_type": "markdown",
      "source": [
        "# 6079 : [기초-종합] 언제까지 더해야 할까?(py)\n",
        "\n",
        "1, 2, 3 ... 을 계속 더해 나갈 때,\n",
        "그 합이 입력한 정수(0 ~ 1000)보다 같거나 작을 때까지만\n",
        "계속 더하는 프로그램을 작성해보자.\n",
        "\n",
        "즉, 1부터 n까지 정수를 계속 더해 나간다고 할 때,\n",
        "어디까지 더해야 입력한 수보다 같거나 커지는 지를 알아보고자하는 문제이다.\n"
      ],
      "metadata": {
        "id": "Dt8VU0eXGmf2"
      }
    },
    {
      "cell_type": "code",
      "source": [
        "x = int(input())\n",
        "\n",
        "sum = 0\n",
        "i = 1\n",
        "\n",
        "while sum + i <= x :\n",
        "    sum += i\n",
        "    i += 1 # 55가 됐을 때 1을 더한 후 stop되니 print(i-1) 해줄 것\n",
        "\n",
        "print(i - 1)\n"
      ],
      "metadata": {
        "colab": {
          "base_uri": "https://localhost:8080/"
        },
        "id": "4MbRwZWfGgui",
        "outputId": "8015892e-ded9-4b25-c646-594cfb1614ab"
      },
      "execution_count": null,
      "outputs": [
        {
          "output_type": "stream",
          "name": "stdout",
          "text": [
            "55\n",
            "10\n"
          ]
        }
      ]
    },
    {
      "cell_type": "code",
      "source": [
        "x = int(input())\n",
        "\n",
        "sum = 0\n",
        "i = 0\n",
        "\n",
        "while sum < x :\n",
        "    i += 1\n",
        "    sum += i\n",
        "\n",
        "print(i)"
      ],
      "metadata": {
        "colab": {
          "base_uri": "https://localhost:8080/"
        },
        "id": "W8ZUMnqKGgoa",
        "outputId": "69e26bdc-4b4d-4e9a-cc6e-056dc58d2cf5"
      },
      "execution_count": null,
      "outputs": [
        {
          "output_type": "stream",
          "name": "stdout",
          "text": [
            "55\n",
            "0 0\n",
            "1 1\n",
            "3 2\n",
            "6 3\n",
            "10 4\n",
            "15 5\n",
            "21 6\n",
            "28 7\n",
            "36 8\n",
            "45 9\n",
            "10\n"
          ]
        }
      ]
    },
    {
      "cell_type": "markdown",
      "source": [
        "# 6080 : [기초-종합] 주사위 2개 던지기(설명)(py)\n",
        "\n",
        "\n",
        "1부터 n까지, 1부터 m까지 숫자가 적힌 서로 다른 주사위 2개를 던졌을 때,\n",
        "나올 수 있는 모든 경우를 출력해보자.\n",
        "\n",
        "예시\n",
        "\n",
        "```\n",
        "for i in range(1, n+1) :\n",
        "  for j in range(1, m+1) :\n",
        "    print(i, j)\n",
        "```\n",
        "\n",
        "참고\n",
        "\n",
        "\n",
        "위 코드는\n",
        "바깥쪽의 i 값이 1부터 n까지 순서대로 바뀌는 각각의 동안에\n",
        "안쪽의 j 값이 다시 1부터 m까지 변하며 출력되는 코드이다.\n",
        "\n",
        "조건선택 실행구조 안에 다른 조건선택 실행구조를 넣어 처리할 수 있는 것과 마찬가지로\n",
        "반복 실행구조 안에 다른 반복 실행구조를 넣어 처리할 수 있다.\n",
        "\n",
        "원하는 형태로 실행 구조를 결합하거나 중첩시킬 수 있다.\n"
      ],
      "metadata": {
        "id": "lalGolEK7pLO"
      }
    },
    {
      "cell_type": "code",
      "source": [
        "n, m = map(int, input().split())\n",
        "\n",
        "for i in range(1, n+1):\n",
        "    for j in range(1, m+1):\n",
        "        print(i, j)"
      ],
      "metadata": {
        "colab": {
          "base_uri": "https://localhost:8080/"
        },
        "id": "fAigTWeu8eeQ",
        "outputId": "b8075c73-ade7-47b6-d454-d934596aa0a2"
      },
      "execution_count": null,
      "outputs": [
        {
          "output_type": "stream",
          "name": "stdout",
          "text": [
            "2 3\n",
            "1 1\n",
            "1 2\n",
            "1 3\n",
            "2 1\n",
            "2 2\n",
            "2 3\n"
          ]
        }
      ]
    },
    {
      "cell_type": "markdown",
      "source": [
        "# 6081 : [기초-종합] 16진수 구구단 출력하기(py)\n",
        "\n",
        "16진수(0, 1, 2, 3, 4, 5, 6, 7, 8, 9, A, B, C, D, E, F)를 배운\n",
        "영일이는 16진수끼리 곱하는 16진수 구구단?에 대해서 궁금해졌다.\n",
        "\n",
        "A, B, C, D, E, F 중 하나가 입력될 때,\n",
        "1부터 F까지 곱한 16진수 구구단의 내용을 출력해보자.\n",
        "(단, A ~ F 까지만 입력된다.)\n",
        "\n",
        "\n",
        "```\n",
        " print('%X'%n, '*%X'%i, '=%X'%(n*i), sep='')\n",
        "```\n",
        "참고\n",
        "print('%X'%n)    #n에 저장되어있는 값을 16진수(hexadecimal) 형태로 출력\n",
        "작은 따옴표 2개를 사용해서 print(..., sep='') 으로 출력하면, 공백없이 모두 붙여 출력된다.\n",
        "작은 따옴표 2개 '' 또는 큰 따옴표 2개 \"\" 는 아무 문자도 없는 빈문자열(empty string)을 의미한다.\n",
        "\n",
        "\n"
      ],
      "metadata": {
        "id": "_1LOLSg59_hE"
      }
    },
    {
      "cell_type": "markdown",
      "source": [
        "## 16진수(hex), f-string 예시"
      ],
      "metadata": {
        "id": "njWZNI4uD0-m"
      }
    },
    {
      "cell_type": "code",
      "source": [
        "b = hex(145)\n",
        "print(f'hex(145) = {b}')"
      ],
      "metadata": {
        "colab": {
          "base_uri": "https://localhost:8080/"
        },
        "id": "TDBscc4O8eYl",
        "outputId": "a907538b-6750-4ef2-f2f9-be73e711d802"
      },
      "execution_count": null,
      "outputs": [
        {
          "output_type": "stream",
          "name": "stdout",
          "text": [
            "hex(145) = 0x91\n"
          ]
        }
      ]
    },
    {
      "cell_type": "code",
      "source": [
        "print(f'{145:x}')"
      ],
      "metadata": {
        "colab": {
          "base_uri": "https://localhost:8080/"
        },
        "id": "jNBOZRxdtY_z",
        "outputId": "06e51cf7-b8f1-49a8-c617-6fcba2f1eec5"
      },
      "execution_count": null,
      "outputs": [
        {
          "output_type": "stream",
          "name": "stdout",
          "text": [
            "91\n"
          ]
        }
      ]
    },
    {
      "cell_type": "code",
      "source": [
        "print('%X' %145)"
      ],
      "metadata": {
        "colab": {
          "base_uri": "https://localhost:8080/"
        },
        "id": "Y-Tp1jWi8eU4",
        "outputId": "cd135ee6-c26b-4256-f5a6-dc6f0994c18b"
      },
      "execution_count": null,
      "outputs": [
        {
          "output_type": "stream",
          "name": "stdout",
          "text": [
            "91\n"
          ]
        }
      ]
    },
    {
      "cell_type": "code",
      "source": [
        "pi = 3.141592653589793\n",
        "print(f'{pi:.4f}') # 4째자리 까지 출력 = 5번째에서 반올림"
      ],
      "metadata": {
        "colab": {
          "base_uri": "https://localhost:8080/"
        },
        "id": "g1yXuNTkXrpU",
        "outputId": "7e49b1c7-d774-4c6c-c6e6-7ea2a1c88dd2"
      },
      "execution_count": null,
      "outputs": [
        {
          "output_type": "stream",
          "name": "stdout",
          "text": [
            "3.1416\n"
          ]
        }
      ]
    },
    {
      "cell_type": "code",
      "source": [
        "import math\n",
        "radius = 5\n",
        "kk = \"circle\"\n",
        "message = f\"The area of a {kk} with radius {radius} is {math.pi * radius ** 2:.2f}.\"\n",
        "print(message)"
      ],
      "metadata": {
        "colab": {
          "base_uri": "https://localhost:8080/"
        },
        "id": "l3XzmgAgXrm2",
        "outputId": "8fe14a82-6358-4254-e55a-6d54bdb84a05"
      },
      "execution_count": null,
      "outputs": [
        {
          "output_type": "stream",
          "name": "stdout",
          "text": [
            "The area of a circle with radius 5 is 78.54.\n"
          ]
        }
      ]
    },
    {
      "cell_type": "code",
      "source": [
        "person = {\"name\": \"Charlie\", \"age\": 28}\n",
        "message = f\"{person['name']} is {person['age']} years old.\"\n",
        "print(message)"
      ],
      "metadata": {
        "colab": {
          "base_uri": "https://localhost:8080/"
        },
        "id": "e3MFm-T1Xrj4",
        "outputId": "9f5ef5c1-e48e-4dc2-db60-02516a987eae"
      },
      "execution_count": null,
      "outputs": [
        {
          "output_type": "stream",
          "name": "stdout",
          "text": [
            "Charlie is 28 years old.\n"
          ]
        }
      ]
    },
    {
      "cell_type": "code",
      "source": [
        "print(f'{15:X}')"
      ],
      "metadata": {
        "colab": {
          "base_uri": "https://localhost:8080/"
        },
        "id": "-cOiVkHrbyuw",
        "outputId": "1f6d43e8-e010-4ce5-8087-1e6060adc48a"
      },
      "execution_count": null,
      "outputs": [
        {
          "output_type": "stream",
          "name": "stdout",
          "text": [
            "F\n"
          ]
        }
      ]
    },
    {
      "cell_type": "code",
      "source": [
        "start = 1\n",
        "end = int('F', 16) # F를 16진수로 변환\n",
        "print(f'range({start}, {end + 1})')"
      ],
      "metadata": {
        "colab": {
          "base_uri": "https://localhost:8080/"
        },
        "id": "hgcJ4hN1dgwP",
        "outputId": "9aeb530d-6aed-47cd-ec7c-80a677794c97"
      },
      "execution_count": null,
      "outputs": [
        {
          "output_type": "stream",
          "name": "stdout",
          "text": [
            "range(1, 16)\n"
          ]
        }
      ]
    },
    {
      "cell_type": "code",
      "source": [
        "for i in range(start, end + 1):\n",
        "    print(f'{i:X}', end = ' ')"
      ],
      "metadata": {
        "colab": {
          "base_uri": "https://localhost:8080/"
        },
        "id": "kAIyoHvQbyp2",
        "outputId": "7c3357af-0b79-402d-8aed-0dd47520e3c0"
      },
      "execution_count": null,
      "outputs": [
        {
          "output_type": "stream",
          "name": "stdout",
          "text": [
            "1 2 3 4 5 6 7 8 9 A B C D E F "
          ]
        }
      ]
    },
    {
      "cell_type": "code",
      "source": [
        "hex_val = 'B'\n",
        "decimal_val = int(hex_val, 16)\n",
        "print(decimal_val)"
      ],
      "metadata": {
        "colab": {
          "base_uri": "https://localhost:8080/"
        },
        "id": "qJae4QtnJYhC",
        "outputId": "3a0b1a2d-5cc0-4407-9ff3-b6058c75ae29"
      },
      "execution_count": null,
      "outputs": [
        {
          "output_type": "stream",
          "name": "stdout",
          "text": [
            "11\n"
          ]
        }
      ]
    },
    {
      "cell_type": "markdown",
      "source": [
        "- 최종 제출"
      ],
      "metadata": {
        "id": "XjOZa6rxbRHV"
      }
    },
    {
      "cell_type": "code",
      "source": [
        "hex_value = str(input()) # A~F 사이 값  입력\n",
        "decimal_value = int(hex_value, 16) # 16진수로 해석해서 10진수 정수로 변환\n",
        "start = 1\n",
        "end = int('F', 16) # F를 16진수로 해석하여 10진수 정수로 변환\n",
        "\n",
        "for i in range(start, end + 1):\n",
        "    print(f'{decimal_value:X}*{i:X}={decimal_value*i:X}')"
      ],
      "metadata": {
        "colab": {
          "base_uri": "https://localhost:8080/"
        },
        "id": "21vjVHAuFs3A",
        "outputId": "3adc1e16-83e8-4b4d-ae2a-ed7df0602a75"
      },
      "execution_count": null,
      "outputs": [
        {
          "output_type": "stream",
          "name": "stdout",
          "text": [
            "B\n",
            "B*1=B\n",
            "B*2=16\n",
            "B*3=21\n",
            "B*4=2C\n",
            "B*5=37\n",
            "B*6=42\n",
            "B*7=4D\n",
            "B*8=58\n",
            "B*9=63\n",
            "B*A=6E\n",
            "B*B=79\n",
            "B*C=84\n",
            "B*D=8F\n",
            "B*E=9A\n",
            "B*F=A5\n"
          ]
        }
      ]
    },
    {
      "cell_type": "markdown",
      "source": [
        "# 6082 : [기초-종합] 3 6 9 게임의 왕이 되자(설명)(py)\n",
        "\n",
        "친구들과 함께 3 6 9 게임을 하던 영일이는 잦은 실수 때문에 계속해서 벌칙을 받게 되었다.\n",
        "\n",
        "3 6 9 게임의 왕이 되기 위한 369 마스터 프로그램을 작성해 보자.\n",
        "\n",
        "** 3 6 9 게임은?\n",
        "여러 사람이 순서를 정한 후, 순서대로 수를 부르는 게임이다.\n",
        "\n",
        "만약 3, 6, 9 가 들어간 수를 자신이 불러야 하는 상황이라면, 수를 부르는 대신 \"박수(X)\" 를 쳐야 한다.\n",
        "\n",
        "33과 같이 3,6,9가 두 번 들어간 수 일때, \"짝짝\"과 같이 박수를 두 번 치는 형태도 있다.\n",
        "\n",
        "참고\n",
        "```\n",
        "for i in range(1, n+1) :\n",
        "  if i%10==3 :\n",
        "    print(\"X\", end=' ')    #출력 후 공백문자(빈칸, ' ')로 끝냄\n",
        "```\n",
        "\n",
        "입력\n",
        "\n",
        "\n",
        "30 보다 작은 정수 1개가 입력된다.\n",
        "(1 ~ 29)\n",
        "\n"
      ],
      "metadata": {
        "id": "ExFR6DX2baQz"
      }
    },
    {
      "cell_type": "markdown",
      "source": [
        "Ex) 입력:9 -> 출력: 1 2 X 4 5 X 7 8 X"
      ],
      "metadata": {
        "id": "DIv7M4Cbu4Ok"
      }
    },
    {
      "cell_type": "code",
      "source": [
        "sum(str(33).count(d) for d in '369')"
      ],
      "metadata": {
        "colab": {
          "base_uri": "https://localhost:8080/"
        },
        "id": "jlTpBotYxFBB",
        "outputId": "b04495fe-d60f-4053-ef01-2508332523fc"
      },
      "execution_count": null,
      "outputs": [
        {
          "output_type": "execute_result",
          "data": {
            "text/plain": [
              "2"
            ]
          },
          "metadata": {},
          "execution_count": 35
        }
      ]
    },
    {
      "cell_type": "markdown",
      "source": [
        "## str.count 예시"
      ],
      "metadata": {
        "id": "pzQJLuk2DuYl"
      }
    },
    {
      "cell_type": "code",
      "source": [
        "for i in range(1, 30):\n",
        "    if sum(str(i).count(d) for d in '369') == 1 :\n",
        "        print('X', end = ' ')\n",
        "    elif sum(str(i).count(d) for d in '369') == 2:\n",
        "        print('XX', end = ' ')\n",
        "    else :\n",
        "        print(i, end = ' ')\n",
        "\n",
        "\n",
        "# 근데 이 코드는 자릿수 늘어날 때마다 elif == 3, 4, 5 ... 계속 추가해줘야함"
      ],
      "metadata": {
        "colab": {
          "base_uri": "https://localhost:8080/"
        },
        "id": "vDhr_SvObVWv",
        "outputId": "5897c514-96eb-4cd8-df1e-45dbbd257dda"
      },
      "execution_count": null,
      "outputs": [
        {
          "output_type": "stream",
          "name": "stdout",
          "text": [
            "1 2 X 4 5 X 7 8 X 10 11 12 X 14 15 X 17 18 X 20 21 22 X 24 25 X 27 28 X "
          ]
        }
      ]
    },
    {
      "cell_type": "code",
      "source": [
        "for i in range(1, 34):\n",
        "    temp = sum(str(i).count(d) for d in '369')\n",
        "    if temp != 0 :\n",
        "        print('X'*temp, end = ' ')\n",
        "    else :\n",
        "        print(i, end = ' ')"
      ],
      "metadata": {
        "colab": {
          "base_uri": "https://localhost:8080/"
        },
        "id": "-MfqSkM8bVRo",
        "outputId": "e0e4f827-5eab-4940-976e-a0ae97f75225"
      },
      "execution_count": null,
      "outputs": [
        {
          "output_type": "stream",
          "name": "stdout",
          "text": [
            "1 2 X 4 5 X 7 8 X 10 11 12 X 14 15 X 17 18 X 20 21 22 X 24 25 X 27 28 X X X X XX "
          ]
        }
      ]
    },
    {
      "cell_type": "markdown",
      "source": [
        "- 최종 제출"
      ],
      "metadata": {
        "id": "_SS-vwlb1_H6"
      }
    },
    {
      "cell_type": "code",
      "source": [
        "end = int(input())\n",
        "\n",
        "for i in range(1, end+1) :\n",
        "    temp = sum(str(i).count(d) for d in '369')\n",
        "    if temp != 0 :\n",
        "        print('X'*temp, end = ' ')\n",
        "    else :\n",
        "        print(i, end = ' ')"
      ],
      "metadata": {
        "colab": {
          "base_uri": "https://localhost:8080/"
        },
        "id": "woJaPHMdbVO-",
        "outputId": "c8335b57-ed31-4915-dbf1-fb6a957563bb"
      },
      "execution_count": null,
      "outputs": [
        {
          "output_type": "stream",
          "name": "stdout",
          "text": [
            "9\n",
            "1 2 X 4 5 X 7 8 X "
          ]
        }
      ]
    },
    {
      "cell_type": "markdown",
      "source": [
        "# 6083 : [기초-종합] 빛 섞어 색 만들기(설명)(py)\n",
        "\n",
        "빨강(red), 초록(green), 파랑(blue) 빛을 섞어 여러 가지 다른 색 빛을 만들어 내려고 한다.\n",
        "\n",
        "빨강(r), 초록(g), 파랑(b) 각 빛의 가짓수가 주어질 때,\n",
        "\n",
        "주어진 rgb 빛들을 섞어 만들 수 있는 모든 경우의 조합(r g b)과 만들 수 있는 색의 가짓 수를 계산해보자.  \n",
        "\n",
        "* 모니터, 스마트폰과 같은 디스플레이에서 각 픽셀의 색을 만들어내기 위해서 r, g, b 색을 조합할 수 있다.\n",
        "\n",
        "* 픽셀(pixel)은 그림(picture)을 구성하는 셀(cell)에서 이름이 만들어졌다."
      ],
      "metadata": {
        "id": "qQ_cAzAM-b2z"
      }
    },
    {
      "cell_type": "markdown",
      "source": [
        "입력: 빨녹파(r, g, b) 각 빛의 가짓수가 공백을 두고 입력된다.\n",
        "\n",
        "예를 들어, 3 3 3 은 빨녹파 빛에 대해서 각각 0~2까지 3가지 색이 있음을 의미한다.\n",
        "\n",
        "0 <= r,g,b <= 127"
      ],
      "metadata": {
        "id": "2L21BOt7-xoJ"
      }
    },
    {
      "cell_type": "markdown",
      "source": [
        "출력: 만들 수 있는 rgb 색의 정보를 오름차순(계단을 올라가는 순, 12345... abcde..., 가나다라마...)으로\n",
        "줄을 바꿔 모두 출력하고, 마지막에 그 개수를 출력한다."
      ],
      "metadata": {
        "id": "G2AYO9n6-9Wt"
      }
    },
    {
      "cell_type": "markdown",
      "source": [
        "## itertools 예시"
      ],
      "metadata": {
        "id": "7N87Y8YsDpdL"
      }
    },
    {
      "cell_type": "code",
      "source": [
        "# 리스트 요소들 조합\n",
        "import itertools\n",
        "\n",
        "elements = ['A', 'B', 'C']\n",
        "r = 2\n",
        "\n",
        "combi = list(itertools.combinations(elements, r))\n",
        "print(combi)\n",
        "print()\n",
        "\n",
        "for i in combi :\n",
        "    print(i)"
      ],
      "metadata": {
        "colab": {
          "base_uri": "https://localhost:8080/"
        },
        "id": "feIgIUp5CJoE",
        "outputId": "82b24abb-13ff-43d5-f7e9-232f223c2ccd"
      },
      "execution_count": null,
      "outputs": [
        {
          "output_type": "stream",
          "name": "stdout",
          "text": [
            "[('A', 'B'), ('A', 'C'), ('B', 'C')]\n",
            "\n",
            "('A', 'B')\n",
            "('A', 'C')\n",
            "('B', 'C')\n"
          ]
        }
      ]
    },
    {
      "cell_type": "code",
      "source": [
        "# 문자열 조합\n",
        "import itertools\n",
        "\n",
        "elements = 'ABCD'\n",
        "r = 3\n",
        "\n",
        "combi = list(itertools.combinations(elements, r))\n",
        "print(combi)\n",
        "\n",
        "for i in combi:\n",
        "    print(i, ''.join(i))"
      ],
      "metadata": {
        "colab": {
          "base_uri": "https://localhost:8080/"
        },
        "id": "bQ8msFtvAg8s",
        "outputId": "2de53324-52f1-46af-9b56-344cf5f43eda"
      },
      "execution_count": null,
      "outputs": [
        {
          "output_type": "stream",
          "name": "stdout",
          "text": [
            "[('A', 'B', 'C'), ('A', 'B', 'D'), ('A', 'C', 'D'), ('B', 'C', 'D')]\n",
            "('A', 'B', 'C') ABC\n",
            "('A', 'B', 'D') ABD\n",
            "('A', 'C', 'D') ACD\n",
            "('B', 'C', 'D') BCD\n"
          ]
        }
      ]
    },
    {
      "cell_type": "code",
      "source": [
        "# 데카르트 곱\n",
        "import itertools\n",
        "\n",
        "tuple_r = (0, 1)\n",
        "tuple_g = (0, 1)\n",
        "tuple_b = (0, 1)\n",
        "\n",
        "# itertools.product를 사용하여 모든 가능한 조합 생성\n",
        "combinations = list(itertools.product(tuple_r, tuple_g, tuple_b))\n",
        "\n",
        "print(combinations)"
      ],
      "metadata": {
        "colab": {
          "base_uri": "https://localhost:8080/"
        },
        "id": "ndlrzdw4PO0N",
        "outputId": "9138babf-cd4c-49b1-c7ff-8d713370c0e6"
      },
      "execution_count": null,
      "outputs": [
        {
          "output_type": "stream",
          "name": "stdout",
          "text": [
            "[(0, 0, 0), (0, 0, 1), (0, 1, 0), (0, 1, 1), (1, 0, 0), (1, 0, 1), (1, 1, 0), (1, 1, 1)]\n"
          ]
        }
      ]
    },
    {
      "cell_type": "markdown",
      "source": [
        "## 리스트 컴프리헨션"
      ],
      "metadata": {
        "id": "GhCWNGYZGrCt"
      }
    },
    {
      "cell_type": "code",
      "source": [
        "# 0부터 9까지의 수를 포함하는 리스트\n",
        "a = [i for i in range(10)]\n",
        "print(a)"
      ],
      "metadata": {
        "colab": {
          "base_uri": "https://localhost:8080/"
        },
        "id": "Yqmx8Id4GtkY",
        "outputId": "ecce0412-8b02-464d-d03b-d1aab7a448ba"
      },
      "execution_count": null,
      "outputs": [
        {
          "output_type": "stream",
          "name": "stdout",
          "text": [
            "[0, 1, 2, 3, 4, 5, 6, 7, 8, 9]\n"
          ]
        }
      ]
    },
    {
      "cell_type": "code",
      "source": [
        "# 리스트 컴프리헨션 안 쓴 경우\n",
        "a = []\n",
        "for i in range(10) :\n",
        "    a.append(i)\n",
        "print(a)"
      ],
      "metadata": {
        "colab": {
          "base_uri": "https://localhost:8080/"
        },
        "id": "8QP0h-vjGy84",
        "outputId": "f7bd81ab-ab0f-464e-8afe-e4e541e9e2a4"
      },
      "execution_count": null,
      "outputs": [
        {
          "output_type": "stream",
          "name": "stdout",
          "text": [
            "[0, 1, 2, 3, 4, 5, 6, 7, 8, 9]\n"
          ]
        }
      ]
    },
    {
      "cell_type": "markdown",
      "source": [
        "\n",
        "\n",
        "---\n",
        "\n"
      ],
      "metadata": {
        "id": "q7epsdcvMYvp"
      }
    },
    {
      "cell_type": "code",
      "source": [
        "r, g, b = map(int, input().split(' '))"
      ],
      "metadata": {
        "colab": {
          "base_uri": "https://localhost:8080/"
        },
        "id": "FQLNJYzGGy58",
        "outputId": "615302a8-8877-4c54-c447-e0112fd8783a"
      },
      "execution_count": null,
      "outputs": [
        {
          "name": "stdout",
          "output_type": "stream",
          "text": [
            "2 2 2\n"
          ]
        }
      ]
    },
    {
      "cell_type": "code",
      "source": [
        "list_r = [r for r in range(r)]\n",
        "print(list_r)\n",
        "list_g = [g for g in range(g)]\n",
        "print(list_g)\n",
        "list_b = [b for b in range(b)]\n",
        "print(list_b)"
      ],
      "metadata": {
        "colab": {
          "base_uri": "https://localhost:8080/"
        },
        "id": "9Pm_vN4QKikM",
        "outputId": "6f612b48-6d5e-4451-8833-6ff5297c0b24"
      },
      "execution_count": null,
      "outputs": [
        {
          "output_type": "stream",
          "name": "stdout",
          "text": [
            "[0, 1]\n",
            "[0, 1]\n",
            "[0, 1]\n"
          ]
        }
      ]
    },
    {
      "cell_type": "code",
      "source": [
        "import itertools\n",
        "\n",
        "combi = list(itertools.product(list_r, list_g, list_b))\n",
        "combi"
      ],
      "metadata": {
        "colab": {
          "base_uri": "https://localhost:8080/"
        },
        "id": "tZSGgnAzKihS",
        "outputId": "39714a32-9227-4ffc-e9ea-eb46cc8c557f"
      },
      "execution_count": null,
      "outputs": [
        {
          "output_type": "execute_result",
          "data": {
            "text/plain": [
              "[(0, 0, 0),\n",
              " (0, 0, 1),\n",
              " (0, 1, 0),\n",
              " (0, 1, 1),\n",
              " (1, 0, 0),\n",
              " (1, 0, 1),\n",
              " (1, 1, 0),\n",
              " (1, 1, 1)]"
            ]
          },
          "metadata": {},
          "execution_count": 10
        }
      ]
    },
    {
      "cell_type": "code",
      "source": [
        "sum = 0\n",
        "\n",
        "for i in combi:\n",
        "    sum += 1\n",
        "    print(*i, sep = '  ')\n",
        "print(sum)"
      ],
      "metadata": {
        "colab": {
          "base_uri": "https://localhost:8080/"
        },
        "id": "dfhUlCKTVLnP",
        "outputId": "7a7ad5cf-cae6-40a1-8794-9e4a2f5bc4ae"
      },
      "execution_count": null,
      "outputs": [
        {
          "output_type": "stream",
          "name": "stdout",
          "text": [
            "0  0  0\n",
            "0  0  1\n",
            "0  1  0\n",
            "0  1  1\n",
            "1  0  0\n",
            "1  0  1\n",
            "1  1  0\n",
            "1  1  1\n",
            "8\n"
          ]
        }
      ]
    },
    {
      "cell_type": "code",
      "source": [
        "# 최종 제출\n",
        "import itertools\n",
        "\n",
        "r, g, b = map(int, input().split(' '))\n",
        "\n",
        "list_r = [r for r in range(0, r)]\n",
        "list_g = [g for g in range(0, g)]\n",
        "list_b = [b for b in range(0, b)]\n",
        "\n",
        "combinations = list(itertools.product(list_r, list_g, list_b))\n",
        "sorted_combi = sorted(combinations)\n",
        "\n",
        "sum = 0\n",
        "for i in sorted_combi :\n",
        "    sum += 1\n",
        "    print(*i, sep = ' ')\n",
        "print(sum)"
      ],
      "metadata": {
        "colab": {
          "base_uri": "https://localhost:8080/"
        },
        "id": "cTEaWrHSKiX7",
        "outputId": "8dea726e-938d-42d1-a0d9-d5adfcd23661"
      },
      "execution_count": null,
      "outputs": [
        {
          "output_type": "stream",
          "name": "stdout",
          "text": [
            "2 2 2\n",
            "0 0 0\n",
            "0 0 1\n",
            "0 1 0\n",
            "0 1 1\n",
            "1 0 0\n",
            "1 0 1\n",
            "1 1 0\n",
            "1 1 1\n",
            "8\n"
          ]
        }
      ]
    },
    {
      "cell_type": "markdown",
      "source": [
        "# 6084 : [기초-종합] 소리 파일 저장용량 계산하기(py)"
      ],
      "metadata": {
        "id": "B1zOmlaug-ST"
      }
    },
    {
      "cell_type": "markdown",
      "source": [
        "소리가 컴퓨터에 저장될 때에는 디지털 데이터화 되어 저장된다.\n",
        "\n",
        "마이크를 통해 1초에 적게는 수십 번, 많게는 수만 번 소리의 강약을 체크하고,\n",
        "한 번씩 체크할 때 마다 그 값을 정수값으로 바꾸어 저장하는 방식으로 소리를 파일로 저장할 수 있다.\n",
        "\n",
        "값을 저장할 때에는 비트를 사용하는 정도에 따라 세세한 녹음 정도를 결정할 수 있고,\n",
        "좌우(스테레오) 채널로 저장하면 2배… 5.1채널이면 6배의 저장공간이 필요하고,\n",
        "녹음 시간이 길면 그 만큼 더 많은 저장공간이 필요하다.\n",
        "\n",
        "1초 동안 마이크로 소리강약을 체크하는 횟수를 h\n",
        "(헤르쯔, Hz 는 1초에 몇 번? 체크하는가를 의미한다.)\n",
        "\n",
        "한 번 체크한 값을 저장할 때 사용하는 비트수를 b\n",
        "(2비트를 사용하면 0 또는 1 두 가지, 16비트를 사용하면 65536가지..)\n",
        "\n",
        "좌우 등 소리를 저장할 트랙 개수인 채널 개수를 c\n",
        "(모노는 1개, 스테레오는 2개의 트랙으로 저장함을 의미한다.)\n",
        "\n",
        "녹음할 시간(초) s가 주어질 때,\n",
        "\n",
        "필요한 저장 용량을 계산하는 프로그램을 작성해보자.\n",
        "\n",
        "실제로, 일반적인 CD 음질(44.1KHz, 16bit, 스테레오)로 1초 동안 저장하려면\n",
        "\n",
        "44100 * 16 * 2 * 1 bit의 저장공간이 필요한데,\n",
        "\n",
        "44100*16*2*1/8/1024/1024 로 계산하면 약 0.168 MB 정도가 필요하다.\n",
        "\n",
        "이렇게 녹음하는 방식을 PCM(Pulse Code Modulation) 방법이라고 하는데,\n",
        "\n",
        "압축하지 않은 순수한(raw) 소리 데이터 파일은 대표적으로 *.wav 가 있다.\n",
        "\n",
        "**\n",
        "      8 bit(비트)           = 1byte(바이트)       # 8bit=1Byte\n",
        "\n",
        "1024 Byte(210 byte) = 1KB(킬로 바이트)  # 1024Byte=1KB\n",
        "\n",
        "1024 KB(210 KB)      = 1MB(메가 바이트)\n",
        "\n",
        "1024 MB(210 MB)     = 1GB(기가 바이트)\n",
        "\n",
        "1024 GB(210 GB)      = 1TB(테라 바이트)"
      ],
      "metadata": {
        "id": "AiatiXtEhFgY"
      }
    },
    {
      "cell_type": "markdown",
      "source": [
        "입력: h, b, c, s 가 공백을 두고 입력된다.\n",
        "\n",
        "h는 48,000이하, b는 32이하(단, 8의배수), c는 5이하, s는 6,000이하의 자연수이다.\n",
        "\n",
        "ex) 44100 16 2 10"
      ],
      "metadata": {
        "id": "O2OOkvB2k2Da"
      }
    },
    {
      "cell_type": "markdown",
      "source": [
        "출력: 필요한 저장 공간을 MB 단위로 바꾸어 출력한다.\n",
        "\n",
        "단, 소수점 첫째 자리까지의 정확도로 출력하고 MB를 공백을 두고 출력한다.\n",
        "\n",
        "ex) 1.7 MB"
      ],
      "metadata": {
        "id": "jXKcuNr6k_HP"
      }
    },
    {
      "cell_type": "code",
      "source": [
        "h, b, c, s = map(int, input().split(' '))\n",
        "print(f'{h * b * c * s / 8 / 1024 / 1024 :.1f} MB')"
      ],
      "metadata": {
        "colab": {
          "base_uri": "https://localhost:8080/"
        },
        "id": "QQdkCeS-g_Tr",
        "outputId": "ab2a1dad-0a30-4a7a-b3b9-ca47de8ab006"
      },
      "execution_count": null,
      "outputs": [
        {
          "output_type": "stream",
          "name": "stdout",
          "text": [
            "1.7 MB\n"
          ]
        }
      ]
    },
    {
      "cell_type": "markdown",
      "source": [
        "# 6085 : [기초-종합] 그림 파일 저장용량 계산하기(py)\n",
        "이미지가 컴퓨터에 저장될 때에도 디지털 데이터화 되어 저장된다.\n",
        "\n",
        "가장 기본적인 방법으로는 그림을 구성하는 한 점(pixel, 픽셀)의 색상을\n",
        "\n",
        "빨강(r), 초록(g), 파랑(b)의 3가지의 빛의 세기 값으로 따로 변환하여 저장하는 것인데,\n",
        "\n",
        "예를 들어 r, g, b 각 색에 대해서 8비트(0~255, 256가지 가능)씩을 사용한다고 하면,\n",
        "\n",
        "한 점의 색상은 3가지 r, g, b의 8비트+8비트+8비트로 총 24비트로 표현해서\n",
        "\n",
        "총 2^24 가지의 서로 다른 빛의 색깔을 사용할 수 있는 것이다.\n",
        "\n",
        "그렇게 저장하는 점을 모아 하나의 큰 이미지를 저장할 수 있게 되는데,\n",
        "\n",
        "1024 * 768 사이즈에 각 점에 대해 24비트로 저장하면 그 이미지를 저장하기 위한\n",
        "저장 용량을 계산할 수 있다.\n",
        "\n",
        "이렇게 이미지의 원래(raw) 데이터를 압축하지 않고 그대로 저장하는 대표적인 이미지 파일이\n",
        "*.bmp 파일이며, 비트로 그림을 구성한다고 하여 비트맵 방식 또는 래스터 방식이라고 한다.\n",
        "\n",
        "이미지의 가로 해상도 w, 세로 해상도 h, 한 픽셀을 저장하기 위한 비트 b 가 주어질 때,\n",
        "\n",
        "압축하지 않고 저장하기 위해 필요한 저장 용량을 계산하는 프로그램을 작성해 보자.\n",
        "\n",
        "예를 들어\n",
        "\n",
        "일반적인 1024 * 768 사이즈(해상도)의 각점에 대해\n",
        "\n",
        "24비트(rgb 각각 8비트씩 3개)로 저장하려면\n",
        "\n",
        "1024 * 768 * 24 bit의 저장공간이 필요한데,\n",
        "\n",
        "1024*768*24/8/1024/1024 로 계산하면 약 2.25 MB 정도가 필요하다.\n",
        "\n",
        "실제 그런지 확인하고 싶다면, 간단한 그림 편집/수정 프로그램을 통해 확인할 수 있다."
      ],
      "metadata": {
        "id": "VRq4izTPsjFE"
      }
    },
    {
      "cell_type": "markdown",
      "source": [
        "입력: w, h, b 가 공백을 두고 입력된다.\n",
        "\n",
        "단, w, h는 모두 정수이고 1~1024 이다. b는 40이하의 4의 배수이다.\n",
        "\n",
        "출력: 필요한 저장 공간을 MB 단위로 바꾸어 출력한다.\n",
        "\n",
        "단, 소수점 셋째 자리에서 반올림하여 둘째 자리까지 출력한다."
      ],
      "metadata": {
        "id": "o2ZRS0xTvfCY"
      }
    },
    {
      "cell_type": "code",
      "source": [
        "w, h, b = map(int, input().split(' '))\n",
        "print(f'{w * h * b / 8 / 1024 / 1024 :.2f} MB')"
      ],
      "metadata": {
        "colab": {
          "base_uri": "https://localhost:8080/"
        },
        "id": "vc_zKM8hg_QC",
        "outputId": "96311a29-a0f8-4572-dcd4-e53ed6e8694a"
      },
      "execution_count": null,
      "outputs": [
        {
          "output_type": "stream",
          "name": "stdout",
          "text": [
            "1024 768 24\n",
            "2.25 MB\n"
          ]
        }
      ]
    },
    {
      "cell_type": "markdown",
      "source": [
        "# 6086 : [기초-종합] 거기까지! 이제 그만~(설명)(py)\n",
        "\n",
        "1, 2, 3 ... 을 순서대로 계속 더해 합을 만드는데,\n",
        "그 합이 입력한 정수보다 작을 동안만 계속 더하는 프로그램을 작성해보자.\n",
        "\n",
        "즉, 1부터 n까지 정수를 하나씩 더해 합을 만드는데,\n",
        "어디까지 더해야 입력한 수보다 같거나 커지는지 알아보고자 하는 문제이다.\n",
        "\n",
        "하지만, 이번에는 그 때 까지의 합을 출력해야 한다.\n",
        "\n",
        "예를 들어, 57을 입력하면\n",
        "\n",
        "1+2+3+...+8+9+10=55에서 그 다음 수인 11을 더해 66이 될 때,\n",
        "\n",
        "그 값 66이 출력되어야 한다.\n",
        "\n",
        "예시\n",
        "\n",
        "\n",
        "```\n",
        "while True :\n",
        "  s += c\n",
        "  c += 1\n",
        "  if s>=n :\n",
        "    break\n",
        "\n",
        "print(s)\n",
        "\n",
        "```\n",
        "참고\n",
        "\n",
        "조건문이나 반복문의 코드블록 안에서 break 가 실행되면,\n",
        "반복실행을 중단(break)하고, 가장 가까운 반복 블록의 밖으로 빠져나간다.\n"
      ],
      "metadata": {
        "id": "5GIZsJs-xH2K"
      }
    },
    {
      "cell_type": "markdown",
      "source": [
        "입력: 언제까지 합을 계산할 지, 정수 1개를 입력받는다.\n",
        "\n",
        "단, 입력되는 자연수는 100,000,000이하이다.\n",
        "\n",
        "출력: 1, 2, 3, 4, 5 ... 순서대로 계속 더해가다가, 그 합이 입력된 정수보다 커지거나 같아지는 경우,\n",
        "\n",
        "그때까지의 합을 출력한다."
      ],
      "metadata": {
        "id": "DOnxSU54xXLF"
      }
    },
    {
      "cell_type": "code",
      "source": [
        "sum = 0\n",
        "n = 57\n",
        "i = 1\n",
        "\n",
        "while True:\n",
        "    sum += i\n",
        "    i += 1\n",
        "    if sum >= n:\n",
        "        break\n",
        "print(sum, i)\n"
      ],
      "metadata": {
        "colab": {
          "base_uri": "https://localhost:8080/"
        },
        "id": "AqSRzIjFKiG2",
        "outputId": "8e853235-8452-45cc-b2b7-3cf260fe7c41"
      },
      "execution_count": null,
      "outputs": [
        {
          "output_type": "stream",
          "name": "stdout",
          "text": [
            "66 12\n"
          ]
        }
      ]
    },
    {
      "cell_type": "code",
      "source": [
        "sum = 0\n",
        "n = 57\n",
        "i = 1\n",
        "while sum < n:\n",
        "    sum += i\n",
        "    i += 1\n",
        "print(sum, i)\n"
      ],
      "metadata": {
        "colab": {
          "base_uri": "https://localhost:8080/"
        },
        "id": "kT0XsRy2KiCb",
        "outputId": "788ad062-e10d-4e67-ae74-493ba76055a7"
      },
      "execution_count": null,
      "outputs": [
        {
          "output_type": "stream",
          "name": "stdout",
          "text": [
            "66 12\n"
          ]
        }
      ]
    },
    {
      "cell_type": "code",
      "source": [
        "# 최종 제출\n",
        "\n",
        "n = int(input())\n",
        "sum = 0\n",
        "i = 1\n",
        "\n",
        "while sum < n :\n",
        "    sum += i\n",
        "    i += 1\n",
        "print(sum)"
      ],
      "metadata": {
        "colab": {
          "base_uri": "https://localhost:8080/"
        },
        "id": "AnfdJt8fKiAE",
        "outputId": "d32ff804-6ba3-497a-b886-ef71865edf39"
      },
      "execution_count": null,
      "outputs": [
        {
          "output_type": "stream",
          "name": "stdout",
          "text": [
            "57\n",
            "66\n"
          ]
        }
      ]
    },
    {
      "cell_type": "markdown",
      "source": [
        "# 6087 : [기초-종합] 3의 배수는 통과(설명)(py)\n",
        "\n",
        "1부터 입력한 정수까지 1씩 증가시켜 출력하는 프로그램을 작성하되,\n",
        "3의 배수인 경우는 출력하지 않도록 만들어보자.\n",
        "\n",
        "예를 들면,\n",
        "1 2 4 5 7 8 10 11 13 14 ...\n",
        "와 같이 출력하는 것이다.\n",
        "\n",
        "예시\n",
        "\n",
        "\n",
        "```\n",
        "for i in range(1, n+1) :\n",
        "  if i%2==0 :\n",
        "    continue            #다음 반복 단계로 넘어간다.\n",
        "  print(i, end=' ')    #i가 짝수가 아닐 때만 실행된다.\n",
        "```\n",
        "위 코드는 홀 수만 출력하는 예시이다.\n",
        "\n",
        "참고\n",
        "조건문이나 반복문의 코드블록 안에서 continue 가 실행되면,\n",
        "반복 블록 안에 있는 나머지 부분을 실행하지 않고, 다음 반복 단계로 넘어간다.\n",
        "즉, 반복 블록의 나머지 부분은 실행되지 않고, 다음 단계의 반복을 계속(continue)하는 것이다.\n",
        "\n",
        "\n"
      ],
      "metadata": {
        "id": "Ci2wZ8zC1xR7"
      }
    },
    {
      "cell_type": "code",
      "source": [
        "n = int(input())\n",
        "for i in range(1, n+1) :\n",
        "    if i%3 == 0 :\n",
        "        continue\n",
        "    print(i, end = ' ')"
      ],
      "metadata": {
        "colab": {
          "base_uri": "https://localhost:8080/"
        },
        "id": "43Ic2WLtKh9E",
        "outputId": "fb4e1657-689d-419b-f889-abd6fb274202"
      },
      "execution_count": null,
      "outputs": [
        {
          "output_type": "stream",
          "name": "stdout",
          "text": [
            "30\n",
            "1 2 4 5 7 8 10 11 13 14 16 17 19 20 22 23 25 26 28 29 "
          ]
        }
      ]
    },
    {
      "cell_type": "code",
      "source": [
        "# 간소화\n",
        "\n",
        "print(' '.join(str(i) for i in range(1, int(input()) + 1) if i % 3 != 0))"
      ],
      "metadata": {
        "colab": {
          "base_uri": "https://localhost:8080/"
        },
        "id": "Yl5T1LlbWqit",
        "outputId": "fddcc61f-b0cd-48d8-bfbb-c61ea53663ae"
      },
      "execution_count": null,
      "outputs": [
        {
          "output_type": "stream",
          "name": "stdout",
          "text": [
            "30\n",
            "1 2 4 5 7 8 10 11 13 14 16 17 19 20 22 23 25 26 28 29\n"
          ]
        }
      ]
    },
    {
      "cell_type": "markdown",
      "source": [
        "# 6088 : [기초-종합] 수 나열하기1(py)\n",
        "\n",
        "어떤 규칙에 따라 수를 순서대로 나열한 것을 수열(sequences)이라고 한다.\n",
        "\n",
        "예를 들어\n",
        "\n",
        "1 4 7 10 13 16 19 22 25 ... 은\n",
        "\n",
        "1부터 시작해 이전에 만든 수에 3을 더해 다음 수를 만든 수열이다.\n",
        "\n",
        "이러한 것을 수학에서는 앞뒤 수들의 차이가 같다고 하여\n",
        "\n",
        "등차(차이가 같다의 한문 말) 수열이라고 한다. (등차수열 : arithmetic progression/sequence)\n",
        "\n",
        "수열을 알게 된 영일이는 갑자기 궁금해졌다.\n",
        "\n",
        "\"그럼.... 123번째 나오는 수는 뭘까?\"\n",
        "\n",
        "영일이는 프로그램을 만들어 더 큰 수도 자동으로 계산하고 싶어졌다.\n",
        "\n",
        "시작 값(a), 등차(d), 몇 번째인지를 나타내는 정수(n)가 입력될 때\n",
        "n번째 수를 출력하는 프로그램을 만들어보자."
      ],
      "metadata": {
        "id": "6pKA1pkEdpNW"
      }
    },
    {
      "cell_type": "code",
      "source": [
        "a, d, n = map(int, input().split())\n",
        "\n",
        "print(a + (n-1)*d)"
      ],
      "metadata": {
        "colab": {
          "base_uri": "https://localhost:8080/"
        },
        "id": "C-A0td46Kh2p",
        "outputId": "0191926d-daaa-4e5c-88c2-3755f3305a4c"
      },
      "execution_count": null,
      "outputs": [
        {
          "output_type": "stream",
          "name": "stdout",
          "text": [
            "1 3 5\n",
            "13\n"
          ]
        }
      ]
    },
    {
      "cell_type": "markdown",
      "source": [
        "# 6089 : [기초-종합] 수 나열하기2(py)\n",
        "\n",
        "어떤 규칙에 따라 수를 순서대로 나열한 것을 수열(sequences)이라고 한다.\n",
        "\n",
        "예를 들어\n",
        "2 6 18 54 162 486 ... 은\n",
        "2부터 시작해 이전에 만든 수에 3을 곱해 다음 수를 만든 수열이다.\n",
        "\n",
        "이러한 것을 수학에서는 앞뒤 수들의 비율이 같다고 하여\n",
        "등비(비율이 같다의 한문 말) 수열이라고 한다. (등비수열 : geometric progression/sequence)\n",
        "\n",
        "등비 수열을 알게된 영일이는 갑자기 궁금해졌다.\n",
        "\"그럼.... 13번째 나오는 수는 뭘까?\"\n",
        "영일이는 프로그램을 만들어 더 큰 수도 자동으로 계산하고 싶어졌다.\n",
        "\n",
        "시작 값(a), 등비(r), 몇 번째인지를 나타내는 정수(n)가 입력될 때\n",
        "n번째 수를 출력하는 프로그램을 만들어보자.\n"
      ],
      "metadata": {
        "id": "KNBTgQRmhqOC"
      }
    },
    {
      "cell_type": "code",
      "source": [
        "a, r, n = map(int, input().split(' '))\n",
        "\n",
        "print( a * (r**(n-1)) )"
      ],
      "metadata": {
        "colab": {
          "base_uri": "https://localhost:8080/"
        },
        "id": "AwPtvh9vYMu3",
        "outputId": "ba848b9c-6e7e-4347-b714-d130ec43dd22"
      },
      "execution_count": null,
      "outputs": [
        {
          "name": "stdout",
          "output_type": "stream",
          "text": [
            "2 3 7\n"
          ]
        },
        {
          "output_type": "execute_result",
          "data": {
            "text/plain": [
              "1458"
            ]
          },
          "metadata": {},
          "execution_count": 27
        }
      ]
    },
    {
      "cell_type": "markdown",
      "source": [
        "# 6090 : [기초-종합] 수 나열하기3(py)\n",
        "\n",
        "어떤 규칙에 따라 수를 순서대로 나열한 것을 수열(sequences)이라고 한다.\n",
        "\n",
        "예를 들어\n",
        "1 -1 3 -5 11 -21 43 ... 은\n",
        "1부터 시작해 이전에 만든 수에 -2를 곱한 다음 1을 더해 다음 수를 만든 수열이다.\n",
        "\n",
        "이런 이상한 수열을 알게 된 영일이는 또 궁금해졌다.\n",
        "\"그럼.... 13번째 나오는 수는 뭘까?\"\n",
        "\n",
        "영일이는 물론 수학을 아주 잘하지만 이런 문제는 본 적이 거의 없었다...\n",
        "그래서 프로그램을 만들어 더 큰 수도 자동으로 계산하고 싶어졌다.\n",
        "\n",
        "시작 값(a), 곱할 값(m), 더할 값(d), 몇 번째인지를 나타내는 정수(n)가 입력될 때,\n",
        "n번째 수를 출력하는 프로그램을 만들어보자."
      ],
      "metadata": {
        "id": "9cz6Hw5ZqAdg"
      }
    },
    {
      "cell_type": "markdown",
      "source": [
        "- 공식: n번째 항을 An, n-1번째 항을 An-1이라 하면\n",
        "    \n",
        "    An = m * An-1 + d"
      ],
      "metadata": {
        "id": "95dzPhFbztay"
      }
    },
    {
      "cell_type": "code",
      "source": [
        "a, m, d, n = map(int, input().split())\n",
        "result = [a]\n",
        "\n",
        "for i in range(1, n) :\n",
        "    print('An:', a, 'i:', i)\n",
        "    a = m * a + d\n",
        "    result.append(a)\n",
        "print('n번째 수:', a)\n",
        "print('A1,...,An:', result)"
      ],
      "metadata": {
        "colab": {
          "base_uri": "https://localhost:8080/"
        },
        "id": "ZNMio25zGyyr",
        "outputId": "4b31675a-53df-40c2-c6b4-d95cb538ae1a"
      },
      "execution_count": null,
      "outputs": [
        {
          "output_type": "stream",
          "name": "stdout",
          "text": [
            "1 -2 1 8\n",
            "An: 1 i: 1\n",
            "An: -1 i: 2\n",
            "An: 3 i: 3\n",
            "An: -5 i: 4\n",
            "An: 11 i: 5\n",
            "An: -21 i: 6\n",
            "An: 43 i: 7\n",
            "n번째 수: -85\n",
            "A1,...,An: [1, -1, 3, -5, 11, -21, 43, -85]\n"
          ]
        }
      ]
    },
    {
      "cell_type": "code",
      "source": [
        "# 최종 제출\n",
        "a, m, d, n = map(int, input().split())\n",
        "\n",
        "for i in range(1, n) :\n",
        "    a = m * a + d\n",
        "print(a)"
      ],
      "metadata": {
        "colab": {
          "base_uri": "https://localhost:8080/"
        },
        "id": "9kG88QovGywW",
        "outputId": "421debf6-7816-4ee5-921b-3e350b0b478e"
      },
      "execution_count": null,
      "outputs": [
        {
          "output_type": "stream",
          "name": "stdout",
          "text": [
            "1 -2 1 8\n",
            "-85\n"
          ]
        }
      ]
    },
    {
      "cell_type": "code",
      "source": [
        "1 -2 1 8"
      ],
      "metadata": {
        "id": "Q3cvyQueGyuL"
      },
      "execution_count": null,
      "outputs": []
    },
    {
      "cell_type": "code",
      "source": [
        "a,m,d,n = map(int, input().split())\n",
        "for i in range(n-1):\n",
        "    a = a*m+d\n",
        "print(a)"
      ],
      "metadata": {
        "id": "yFyI-dXkGyrI",
        "colab": {
          "base_uri": "https://localhost:8080/"
        },
        "outputId": "ecbc46c0-e4bb-4b07-d604-5c2af546ddcc"
      },
      "execution_count": null,
      "outputs": [
        {
          "output_type": "stream",
          "name": "stdout",
          "text": [
            "1 -2 1 8\n",
            "-85\n"
          ]
        }
      ]
    },
    {
      "cell_type": "markdown",
      "source": [
        "# 6091 : [기초-종합] 함께 문제 푸는 날(설명)(py)\n",
        "\n",
        "온라인 채점시스템에는 초등학생, 중고등학생, 대학생, 대학원생,\n",
        "일반인, 군인, 프로그래머, 탑코더 등 아주 많은 사람들이 들어와 문제를 풀고 있는데,\n",
        "\n",
        "실시간 채점 정보는 메뉴의 채점기록(Judge Status)을 통해 살펴볼 수 있다.\n",
        "\n",
        "자! 여기서...잠깐..\n",
        "같은 날 동시에 가입한 3명의 사람들이 온라인 채점시스템에 들어와 문제를 푸는 날짜가\n",
        "매우 규칙적이라고 할 때, 다시 모두 함께 문제를 풀게 되는 그날은 언제일까?\n",
        "\n",
        "예를 들어 3명이 같은 날 가입/등업하고, 각각 3일마다, 7일마다, 9일마다\n",
        "한 번씩 들어온다면, 처음 가입하고 63일 만에 다시 3명이 함께 문제를 풀게 된다.\n",
        "\n",
        "갑자기 힌트?\n",
        "왠지 어려워 보이지 않는가?\n",
        "수학에서 배운 최소공배수를 생각한 사람들도 있을 것이다. 하지만, 정보에서 배우고 경험하는\n",
        "정보과학의 세상은 때때로 컴퓨터의 힘을 빌려 간단한 방법으로 해결할 수 있게 한다.\n",
        "\n",
        "아래의 코드를 읽고 이해한 후 도전해 보자.\n",
        "day는 날 수, a/b/c는 방문 주기이다.\n",
        "\n",
        "\n",
        "\n",
        "```\n",
        "d = 1\n",
        "while d%a!=0 or d%b!=0 or d%c!=0 :\n",
        "  d += 1\n",
        "print(d)\n",
        "```\n",
        "물론, 아주 많은 다양한 방법이 있을 수 있다.\n",
        "\n",
        "정보과학의 문제해결에 있어서 정답은?\n",
        "하나가 아니라 주어진 시간/기억공간으로 정확한 결과를 얻을 수 있는 모든 방법이다.\n",
        "\n",
        "따라서, 모든 문제들에는 정답이 하나뿐만이 아니다.\n",
        "새로운, 더 빠른, 더 간단한 방법을 다양하게 생각해보고 여러가지 방법으로 도전해 볼 수 있다.\n",
        "\n"
      ],
      "metadata": {
        "id": "pOIuZShgy-y4"
      }
    },
    {
      "cell_type": "code",
      "source": [
        "import math\n",
        "a, b, c = map(int, input().split())\n",
        "lcm = math.lcm(a, b, c)\n",
        "print(lcm)"
      ],
      "metadata": {
        "colab": {
          "base_uri": "https://localhost:8080/"
        },
        "id": "V-l6ZxeIy-oh",
        "outputId": "e3a9bcca-86fc-4c1b-f7c3-dc914ecc35ae"
      },
      "execution_count": null,
      "outputs": [
        {
          "output_type": "stream",
          "name": "stdout",
          "text": [
            "3 7 9\n",
            "63\n"
          ]
        }
      ]
    },
    {
      "cell_type": "markdown",
      "source": [
        "# 6092 : [기초-리스트] 이상한 출석 번호 부르기1(설명)(py)\n",
        "\n",
        "정보 선생님은 수업을 시작하기 전에 이상한 출석을 부른다.\n",
        "\n",
        "선생님은 출석부를 보고 번호를 부르는데,\n",
        "학생들의 얼굴과 이름을 빨리 익히기 위해 번호를 무작위(랜덤)으로 부른다.\n",
        "\n",
        "그리고 얼굴과 이름이 잘 기억되지 않는 학생들은 번호를 여러 번 불러\n",
        "이름과 얼굴을 빨리 익히려고 하는 것이다.\n",
        "\n",
        "출석 번호를 n번 무작위로 불렀을 때, 각 번호(1 ~ 23)가 불린 횟수를 각각 출력해보자."
      ],
      "metadata": {
        "id": "nkvVJe-gAevz"
      }
    },
    {
      "cell_type": "code",
      "source": [
        "n = int(input()) # 출석 번호를 부른 횟수\n",
        "num = list(map(int, input().split())) # 무작위로 부른 n개의 번호(1 ~ 23)가 공백을 두고 순서대로 입력\n",
        "result = [0] * 23 #  count할 list 생성. 번호 (1~23까지 있음)\n",
        "\n",
        "for i in range(n) :\n",
        "    result[num[i]-1] += 1\n",
        "print(result)\n",
        "\n",
        "print(' '.join(str(result[i]) for i in range(len(result))))"
      ],
      "metadata": {
        "colab": {
          "base_uri": "https://localhost:8080/"
        },
        "id": "BaNIMu3ry-jM",
        "outputId": "e4eebce6-39da-41c5-d54f-dd023c05cf46"
      },
      "execution_count": null,
      "outputs": [
        {
          "output_type": "stream",
          "name": "stdout",
          "text": [
            "10\n",
            "1 3 2 2 5 6 7 4 5 9\n",
            "[1, 2, 1, 1, 2, 1, 1, 0, 1, 0, 0, 0, 0, 0, 0, 0, 0, 0, 0, 0, 0, 0, 0]\n",
            "1 2 1 1 2 1 1 0 1 0 0 0 0 0 0 0 0 0 0 0 0 0 0\n"
          ]
        }
      ]
    },
    {
      "cell_type": "code",
      "source": [
        "#최종 제출\n",
        "\n",
        "n = int(input())\n",
        "num = list(map(int, input().split()))\n",
        "result = [0] * 23\n",
        "\n",
        "for i in range(n) :\n",
        "    result[num[i]-1] += 1\n",
        "\n",
        "print(' '.join(str(result[i]) for i in range(len(result))))"
      ],
      "metadata": {
        "colab": {
          "base_uri": "https://localhost:8080/"
        },
        "id": "Y8UM_mpry-gt",
        "outputId": "c22aa193-6305-4cc4-f30d-7d4bbd027f06"
      },
      "execution_count": null,
      "outputs": [
        {
          "output_type": "stream",
          "name": "stdout",
          "text": [
            "10\n",
            "1 3 2 2 5 6 7 4 5 9\n",
            "1 2 1 1 2 1 1 0 1 0 0 0 0 0 0 0 0 0 0 0 0 0 0\n"
          ]
        }
      ]
    },
    {
      "cell_type": "markdown",
      "source": [
        "# 6093 : [기초-리스트] 이상한 출석 번호 부르기2(py)\n",
        "\n",
        "정보 선생님은 수업을 시작하기 전에 이상한 출석을 부른다.\n",
        "\n",
        "학생들의 얼굴과 이름을 빨리 익히기 위해 번호를 무작위(랜덤)으로 부르는데,\n",
        "영일이는 선생님이 부른 번호들을 기억하고 있다가 거꾸로 불러보는 것을 해보고 싶어졌다.\n",
        "\n",
        "출석 번호를 n번 무작위로 불렀을 때, 부른 번호를 거꾸로 출력해 보자.\n",
        "\n",
        "예시\n",
        "\n",
        "\n",
        "\n",
        "```\n",
        "for i in range(n-1, -1, -1) :\n",
        "  print(a[i], end=' ')\n",
        "```\n",
        "\n",
        "번호를 부른 순서를 리스트에 순서대로 기록해 두었다가, 기록한 값들을 거꾸로 출력하면 된다.\n",
        "\n",
        "range(시작, 끝, 증감) #시작 수는 포함, 끝 수는 포함하지 않음. [시작, 끝)\n",
        "\n",
        "range(n-1, -1, -1) #n-1, n-2, ..., 3, 2, 1, 0\n"
      ],
      "metadata": {
        "id": "_1XfV-CowzTN"
      }
    },
    {
      "cell_type": "code",
      "source": [
        "for i in range(10, 1, -1):\n",
        "  print(i)"
      ],
      "metadata": {
        "colab": {
          "base_uri": "https://localhost:8080/"
        },
        "id": "K7Ir-PLYy-bz",
        "outputId": "ce301e69-354f-4946-ba98-055e9234dfce"
      },
      "execution_count": null,
      "outputs": [
        {
          "output_type": "stream",
          "name": "stdout",
          "text": [
            "10\n",
            "9\n",
            "8\n",
            "7\n",
            "6\n",
            "5\n",
            "4\n",
            "3\n",
            "2\n"
          ]
        }
      ]
    },
    {
      "cell_type": "code",
      "source": [
        "n = int(input())\n",
        "a = list(map(int,input().split()))\n",
        "\n",
        "for i in range(n-1, -1, -1) : # a의 인덱스는 0~9니까 n-1, -1\n",
        "    print(a[i], end = ' ')"
      ],
      "metadata": {
        "colab": {
          "base_uri": "https://localhost:8080/"
        },
        "id": "gmHYFy4Py-Zx",
        "outputId": "4bed5b6a-22e6-47f8-c91b-d3c70d5dd899"
      },
      "execution_count": null,
      "outputs": [
        {
          "output_type": "stream",
          "name": "stdout",
          "text": [
            "10\n",
            "10 4 2 3 6 6 7 9 8 5\n",
            "5 8 9 7 6 6 3 2 4 10 "
          ]
        }
      ]
    },
    {
      "cell_type": "markdown",
      "source": [
        "# 6094 : [기초-리스트] 이상한 출석 번호 부르기3(py)\n",
        "\n",
        "정보 선생님은 오늘도 이상한 출석을 부른다.\n",
        "\n",
        "영일이는 오늘도 다른 생각을 해보았다.\n",
        "출석 번호를 다 부르지는 않은 것 같은데... 가장 빠른 번호가 뭐였지?\n",
        "\n",
        "출석 번호를 n번 무작위로 불렀을 때, 가장 빠른 번호를 출력해 보자.\n",
        "\n",
        "단,\n",
        "첫 번째 번호와 마지막 번호가 몇 번인지는 아무도 모른다.\n",
        "음수(-) 번호, 0번 번호도 있을 수 있다.\n",
        "\n",
        "참고\n",
        "리스트에 출석 번호를 기록해 두었다가, 그 중에서 가장 작은 값을 찾아내면 된다.\n",
        "그런데, 가장 작은 값은 어떻게 어떤 것과 비교하고, 어떻게 찾아야 할까?"
      ],
      "metadata": {
        "id": "s5vCXQ5d2mz7"
      }
    },
    {
      "cell_type": "code",
      "source": [
        "n = int(input())\n",
        "a = list(map(int, input().split()))\n",
        "\n",
        "print(sorted(a)[0])"
      ],
      "metadata": {
        "colab": {
          "base_uri": "https://localhost:8080/"
        },
        "id": "5SHYI2R0y-OQ",
        "outputId": "a4ed960c-f29e-4e45-b26a-59941717d1f3"
      },
      "execution_count": null,
      "outputs": [
        {
          "output_type": "stream",
          "name": "stdout",
          "text": [
            "10\n",
            "10 4 2 3 6 6 7 9 8 5\n",
            "2\n"
          ]
        }
      ]
    },
    {
      "cell_type": "code",
      "source": [
        "a = [-1, 0, 4]\n",
        "sorted(a)[0]"
      ],
      "metadata": {
        "colab": {
          "base_uri": "https://localhost:8080/"
        },
        "id": "de6QWDyDy-Lj",
        "outputId": "224ad03d-f127-4349-9c05-5dc01113069f"
      },
      "execution_count": null,
      "outputs": [
        {
          "output_type": "execute_result",
          "data": {
            "text/plain": [
              "-1"
            ]
          },
          "metadata": {},
          "execution_count": 33
        }
      ]
    },
    {
      "cell_type": "markdown",
      "source": [
        "# 6095 : [기초-리스트] 바둑판에 흰 돌 놓기(설명)(py)\n",
        "\n",
        "기숙사 생활을 하는 학교에서 어떤 금요일(전원 귀가일)에는 모두 집으로 귀가를 한다.\n",
        "\n",
        "오랜만에 집에 간 영일이는 아버지와 함께 두던 매우 큰 오목에 대해서 생각해 보다가\n",
        "\"바둑판에 돌을 올린 것을 프로그래밍 할 수 있을까?\"하고 생각하였다.\n",
        "\n",
        "바둑판(19 * 19)에 n개의 흰 돌을 놓는다고 할 때,\n",
        "n개의 흰 돌이 놓인 위치를 출력하는 프로그램을 작성해보자.\n",
        "\n",
        "\n",
        "\n",
        "```\n",
        "d=[]                        #대괄호 [ ] 를 이용해 아무것도 없는 빈 리스트 만들기\n",
        "for i in range(20) :\n",
        "  d.append([])         #리스트 안에 다른 리스트 추가해 넣기\n",
        "  for j in range(20) :\n",
        "    d[i].append(0)    #리스트 안에 들어있는 리스트 안에 0 추가해 넣기\n",
        "\n",
        "n = int(input())\n",
        "for i in range(n) :\n",
        "  x, y = input().split()\n",
        "  d[int(x)][int(y)] = 1\n",
        "\n",
        "for i in range(1, 20) :\n",
        "  for j in range(1, 20) :\n",
        "    print(d[i][j], end=' ')    #공백을 두고 한 줄로 출력\n",
        "  print()                          #줄 바꿈\n",
        "```\n",
        "\n",
        "참고\n",
        "리스트가 들어있는 리스트를 만들면?\n",
        "\n",
        "가로번호, 세로번호를 사용해 2차원 형태의 데이터처럼 쉽게 기록하고 사용할 수 있다.\n",
        "\n",
        "리스트이름[번호][번호] 형식으로 저장되어있는 값을 읽고 쓸 수 있고, 더 확장한 n차원의 리스트도 만들 수 있다.\n",
        "\n",
        "\n",
        "\n",
        "```\n",
        "d=[]\n",
        "for i in range(20) :\n",
        "  d.append([])\n",
        "  for j in range(20) :  \n",
        "    d[i].append(0)\n",
        "```\n",
        "위와 같이, 모두 0이 채워진 2차원 리스트를 만드는 코드를 아래와 같은 방법으로 짧게 만들 수도 있다.\n",
        "\n",
        "... [0 for j in range(20)]  #20개의 0이 들어간 [0, 0, 0, ... , 0, 0, 0] 리스트\n",
        "\n",
        "아래처럼 작성하면 위와 같은 리스트가 20개가 들어간 리스트를 한 번에 만들어 준다.\n",
        "\n",
        "d = [[0 for j in range(20)] for i in range(20)]\n",
        "\n",
        "이러한 리스트 생성 방식을 List Comprehensions 라고 한다.\n"
      ],
      "metadata": {
        "id": "nvtLN44IDR0K"
      }
    },
    {
      "cell_type": "code",
      "source": [
        "d = [[0 for i in range(19)] for i in range(19)]\n",
        "print(len(d), len(d[0])) # row, col"
      ],
      "metadata": {
        "colab": {
          "base_uri": "https://localhost:8080/"
        },
        "id": "dEWEO8Zpy-GR",
        "outputId": "0fa05c94-275c-468c-831e-9583975a2d69"
      },
      "execution_count": null,
      "outputs": [
        {
          "output_type": "stream",
          "name": "stdout",
          "text": [
            "19 19\n"
          ]
        }
      ]
    },
    {
      "cell_type": "code",
      "source": [
        "n = int(input())\n",
        "\n",
        "for i in range(n):\n",
        "    x, y = map(int, input().split())\n",
        "    d[x-1][y-1] = 1 # 행렬은 (1,1)부터 시작하니까"
      ],
      "metadata": {
        "colab": {
          "base_uri": "https://localhost:8080/"
        },
        "id": "5gDxfqIMy972",
        "outputId": "cd48cb60-9b53-4ec6-f32a-83b15b7c8452"
      },
      "execution_count": null,
      "outputs": [
        {
          "name": "stdout",
          "output_type": "stream",
          "text": [
            "5\n",
            "1 1 \n",
            "2 2\n",
            "3 3\n",
            "4 4 \n",
            "5 5\n"
          ]
        }
      ]
    },
    {
      "cell_type": "code",
      "source": [
        "d"
      ],
      "metadata": {
        "colab": {
          "base_uri": "https://localhost:8080/"
        },
        "id": "7RvZEELNQl0R",
        "outputId": "106fcc3f-586d-447d-f63a-87170ffc23a6"
      },
      "execution_count": null,
      "outputs": [
        {
          "output_type": "execute_result",
          "data": {
            "text/plain": [
              "[[0, 0, 0, 0, 0, 0, 0, 0, 0, 0, 0, 0, 0, 0, 0, 0, 0, 0, 0],\n",
              " [0, 0, 0, 0, 0, 0, 0, 0, 0, 0, 0, 0, 0, 0, 0, 0, 0, 0, 0],\n",
              " [0, 0, 0, 0, 0, 0, 0, 0, 0, 0, 0, 0, 0, 0, 0, 0, 0, 0, 0],\n",
              " [0, 0, 0, 0, 0, 0, 0, 0, 0, 0, 0, 0, 0, 0, 0, 0, 0, 0, 0],\n",
              " [0, 0, 0, 0, 0, 0, 0, 0, 0, 0, 0, 0, 0, 0, 0, 0, 0, 0, 0],\n",
              " [0, 0, 0, 0, 0, 0, 0, 0, 0, 0, 0, 0, 0, 0, 0, 0, 0, 0, 0],\n",
              " [0, 0, 0, 0, 0, 0, 0, 0, 0, 0, 0, 0, 0, 0, 0, 0, 0, 0, 0],\n",
              " [0, 0, 0, 0, 0, 0, 0, 0, 0, 0, 0, 0, 0, 0, 0, 0, 0, 0, 0],\n",
              " [0, 0, 0, 0, 0, 0, 0, 0, 0, 0, 0, 0, 0, 0, 0, 0, 0, 0, 0],\n",
              " [0, 0, 0, 0, 0, 0, 0, 0, 0, 0, 0, 0, 0, 0, 0, 0, 0, 0, 0],\n",
              " [0, 0, 0, 0, 0, 0, 0, 0, 0, 0, 0, 0, 0, 0, 0, 0, 0, 0, 0],\n",
              " [0, 0, 0, 0, 0, 0, 0, 0, 0, 0, 0, 0, 0, 0, 0, 0, 0, 0, 0],\n",
              " [0, 0, 0, 0, 0, 0, 0, 0, 0, 0, 0, 0, 0, 0, 0, 0, 0, 0, 0],\n",
              " [0, 0, 0, 0, 0, 0, 0, 0, 0, 0, 0, 0, 0, 0, 0, 0, 0, 0, 0],\n",
              " [0, 0, 0, 0, 0, 0, 0, 0, 0, 0, 0, 0, 0, 0, 0, 0, 0, 0, 0],\n",
              " [0, 0, 0, 0, 0, 0, 0, 0, 0, 0, 0, 0, 0, 0, 0, 0, 0, 0, 0],\n",
              " [0, 0, 0, 0, 0, 0, 0, 0, 0, 0, 0, 0, 0, 0, 0, 0, 0, 0, 0],\n",
              " [0, 0, 0, 0, 0, 0, 0, 0, 0, 0, 0, 0, 0, 0, 0, 0, 0, 0, 0],\n",
              " [0, 0, 0, 0, 0, 0, 0, 0, 0, 0, 0, 0, 0, 0, 0, 0, 0, 0, 0]]"
            ]
          },
          "metadata": {},
          "execution_count": 79
        }
      ]
    },
    {
      "cell_type": "code",
      "source": [
        "# 공백을 두고 한 줄로 출력\n",
        "\n",
        "for i in range(19):\n",
        "    for j in range(19):\n",
        "        print(d[i][j], end = ' ')\n",
        "    print()"
      ],
      "metadata": {
        "colab": {
          "base_uri": "https://localhost:8080/"
        },
        "id": "rz6SHXRcMcmf",
        "outputId": "c10dac8d-20ba-4bff-ac09-f32d8227f591"
      },
      "execution_count": null,
      "outputs": [
        {
          "output_type": "stream",
          "name": "stdout",
          "text": [
            "0 0 0 0 0 0 0 0 0 0 0 0 0 0 0 0 0 0 0 \n",
            "0 0 0 0 0 0 0 0 0 0 0 0 0 0 0 0 0 0 0 \n",
            "0 0 0 0 0 0 0 0 0 0 0 0 0 0 0 0 0 0 0 \n",
            "0 0 0 0 0 0 0 0 0 0 0 0 0 0 0 0 0 0 0 \n",
            "0 0 0 0 0 0 0 0 0 0 0 0 0 0 0 0 0 0 0 \n",
            "0 0 0 0 0 0 0 0 0 0 0 0 0 0 0 0 0 0 0 \n",
            "0 0 0 0 0 0 0 0 0 0 0 0 0 0 0 0 0 0 0 \n",
            "0 0 0 0 0 0 0 0 0 0 0 0 0 0 0 0 0 0 0 \n",
            "0 0 0 0 0 0 0 0 0 0 0 0 0 0 0 0 0 0 0 \n",
            "0 0 0 0 0 0 0 0 0 0 0 0 0 0 0 0 0 0 0 \n",
            "0 0 0 0 0 0 0 0 0 0 0 0 0 0 0 0 0 0 0 \n",
            "0 0 0 0 0 0 0 0 0 0 0 0 0 0 0 0 0 0 0 \n",
            "0 0 0 0 0 0 0 0 0 0 0 0 0 0 0 0 0 0 0 \n",
            "0 0 0 0 0 0 0 0 0 0 0 0 0 0 0 0 0 0 0 \n",
            "0 0 0 0 0 0 0 0 0 0 0 0 0 0 0 0 0 0 0 \n",
            "0 0 0 0 0 0 0 0 0 0 0 0 0 0 0 0 0 0 0 \n",
            "0 0 0 0 0 0 0 0 0 0 0 0 0 0 0 0 0 0 0 \n",
            "0 0 0 0 0 0 0 0 0 0 0 0 0 0 0 0 0 0 0 \n",
            "0 0 0 0 0 0 0 0 0 0 0 0 0 0 0 0 0 0 0 \n"
          ]
        }
      ]
    },
    {
      "cell_type": "code",
      "source": [
        "# 최종 코드\n",
        "d = [[0 for i in range(19)] for j in range(19)]\n",
        "\n",
        "n = int(input())\n",
        "\n",
        "for i in range(n):\n",
        "    x, y = map(int, input().split())\n",
        "    d[x-1][y-1] = 1\n",
        "\n",
        "for i in range(19):\n",
        "    for j in range(19):\n",
        "        print(d[i][j], end = ' ')\n",
        "    print()"
      ],
      "metadata": {
        "colab": {
          "base_uri": "https://localhost:8080/"
        },
        "id": "wIhFxAD2MceS",
        "outputId": "7b2faae6-5233-43aa-8b19-dd028c82739a"
      },
      "execution_count": null,
      "outputs": [
        {
          "output_type": "stream",
          "name": "stdout",
          "text": [
            "5\n",
            "1 1\n",
            "2 2\n",
            "3 3\n",
            "4 4\n",
            "5 5\n",
            "1 0 0 0 0 0 0 0 0 0 0 0 0 0 0 0 0 0 0 \n",
            "0 1 0 0 0 0 0 0 0 0 0 0 0 0 0 0 0 0 0 \n",
            "0 0 1 0 0 0 0 0 0 0 0 0 0 0 0 0 0 0 0 \n",
            "0 0 0 1 0 0 0 0 0 0 0 0 0 0 0 0 0 0 0 \n",
            "0 0 0 0 1 0 0 0 0 0 0 0 0 0 0 0 0 0 0 \n",
            "0 0 0 0 0 0 0 0 0 0 0 0 0 0 0 0 0 0 0 \n",
            "0 0 0 0 0 0 0 0 0 0 0 0 0 0 0 0 0 0 0 \n",
            "0 0 0 0 0 0 0 0 0 0 0 0 0 0 0 0 0 0 0 \n",
            "0 0 0 0 0 0 0 0 0 0 0 0 0 0 0 0 0 0 0 \n",
            "0 0 0 0 0 0 0 0 0 0 0 0 0 0 0 0 0 0 0 \n",
            "0 0 0 0 0 0 0 0 0 0 0 0 0 0 0 0 0 0 0 \n",
            "0 0 0 0 0 0 0 0 0 0 0 0 0 0 0 0 0 0 0 \n",
            "0 0 0 0 0 0 0 0 0 0 0 0 0 0 0 0 0 0 0 \n",
            "0 0 0 0 0 0 0 0 0 0 0 0 0 0 0 0 0 0 0 \n",
            "0 0 0 0 0 0 0 0 0 0 0 0 0 0 0 0 0 0 0 \n",
            "0 0 0 0 0 0 0 0 0 0 0 0 0 0 0 0 0 0 0 \n",
            "0 0 0 0 0 0 0 0 0 0 0 0 0 0 0 0 0 0 0 \n",
            "0 0 0 0 0 0 0 0 0 0 0 0 0 0 0 0 0 0 0 \n",
            "0 0 0 0 0 0 0 0 0 0 0 0 0 0 0 0 0 0 0 \n"
          ]
        }
      ]
    },
    {
      "cell_type": "markdown",
      "source": [
        "# 6096 : [기초-리스트] 바둑알 십자 뒤집기(py)\n",
        "\n",
        "부모님을 기다리던 영일이는 검정/흰 색 바둑알을 바둑판에 꽉 채워 깔아 놓고 놀다가...\n",
        "\n",
        "\"십(+)자 뒤집기를 해볼까?\"하고 생각했다.\n",
        "\n",
        "십자 뒤집기는\n",
        "그 위치에 있는 모든 가로줄 돌의 색을 반대(1->0, 0->1)로 바꾼 후,\n",
        "\n",
        "다시 그 위치에 있는 모든 세로줄 돌의 색을 반대로 바꾸는 것이다.\n",
        "\n",
        "어떤 위치를 골라 집자 뒤집기를 하면, 그 위치를 제외한 가로줄과 세로줄의 색이 모두 반대로 바뀐다.\n",
        "\n",
        "바둑판(19 * 19)에 흰 돌(1) 또는 검정 돌(0)이 모두 꽉 채워져 놓여있을 때,\n",
        "n개의 좌표를 입력받아 십(+)자 뒤집기한 결과를 출력하는 프로그램을 작성해보자.\n",
        "\n",
        "예시\n",
        "\n",
        "\n",
        "```\n",
        "for i in range(n) :\n",
        "  x,y=input().split()\n",
        "  for j in range(1, 20) :\n",
        "    if d[j][int(y)]==0 :\n",
        "      d[j][int(y)]=1\n",
        "    else :\n",
        "      d[j][int(y)]=0\n",
        "\n",
        "    if d[int(x)][j]==0 :\n",
        "      d[int(x)][j]=1\n",
        "    else :\n",
        "      d[int(x)][j]=0\n",
        "```\n",
        "참고\n",
        "리스트가 들어있는 리스트를 만들면?\n",
        "\n",
        "가로번호, 세로번호를 사용해 2차원 형태의 데이터처럼 쉽게 기록하고 사용할 수 있다.\n",
        "\n",
        "리스트이름[번호][번호] 형식으로 저장되어있는 값을 읽고 쓸 수 있다.\n",
        "\n"
      ],
      "metadata": {
        "id": "TbfnMvtcTysa"
      }
    },
    {
      "cell_type": "markdown",
      "source": [
        "## 2차원 배열 입력받기"
      ],
      "metadata": {
        "id": "MQ8UPOBopeLO"
      }
    },
    {
      "cell_type": "code",
      "source": [
        "# 2차원 배열 입력받기 1\n",
        "\n",
        "import numpy as np\n",
        "d = np.zeros((19, 19))\n",
        "print(d)"
      ],
      "metadata": {
        "colab": {
          "base_uri": "https://localhost:8080/"
        },
        "id": "dXDGzPVHMcbr",
        "outputId": "0e39083c-ba28-46e6-e4d4-2bd966a0e49d"
      },
      "execution_count": null,
      "outputs": [
        {
          "output_type": "stream",
          "name": "stdout",
          "text": [
            "[[0. 0. 0. 0. 0. 0. 0. 0. 0. 0. 0. 0. 0. 0. 0. 0. 0. 0. 0.]\n",
            " [0. 0. 0. 0. 0. 0. 0. 0. 0. 0. 0. 0. 0. 0. 0. 0. 0. 0. 0.]\n",
            " [0. 0. 0. 0. 0. 0. 0. 0. 0. 0. 0. 0. 0. 0. 0. 0. 0. 0. 0.]\n",
            " [0. 0. 0. 0. 0. 0. 0. 0. 0. 0. 0. 0. 0. 0. 0. 0. 0. 0. 0.]\n",
            " [0. 0. 0. 0. 0. 0. 0. 0. 0. 0. 0. 0. 0. 0. 0. 0. 0. 0. 0.]\n",
            " [0. 0. 0. 0. 0. 0. 0. 0. 0. 0. 0. 0. 0. 0. 0. 0. 0. 0. 0.]\n",
            " [0. 0. 0. 0. 0. 0. 0. 0. 0. 0. 0. 0. 0. 0. 0. 0. 0. 0. 0.]\n",
            " [0. 0. 0. 0. 0. 0. 0. 0. 0. 0. 0. 0. 0. 0. 0. 0. 0. 0. 0.]\n",
            " [0. 0. 0. 0. 0. 0. 0. 0. 0. 0. 0. 0. 0. 0. 0. 0. 0. 0. 0.]\n",
            " [0. 0. 0. 0. 0. 0. 0. 0. 0. 0. 0. 0. 0. 0. 0. 0. 0. 0. 0.]\n",
            " [0. 0. 0. 0. 0. 0. 0. 0. 0. 0. 0. 0. 0. 0. 0. 0. 0. 0. 0.]\n",
            " [0. 0. 0. 0. 0. 0. 0. 0. 0. 0. 0. 0. 0. 0. 0. 0. 0. 0. 0.]\n",
            " [0. 0. 0. 0. 0. 0. 0. 0. 0. 0. 0. 0. 0. 0. 0. 0. 0. 0. 0.]\n",
            " [0. 0. 0. 0. 0. 0. 0. 0. 0. 0. 0. 0. 0. 0. 0. 0. 0. 0. 0.]\n",
            " [0. 0. 0. 0. 0. 0. 0. 0. 0. 0. 0. 0. 0. 0. 0. 0. 0. 0. 0.]\n",
            " [0. 0. 0. 0. 0. 0. 0. 0. 0. 0. 0. 0. 0. 0. 0. 0. 0. 0. 0.]\n",
            " [0. 0. 0. 0. 0. 0. 0. 0. 0. 0. 0. 0. 0. 0. 0. 0. 0. 0. 0.]\n",
            " [0. 0. 0. 0. 0. 0. 0. 0. 0. 0. 0. 0. 0. 0. 0. 0. 0. 0. 0.]\n",
            " [0. 0. 0. 0. 0. 0. 0. 0. 0. 0. 0. 0. 0. 0. 0. 0. 0. 0. 0.]]\n"
          ]
        }
      ]
    },
    {
      "cell_type": "code",
      "source": [
        "for i in range(19) :\n",
        "    d[i,] = list(map(int, input().split()))\n",
        "print(d)"
      ],
      "metadata": {
        "colab": {
          "base_uri": "https://localhost:8080/"
        },
        "id": "TJqPu_hAMcZT",
        "outputId": "2bee08d5-8a5c-469b-d5bd-d1a7053f08b1"
      },
      "execution_count": null,
      "outputs": [
        {
          "output_type": "stream",
          "name": "stdout",
          "text": [
            "0 0 0 0 0 0 0 0 0 1 0 1 0 0 0 0 0 0 0\n",
            "0 0 0 0 0 0 0 0 0 1 0 1 0 0 0 0 0 0 0\n",
            "0 0 0 0 0 0 0 0 0 1 0 1 0 0 0 0 0 0 0\n",
            "0 0 0 0 0 0 0 0 0 1 0 1 0 0 0 0 0 0 0\n",
            "0 0 0 0 0 0 0 0 0 1 0 1 0 0 0 0 0 0 0\n",
            "0 0 0 0 0 0 0 0 0 1 0 1 0 0 0 0 0 0 0\n",
            "0 0 0 0 0 0 0 0 0 1 0 1 0 0 0 0 0 0 0\n",
            "0 0 0 0 0 0 0 0 0 1 0 1 0 0 0 0 0 0 0\n",
            "0 0 0 0 0 0 0 0 0 1 0 1 0 0 0 0 0 0 0\n",
            "1 1 1 1 1 1 1 1 1 1 1 1 1 1 1 1 1 1 1\n",
            "0 0 0 0 0 0 0 0 0 1 0 1 0 0 0 0 0 0 0\n",
            "1 1 1 1 1 1 1 1 1 1 1 1 1 1 1 1 1 1 1\n",
            "0 0 0 0 0 0 0 0 0 1 0 1 0 0 0 0 0 0 0\n",
            "0 0 0 0 0 0 0 0 0 1 0 1 0 0 0 0 0 0 0\n",
            "0 0 0 0 0 0 0 0 0 1 0 1 0 0 0 0 0 0 0\n",
            "0 0 0 0 0 0 0 0 0 1 0 1 0 0 0 0 0 0 0\n",
            "0 0 0 0 0 0 0 0 0 1 0 1 0 0 0 0 0 0 0\n",
            "0 0 0 0 0 0 0 0 0 1 0 1 0 0 0 0 0 0 0\n",
            "0 0 0 0 0 0 0 0 0 1 0 1 0 0 0 0 0 0 0\n",
            "[[0. 0. 0. 0. 0. 0. 0. 0. 0. 1. 0. 1. 0. 0. 0. 0. 0. 0. 0.]\n",
            " [0. 0. 0. 0. 0. 0. 0. 0. 0. 1. 0. 1. 0. 0. 0. 0. 0. 0. 0.]\n",
            " [0. 0. 0. 0. 0. 0. 0. 0. 0. 1. 0. 1. 0. 0. 0. 0. 0. 0. 0.]\n",
            " [0. 0. 0. 0. 0. 0. 0. 0. 0. 1. 0. 1. 0. 0. 0. 0. 0. 0. 0.]\n",
            " [0. 0. 0. 0. 0. 0. 0. 0. 0. 1. 0. 1. 0. 0. 0. 0. 0. 0. 0.]\n",
            " [0. 0. 0. 0. 0. 0. 0. 0. 0. 1. 0. 1. 0. 0. 0. 0. 0. 0. 0.]\n",
            " [0. 0. 0. 0. 0. 0. 0. 0. 0. 1. 0. 1. 0. 0. 0. 0. 0. 0. 0.]\n",
            " [0. 0. 0. 0. 0. 0. 0. 0. 0. 1. 0. 1. 0. 0. 0. 0. 0. 0. 0.]\n",
            " [0. 0. 0. 0. 0. 0. 0. 0. 0. 1. 0. 1. 0. 0. 0. 0. 0. 0. 0.]\n",
            " [1. 1. 1. 1. 1. 1. 1. 1. 1. 1. 1. 1. 1. 1. 1. 1. 1. 1. 1.]\n",
            " [0. 0. 0. 0. 0. 0. 0. 0. 0. 1. 0. 1. 0. 0. 0. 0. 0. 0. 0.]\n",
            " [1. 1. 1. 1. 1. 1. 1. 1. 1. 1. 1. 1. 1. 1. 1. 1. 1. 1. 1.]\n",
            " [0. 0. 0. 0. 0. 0. 0. 0. 0. 1. 0. 1. 0. 0. 0. 0. 0. 0. 0.]\n",
            " [0. 0. 0. 0. 0. 0. 0. 0. 0. 1. 0. 1. 0. 0. 0. 0. 0. 0. 0.]\n",
            " [0. 0. 0. 0. 0. 0. 0. 0. 0. 1. 0. 1. 0. 0. 0. 0. 0. 0. 0.]\n",
            " [0. 0. 0. 0. 0. 0. 0. 0. 0. 1. 0. 1. 0. 0. 0. 0. 0. 0. 0.]\n",
            " [0. 0. 0. 0. 0. 0. 0. 0. 0. 1. 0. 1. 0. 0. 0. 0. 0. 0. 0.]\n",
            " [0. 0. 0. 0. 0. 0. 0. 0. 0. 1. 0. 1. 0. 0. 0. 0. 0. 0. 0.]\n",
            " [0. 0. 0. 0. 0. 0. 0. 0. 0. 1. 0. 1. 0. 0. 0. 0. 0. 0. 0.]]\n"
          ]
        }
      ]
    },
    {
      "cell_type": "code",
      "source": [
        "# 2차원 배열 입력받기 축약형\n",
        "\n",
        "n = 3\n",
        "temp = [list(map(int, input().split())) for _ in range(n)]"
      ],
      "metadata": {
        "colab": {
          "base_uri": "https://localhost:8080/"
        },
        "id": "D7nR_hutoxMm",
        "outputId": "f055cb31-8760-4578-e8bb-81b58156dad3"
      },
      "execution_count": null,
      "outputs": [
        {
          "name": "stdout",
          "output_type": "stream",
          "text": [
            "0 0 0 0 0 0 0 0 0 1 0 1 0 0 0 0 0 0 0\n",
            "0 0 0 0 0 0 0 0 0 1 0 1 0 0 0 0 0 0 0\n",
            "0 0 0 0 0 0 0 0 0 1 0 1 0 0 0 0 0 0 0\n"
          ]
        }
      ]
    },
    {
      "cell_type": "code",
      "source": [
        "d = [list(map(int, input().split())) for _ in range(19)]\n",
        "n = int(input())\n",
        "\n",
        "for _ in range(n) :\n",
        "    x, y = map(int, input().split())\n",
        "    x -= 1\n",
        "    y -= 1\n",
        "    for i in range(19) :\n",
        "        d[i][y] = 1 if d[i][y] == 0 else 0\n",
        "    for j in range(19) :\n",
        "        d[x][j] = 1 if d[x][j] == 0 else 0\n",
        "\n",
        "for i in range(19) :\n",
        "    for j in range(19) :\n",
        "        print(d[i][j], end = ' ')\n",
        "    print()"
      ],
      "metadata": {
        "colab": {
          "base_uri": "https://localhost:8080/"
        },
        "id": "9VZkFxwFphgv",
        "outputId": "e4c35323-13d2-4d53-feca-536290e2d40f"
      },
      "execution_count": null,
      "outputs": [
        {
          "output_type": "stream",
          "name": "stdout",
          "text": [
            "0 0 0 0 0 0 0 0 0 1 0 1 0 0 0 0 0 0 0\n",
            "0 0 0 0 0 0 0 0 0 1 0 1 0 0 0 0 0 0 0\n",
            "0 0 0 0 0 0 0 0 0 1 0 1 0 0 0 0 0 0 0\n",
            "0 0 0 0 0 0 0 0 0 1 0 1 0 0 0 0 0 0 0\n",
            "0 0 0 0 0 0 0 0 0 1 0 1 0 0 0 0 0 0 0\n",
            "0 0 0 0 0 0 0 0 0 1 0 1 0 0 0 0 0 0 0\n",
            "0 0 0 0 0 0 0 0 0 1 0 1 0 0 0 0 0 0 0\n",
            "0 0 0 0 0 0 0 0 0 1 0 1 0 0 0 0 0 0 0\n",
            "0 0 0 0 0 0 0 0 0 1 0 1 0 0 0 0 0 0 0\n",
            "1 1 1 1 1 1 1 1 1 1 1 1 1 1 1 1 1 1 1\n",
            "0 0 0 0 0 0 0 0 0 1 0 1 0 0 0 0 0 0 0\n",
            "1 1 1 1 1 1 1 1 1 1 1 1 1 1 1 1 1 1 1\n",
            "0 0 0 0 0 0 0 0 0 1 0 1 0 0 0 0 0 0 0\n",
            "0 0 0 0 0 0 0 0 0 1 0 1 0 0 0 0 0 0 0\n",
            "0 0 0 0 0 0 0 0 0 1 0 1 0 0 0 0 0 0 0\n",
            "0 0 0 0 0 0 0 0 0 1 0 1 0 0 0 0 0 0 0\n",
            "0 0 0 0 0 0 0 0 0 1 0 1 0 0 0 0 0 0 0\n",
            "0 0 0 0 0 0 0 0 0 1 0 1 0 0 0 0 0 0 0\n",
            "0 0 0 0 0 0 0 0 0 1 0 1 0 0 0 0 0 0 0\n",
            "2\n",
            "10 10\n",
            "12 12\n",
            "0 0 0 0 0 0 0 0 0 0 0 0 0 0 0 0 0 0 0 \n",
            "0 0 0 0 0 0 0 0 0 0 0 0 0 0 0 0 0 0 0 \n",
            "0 0 0 0 0 0 0 0 0 0 0 0 0 0 0 0 0 0 0 \n",
            "0 0 0 0 0 0 0 0 0 0 0 0 0 0 0 0 0 0 0 \n",
            "0 0 0 0 0 0 0 0 0 0 0 0 0 0 0 0 0 0 0 \n",
            "0 0 0 0 0 0 0 0 0 0 0 0 0 0 0 0 0 0 0 \n",
            "0 0 0 0 0 0 0 0 0 0 0 0 0 0 0 0 0 0 0 \n",
            "0 0 0 0 0 0 0 0 0 0 0 0 0 0 0 0 0 0 0 \n",
            "0 0 0 0 0 0 0 0 0 0 0 0 0 0 0 0 0 0 0 \n",
            "0 0 0 0 0 0 0 0 0 1 0 1 0 0 0 0 0 0 0 \n",
            "0 0 0 0 0 0 0 0 0 0 0 0 0 0 0 0 0 0 0 \n",
            "0 0 0 0 0 0 0 0 0 1 0 1 0 0 0 0 0 0 0 \n",
            "0 0 0 0 0 0 0 0 0 0 0 0 0 0 0 0 0 0 0 \n",
            "0 0 0 0 0 0 0 0 0 0 0 0 0 0 0 0 0 0 0 \n",
            "0 0 0 0 0 0 0 0 0 0 0 0 0 0 0 0 0 0 0 \n",
            "0 0 0 0 0 0 0 0 0 0 0 0 0 0 0 0 0 0 0 \n",
            "0 0 0 0 0 0 0 0 0 0 0 0 0 0 0 0 0 0 0 \n",
            "0 0 0 0 0 0 0 0 0 0 0 0 0 0 0 0 0 0 0 \n",
            "0 0 0 0 0 0 0 0 0 0 0 0 0 0 0 0 0 0 0 \n"
          ]
        }
      ]
    },
    {
      "cell_type": "markdown",
      "source": [
        "# 6097 : [기초-리스트] 설탕과자 뽑기(py)\n",
        "\n",
        "부모님과 함께 놀러간 영일이는\n",
        "설탕과자(설탕을 녹여 물고기 등의 모양을 만든 것) 뽑기를 보게 되었다.\n",
        "\n",
        "길이가 다른 몇 개의 막대를 바둑판과 같은 격자판에 놓는데,\n",
        "\n",
        "막대에 있는 설탕과자 이름 아래에 있는 번호를 뽑으면 설탕과자를 가져가는 게임이었다.\n",
        "(잉어, 붕어, 용 등 여러 가지가 적혀있다.)\n",
        "\n",
        "격자판의 세로(h), 가로(w), 막대의 개수(n), 각 막대의 길이(l),\n",
        "막대를 놓는 방향(d:가로는 0, 세로는 1)과\n",
        "막대를 놓는 막대의 가장 왼쪽 또는 위쪽의 위치(x, y)가 주어질 때,\n",
        "\n",
        "격자판을 채운 막대의 모양을 출력하는 프로그램을 만들어보자."
      ],
      "metadata": {
        "id": "1_Ve0m6Qnu5l"
      }
    },
    {
      "cell_type": "markdown",
      "source": [
        "첫 줄에 격자판의 세로(h), 가로(w) 가 공백을 두고 입력되고,\n",
        "\n",
        "두 번째 줄에 놓을 수 있는 막대의 개수(n)\n",
        "\n",
        "세 번째 줄부터 각 막대의 길이(l), 방향(d), 좌표(x, y)가 입력된다.\n",
        "\n",
        "1 <= w, h <= 100\n",
        "\n",
        "1 <= n <= 10\n",
        "\n",
        "d = 0 or 1\n",
        "\n",
        "1 <= x <= 100-h\n",
        "\n",
        "1 <= y <= 100-w"
      ],
      "metadata": {
        "id": "ZRbA8fvej67b"
      }
    },
    {
      "cell_type": "code",
      "source": [
        "h, w = map(int, input().split()) # 가로 세로\n",
        "n = int(input()) # 막대 수\n",
        "l, d, x, y = map(int, input().split()) # 길이, 방향, 좌표"
      ],
      "metadata": {
        "id": "9-VkrZ0znusZ"
      },
      "execution_count": null,
      "outputs": []
    },
    {
      "cell_type": "code",
      "source": [
        "h, w = 5, 5\n",
        "n = 2\n",
        "5 5\n",
        "3\n",
        "2 0 1 1\n",
        "3 1 2 3\n",
        "4 1 2 5"
      ],
      "metadata": {
        "id": "jqK3kyQKnupm"
      },
      "execution_count": null,
      "outputs": []
    },
    {
      "cell_type": "code",
      "source": [
        "h, w = map(int, input().split()) # 가로 세로\n",
        "n = int(input()) # 막대 수\n",
        "matrix = [[0 for _ in range(w)] for _ in range(h)]\n",
        "matrix"
      ],
      "metadata": {
        "colab": {
          "base_uri": "https://localhost:8080/"
        },
        "id": "4QWDCVGTGMHh",
        "outputId": "cc63d97d-6d81-47d6-f41a-2177d7967e18"
      },
      "execution_count": null,
      "outputs": [
        {
          "name": "stdout",
          "output_type": "stream",
          "text": [
            "5 5\n",
            "3\n"
          ]
        },
        {
          "output_type": "execute_result",
          "data": {
            "text/plain": [
              "[[0, 0, 0, 0, 0],\n",
              " [0, 0, 0, 0, 0],\n",
              " [0, 0, 0, 0, 0],\n",
              " [0, 0, 0, 0, 0],\n",
              " [0, 0, 0, 0, 0]]"
            ]
          },
          "metadata": {},
          "execution_count": 5
        }
      ]
    },
    {
      "cell_type": "code",
      "source": [
        "for _ in range(n) :\n",
        "    l, d, x, y = map(int, input().split())\n",
        "    x -= 1 # (0,0)부터 시작이니까\n",
        "    y -= 1\n",
        "    for i in range(l) :\n",
        "      if 0 <= x <= h and 0 <= y <= w :\n",
        "          matrix[x][y] = 1\n",
        "          if d == 0 :\n",
        "              y += 1\n",
        "          else :\n",
        "              x += 1\n",
        "      else : continue\n",
        "\n",
        "for row in matrix:\n",
        "\n",
        "for i in range(h) :\n",
        "    for j in range(w) :\n",
        "        print(matrix[i][j], end = ' ')\n",
        "    print()"
      ],
      "metadata": {
        "colab": {
          "base_uri": "https://localhost:8080/"
        },
        "id": "23K4SjsNnuj1",
        "outputId": "6a3b08c3-cafb-4156-9f34-acf34c44dc18"
      },
      "execution_count": null,
      "outputs": [
        {
          "output_type": "stream",
          "name": "stdout",
          "text": [
            "2 0 1 1\n",
            "3 1 2 3\n",
            "4 1 2 5\n",
            "1 1 0 0 0 \n",
            "0 0 1 0 1 \n",
            "0 0 1 0 1 \n",
            "0 0 1 0 1 \n",
            "0 0 0 0 1 \n"
          ]
        }
      ]
    },
    {
      "cell_type": "code",
      "source": [
        "# 최종 제출\n",
        "h, w = map(int, input().split()) # 가로 세로\n",
        "n = int(input()) # 막대 수\n",
        "matrix = [[0 for _ in range(w)] for _ in range(h)]\n",
        "\n",
        "for _ in range(n):\n",
        "    l, d, x, y = map(int, input().split())\n",
        "    x -= 1\n",
        "    y -= 1\n",
        "    for i in range(l):\n",
        "        if 0 <= x < h and 0 <= y < w:  # 범위 체크\n",
        "            matrix[x][y] = 1\n",
        "            if d == 0:\n",
        "                y += 1\n",
        "            else:\n",
        "                x += 1\n",
        "\n",
        "for row in matrix :\n",
        "    print(' '.join(map(str, row)))"
      ],
      "metadata": {
        "id": "tM_Lg1rXHJhs",
        "colab": {
          "base_uri": "https://localhost:8080/"
        },
        "outputId": "bb3909f4-837e-495c-f76f-5520d99a63df"
      },
      "execution_count": 14,
      "outputs": [
        {
          "output_type": "stream",
          "name": "stdout",
          "text": [
            "5 5\n",
            "3\n",
            "2 0 1 1\n",
            "3 1 2 3\n",
            "4 1 2 5\n",
            "1 1 0 0 0\n",
            "0 0 1 0 1\n",
            "0 0 1 0 1\n",
            "0 0 1 0 1\n",
            "0 0 0 0 1\n"
          ]
        }
      ]
    },
    {
      "cell_type": "markdown",
      "source": [
        "# 6098 : [기초-리스트] 성실한 개미(py)\n",
        "\n",
        "영일이는 생명과학에 관심이 생겨 왕개미를 연구하고 있었다.\n",
        "\n",
        "왕개미를 유심히 살펴보던 중 특별히 성실해 보이는 개미가 있었는데,\n",
        "그 개미는 개미굴에서 나와 먹이까지 가장 빠른 길로 이동하는 것이었다.\n",
        "\n",
        "개미는 오른쪽으로 움직이다가 벽을 만나면 아래쪽으로 움직여 가장 빠른 길로 움직였다.\n",
        "(오른쪽에 길이 나타나면 다시 오른쪽으로 움직인다.)\n",
        "\n",
        "이에 호기심이 생긴 영일이는 그 개미를 미로 상자에 넣고 살펴보기 시작하였다.\n",
        "\n",
        "미로 상자에 넣은 개미는 먹이를 찾았거나, 더 이상 움직일 수 없을 때까지\n",
        "오른쪽 또는 아래쪽으로만 움직였다.\n",
        "\n",
        "미로 상자의 구조가 0(갈 수 있는 곳), 1(벽 또는 장애물)로 주어지고,\n",
        "먹이가 2로 주어질 때, 성실한 개미의 이동 경로를 예상해보자.\n",
        "\n",
        "단, 맨 아래의 가장 오른쪽에 도착한 경우, 더 이상 움직일 수 없는 경우, 먹이를 찾은 경우에는\n",
        "더이상 이동하지 않고 그 곳에 머무른다고 가정한다.\n",
        "\n",
        "미로 상자의 테두리는 모두 벽으로 되어 있으며,\n",
        "개미집은 반드시 (2, 2)에 존재하기 때문에 개미는 (2, 2)에서 출발한다."
      ],
      "metadata": {
        "id": "A2O_vS5ZPhRp"
      }
    },
    {
      "cell_type": "code",
      "source": [
        "d = [list(map(int, input().split())) for _ in range(10)]\n",
        "print(d)"
      ],
      "metadata": {
        "id": "izCCVaOznuV4",
        "colab": {
          "base_uri": "https://localhost:8080/"
        },
        "outputId": "4e56c952-f489-41db-f0e9-563ae6bd8a88"
      },
      "execution_count": 1,
      "outputs": [
        {
          "output_type": "stream",
          "name": "stdout",
          "text": [
            "1 1 1 1 1 1 1 1 1 1\n",
            "1 0 0 1 0 0 0 0 0 1\n",
            "1 0 0 1 1 1 0 0 0 1\n",
            "1 0 0 0 0 0 0 1 0 1\n",
            "1 0 0 0 0 0 0 1 0 1\n",
            "1 0 0 0 0 1 0 1 0 1\n",
            "1 0 0 0 0 1 2 1 0 1\n",
            "1 0 0 0 0 1 0 0 0 1\n",
            "1 0 0 0 0 0 0 0 0 1\n",
            "1 1 1 1 1 1 1 1 1 1\n",
            "[[1, 1, 1, 1, 1, 1, 1, 1, 1, 1], [1, 0, 0, 1, 0, 0, 0, 0, 0, 1], [1, 0, 0, 1, 1, 1, 0, 0, 0, 1], [1, 0, 0, 0, 0, 0, 0, 1, 0, 1], [1, 0, 0, 0, 0, 0, 0, 1, 0, 1], [1, 0, 0, 0, 0, 1, 0, 1, 0, 1], [1, 0, 0, 0, 0, 1, 2, 1, 0, 1], [1, 0, 0, 0, 0, 1, 0, 0, 0, 1], [1, 0, 0, 0, 0, 0, 0, 0, 0, 1], [1, 1, 1, 1, 1, 1, 1, 1, 1, 1]]\n"
          ]
        }
      ]
    },
    {
      "cell_type": "code",
      "source": [
        "d = [[1, 1, 1, 1, 1, 1, 1, 1, 1, 1], [1, 0, 0, 1, 0, 0, 0, 0, 0, 1], [1, 0, 0, 1, 1, 1, 0, 0, 0, 1], [1, 0, 0, 0, 0, 0, 0, 1, 0, 1], [1, 0, 0, 0, 0, 0, 0, 1, 0, 1], [1, 0, 0, 0, 0, 1, 0, 1, 0, 1], [1, 0, 0, 0, 0, 1, 2, 1, 0, 1], [1, 0, 0, 0, 0, 1, 0, 0, 0, 1], [1, 0, 0, 0, 0, 0, 0, 0, 0, 1], [1, 1, 1, 1, 1, 1, 1, 1, 1, 1]]"
      ],
      "metadata": {
        "id": "S1u3H9B0LrqK"
      },
      "execution_count": 10,
      "outputs": []
    },
    {
      "cell_type": "code",
      "source": [
        "d"
      ],
      "metadata": {
        "colab": {
          "base_uri": "https://localhost:8080/"
        },
        "id": "ak0vC6VoX8Q2",
        "outputId": "f432b712-d284-4d10-b523-5989559ecfec"
      },
      "execution_count": 11,
      "outputs": [
        {
          "output_type": "execute_result",
          "data": {
            "text/plain": [
              "[[1, 1, 1, 1, 1, 1, 1, 1, 1, 1],\n",
              " [1, 0, 0, 1, 0, 0, 0, 0, 0, 1],\n",
              " [1, 0, 0, 1, 1, 1, 0, 0, 0, 1],\n",
              " [1, 0, 0, 0, 0, 0, 0, 1, 0, 1],\n",
              " [1, 0, 0, 0, 0, 0, 0, 1, 0, 1],\n",
              " [1, 0, 0, 0, 0, 1, 0, 1, 0, 1],\n",
              " [1, 0, 0, 0, 0, 1, 2, 1, 0, 1],\n",
              " [1, 0, 0, 0, 0, 1, 0, 0, 0, 1],\n",
              " [1, 0, 0, 0, 0, 0, 0, 0, 0, 1],\n",
              " [1, 1, 1, 1, 1, 1, 1, 1, 1, 1]]"
            ]
          },
          "metadata": {},
          "execution_count": 11
        }
      ]
    },
    {
      "cell_type": "code",
      "source": [
        "x, y = 1, 1 # 좌표는 (0, 0)부터 시작이니까\n",
        "\n",
        "while True :\n",
        "    if d[x][y] == 0 :\n",
        "        d[x][y] = 9\n",
        "    elif d[x][y] == 2 : # 먹이 찾은 경우\n",
        "        d[x][y] = 9\n",
        "        break\n",
        "\n",
        "    if d[x][y+1] != 1 :\n",
        "        y += 1\n",
        "    elif d[x+1][y] != 1 :\n",
        "        x += 1\n",
        "\n",
        "    if (y < 8 and d[x][y+1] == 1) and (x < 8 and d[x+1][y] == 1) : # 더이상 갈 곳 없는 경우\n",
        "        break\n",
        "\n",
        "    # 경계 조건\n",
        "    if x >= 8 or y >= 8 :\n",
        "        break\n",
        "print(d)\n",
        "\n",
        "print('='*99)\n",
        "\n",
        "for row in d :\n",
        "    print(' '.join(map(str, row)))"
      ],
      "metadata": {
        "id": "4uswnU62nuQj",
        "colab": {
          "base_uri": "https://localhost:8080/"
        },
        "outputId": "f8f13365-da41-4511-cbbc-405302472ba6"
      },
      "execution_count": 12,
      "outputs": [
        {
          "output_type": "stream",
          "name": "stdout",
          "text": [
            "[[1, 1, 1, 1, 1, 1, 1, 1, 1, 1], [1, 9, 9, 1, 0, 0, 0, 0, 0, 1], [1, 0, 9, 1, 1, 1, 0, 0, 0, 1], [1, 0, 9, 9, 9, 9, 9, 1, 0, 1], [1, 0, 0, 0, 0, 0, 9, 1, 0, 1], [1, 0, 0, 0, 0, 1, 9, 1, 0, 1], [1, 0, 0, 0, 0, 1, 9, 1, 0, 1], [1, 0, 0, 0, 0, 1, 0, 0, 0, 1], [1, 0, 0, 0, 0, 0, 0, 0, 0, 1], [1, 1, 1, 1, 1, 1, 1, 1, 1, 1]]\n",
            "===================================================================================================\n",
            "1 1 1 1 1 1 1 1 1 1\n",
            "1 9 9 1 0 0 0 0 0 1\n",
            "1 0 9 1 1 1 0 0 0 1\n",
            "1 0 9 9 9 9 9 1 0 1\n",
            "1 0 0 0 0 0 9 1 0 1\n",
            "1 0 0 0 0 1 9 1 0 1\n",
            "1 0 0 0 0 1 9 1 0 1\n",
            "1 0 0 0 0 1 0 0 0 1\n",
            "1 0 0 0 0 0 0 0 0 1\n",
            "1 1 1 1 1 1 1 1 1 1\n"
          ]
        }
      ]
    },
    {
      "cell_type": "code",
      "source": [
        "# 최종 코드\n",
        "\n",
        "d = [list(map(int, input().split())) for _ in range(10)]\n",
        "\n",
        "x, y = 1, 1\n",
        "\n",
        "while True :\n",
        "    if d[x][y] == 0 :\n",
        "        d[x][y] = 9\n",
        "    elif d[x][y] == 2 : # 먹이 찾은 경우\n",
        "        d[x][y] = 9\n",
        "        break\n",
        "\n",
        "    if (d[x][y+1] == 1 and d[x+1][y] == 1) or (x > 8 or y > 8) :\n",
        "        break\n",
        "\n",
        "    if d[x][y+1] != 1 :\n",
        "        y += 1\n",
        "    elif d[x+1][y] != 1 :\n",
        "        x += 1\n",
        "\n",
        "for row in d :\n",
        "    print(' '.join(map(str, row)))"
      ],
      "metadata": {
        "id": "T4dpLa3Yofmy"
      },
      "execution_count": null,
      "outputs": []
    },
    {
      "cell_type": "code",
      "source": [],
      "metadata": {
        "id": "SCNFTxbiofhh"
      },
      "execution_count": null,
      "outputs": []
    },
    {
      "cell_type": "code",
      "source": [],
      "metadata": {
        "id": "_n0A4l3FofeV"
      },
      "execution_count": null,
      "outputs": []
    },
    {
      "cell_type": "code",
      "source": [],
      "metadata": {
        "id": "OubTPGnPofbb"
      },
      "execution_count": null,
      "outputs": []
    },
    {
      "cell_type": "code",
      "source": [],
      "metadata": {
        "id": "ncWbk5a9ofYe"
      },
      "execution_count": null,
      "outputs": []
    },
    {
      "cell_type": "code",
      "source": [],
      "metadata": {
        "id": "AxrcGcctofVN"
      },
      "execution_count": null,
      "outputs": []
    }
  ]
}