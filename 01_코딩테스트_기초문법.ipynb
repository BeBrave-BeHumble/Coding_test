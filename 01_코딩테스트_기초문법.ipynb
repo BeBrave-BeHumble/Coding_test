{
  "nbformat": 4,
  "nbformat_minor": 0,
  "metadata": {
    "colab": {
      "provenance": [],
      "collapsed_sections": [],
      "toc_visible": true,
      "authorship_tag": "ABX9TyNi4vugQRjq00zUTZdqkCOx",
      "include_colab_link": true
    },
    "kernelspec": {
      "name": "python3",
      "display_name": "Python 3"
    },
    "language_info": {
      "name": "python"
    }
  },
  "cells": [
    {
      "cell_type": "markdown",
      "metadata": {
        "id": "view-in-github",
        "colab_type": "text"
      },
      "source": [
        "<a href=\"https://colab.research.google.com/github/BeBrave-BeHumble/Coding_test/blob/main/01_%EC%BD%94%EB%94%A9%ED%85%8C%EC%8A%A4%ED%8A%B8_%EA%B8%B0%EC%B4%88%EB%AC%B8%EB%B2%95.ipynb\" target=\"_parent\"><img src=\"https://colab.research.google.com/assets/colab-badge.svg\" alt=\"Open In Colab\"/></a>"
      ]
    },
    {
      "cell_type": "markdown",
      "source": [
        "https://www.youtube.com/watch?v=m-9pAwq1o3w&t=5367s\n",
        "\n",
        "나동빈의 코딩테스트 기초 문법 유튜브 참고"
      ],
      "metadata": {
        "id": "l0FQvWYMmSc2"
      }
    },
    {
      "cell_type": "markdown",
      "source": [
        "# 알고리즘 문제 해결 과정\n",
        "\n",
        "1. 지문 읽기 및 컴퓨터적 사고\n",
        "2. 요구사항(복잡도) 분석\n",
        "3. 문제 해결을 위한 아이디어 찾기\n",
        "4. 소스코드 설계 및 코딩\n",
        "\n",
        "- 일반적으로 대부분의 문제는 핵심 아이디어를 캐치한다면, 간결하게 소스코드를 작성할 수 있는 형태로 출제함. 따라서 문제를 온전히 이해하고 어떻게 코드를 설계할 지 생각하고 풀 것."
      ],
      "metadata": {
        "id": "1EGBZXgudd_1"
      }
    },
    {
      "cell_type": "markdown",
      "source": [
        "- 주 출제 유형\n",
        "  - 그리디 (쉬운 난이도)\n",
        "  - 구현\n",
        "  - DFS/BFS를 활용한 탐색"
      ],
      "metadata": {
        "id": "Tqiy5CNJfTWR"
      }
    },
    {
      "cell_type": "markdown",
      "source": [
        "# 복잡도\n",
        "\n",
        "- 시간 복잡도\n",
        "  \n",
        "  특정한 크기의 입력에 대하여 알고리즘의 수행 시간 분석\n",
        "\n",
        "- 공간 복잡도\n",
        "  \n",
        "  특정한 크기의 입력에 대하여 알고리즘의 메모리 사용량 분석"
      ],
      "metadata": {
        "id": "W1rihyl-bHBt"
      }
    },
    {
      "cell_type": "markdown",
      "source": [
        "## 빅오 표기법\n",
        "\n",
        "가장 빠르게 증가하는 항만을 고려한다.\n",
        "연산 횟수가 3N^3 + 5N^2 + 1,000,000 인 알고리즘이 있다면 빅오 표기법에서는 차수가 가장 큰 항만 남기므로 O(N^3)으로 표현된다.\n",
        "\n",
        "O(1) > O(logN) > O(N) > O(NlogN) > O(N^2) > O(N^3) > O(2^n)"
      ],
      "metadata": {
        "id": "8tetwhOwajXM"
      }
    },
    {
      "cell_type": "markdown",
      "source": [
        "### 알고리즘 설계 Tip\n",
        "- 연산 횟수가 5억을 넘어가는 경우:\n",
        "  - python기준 5~15초 걸림. C언어보다 오래걸림. pypy가 가장 빠름\n",
        "  - 우선 python으로 제출하고 시간초과 되면 동일한 코드를 pypy로 제출해보기\n",
        "- 코딩 테스트에서 문제의 시간제한은 통상 1~5초임. 문제에 명시되어 있지 않은 경우 대략 5초라고 생각하기.\n",
        "\n",
        "- 요구 사항에 따라 적절한 알고리즘 설계하기\n",
        "  - 문제에서 가장 먼저 확인해야 하는 내용은 '시간제한'\n",
        "  - 시간제한이 1초인 문제를 만났을 때, 일반적인 기준\n",
        "    - N의 범위가 500인 경우: 시간 복잡도가 O(N^3)인 알고리즘을 설계\n",
        "    - N의 범위가 2000인 경우: 시간 복잡도가 O(N^2)인 알고리즘을 설계\n",
        "    - N의 범위가 100,000인 경우: 시간 복잡도가 O(NlogN)인 알고리즘을 설계\n",
        "    - N의 범위가 10,000,000인 경우: 시간 복잡도가 O(N)인 알고리즘을 설계"
      ],
      "metadata": {
        "id": "kyBHysrJdUL5"
      }
    },
    {
      "cell_type": "code",
      "execution_count": null,
      "metadata": {
        "colab": {
          "base_uri": "https://localhost:8080/"
        },
        "id": "17ygu5JyaGWz",
        "outputId": "78bbdbfd-ea7d-45d2-ffe2-5c17aac77fa0"
      },
      "outputs": [
        {
          "output_type": "stream",
          "name": "stdout",
          "text": [
            "15\n"
          ]
        }
      ],
      "source": [
        "# 시간 복잡도 계산해보기 (1)\n",
        "\n",
        "array = [3,5,1,2,4] # (N=5)\n",
        "sum = 0 # 합계 저장할 변수\n",
        "\n",
        "# 모든 데이터 하나씩 확인하며 합계 계산\n",
        "for x in array:\n",
        "    sum += x\n",
        "\n",
        "print(sum)"
      ]
    },
    {
      "cell_type": "markdown",
      "source": [
        "- 수행 시간은 데이터 개수 N에 비례함\n",
        "  - 시간복잡도 : 0(N)\n",
        "\n",
        "- 시간제한이 1초인 문제를 만났을 때 일반적인 기준\n",
        "  - N의 범위가 500인 경우 : 시간 복잡도가 O(N^3)인 알고리즘을 설계해야 한다.\n",
        "  - N의 범위가 2000인 경우 : 시간 복잡도가 O(N^2)인 알고리즘을 설계해야 한다.\n",
        "  - N의 범위가 100,000인 경우 : 시간 복잡도가 O(NlogN)인 알고리즘을 설계해야 한다.\n",
        "  - N의 범위가 10,000,000인 경우 : 시간 복잡도가 O(N)인 알고리즘을 설계해야 한다."
      ],
      "metadata": {
        "id": "P3hgvN6Qa5t1"
      }
    },
    {
      "cell_type": "code",
      "source": [
        "# 시간 복잡도 계산해보기 (2)\n",
        "# 2중 for문 이용\n",
        "\n",
        "array = [3,5,1,2,4] # (N=5)\n",
        "\n",
        "for i in array:\n",
        "    for j in array:\n",
        "      temp = i * j\n",
        "      print(temp)"
      ],
      "metadata": {
        "colab": {
          "base_uri": "https://localhost:8080/"
        },
        "id": "1puMuX1rbaMh",
        "outputId": "d896bd52-5948-47c1-a49d-877626ffff83"
      },
      "execution_count": null,
      "outputs": [
        {
          "output_type": "stream",
          "name": "stdout",
          "text": [
            "9\n",
            "15\n",
            "3\n",
            "6\n",
            "12\n",
            "15\n",
            "25\n",
            "5\n",
            "10\n",
            "20\n",
            "3\n",
            "5\n",
            "1\n",
            "2\n",
            "4\n",
            "6\n",
            "10\n",
            "2\n",
            "4\n",
            "8\n",
            "12\n",
            "20\n",
            "4\n",
            "8\n",
            "16\n"
          ]
        }
      ]
    },
    {
      "cell_type": "markdown",
      "source": [
        "- 시간복잡도 : 0(N^2)\n",
        "- 모든 2중 반복문의 시간 복잡도가 N^2인 것은 아님\n",
        "  - 소스코드 내부의 함수의 복잡도까지 고려해야함"
      ],
      "metadata": {
        "id": "6L9Pr4iGb8TX"
      }
    },
    {
      "cell_type": "markdown",
      "source": [
        "# 수행시간 측청"
      ],
      "metadata": {
        "id": "k0uRDftqd0ni"
      }
    },
    {
      "cell_type": "code",
      "source": [
        "import time\n",
        "start_time = time.time()\n",
        "\n",
        "end_time = time.time()\n",
        "print('Running time:', end_time - start_time)"
      ],
      "metadata": {
        "colab": {
          "base_uri": "https://localhost:8080/"
        },
        "id": "LPu39HLabaJ-",
        "outputId": "f6819761-247e-4a5a-e33c-fb8ca3d1fe9b"
      },
      "execution_count": null,
      "outputs": [
        {
          "output_type": "stream",
          "name": "stdout",
          "text": [
            "Running time: 2.7179718017578125e-05\n"
          ]
        }
      ]
    },
    {
      "cell_type": "markdown",
      "source": [
        "# 자료형"
      ],
      "metadata": {
        "id": "ZdRDL-gqeHDa"
      }
    },
    {
      "cell_type": "markdown",
      "source": [
        "## 정수형(integer)\n",
        "\n",
        "- 양의 정수, 음의 정수, 0\n",
        "- 코딩테스트에서 출제되는 많은 문제들은 주로 정수형을 다룸"
      ],
      "metadata": {
        "id": "7qIXYJx_eX76"
      }
    },
    {
      "cell_type": "code",
      "source": [
        "# 양의 정수\n",
        "a = 1000\n",
        "print(a)\n",
        "\n",
        "# 음의 정수\n",
        "a = -7\n",
        "print(a)\n",
        "\n",
        "# 0\n",
        "a = 0\n",
        "print(a)"
      ],
      "metadata": {
        "colab": {
          "base_uri": "https://localhost:8080/"
        },
        "id": "PSHruCdjbaHf",
        "outputId": "2b77bf2d-2745-4252-8ec1-d8db333d8f07"
      },
      "execution_count": null,
      "outputs": [
        {
          "output_type": "stream",
          "name": "stdout",
          "text": [
            "1000\n",
            "-7\n",
            "0\n"
          ]
        }
      ]
    },
    {
      "cell_type": "markdown",
      "source": [
        "## 실수형(Real Number)\n",
        "\n",
        "- float\n",
        "- 변수에 소수점을 붙인 수를 대입하면 실수형 변수로 처리됨"
      ],
      "metadata": {
        "id": "t2rNcc-yjL7o"
      }
    },
    {
      "cell_type": "code",
      "source": [
        "# 양의 실수\n",
        "a = 127.56\n",
        "print(a)\n",
        "\n",
        "# 음의 실수\n",
        "a = -127.99\n",
        "print(a)\n",
        "\n",
        "# 소수부가 0일 때는 0 생략 가능\n",
        "a = 408.\n",
        "print(a)\n",
        "print(type(a))\n",
        "\n",
        "# 정수부가 0일 때 0 생략 가능\n",
        "a = -.408\n",
        "print(a)\n"
      ],
      "metadata": {
        "colab": {
          "base_uri": "https://localhost:8080/"
        },
        "id": "LeLmj96EjZqJ",
        "outputId": "a3bcbbbd-23b9-45e8-f814-2569758ad919"
      },
      "execution_count": null,
      "outputs": [
        {
          "output_type": "stream",
          "name": "stdout",
          "text": [
            "127.56\n",
            "-127.99\n",
            "408.0\n",
            "<class 'float'>\n",
            "-0.408\n"
          ]
        }
      ]
    },
    {
      "cell_type": "markdown",
      "source": [
        "**지수e 표현 방식**\n",
        "\n",
        "- 유효숫자e지수\n",
        "- 1e9 = 10^9\n",
        "- 최단 경로 알고리즘에서는 도달할 수 없는 노드에 대하여 최단 거리를 inf로 설정하곤 함\n",
        "- 이 때 가능한 최댓값이 10억 미만이라면 inf 값으로 1e9를 사용할 수 있음"
      ],
      "metadata": {
        "id": "smWDhuuoiOTS"
      }
    },
    {
      "cell_type": "code",
      "source": [
        "a = 1e9\n",
        "print(a)\n",
        "\n",
        "a = 75.25e1\n",
        "print(a)\n",
        "print(type(a)) # 실수임을 알 수 있음\n",
        "print(int(a)) # 정수로 하려면 이렇게\n",
        "\n",
        "a = 345e-8\n",
        "print(a)\n",
        "\n",
        "a = 345e8\n",
        "print(a)"
      ],
      "metadata": {
        "colab": {
          "base_uri": "https://localhost:8080/"
        },
        "id": "HUzfII9jbaE4",
        "outputId": "3c117baa-7610-47fc-d91e-140237df1b0a"
      },
      "execution_count": null,
      "outputs": [
        {
          "output_type": "stream",
          "name": "stdout",
          "text": [
            "1000000000.0\n",
            "752.5\n",
            "<class 'float'>\n",
            "752\n",
            "3.45e-06\n",
            "34500000000.0\n"
          ]
        }
      ]
    },
    {
      "cell_type": "markdown",
      "source": [
        "**실수형 더 알아보기**\n",
        "- 이진수는 0.9같은 값을 실제로 표현하지 못 함\n",
        "- round 사용하기\n",
        "  - 셋째 자리에서 반올림: round(123.456, 2) = 123.46"
      ],
      "metadata": {
        "id": "5NSRM71Cksnn"
      }
    },
    {
      "cell_type": "code",
      "source": [
        "a = 0.3+0.6\n",
        "print(a) # 0.9가 아님을 알 수 있음\n",
        "\n",
        "if a == 0.9:\n",
        "    print('True')\n",
        "else: \n",
        "    print('False')"
      ],
      "metadata": {
        "colab": {
          "base_uri": "https://localhost:8080/"
        },
        "id": "Qxusl750baCO",
        "outputId": "e4fab947-8a59-48d1-9241-6f6d8ab76238"
      },
      "execution_count": null,
      "outputs": [
        {
          "output_type": "stream",
          "name": "stdout",
          "text": [
            "0.8999999999999999\n",
            "False\n"
          ]
        }
      ]
    },
    {
      "cell_type": "code",
      "source": [
        "round(a, 2) # 둘째자리에서 반올림"
      ],
      "metadata": {
        "colab": {
          "base_uri": "https://localhost:8080/"
        },
        "id": "Ci3AaNf9bZ90",
        "outputId": "8b1b9d21-c615-466e-e81a-9ce1dbbef6cd"
      },
      "execution_count": null,
      "outputs": [
        {
          "output_type": "execute_result",
          "data": {
            "text/plain": [
              "0.9"
            ]
          },
          "metadata": {},
          "execution_count": 16
        }
      ]
    },
    {
      "cell_type": "markdown",
      "source": [
        "### 수 자료형 연산\n",
        "\n",
        "- 파이썬에서 나누기 연산자(/)는 나눠진 '실수형'으로 반환함!!\n",
        "- 다양한 로직 설계할 때 나머지 연산자(%) 많이 사용됨\n",
        "  - 예시: a가 홀수인지 체크\n",
        "- 몫 연산지 (//)\n",
        "- 거듭제곱 연산자(**)"
      ],
      "metadata": {
        "id": "NSHT1J2wlUNU"
      }
    },
    {
      "cell_type": "code",
      "source": [
        "a = 6\n",
        "b = 3\n",
        "\n",
        "# 나누기\n",
        "print(a / b)\n",
        "\n",
        "# 나머지\n",
        "print(a % b)\n",
        "\n",
        "# 몫\n",
        "print(a // b)"
      ],
      "metadata": {
        "colab": {
          "base_uri": "https://localhost:8080/"
        },
        "id": "hGHX5-wgbZ7W",
        "outputId": "157a4cb5-52fa-4392-eaeb-8ddc1fc33e63"
      },
      "execution_count": null,
      "outputs": [
        {
          "output_type": "stream",
          "name": "stdout",
          "text": [
            "2.0\n",
            "0\n",
            "2\n"
          ]
        }
      ]
    },
    {
      "cell_type": "code",
      "source": [
        "# 거듭제곱\n",
        "print(a ** b)\n",
        "\n",
        "# 제곱근 (1)\n",
        "print(a ** 0.5)\n",
        "\n",
        "# 제곱근 (2): math 라이브러리 사용\n",
        "import math\n",
        "print(math.sqrt(a))\n",
        "\n",
        "# 제곱근 (3): 세제곱근\n",
        "print(a ** (1/3))"
      ],
      "metadata": {
        "colab": {
          "base_uri": "https://localhost:8080/"
        },
        "id": "0RKP4o-UbZ47",
        "outputId": "8681aa04-f620-40fa-9ca9-35a8ff229e9b"
      },
      "execution_count": null,
      "outputs": [
        {
          "output_type": "stream",
          "name": "stdout",
          "text": [
            "216\n",
            "2.449489742783178\n",
            "2.449489742783178\n",
            "1.8171205928321397\n"
          ]
        }
      ]
    },
    {
      "cell_type": "markdown",
      "source": [
        "## 리스트(List)\n",
        "\n",
        "- 여러 개의 데이터를 연속적으로 담아 처리하는 자료형\n",
        "- array랑 비슷하다고 생각하면 됨\n",
        "\n",
        "- 리스트 초기화\n",
        "  - [] 안에 원소를 넣으면 됨\n",
        "  - 비어있는 인덱스는 list() 혹은 []로 선언\n",
        "  - 리스트의 원소에 접근할 때는 index 사용. (0부터 시작)"
      ],
      "metadata": {
        "id": "cTpD1dBeUfrp"
      }
    },
    {
      "cell_type": "code",
      "source": [
        "# 데이터 직접 넣어 초기화\n",
        "a = [1, 2, 3, 4]\n",
        "print(a)\n",
        "\n",
        "# 네 번째 원소 출력\n",
        "print(a[3])\n",
        "\n",
        "# 크기가 N이고, 모든 값이 0인 1차원 리스트\n",
        "n = 10\n",
        "a = [0] * n\n",
        "print(a)"
      ],
      "metadata": {
        "colab": {
          "base_uri": "https://localhost:8080/"
        },
        "id": "6cApSDSvbZ2h",
        "outputId": "ef438cd7-f37a-48a9-fe2d-6754e5222601"
      },
      "execution_count": null,
      "outputs": [
        {
          "output_type": "stream",
          "name": "stdout",
          "text": [
            "[1, 2, 3, 4]\n",
            "4\n",
            "[0, 0, 0, 0, 0, 0, 0, 0, 0, 0]\n"
          ]
        }
      ]
    },
    {
      "cell_type": "code",
      "source": [
        "# 특정 위치 값 바꾸기\n",
        "a = [1, 2, 3, 4]\n",
        "a[2] = 7\n",
        "print(a)"
      ],
      "metadata": {
        "colab": {
          "base_uri": "https://localhost:8080/"
        },
        "id": "jS9CuWSRbZz2",
        "outputId": "960acc18-4eb6-452f-ff15-053d0ead7b40"
      },
      "execution_count": null,
      "outputs": [
        {
          "output_type": "stream",
          "name": "stdout",
          "text": [
            "[1, 2, 7, 4]\n"
          ]
        }
      ]
    },
    {
      "cell_type": "markdown",
      "source": [
        "### 리스트의 인덱싱과 슬라이싱\n",
        "\n",
        "- 연속적인 위치를 갖는 원소들을 가져와야 할 때는 슬라이싱 사용\n",
        "- 끝 인덱스는 실제 인덱스보다 1을 더 크게 설정"
      ],
      "metadata": {
        "id": "W-Ngy7k4Wdd9"
      }
    },
    {
      "cell_type": "code",
      "source": [
        "# 뒤에서 첫 번째 원소 \n",
        "print(a[-1])\n",
        "\n",
        "# 뒤에서 세 번째\n",
        "print(a[-3])\n"
      ],
      "metadata": {
        "colab": {
          "base_uri": "https://localhost:8080/"
        },
        "id": "1VxLtDsrbZxV",
        "outputId": "501a65ea-6a0d-4701-aabe-a812b5067b5a"
      },
      "execution_count": null,
      "outputs": [
        {
          "output_type": "stream",
          "name": "stdout",
          "text": [
            "4\n",
            "2\n"
          ]
        }
      ]
    },
    {
      "cell_type": "code",
      "source": [
        "# 연속적인 위치를 갖는 원소들을 가져와야 할 때는 슬라이싱 사용\n",
        "# 끝 인덱스는 실제 인덱스보다 1을 더 크게 설정\n",
        "\n",
        "# 두 번째 원소부터 세 번째 원소까지\n",
        "print(a)\n",
        "print(a[1:3])"
      ],
      "metadata": {
        "colab": {
          "base_uri": "https://localhost:8080/"
        },
        "id": "QYLpbe1cbZuw",
        "outputId": "5a5ecb5d-d549-49fd-87f2-57bf3f23b5ea"
      },
      "execution_count": null,
      "outputs": [
        {
          "output_type": "stream",
          "name": "stdout",
          "text": [
            "[1, 2, 7, 4]\n",
            "[2, 7]\n"
          ]
        }
      ]
    },
    {
      "cell_type": "markdown",
      "source": [
        "### 리스트 컴프리헨션\n",
        "\n",
        "- 리스트를 초기화 하는 방법\n",
        "  - 대괄호 안에 조건문과 반복문을 적용하여 리스트 초기화 할 수 있음"
      ],
      "metadata": {
        "id": "HdslI4diXCKp"
      }
    },
    {
      "cell_type": "code",
      "source": [
        "# 0부터 9까지의 수를 포함하는 리스트\n",
        "a = [i for i in range(10)]\n",
        "print(a)\n",
        "print(type(a))"
      ],
      "metadata": {
        "colab": {
          "base_uri": "https://localhost:8080/"
        },
        "id": "Kt5IySsyXKhj",
        "outputId": "dfca0de7-8f79-4a6b-88e4-6119927ebb10"
      },
      "execution_count": null,
      "outputs": [
        {
          "output_type": "stream",
          "name": "stdout",
          "text": [
            "[0, 1, 2, 3, 4, 5, 6, 7, 8, 9]\n",
            "<class 'list'>\n"
          ]
        }
      ]
    },
    {
      "cell_type": "code",
      "source": [
        "# 0부터 19까지 수 중에서 홀수만 포함하는 리스트\n",
        "a = [i for i in range(20) if i % 2 == 1]\n",
        "print(a)"
      ],
      "metadata": {
        "colab": {
          "base_uri": "https://localhost:8080/"
        },
        "id": "YDwGl0G_XLWT",
        "outputId": "462e2a94-6aee-46ef-8035-a08e77f02951"
      },
      "execution_count": null,
      "outputs": [
        {
          "output_type": "stream",
          "name": "stdout",
          "text": [
            "[1, 3, 5, 7, 9, 11, 13, 15, 17, 19]\n"
          ]
        }
      ]
    },
    {
      "cell_type": "code",
      "source": [
        "# 컴프리헨션 안 쓴 경우\n",
        "a = [] # 리스트 초기화\n",
        "\n",
        "for i in range(20):\n",
        "    if i % 2 == 1:\n",
        "        a.append(i)\n",
        "\n",
        "print(a)"
      ],
      "metadata": {
        "colab": {
          "base_uri": "https://localhost:8080/"
        },
        "id": "ywRp_5DeaUn2",
        "outputId": "b56fedeb-9a8d-4bd6-dfa0-1ed68d45e001"
      },
      "execution_count": null,
      "outputs": [
        {
          "output_type": "stream",
          "name": "stdout",
          "text": [
            "[1, 3, 5, 7, 9, 11, 13, 15, 17, 19]\n"
          ]
        }
      ]
    },
    {
      "cell_type": "code",
      "source": [
        "# 1부터 9까지 수들의 제곱 값을 포함하는 리스트\n",
        "a = [i**2 for i in range(1, 10)]\n",
        "print(a)"
      ],
      "metadata": {
        "colab": {
          "base_uri": "https://localhost:8080/"
        },
        "id": "btxj1h7YXLS2",
        "outputId": "34ceee30-de38-4e23-feb9-85fd1337428d"
      },
      "execution_count": null,
      "outputs": [
        {
          "output_type": "stream",
          "name": "stdout",
          "text": [
            "[1, 4, 9, 16, 25, 36, 49, 64, 81]\n"
          ]
        }
      ]
    },
    {
      "cell_type": "markdown",
      "source": [
        "- 2차원 리스트 초기화할 때 효과적으로 사용 가능\n",
        "- 특히 코딩테스트에서 n*m 크기의 2차원 리스트를 한 번에 초기화 할 때 매우 유용"
      ],
      "metadata": {
        "id": "MJdivU8waqVf"
      }
    },
    {
      "cell_type": "code",
      "source": [
        "m = 3\n",
        "n = 5\n",
        "\n",
        "array = [[0] * m for _ in range(n)] # _ 대신 알파벳 넣어도 됨~\n",
        "print(array)"
      ],
      "metadata": {
        "colab": {
          "base_uri": "https://localhost:8080/"
        },
        "id": "O3NzyI1tXLPu",
        "outputId": "2a4dcf7b-6780-4d6a-a7a4-b06ad0177aa8"
      },
      "execution_count": null,
      "outputs": [
        {
          "output_type": "stream",
          "name": "stdout",
          "text": [
            "[[0, 0, 0], [0, 0, 0], [0, 0, 0], [0, 0, 0], [0, 0, 0]]\n"
          ]
        }
      ]
    },
    {
      "cell_type": "code",
      "source": [
        "# 잘못된 예시 1\n",
        "a = [[0, 0, 0]*3]\n",
        "print(a)\n",
        "\n",
        "# 잘못된 예시 2\n",
        "a = [[0]*m]*n\n",
        "print(a)\n",
        "# 생긴 건 컴프리헨션 사용한 거랑 똑같지만 내부 값들의 id가 다 똑같이 생성됨\n",
        "# 따라서 전체 리스트 안에 포함된 각 리스트가 모두 같은 객체로 인식됨\n",
        "\n",
        "a[1] = [7]\n",
        "print(a)"
      ],
      "metadata": {
        "colab": {
          "base_uri": "https://localhost:8080/"
        },
        "id": "0dzjjxxbXLNR",
        "outputId": "a9330b15-0da6-4803-c17b-00da0e9dcc00"
      },
      "execution_count": null,
      "outputs": [
        {
          "output_type": "stream",
          "name": "stdout",
          "text": [
            "[[0, 0, 0, 0, 0, 0, 0, 0, 0]]\n",
            "[[0, 0, 0], [0, 0, 0], [0, 0, 0], [0, 0, 0], [0, 0, 0]]\n",
            "[[0, 0, 0], [7], [0, 0, 0], [0, 0, 0], [0, 0, 0]]\n"
          ]
        }
      ]
    },
    {
      "cell_type": "markdown",
      "source": [
        "- 컴프리헨션 좋은 예시"
      ],
      "metadata": {
        "id": "TQcZoEukcPya"
      }
    },
    {
      "cell_type": "code",
      "source": [
        "m = 3\n",
        "n = 4\n",
        "array = [[0] * m for _ in range(n)]\n",
        "print(array)"
      ],
      "metadata": {
        "colab": {
          "base_uri": "https://localhost:8080/"
        },
        "id": "iJUgtgNjXLKh",
        "outputId": "2f86ecef-56dd-4413-da34-baae28e41dc0"
      },
      "execution_count": null,
      "outputs": [
        {
          "output_type": "stream",
          "name": "stdout",
          "text": [
            "[[0, 0, 0], [0, 0, 0], [0, 0, 0], [0, 0, 0]]\n"
          ]
        }
      ]
    },
    {
      "cell_type": "markdown",
      "source": [
        "#### 리스트 컴프리헨션 나쁜 예시"
      ],
      "metadata": {
        "id": "vZjup_qscpKG"
      }
    },
    {
      "cell_type": "code",
      "source": [
        "array = [[0] * m ] * n\n",
        "print(array)\n",
        "# 4x3 행렬 모양은 제대로 만들어졌지만"
      ],
      "metadata": {
        "colab": {
          "base_uri": "https://localhost:8080/"
        },
        "id": "0keiZjkrXLIF",
        "outputId": "1c944b44-ce61-4598-de00-aa9d1d2f8244"
      },
      "execution_count": null,
      "outputs": [
        {
          "output_type": "stream",
          "name": "stdout",
          "text": [
            "[[0, 0, 0], [0, 0, 0], [0, 0, 0], [0, 0, 0]]\n"
          ]
        }
      ]
    },
    {
      "cell_type": "code",
      "source": [
        "array[1][1] = 5 # 2행 2열을 5로 변경\n",
        "print(array) # 2열 전부 5로 변경됨"
      ],
      "metadata": {
        "colab": {
          "base_uri": "https://localhost:8080/"
        },
        "id": "1Zt0C9oIXLFu",
        "outputId": "f23ca1bd-6ae1-46c2-fe94-26b58756ce62"
      },
      "execution_count": null,
      "outputs": [
        {
          "output_type": "stream",
          "name": "stdout",
          "text": [
            "[[0, 5, 0], [0, 5, 0], [0, 5, 0], [0, 5, 0]]\n"
          ]
        }
      ]
    },
    {
      "cell_type": "code",
      "source": [
        "array[2][0] = 7\n",
        "print(array) # 3행 1열만 바꾸려 했는데 1열 전부 다 바뀜"
      ],
      "metadata": {
        "colab": {
          "base_uri": "https://localhost:8080/"
        },
        "id": "iW-xC4ewXLDH",
        "outputId": "faf04112-768c-4720-d1c4-5ad03534261c"
      },
      "execution_count": null,
      "outputs": [
        {
          "output_type": "stream",
          "name": "stdout",
          "text": [
            "[[7, 5, 0], [7, 5, 0], [7, 5, 0], [7, 5, 0]]\n"
          ]
        }
      ]
    },
    {
      "cell_type": "markdown",
      "source": [
        "- 언더바는 언제 사용하나요?\n",
        "  - 반복문을 수행하되 반복을 위한 변수의 값을 무시하고자 할 때!! "
      ],
      "metadata": {
        "id": "7W8RqMDbdZQw"
      }
    },
    {
      "cell_type": "code",
      "source": [
        "# 1부터 9까지 자연수 더하기\n",
        "sum = 0\n",
        "for i in range(1, 10):\n",
        "    sum += i\n",
        "\n",
        "\n",
        "print(sum)"
      ],
      "metadata": {
        "colab": {
          "base_uri": "https://localhost:8080/"
        },
        "id": "T226PG81XLAP",
        "outputId": "17b012bd-3291-4c29-8942-40eb56a66f1f"
      },
      "execution_count": null,
      "outputs": [
        {
          "output_type": "stream",
          "name": "stdout",
          "text": [
            "45\n"
          ]
        }
      ]
    },
    {
      "cell_type": "code",
      "source": [
        "# Hello world! 5번 출력하기\n",
        "for _ in  range(5):\n",
        "  print(\"hellowordl!\")"
      ],
      "metadata": {
        "colab": {
          "base_uri": "https://localhost:8080/"
        },
        "id": "O-XWqniJXK-F",
        "outputId": "d7aac3f1-3089-4abc-9e9b-a5cc0bb8d4c3"
      },
      "execution_count": null,
      "outputs": [
        {
          "output_type": "stream",
          "name": "stdout",
          "text": [
            "hellowordl!\n",
            "hellowordl!\n",
            "hellowordl!\n",
            "hellowordl!\n",
            "hellowordl!\n"
          ]
        }
      ]
    },
    {
      "cell_type": "markdown",
      "source": [
        "- 리스트 관련 기타 메소드"
      ],
      "metadata": {
        "id": "3hHJhKXkJGOt"
      }
    },
    {
      "cell_type": "code",
      "source": [
        "a = [1, 2, 7]\n",
        "\n",
        "# 리스트에 원소 삽입\n",
        "a.append(2)\n",
        "print('삽입:', a)\n",
        "\n",
        "# 오름치순 정렬\n",
        "a.sort()\n",
        "print('오름차순:', a)\n",
        "\n",
        "# 내림차순 정렬\n",
        "a.sort(reverse=True)\n",
        "print('내림차순:', a)\n",
        "\n",
        "# 원소 뒤집기\n",
        "a.reverse()\n",
        "print('뒤집기:', a)\n",
        "\n",
        "# 특정 인덱스에 데이터 추가\n",
        "a.insert(2, 3)\n",
        "print('인덱스 2에 3추가:', a)\n",
        "\n",
        "# 특정 값인 데이터 개수 세기\n",
        "print(\"값이 3인 데이터 개수:\", a.count(a))\n",
        "\n",
        "# 특정 값 데이터 삭제\n",
        "a.remove(1)\n",
        "print('1인 값 삭제:', a)"
      ],
      "metadata": {
        "colab": {
          "base_uri": "https://localhost:8080/"
        },
        "id": "zrQ3OiNcXK7I",
        "outputId": "6757f00f-e4e3-4353-b847-a233b6721c4f"
      },
      "execution_count": null,
      "outputs": [
        {
          "output_type": "stream",
          "name": "stdout",
          "text": [
            "삽입: [1, 2, 7, 2]\n",
            "오름차순: [1, 2, 2, 7]\n",
            "내림차순: [7, 2, 2, 1]\n",
            "뒤집기: [1, 2, 2, 7]\n",
            "인덱스 2에 3추가: [1, 2, 3, 2, 7]\n",
            "값이 3인 데이터 개수: 0\n",
            "1인 값 삭제: [2, 3, 2, 7]\n"
          ]
        }
      ]
    },
    {
      "cell_type": "markdown",
      "source": [
        "- 리스트에서 특정 값을 가지는 원소 모두 제거"
      ],
      "metadata": {
        "id": "AHvOtqQ9KNyZ"
      }
    },
    {
      "cell_type": "code",
      "source": [
        "a = [1, 2, 3 ,4, 5, 5, 5]\n",
        "remove_set = {3, 5} # 집합 자료형\n",
        "\n",
        "# remove_set에 포함되지 않은 값만 저장\n",
        "result = [ i for i in a if i not in remove_set ]\n",
        "print(result)\n",
        "\n",
        "# remove는 단순히 원소 하나만을 지우므로 전부를 지울 땐 집합 자료형 이용해야함"
      ],
      "metadata": {
        "colab": {
          "base_uri": "https://localhost:8080/"
        },
        "id": "8Nr-KZalXK4e",
        "outputId": "7f821e73-5b82-4df6-a85c-69d167a135c3"
      },
      "execution_count": null,
      "outputs": [
        {
          "output_type": "stream",
          "name": "stdout",
          "text": [
            "[1, 2, 4]\n"
          ]
        }
      ]
    },
    {
      "cell_type": "markdown",
      "source": [
        "## 문자열 자료형\n",
        "\n",
        "- 큰 따옴표나 작은 따옴표 이용"
      ],
      "metadata": {
        "id": "47-SN3J_K-jN"
      }
    },
    {
      "cell_type": "code",
      "source": [
        "data  = 'Hello world!'\n",
        "print(data)\n",
        "\n",
        "data = \"Don't you know \\\"Python\\\"?\"\n",
        "print(data)"
      ],
      "metadata": {
        "colab": {
          "base_uri": "https://localhost:8080/"
        },
        "id": "usJEsqq7XK15",
        "outputId": "ca27980a-f806-452d-e5ec-ab04d8320ee3"
      },
      "execution_count": null,
      "outputs": [
        {
          "output_type": "stream",
          "name": "stdout",
          "text": [
            "Hello world!\n",
            "Don't you know \"Python\"?\n"
          ]
        }
      ]
    },
    {
      "cell_type": "markdown",
      "source": [
        "- 문자열 연산\n",
        "  - 덧셈을 이용하면 문자열이 concat됨\n",
        "  - 양의 정수를 곱하면 문자열이 그 값만큼 여러번 반복됨\n",
        "  - 인덱싱과 슬라이싱 가능하나, 문자열 변경은 불가능"
      ],
      "metadata": {
        "id": "gJ6kJ7rdLeS0"
      }
    },
    {
      "cell_type": "code",
      "source": [
        "a = \"Be Brave\"\n",
        "b = \"Be Humble\"\n",
        "print(a + \" \" + b)\n",
        "\n",
        "print(a * 3)\n",
        "\n",
        "print(b[1:5])"
      ],
      "metadata": {
        "colab": {
          "base_uri": "https://localhost:8080/"
        },
        "id": "lyJSOgorK0HP",
        "outputId": "0c708c12-4348-43e7-cd73-43cc66e5ea98"
      },
      "execution_count": null,
      "outputs": [
        {
          "output_type": "stream",
          "name": "stdout",
          "text": [
            "Be Brave Be Humble\n",
            "Be BraveBe BraveBe Brave\n",
            "e Hu\n"
          ]
        }
      ]
    },
    {
      "cell_type": "markdown",
      "source": [
        "## 튜플 자료형\n",
        "\n",
        "- 리스트와 유사하지만 문법적 차이가 있음\n",
        "  - 한번 선언된 값은 변경 불가능\n",
        "  - 튜플은 소괄호\n",
        "- 리스트에 비해 상대적으로 기능이 제한적이므로 '공간 효율적' (메모리 작음)"
      ],
      "metadata": {
        "id": "jqAoT-FPMN6_"
      }
    },
    {
      "cell_type": "code",
      "source": [
        "a = (1, 2, 3 ,4 ,5 ,6)\n",
        "print('네번째 원소:', a[3])\n",
        "\n",
        "print('슬라이싱:', a[1:4])"
      ],
      "metadata": {
        "colab": {
          "base_uri": "https://localhost:8080/"
        },
        "id": "7HTsKRhNK0ES",
        "outputId": "89d16dbb-ecd3-4e13-90a2-d1b4021da109"
      },
      "execution_count": null,
      "outputs": [
        {
          "output_type": "stream",
          "name": "stdout",
          "text": [
            "네번째 원소: 4\n",
            "슬라이싱: (2, 3, 4)\n"
          ]
        }
      ]
    },
    {
      "cell_type": "code",
      "source": [
        "a[2] = 7\n",
        "\n",
        "# 변환 불가능이라 오류"
      ],
      "metadata": {
        "colab": {
          "base_uri": "https://localhost:8080/",
          "height": 209
        },
        "id": "MOXdGqAYK0Bx",
        "outputId": "d423c19e-f00f-422a-a561-632904314f92"
      },
      "execution_count": null,
      "outputs": [
        {
          "output_type": "error",
          "ename": "TypeError",
          "evalue": "ignored",
          "traceback": [
            "\u001b[0;31m---------------------------------------------------------------------------\u001b[0m",
            "\u001b[0;31mTypeError\u001b[0m                                 Traceback (most recent call last)",
            "\u001b[0;32m<ipython-input-9-e6a6e41c76c7>\u001b[0m in \u001b[0;36m<module>\u001b[0;34m\u001b[0m\n\u001b[0;32m----> 1\u001b[0;31m \u001b[0ma\u001b[0m\u001b[0;34m[\u001b[0m\u001b[0;36m2\u001b[0m\u001b[0;34m]\u001b[0m \u001b[0;34m=\u001b[0m \u001b[0;36m7\u001b[0m\u001b[0;34m\u001b[0m\u001b[0;34m\u001b[0m\u001b[0m\n\u001b[0m\u001b[1;32m      2\u001b[0m \u001b[0;34m\u001b[0m\u001b[0m\n\u001b[1;32m      3\u001b[0m \u001b[0;31m# 변환 불가능이라 오류\u001b[0m\u001b[0;34m\u001b[0m\u001b[0;34m\u001b[0m\u001b[0;34m\u001b[0m\u001b[0m\n",
            "\u001b[0;31mTypeError\u001b[0m: 'tuple' object does not support item assignment"
          ]
        }
      ]
    },
    {
      "cell_type": "markdown",
      "source": [
        "### 튜플을 사용하면 좋은 경우\n",
        "- 서로 다른 성질의 데이터를 묶어서 관리할 때\n",
        "  - 최단 경로 알고리즘에서 (비용, 노드 번호)의 형태로 튜플 사용\n",
        "  - (이름, 학번) 등\n",
        "\n",
        "- 데이터의 나열을 해싱(Hashing)의 키 값으로 사용해야 할 때\n",
        "  - 튜플은 변경이 불가능하므로 리스트와 다르게 키 값으로 사용될 수 있음\n",
        "- 리스트보다 메모리 효율적으로 사용해야 할 때"
      ],
      "metadata": {
        "id": "dJqeU0L8MqFZ"
      }
    },
    {
      "cell_type": "markdown",
      "source": [
        "## 사전 자료형\n",
        "\n",
        "- key와 value의 쌍을 데이터로 가지는 자료형\n",
        "  - 앞서 다루었던 리스트나 튜플이 값을 순차적으로 저장하는 것과 대비됨\n",
        "- key:value를 쌍으로 가지며, 원하는 '변경 불가능한 자료형'을 key로 사용할 수 있음   ex.tuple!!!\n",
        "- 파이썬에서 자료형은 해시 테이블(Hash Table)을 이용하므로 '데이터 조회 및 수정에 있어서 O(1)의 시간에 처리'할 수 있음\n",
        " - 문자가 같은 키를 이용하여 데이터를 저장하고 관리할 때 리스트보다 훨씬 효율적으로 조회를 빠르게 수행함\n",
        "\n",
        "- 키 데이터만 뽑아서 리스트로 이용할 땐 keys() 함수 사용\n",
        "- 값 데이터만 뽑아서 리스트로 사용할 땐 values() 함수 사용"
      ],
      "metadata": {
        "id": "i-bvpyohNMwt"
      }
    },
    {
      "cell_type": "code",
      "source": [
        "data = dict() # dict()로 초기화\n",
        "\n",
        "data['사과'] = 'Apple'\n",
        "data['바나나'] = 'Banana'\n",
        "data['코코넛'] = 'Coconut'\n",
        "\n",
        "print(data)\n",
        "\n",
        "if '사과' in data: # 특정 키가 있는지 존재하려면 if & in 사용!!!!!!!!\n",
        "    print('\"사과\"를 키로 가지는 데이터가 존재한다')"
      ],
      "metadata": {
        "colab": {
          "base_uri": "https://localhost:8080/"
        },
        "id": "wk1SNjvbKz_L",
        "outputId": "b915c90a-6c6c-45c1-9101-97adffddc9d1"
      },
      "execution_count": null,
      "outputs": [
        {
          "output_type": "stream",
          "name": "stdout",
          "text": [
            "{'사과': 'Apple', '바나나': 'Banana', '코코넛': 'Coconut'}\n",
            "\"사과\"를 키로 가지는 데이터가 존재한다\n"
          ]
        }
      ]
    },
    {
      "cell_type": "code",
      "source": [
        "# key list\n",
        "key_list = data.keys()\n",
        "print(key_list)\n",
        "\n",
        "value_list = data.values()\n",
        "print(value_list)"
      ],
      "metadata": {
        "colab": {
          "base_uri": "https://localhost:8080/"
        },
        "id": "Z9VMoJizKz8I",
        "outputId": "1b0aa668-f695-432a-dacd-2e61fc030d76"
      },
      "execution_count": null,
      "outputs": [
        {
          "output_type": "stream",
          "name": "stdout",
          "text": [
            "dict_keys(['사과', '바나나', '코코넛'])\n",
            "dict_values(['Apple', 'Banana', 'Coconut'])\n"
          ]
        }
      ]
    },
    {
      "cell_type": "code",
      "source": [
        "list(data.keys()) # 리스트로 접근하기"
      ],
      "metadata": {
        "colab": {
          "base_uri": "https://localhost:8080/"
        },
        "id": "2b5vslzAf6RL",
        "outputId": "2b13a3b9-4a99-4626-d71a-438604c9dc45"
      },
      "execution_count": null,
      "outputs": [
        {
          "output_type": "execute_result",
          "data": {
            "text/plain": [
              "['사과', '바나나', '코코넛']"
            ]
          },
          "metadata": {},
          "execution_count": 17
        }
      ]
    },
    {
      "cell_type": "code",
      "source": [
        "# 각 키에 따른 값을 하나씩 출력\n",
        "for key in key_list :\n",
        "    print(data[key])"
      ],
      "metadata": {
        "colab": {
          "base_uri": "https://localhost:8080/"
        },
        "id": "G_G3Fse_Kz5P",
        "outputId": "f4fa3642-7cd6-4115-a805-869cb4fca35c"
      },
      "execution_count": null,
      "outputs": [
        {
          "output_type": "stream",
          "name": "stdout",
          "text": [
            "Apple\n",
            "Banana\n",
            "Coconut\n"
          ]
        }
      ]
    },
    {
      "cell_type": "markdown",
      "source": [
        "## 집합 자료형\n",
        "- 중복 허용X\n",
        "- 순서 없음\n",
        "- 리스트나 문자열을 이용하여 초기화 가능. set( [] )\n",
        "- 중괄호 안에 각 원소를 콤마로 구분하여 삽입\n",
        "\n",
        "- 집합 연산\n",
        "  - 합집합/ 교집합/ 차집합\n"
      ],
      "metadata": {
        "id": "gTTvYjANgBaR"
      }
    },
    {
      "cell_type": "code",
      "source": [
        "# 집합 자료형 초기화 방법1\n",
        "data = set([1,1,1,2,2,2,3,4,5,6,4,2,4,7,8])\n",
        "print(data)\n",
        "\n",
        "# 중복 허용 X이므로 한 번씩만 출력됨"
      ],
      "metadata": {
        "colab": {
          "base_uri": "https://localhost:8080/"
        },
        "id": "-2whGs07Kz2U",
        "outputId": "27024d28-9e80-412a-bdfd-42ffa4cc121e"
      },
      "execution_count": null,
      "outputs": [
        {
          "output_type": "stream",
          "name": "stdout",
          "text": [
            "{1, 2, 3, 4, 5, 6, 7, 8}\n"
          ]
        }
      ]
    },
    {
      "cell_type": "code",
      "source": [
        "# 집합 자료형 초기화 방법2\n",
        "data = {1,1,2,3,4,4,5}\n",
        "print(data)"
      ],
      "metadata": {
        "colab": {
          "base_uri": "https://localhost:8080/"
        },
        "id": "CnmXSNt6Kzwo",
        "outputId": "4ab34cf9-0d9d-4e06-e6c5-3643f57ce0e0"
      },
      "execution_count": null,
      "outputs": [
        {
          "output_type": "stream",
          "name": "stdout",
          "text": [
            "{1, 2, 3, 4, 5}\n"
          ]
        }
      ]
    },
    {
      "cell_type": "code",
      "source": [
        "a = set([1,2,3,4,5])\n",
        "b = set([3,4,5,3,1])\n",
        "\n",
        "# 합집합\n",
        "print(a|b)\n",
        "\n",
        "# 교집합\n",
        "print(a&b)\n",
        "\n",
        "# 차집합\n",
        "print(a-b)"
      ],
      "metadata": {
        "colab": {
          "base_uri": "https://localhost:8080/"
        },
        "id": "Iz1KBRa2Kztu",
        "outputId": "72aeaf4d-4c39-42cb-d6eb-2f7ef428630b"
      },
      "execution_count": null,
      "outputs": [
        {
          "output_type": "stream",
          "name": "stdout",
          "text": [
            "{1, 2, 3, 4, 5}\n",
            "{1, 3, 4, 5}\n",
            "{2}\n"
          ]
        }
      ]
    },
    {
      "cell_type": "code",
      "source": [
        "# 새로운 원소 추가 : add\n",
        "data.add(4)\n",
        "print(data)\n",
        "\n",
        "# 새로운 원소 여러개 추가: update\n",
        "data.update([10,11])\n",
        "print(data)\n",
        "\n",
        "# 특정한 값을 갖는 원소 삭제\n",
        "data.remove(3)\n",
        "print(data)"
      ],
      "metadata": {
        "colab": {
          "base_uri": "https://localhost:8080/"
        },
        "id": "UC1b5quCKzqp",
        "outputId": "6a4512e8-6120-4c83-d0a4-f4e7181c26d9"
      },
      "execution_count": null,
      "outputs": [
        {
          "output_type": "stream",
          "name": "stdout",
          "text": [
            "{1, 2, 3, 4, 5}\n",
            "{1, 2, 3, 4, 5, 10, 11}\n",
            "{1, 2, 4, 5, 10, 11}\n"
          ]
        }
      ]
    },
    {
      "cell_type": "markdown",
      "source": [
        "### 사전 자료형과 집합 자료형 특징\n",
        "\n",
        "1. 리스트나 튜플과 달리 순서가 없기 때문에 인덱싱으로 값 얻을 수 x\n",
        "2. 사전의 key 혹은 집합의 원소를 이용해 O(1)의 시간 복잡도"
      ],
      "metadata": {
        "id": "yY5IjlFChWKQ"
      }
    },
    {
      "cell_type": "markdown",
      "source": [
        "# 기본 입출력\n",
        "\n",
        "- input 함수는 한 줄의 문자열을 입력받는 함수\n",
        "- map함수는 리스트의 모든 원소에 각각 특정한 함수를 적용하고자 할 때 사용\n",
        "\n",
        "- 예시) 공백 기준으로 구분된 데이터 입력 받을 때\n",
        "  - list( map( int, input().split() ) )\n",
        "- 예시) 공백 기준으로 구분된 데이터 수가 많지 않다면 다음처럼 사용\n",
        "  - a, b, c = map( int, input().split() )"
      ],
      "metadata": {
        "id": "bAUPqZrZoCoW"
      }
    },
    {
      "cell_type": "markdown",
      "source": [
        "## 입력을 위한 전형적인 소스코드 1"
      ],
      "metadata": {
        "id": "yZEtBytnpG4o"
      }
    },
    {
      "cell_type": "code",
      "source": [
        "# 데이터의 개수 입력\n",
        "n = int(input())\n",
        "\n",
        "# 각 데이터를 공백 기준으로 구분하여 입력\n",
        "data = list( map( int, input().split() ))\n",
        "\n",
        "data.sort(reverse=True) # 내림차순\n",
        "print(data)"
      ],
      "metadata": {
        "id": "MXsmqFBhKzmO"
      },
      "execution_count": null,
      "outputs": []
    },
    {
      "cell_type": "code",
      "source": [
        "# 실습\n",
        "\n",
        "n = int(input()) # 데이터 수 입력\n",
        "data = input() # 데이터 값 입력\n",
        "\n",
        "print(n)\n",
        "print(data)\n"
      ],
      "metadata": {
        "colab": {
          "base_uri": "https://localhost:8080/"
        },
        "id": "dEeOM9edKzi9",
        "outputId": "004daae7-5462-44da-e257-79b8c8062713"
      },
      "execution_count": null,
      "outputs": [
        {
          "output_type": "stream",
          "name": "stdout",
          "text": [
            "5\n",
            "78 94 32 85 43\n",
            "5\n"
          ]
        }
      ]
    },
    {
      "cell_type": "code",
      "source": [
        "n = int(input())\n",
        "data = input().split() # 공백기준으로 분리하겠다\n",
        "\n",
        "print(n)\n",
        "print(data) # 공백 기준으로 문자열이 분리됨"
      ],
      "metadata": {
        "colab": {
          "base_uri": "https://localhost:8080/"
        },
        "id": "U9kcavSzKzgI",
        "outputId": "7a87c34e-b2b5-484e-c124-9446266e5348"
      },
      "execution_count": null,
      "outputs": [
        {
          "output_type": "stream",
          "name": "stdout",
          "text": [
            "5\n",
            "87 23 11 56 77\n",
            "5\n",
            "['87', '23', '11', '56', '77']\n"
          ]
        }
      ]
    },
    {
      "cell_type": "code",
      "source": [
        "# 실제 코테에선 이렇게 가장 많이 씀!!!!\n",
        "# 문제 초반부 입력 받는 부분에 이렇게 할 것~!~!\n",
        "\n",
        "n = int(input())\n",
        "data = list(map( int, input().split() )) # 정수형 함수 적용하여 리스트에 넣기\n",
        "\n",
        "print(n)\n",
        "print(data)"
      ],
      "metadata": {
        "colab": {
          "base_uri": "https://localhost:8080/"
        },
        "id": "TOgYc8sthmUE",
        "outputId": "37eb364f-0fcd-4aad-c67e-69d23e8fda75"
      },
      "execution_count": null,
      "outputs": [
        {
          "output_type": "stream",
          "name": "stdout",
          "text": [
            "5\n",
            "22 34 54 11 66\n",
            "5\n",
            "[22, 34, 54, 11, 66]\n"
          ]
        }
      ]
    },
    {
      "cell_type": "code",
      "source": [
        "# 반드시 데이터가 세개가 들어온다고 정해져있다면\n",
        "\n",
        "a, b, c = map(int, input().split()) # 언패킹 = 패킹\n",
        "print(a,b,c)"
      ],
      "metadata": {
        "colab": {
          "base_uri": "https://localhost:8080/"
        },
        "id": "KHszQ1qBhmR8",
        "outputId": "324bcae5-d6ca-4444-fa1e-11bbcf49f7d7"
      },
      "execution_count": null,
      "outputs": [
        {
          "output_type": "stream",
          "name": "stdout",
          "text": [
            "44 92 77\n",
            "44 92 77\n"
          ]
        }
      ]
    },
    {
      "cell_type": "markdown",
      "source": [
        "## 빠르게 입력 받기\n",
        "\n",
        "- 입력의 수가 많은 경우, 최대한 빠르게 받아서 씀\n",
        "  - 이진탐색, 정렬, 그래프 문제에서 씀\n",
        "- 파이썬의 경우 sys라이브러리에 정의된 sys.stdin.readline() 메서드 이용\n",
        "  - 단, 입력 후 엔터가 줄 바꿈 기호로 입력되므로 'rstrip()' 함께 써야함!!!"
      ],
      "metadata": {
        "id": "Xg3xFtWQq5p3"
      }
    },
    {
      "cell_type": "code",
      "source": [
        "import sys\n",
        "\n",
        "# 문자열 입력받기\n",
        "data = sys.stdin.readline().rstrip()\n",
        "print(data)"
      ],
      "metadata": {
        "colab": {
          "base_uri": "https://localhost:8080/"
        },
        "id": "ht_XdKAEhmPg",
        "outputId": "828134a6-6855-4db2-907f-e4d910d48760"
      },
      "execution_count": null,
      "outputs": [
        {
          "output_type": "stream",
          "name": "stdout",
          "text": [
            "\n"
          ]
        }
      ]
    },
    {
      "cell_type": "markdown",
      "source": [
        "## 출력을 위한 전형적인 소스코드"
      ],
      "metadata": {
        "id": "j8rMvMtqrb07"
      }
    },
    {
      "cell_type": "code",
      "source": [
        "a = 1\n",
        "b = 2\n",
        "print(a, b) # print 후에는 자동으로 줄바꿈 됨\n",
        "\n",
        "print(7, end=\" \") # 줄바꿈 대신 스페이스 사용하면 밑의 8과 한줄로 붙어서 공백으로 분리되어 출력됨\n",
        "print(8, end=\" \")\n",
        "\n",
        "dd = 7\n",
        "print(\"정답은 \" + str(dd) +\"입니다.\")"
      ],
      "metadata": {
        "colab": {
          "base_uri": "https://localhost:8080/"
        },
        "id": "IFcRz-M8hmMr",
        "outputId": "d8628800-25e8-48b8-b119-eeb197dcd48b"
      },
      "execution_count": null,
      "outputs": [
        {
          "output_type": "stream",
          "name": "stdout",
          "text": [
            "1 2\n",
            "7 8 정답은 7입니다.\n"
          ]
        }
      ]
    },
    {
      "cell_type": "markdown",
      "source": [
        "## f-string 예제\n",
        "\n",
        "- 문자열 앞에 f를 붙여 사용함\n",
        "- 중괄호 안에 변수명 기입하여 간단히 문자열과 정수 함께 넣을 수 있음"
      ],
      "metadata": {
        "id": "BaMECYZzsQgm"
      }
    },
    {
      "cell_type": "code",
      "source": [
        "# 문자열 앞에 f를 붙여 사용함\n",
        "\n",
        "dd = 7\n",
        "print(f\"정답은 {dd}입니다.\")"
      ],
      "metadata": {
        "colab": {
          "base_uri": "https://localhost:8080/"
        },
        "id": "9Ig1dP3bhmKQ",
        "outputId": "0f6ba38a-2658-4e0c-80c1-d22401dac23a"
      },
      "execution_count": null,
      "outputs": [
        {
          "output_type": "stream",
          "name": "stdout",
          "text": [
            "정답은 7입니다.\n"
          ]
        }
      ]
    },
    {
      "cell_type": "markdown",
      "source": [
        "# 조건문\n",
        "\n",
        "- 프로그램의 흐름을 제어"
      ],
      "metadata": {
        "id": "trRZp1gWsnjJ"
      }
    },
    {
      "cell_type": "code",
      "source": [
        "a = 5\n",
        "\n",
        "if a >= 0:\n",
        "    print(\"a>=0\")\n",
        "elif a >= -10:\n",
        "    print(\"0> a> -10\")\n",
        "else:\n",
        "    print(\"-10>a\")\n",
        "\n",
        "print(\"종료.\")"
      ],
      "metadata": {
        "colab": {
          "base_uri": "https://localhost:8080/"
        },
        "id": "8XVok-_QhmFK",
        "outputId": "de8a1166-e55d-481c-bf9b-702e46dc5991"
      },
      "execution_count": null,
      "outputs": [
        {
          "output_type": "stream",
          "name": "stdout",
          "text": [
            "a>=0\n",
            "종료.\n"
          ]
        }
      ]
    },
    {
      "cell_type": "markdown",
      "source": [
        "## 조건문 간소화\n",
        "\n",
        "- 조건문에서 실행할 소스코드가 한 줄인 경우 사용"
      ],
      "metadata": {
        "id": "fzPcaHZIz8z7"
      }
    },
    {
      "cell_type": "code",
      "source": [
        "score = 85\n",
        "\n",
        "if score >= 80: result = \"success\"\n",
        "else: result = \"fail\"\n",
        "\n",
        "print(result)"
      ],
      "metadata": {
        "colab": {
          "base_uri": "https://localhost:8080/"
        },
        "id": "neZGkLlY0Bu8",
        "outputId": "fb599130-e0cb-4796-d967-f07023e6554a"
      },
      "execution_count": null,
      "outputs": [
        {
          "output_type": "stream",
          "name": "stdout",
          "text": [
            "success\n"
          ]
        }
      ]
    },
    {
      "cell_type": "markdown",
      "source": [
        "- 조건부 표현식은 if~else 문을 한 줄에 작성할 것! "
      ],
      "metadata": {
        "id": "B_sQxYey0Spt"
      }
    },
    {
      "cell_type": "code",
      "source": [
        "score = 85\n",
        "result = \"success\" if score >= 80 else \"fail\" # if 기준 참일 때가 왼쪽 거짓일 때가 오른쪽\n",
        "\n",
        "print(result)"
      ],
      "metadata": {
        "colab": {
          "base_uri": "https://localhost:8080/"
        },
        "id": "QSjD5Fpl0Vph",
        "outputId": "3f657c93-d3c5-4e50-ab16-4cc7db098727"
      },
      "execution_count": null,
      "outputs": [
        {
          "output_type": "stream",
          "name": "stdout",
          "text": [
            "success\n"
          ]
        }
      ]
    },
    {
      "cell_type": "markdown",
      "source": [
        "# 논리 연산자\n",
        "\n",
        "- A and B\n",
        "- A or B\n",
        "- not A"
      ],
      "metadata": {
        "id": "ePkYGbjYy0iy"
      }
    },
    {
      "cell_type": "code",
      "source": [
        "a = 15\n",
        "\n",
        "if a <= 20 and a >= 0:\n",
        "    print(\"yes\")"
      ],
      "metadata": {
        "colab": {
          "base_uri": "https://localhost:8080/"
        },
        "id": "9jU2wYTyhmB0",
        "outputId": "260c97d0-b28d-4377-bfec-68351468179c"
      },
      "execution_count": null,
      "outputs": [
        {
          "output_type": "stream",
          "name": "stdout",
          "text": [
            "yes\n"
          ]
        }
      ]
    },
    {
      "cell_type": "code",
      "source": [
        "# 조건문 내부에서는 수학 부등식 사용 가능\n",
        "if 0 <= a <= 20: \n",
        "    print(\"yes\")  "
      ],
      "metadata": {
        "colab": {
          "base_uri": "https://localhost:8080/"
        },
        "id": "1HiEdkxnsnKW",
        "outputId": "2d758025-cb69-43bc-8649-2a03cb5c5bdc"
      },
      "execution_count": null,
      "outputs": [
        {
          "output_type": "stream",
          "name": "stdout",
          "text": [
            "yes\n"
          ]
        }
      ]
    },
    {
      "cell_type": "markdown",
      "source": [
        "## 기타 연산자\n",
        "- 리스트, 튜플, 문자열, 딕셔너리 모두 사용 가능\n",
        "  - x in 리스트\n",
        "  - x not in 문자열"
      ],
      "metadata": {
        "id": "LDb0t-lFzT3S"
      }
    },
    {
      "cell_type": "markdown",
      "source": [
        "## pass 키워드\n",
        "\n",
        "- 아무것도 처리하고 싶지 않을 때 사용\n",
        "- 일단 조건문 형태만 만들고 조건문 처리 과정 비우고 싶은 경우 사용"
      ],
      "metadata": {
        "id": "2NOs4dRLzc9T"
      }
    },
    {
      "cell_type": "code",
      "source": [
        "score = 85\n",
        "\n",
        "if score >= 80:\n",
        "    pass # 나중에 처리할 부분\n",
        "else:\n",
        "    print(\"a<30\")"
      ],
      "metadata": {
        "id": "uwK388ResnHk"
      },
      "execution_count": null,
      "outputs": []
    },
    {
      "cell_type": "markdown",
      "source": [
        "# 반복문\n",
        "\n",
        "- 특정한 소스코드 반복 실행\n",
        "- while, for 아무거나 사용 가능하나 보통 코테에서는 for가 더 간결함"
      ],
      "metadata": {
        "id": "LHmk1HGlz6AX"
      }
    },
    {
      "cell_type": "markdown",
      "source": [
        "## while"
      ],
      "metadata": {
        "id": "hY318nUO3LBU"
      }
    },
    {
      "cell_type": "markdown",
      "source": [
        "### 1부터 9까지 모든 정수 합 구하는 예제 "
      ],
      "metadata": {
        "id": "pbi7FMlq1aPw"
      }
    },
    {
      "cell_type": "code",
      "source": [
        "i = 1\n",
        "result = 0\n",
        "\n",
        "while i <= 9:\n",
        "    result += i\n",
        "    i += 1\n",
        "\n",
        "print(result)"
      ],
      "metadata": {
        "colab": {
          "base_uri": "https://localhost:8080/"
        },
        "id": "OrfHkYDqsnEd",
        "outputId": "b8358623-b689-4558-d875-f9819dd9e532"
      },
      "execution_count": null,
      "outputs": [
        {
          "output_type": "stream",
          "name": "stdout",
          "text": [
            "45\n"
          ]
        }
      ]
    },
    {
      "cell_type": "markdown",
      "source": [
        "### 1부터 9까지 홀수 합 구하기 "
      ],
      "metadata": {
        "id": "TLGzOPqw2TpL"
      }
    },
    {
      "cell_type": "code",
      "source": [
        "i = 1\n",
        "result = 0 \n",
        "\n",
        "while i < 10:\n",
        "    if i % 2 == 1:\n",
        "        result += i\n",
        "    i += 1\n",
        "\n",
        "print(result)"
      ],
      "metadata": {
        "colab": {
          "base_uri": "https://localhost:8080/"
        },
        "id": "UGrAw0IS2YDM",
        "outputId": "a188761f-2547-4afa-9288-90bf176f118a"
      },
      "execution_count": null,
      "outputs": [
        {
          "output_type": "stream",
          "name": "stdout",
          "text": [
            "25\n"
          ]
        }
      ]
    },
    {
      "cell_type": "markdown",
      "source": [
        "## for"
      ],
      "metadata": {
        "id": "8ek_D9Sq3Rbb"
      }
    },
    {
      "cell_type": "code",
      "source": [
        "array = [1, 23, 4, 56]\n",
        "\n",
        "for x in array:\n",
        "    print(x)"
      ],
      "metadata": {
        "colab": {
          "base_uri": "https://localhost:8080/"
        },
        "id": "g0_IRcmb3Td1",
        "outputId": "8e15ef94-5db0-417f-f547-c1a20716a332"
      },
      "execution_count": null,
      "outputs": [
        {
          "output_type": "stream",
          "name": "stdout",
          "text": [
            "1\n",
            "23\n",
            "4\n",
            "56\n"
          ]
        }
      ]
    },
    {
      "cell_type": "markdown",
      "source": [
        "## continue 키워드\n",
        "\n",
        "- 남은 코드의 실행을 건너뛰고, 다음 반복 진행할 때 사용"
      ],
      "metadata": {
        "id": "mJijhphb3zi1"
      }
    },
    {
      "cell_type": "code",
      "source": [
        "# 1부터 9까지 홀수의 합\n",
        "\n",
        "result = 0\n",
        "\n",
        "for i in range(1, 10):\n",
        "\n",
        "      if i % 2 == 0:\n",
        "          continue\n",
        "          # result -= 1\n",
        "      result += i\n",
        "\n",
        "print(result)"
      ],
      "metadata": {
        "colab": {
          "base_uri": "https://localhost:8080/"
        },
        "id": "ZgXRvsNo3TcH",
        "outputId": "2b6f859d-906c-4ed2-de39-3a7cd32823f4"
      },
      "execution_count": null,
      "outputs": [
        {
          "output_type": "stream",
          "name": "stdout",
          "text": [
            "25\n"
          ]
        }
      ]
    },
    {
      "cell_type": "markdown",
      "source": [
        "## break 키워드\n",
        "\n",
        "- 반복문 즉시 탈출"
      ],
      "metadata": {
        "id": "V8ILRm4-4i87"
      }
    },
    {
      "cell_type": "code",
      "source": [
        "# 1부터 5까지 정수 차례로 입력\n",
        "\n",
        "i = 1\n",
        "\n",
        "while True:\n",
        "    print(\"현재 i 값\", i)\n",
        "    if i >= 5:\n",
        "        break\n",
        "    i += 1"
      ],
      "metadata": {
        "colab": {
          "base_uri": "https://localhost:8080/"
        },
        "id": "SR-oaCn73TXq",
        "outputId": "05d138a6-1a9a-4e2c-b718-3a9b2d8f6e96"
      },
      "execution_count": null,
      "outputs": [
        {
          "output_type": "stream",
          "name": "stdout",
          "text": [
            "현재 i 값 1\n",
            "현재 i 값 2\n",
            "현재 i 값 3\n",
            "현재 i 값 4\n",
            "현재 i 값 5\n"
          ]
        }
      ]
    },
    {
      "cell_type": "markdown",
      "source": [
        "## 반복문 예제"
      ],
      "metadata": {
        "id": "sgHmpCcb5R_4"
      }
    },
    {
      "cell_type": "code",
      "source": [
        "# 1) 학생들의 점수가 80점 넘으면 합격\n",
        "\n",
        "score = [90, 85, 77, 65, 97]\n",
        "\n",
        "for i in score:\n",
        "    if i >= 80:\n",
        "        print(f\"{i}점 이므로 합격\")\n",
        "    else:\n",
        "        print(f\"{i}점 이므로 불합격\")"
      ],
      "metadata": {
        "colab": {
          "base_uri": "https://localhost:8080/"
        },
        "id": "txH4L99X3TSv",
        "outputId": "e97e66dd-42b1-41b7-bb31-643a4bde2f03"
      },
      "execution_count": null,
      "outputs": [
        {
          "output_type": "stream",
          "name": "stdout",
          "text": [
            "90점 이므로 합격\n",
            "85점 이므로 합격\n",
            "77점 이므로 불합격\n",
            "65점 이므로 불합격\n",
            "97점 이므로 합격\n"
          ]
        }
      ]
    },
    {
      "cell_type": "code",
      "source": [
        "aa = [print(i+1, \"번 학생 합격\") for i in range(5) if score[i]>80]"
      ],
      "metadata": {
        "colab": {
          "base_uri": "https://localhost:8080/"
        },
        "id": "B8X8VVhysnB4",
        "outputId": "5c19ce1a-f77c-4d43-cde0-2ced8058d54b"
      },
      "execution_count": null,
      "outputs": [
        {
          "output_type": "stream",
          "name": "stdout",
          "text": [
            "1 번 학생 합격\n",
            "2 번 학생 합격\n",
            "5 번 학생 합격\n"
          ]
        }
      ]
    },
    {
      "cell_type": "code",
      "source": [
        "# 2) 부정학생 제외하기\n",
        "cheating_list = {2, 4}\n",
        "\n",
        "for i in range(5):\n",
        "    if i+1 in cheating_list:\n",
        "        continue\n",
        "    if score[i] >= 80:\n",
        "        print(i+1, \"번 학생은 합격입니다\")"
      ],
      "metadata": {
        "colab": {
          "base_uri": "https://localhost:8080/"
        },
        "id": "kzyx_Uh_sm_Z",
        "outputId": "8bc1e43b-66b6-4607-ecbe-be9f900bcf6b"
      },
      "execution_count": null,
      "outputs": [
        {
          "output_type": "stream",
          "name": "stdout",
          "text": [
            "1 번 학생은 합격입니다\n",
            "5 번 학생은 합격입니다\n"
          ]
        }
      ]
    },
    {
      "cell_type": "code",
      "source": [
        "# 2) 이중포문: 구구단 예제\n",
        "\n",
        "for i in range(2, 10):\n",
        "    for j in range(1, 10):\n",
        "        print(i, '*', j, \"=\", i*j )\n",
        "    print()"
      ],
      "metadata": {
        "colab": {
          "base_uri": "https://localhost:8080/"
        },
        "id": "nVKPWkK8sm7_",
        "outputId": "b14aad15-aaef-4da0-a049-4c64d7d4df2a"
      },
      "execution_count": null,
      "outputs": [
        {
          "output_type": "stream",
          "name": "stdout",
          "text": [
            "2 * 1 = 2\n",
            "2 * 2 = 4\n",
            "2 * 3 = 6\n",
            "2 * 4 = 8\n",
            "2 * 5 = 10\n",
            "2 * 6 = 12\n",
            "2 * 7 = 14\n",
            "2 * 8 = 16\n",
            "2 * 9 = 18\n",
            "\n",
            "3 * 1 = 3\n",
            "3 * 2 = 6\n",
            "3 * 3 = 9\n",
            "3 * 4 = 12\n",
            "3 * 5 = 15\n",
            "3 * 6 = 18\n",
            "3 * 7 = 21\n",
            "3 * 8 = 24\n",
            "3 * 9 = 27\n",
            "\n",
            "4 * 1 = 4\n",
            "4 * 2 = 8\n",
            "4 * 3 = 12\n",
            "4 * 4 = 16\n",
            "4 * 5 = 20\n",
            "4 * 6 = 24\n",
            "4 * 7 = 28\n",
            "4 * 8 = 32\n",
            "4 * 9 = 36\n",
            "\n",
            "5 * 1 = 5\n",
            "5 * 2 = 10\n",
            "5 * 3 = 15\n",
            "5 * 4 = 20\n",
            "5 * 5 = 25\n",
            "5 * 6 = 30\n",
            "5 * 7 = 35\n",
            "5 * 8 = 40\n",
            "5 * 9 = 45\n",
            "\n",
            "6 * 1 = 6\n",
            "6 * 2 = 12\n",
            "6 * 3 = 18\n",
            "6 * 4 = 24\n",
            "6 * 5 = 30\n",
            "6 * 6 = 36\n",
            "6 * 7 = 42\n",
            "6 * 8 = 48\n",
            "6 * 9 = 54\n",
            "\n",
            "7 * 1 = 7\n",
            "7 * 2 = 14\n",
            "7 * 3 = 21\n",
            "7 * 4 = 28\n",
            "7 * 5 = 35\n",
            "7 * 6 = 42\n",
            "7 * 7 = 49\n",
            "7 * 8 = 56\n",
            "7 * 9 = 63\n",
            "\n",
            "8 * 1 = 8\n",
            "8 * 2 = 16\n",
            "8 * 3 = 24\n",
            "8 * 4 = 32\n",
            "8 * 5 = 40\n",
            "8 * 6 = 48\n",
            "8 * 7 = 56\n",
            "8 * 8 = 64\n",
            "8 * 9 = 72\n",
            "\n",
            "9 * 1 = 9\n",
            "9 * 2 = 18\n",
            "9 * 3 = 27\n",
            "9 * 4 = 36\n",
            "9 * 5 = 45\n",
            "9 * 6 = 54\n",
            "9 * 7 = 63\n",
            "9 * 8 = 72\n",
            "9 * 9 = 81\n",
            "\n"
          ]
        }
      ]
    },
    {
      "cell_type": "markdown",
      "source": [
        "# 함수\n",
        "\n",
        "- 매개변수: 함수 내부에서 쓸 변수\n",
        "- 반환 값: 처리된 결과 반환\n",
        "\n",
        "\n",
        "\n",
        "```\n",
        "def 함수명(매개변수):\n",
        "\n",
        "    실행할 소스코드\n",
        "    return 반환값\n",
        "```\n",
        "\n"
      ],
      "metadata": {
        "id": "6Va7CKSD7d69"
      }
    },
    {
      "cell_type": "markdown",
      "source": [
        "- 더하기 함수 예시 1)"
      ],
      "metadata": {
        "id": "2_2xQQKz8PD5"
      }
    },
    {
      "cell_type": "code",
      "source": [
        "def add(a,b):\n",
        "   return a+b\n",
        "\n",
        "print(add(3,7)) # 함수 안에 넣는 값은 arguments, 인자라고 함"
      ],
      "metadata": {
        "colab": {
          "base_uri": "https://localhost:8080/"
        },
        "id": "Zb1bePzhsm5D",
        "outputId": "c189d7a0-d251-48de-d62c-dc7b72b3f754"
      },
      "execution_count": null,
      "outputs": [
        {
          "output_type": "stream",
          "name": "stdout",
          "text": [
            "10\n"
          ]
        }
      ]
    },
    {
      "cell_type": "markdown",
      "source": [
        "- 더하기 함수 예시 2)"
      ],
      "metadata": {
        "id": "dhZywegs8WdP"
      }
    },
    {
      "cell_type": "code",
      "source": [
        "def add(a,b):\n",
        "    print('함수 결과:', a+b)\n",
        "\n",
        "add(3,6)\n",
        "# 이렇게 꼭 return이 없어도 됨"
      ],
      "metadata": {
        "colab": {
          "base_uri": "https://localhost:8080/"
        },
        "id": "z7cHUj2X7ds6",
        "outputId": "f9fc6b11-32e3-492f-b9cc-6f85c188f321"
      },
      "execution_count": null,
      "outputs": [
        {
          "output_type": "stream",
          "name": "stdout",
          "text": [
            "함수 결과: 9\n"
          ]
        }
      ]
    },
    {
      "cell_type": "markdown",
      "source": [
        "## 파라미터 지정하기"
      ],
      "metadata": {
        "id": "a1vV5urX8-vD"
      }
    },
    {
      "cell_type": "code",
      "source": [
        "def add(a,b):\n",
        "   return a+b\n",
        "\n",
        "print(add(b=3,a=7))"
      ],
      "metadata": {
        "colab": {
          "base_uri": "https://localhost:8080/"
        },
        "id": "bKHZltQL7dqE",
        "outputId": "9db1f79a-fa81-44d5-890e-bc8ff29b49b5"
      },
      "execution_count": null,
      "outputs": [
        {
          "output_type": "stream",
          "name": "stdout",
          "text": [
            "10\n"
          ]
        }
      ]
    },
    {
      "cell_type": "markdown",
      "source": [
        "## global 키워드\n",
        "\n",
        "- global 키워드로 변수를 지정하면 해당 함수에서는 지역 변수를 만들지 않고, 함수 바깥에 선언된 변수를 바로 참조함\n",
        "\n",
        "- 하지만 함수 안에 지역변수 선언하면 지역변수 우선임"
      ],
      "metadata": {
        "id": "mxW-Gx6M9NVe"
      }
    },
    {
      "cell_type": "code",
      "source": [
        "a = 0\n",
        "\n",
        "def func():\n",
        "    global a\n",
        "    a += 1\n",
        "\n",
        "for i in range(10):\n",
        "    func()\n",
        "\n",
        "print(a)"
      ],
      "metadata": {
        "id": "caKpD9c17dnS"
      },
      "execution_count": null,
      "outputs": []
    },
    {
      "cell_type": "code",
      "source": [
        "a = 10\n",
        "\n",
        "def func():\n",
        "    global a \n",
        "    a += 1 # 가져온 값을 바꾸려면 위에 global 선언해야함 \n",
        "    print(a)\n",
        "\n",
        "func()"
      ],
      "metadata": {
        "colab": {
          "base_uri": "https://localhost:8080/"
        },
        "id": "tqlxm53Y7di4",
        "outputId": "a6848693-c9e7-4ef4-b994-ac0443b912cc"
      },
      "execution_count": null,
      "outputs": [
        {
          "output_type": "stream",
          "name": "stdout",
          "text": [
            "11\n"
          ]
        }
      ]
    },
    {
      "cell_type": "code",
      "source": [
        "a = 10\n",
        "\n",
        "def func():\n",
        "    print(a) # 함수에 변환 안 할거면 선언 안 해도 됨\n",
        "\n",
        "func()"
      ],
      "metadata": {
        "colab": {
          "base_uri": "https://localhost:8080/"
        },
        "id": "Xac3qWPO7dgd",
        "outputId": "5c1befdb-dd16-4e4b-aaaa-ec91ba75d1cb"
      },
      "execution_count": null,
      "outputs": [
        {
          "output_type": "stream",
          "name": "stdout",
          "text": [
            "10\n"
          ]
        }
      ]
    },
    {
      "cell_type": "code",
      "source": [
        "array = [1,2,3,4,5] # 리스트도 전역 변수로 사용 가능\n",
        "\n",
        "def func():\n",
        "    array.append(99) # 그러나 리스트의 경우 따로 global 선언 안 해도 값 바꿀 수 있음\n",
        "    print(array)\n",
        "\n",
        "func()"
      ],
      "metadata": {
        "colab": {
          "base_uri": "https://localhost:8080/"
        },
        "id": "9W7QIg_l7ddM",
        "outputId": "60291146-8f74-4ffa-83ff-a79615fec8d0"
      },
      "execution_count": null,
      "outputs": [
        {
          "output_type": "stream",
          "name": "stdout",
          "text": [
            "[1, 2, 3, 4, 5, 99]\n"
          ]
        }
      ]
    },
    {
      "cell_type": "code",
      "source": [
        "array = [1,2,3,4,5] # 리스트도 전역 변수로 사용 가능\n",
        "\n",
        "def func():\n",
        "    global array\n",
        "    array = [3, 4, 5] # 글로벌 선언 해놓고 내부에서 값을 바꾸면\n",
        "    array.append(99) \n",
        "    print(array)\n",
        "\n",
        "func()\n",
        "print(array) # 전역변수 또한 내부에서 선언한대로 바뀜 "
      ],
      "metadata": {
        "colab": {
          "base_uri": "https://localhost:8080/"
        },
        "id": "dpclciFn-qAE",
        "outputId": "a514bc8f-ac85-4033-b0a4-c37460e598de"
      },
      "execution_count": null,
      "outputs": [
        {
          "output_type": "stream",
          "name": "stdout",
          "text": [
            "[3, 4, 5, 99]\n",
            "[3, 4, 5, 99]\n"
          ]
        }
      ]
    },
    {
      "cell_type": "markdown",
      "source": [
        "## 여러개의 반환값\n",
        "\n",
        "- 컴마로 구분지어서 반환값을 여러개 리턴할 수 있음 => 패킹"
      ],
      "metadata": {
        "id": "tJqJGLcJ_WRO"
      }
    },
    {
      "cell_type": "code",
      "source": [
        "def operator(a, b):\n",
        "    add_var = a + b\n",
        "    substract_var = a - b\n",
        "    multiply_var = a * b\n",
        "    divide_Var = a / b\n",
        "    \n",
        "    return add_var, substract_var, multiply_var, divide_Var # 패킹하여 반환\n",
        "\n",
        "print(operator(7,3))\n",
        "\n",
        "a, b, c, d = operator(7,3) # 언패킹하여 반환\n",
        "print(a, b, c, d)"
      ],
      "metadata": {
        "colab": {
          "base_uri": "https://localhost:8080/"
        },
        "id": "571aonyE-p9Y",
        "outputId": "5d4994d3-aeb8-4e85-c5ec-9d30db69fd62"
      },
      "execution_count": null,
      "outputs": [
        {
          "output_type": "stream",
          "name": "stdout",
          "text": [
            "(10, 4, 21, 2.3333333333333335)\n",
            "10 4 21 2.3333333333333335\n"
          ]
        }
      ]
    },
    {
      "cell_type": "markdown",
      "source": [
        "## 람다 표현식\n",
        "- 람다 표현식 이용하면 함수 간단 작성 가능\n",
        "- 특정한 기능을 수행하는 함수를 한 줄에 작성할 수 있음\n",
        "- 함수의 이름을 요구하지 않음\n",
        "- 매개변수를 차례로 입력하고, 콜론, 함수 \n",
        "\n",
        "- 함수 자체를 입력으로 받는 또 다른 함수에서 유용함 (내장함수)"
      ],
      "metadata": {
        "id": "-HyFDZ5VAFAA"
      }
    },
    {
      "cell_type": "code",
      "source": [
        "# 람다로 구현한 add\n",
        "\n",
        "print( (lambda a, b : a + b)(3, 7))"
      ],
      "metadata": {
        "colab": {
          "base_uri": "https://localhost:8080/"
        },
        "id": "fGtHtrHr-p7f",
        "outputId": "0e0da6ac-d527-4981-f4ef-964dd4fd3230"
      },
      "execution_count": null,
      "outputs": [
        {
          "output_type": "stream",
          "name": "stdout",
          "text": [
            "10\n"
          ]
        }
      ]
    },
    {
      "cell_type": "markdown",
      "source": [
        "- 람다 표현식 예시: 내장 함수에서 자주 사용되는 람다 함수"
      ],
      "metadata": {
        "id": "dNuvYHjaBPxK"
      }
    },
    {
      "cell_type": "code",
      "source": [
        "array = [('해찬', 00), ('도영', 96), ('재현', 97)]\n",
        "\n",
        "def my_key(x):\n",
        "    return x[1] # 두 번째 원소\n",
        "\n",
        "print(sorted(array, key = my_key)) # sorted(정렬할 리스트, 기준)\n",
        "\n",
        "print(sorted(array, key = lambda x: x[1]))"
      ],
      "metadata": {
        "colab": {
          "base_uri": "https://localhost:8080/"
        },
        "id": "te8QaWBFAkYx",
        "outputId": "5c398474-a179-433c-a139-41e8c5370f1a"
      },
      "execution_count": null,
      "outputs": [
        {
          "output_type": "stream",
          "name": "stdout",
          "text": [
            "[('해찬', 0), ('도영', 96), ('재현', 97)]\n",
            "[('해찬', 0), ('도영', 96), ('재현', 97)]\n"
          ]
        }
      ]
    },
    {
      "cell_type": "markdown",
      "source": [
        "- 람다 표현식 예시: 여러 개의 리스트에 적용"
      ],
      "metadata": {
        "id": "WHWnrlGqB-SE"
      }
    },
    {
      "cell_type": "code",
      "source": [
        "# 여러개의 리스트에 동일한 규칙 적용할 때\n",
        "list1 = [1, 2, 3, 4, 5]\n",
        "list2 = [6, 7, 8, 9, 10]\n",
        "\n",
        "# map: 각 원소에 어떤 함수 적용할 때.\n",
        "# 첫 번째 원소끼리/ 두 번째 원소 끼리,,,, 를 더한 결과를 리스트에 담을 때\n",
        "\n",
        "result = map(lambda a, b: a + b, list1, list2) # 람다함수 정의, 각 원소를 뽑아낼 리스트 정의\n",
        "\n",
        "print(list(result))\n",
        "print(result)"
      ],
      "metadata": {
        "colab": {
          "base_uri": "https://localhost:8080/"
        },
        "id": "etksQBfV-p4f",
        "outputId": "96141a36-b710-44a9-841d-9bf76e6fab6d"
      },
      "execution_count": null,
      "outputs": [
        {
          "output_type": "stream",
          "name": "stdout",
          "text": [
            "[7, 9, 11, 13, 15]\n",
            "<map object at 0x7f72225e70d0>\n"
          ]
        }
      ]
    },
    {
      "cell_type": "markdown",
      "source": [
        "# 실전에서 유용한 표준 라이브러리"
      ],
      "metadata": {
        "id": "VEm20qjgDdLW"
      }
    },
    {
      "cell_type": "markdown",
      "source": [
        "- 내장함수: 기본 입출력부터 정렬까지\n",
        "- itertools: 파이썬에서 반복되는 형태의 데이터 처리하기 위한 기능 제공\n",
        "  - 특히 순열과 조합 라이브러리는 코딩 테스트에 자주 사용됨. (모든 경우를 탐색해야 하는 경우)\n",
        "- heapq: 힙(Heap) 자료구조 제공\n",
        "  - 일반적으로 우선순위 큐 기능 구현하기 위해 사용됨. 최단 경로에 응용\n",
        "- bisect: 이진탐색 (binary search) 기능 제공\n",
        "- collections: 덱(deque), 카운터(counter) 등의 유용한 자료 구조를 포함함\n",
        "- math: 필수적인 수학 기능 제공\n",
        "  - 팩토리얼, 제곱근, 최대공약수(GCD), 삼각함수, 파이(pi)\n"
      ],
      "metadata": {
        "id": "_VYUsAD1DhkM"
      }
    },
    {
      "cell_type": "markdown",
      "source": [
        "## 내장함수"
      ],
      "metadata": {
        "id": "lneJxMPAEduV"
      }
    },
    {
      "cell_type": "code",
      "source": [
        "array = [1, 2, 3, 4, 5]\n",
        "# sum\n",
        "print(sum(array))\n",
        "\n",
        "# min, max\n",
        "print(min(array), max(array))\n",
        "\n",
        "# eval() : 수식을 계산한 결과를 수 형태로 반환\n",
        "result = eval(\"(3+5)*7\")\n",
        "print(result)"
      ],
      "metadata": {
        "colab": {
          "base_uri": "https://localhost:8080/"
        },
        "id": "M7iiem8A-p1z",
        "outputId": "aaf0d578-193e-4080-f11b-75c615d5e878"
      },
      "execution_count": null,
      "outputs": [
        {
          "output_type": "stream",
          "name": "stdout",
          "text": [
            "15\n",
            "1 5\n",
            "56\n"
          ]
        }
      ]
    },
    {
      "cell_type": "markdown",
      "source": [
        "- 새로운 정렬된 리스트를 반환하는 함수는 sorted 함수\n",
        "- 리스트 자체를 정렬 시키는 것은 sort 함수"
      ],
      "metadata": {
        "id": "PnwAMyY7For3"
      }
    },
    {
      "cell_type": "code",
      "source": [
        "# sorted\n",
        "print(sorted(array))\n",
        "print(sorted(array, reverse=True))\n",
        "\n",
        "import math\n",
        "array.sort\n",
        "print(array) # 원본 값이 바뀜\n",
        "array.sort(reverse=True)\n",
        "print(array)"
      ],
      "metadata": {
        "colab": {
          "base_uri": "https://localhost:8080/"
        },
        "id": "EzjMilQf-pzu",
        "outputId": "316f737e-348a-41f0-90da-e0706781375a"
      },
      "execution_count": null,
      "outputs": [
        {
          "output_type": "stream",
          "name": "stdout",
          "text": [
            "[1, 2, 3, 4, 5]\n",
            "[5, 4, 3, 2, 1]\n",
            "[1, 2, 3, 4, 5]\n",
            "[5, 4, 3, 2, 1]\n"
          ]
        }
      ]
    },
    {
      "cell_type": "code",
      "source": [
        "# sorted with key\n",
        "array = [('해찬', 00), ('도영', 96), ('재현', 97)]\n",
        "\n",
        "result = sorted(array, key = lambda x: x[1], reverse = True)\n",
        "print(result)"
      ],
      "metadata": {
        "colab": {
          "base_uri": "https://localhost:8080/"
        },
        "id": "wtqkDONY-pwq",
        "outputId": "47ba9654-03ac-4333-a9d3-678ba649c3c8"
      },
      "execution_count": null,
      "outputs": [
        {
          "output_type": "stream",
          "name": "stdout",
          "text": [
            "[('재현', 97), ('도영', 96), ('해찬', 0)]\n"
          ]
        }
      ]
    },
    {
      "cell_type": "markdown",
      "source": [
        "## 순열과 조합\n",
        "- 순열: nPr 일렬로 나열. 순서를 고려함\n",
        "- 조합: nCr 순서에 상관없이 서로 다른 r개 뽑기"
      ],
      "metadata": {
        "id": "SNxB7oVdGPvt"
      }
    },
    {
      "cell_type": "code",
      "source": [
        "# 순열\n",
        "\n",
        "from itertools import permutations\n",
        "\n",
        "data = ['해찬', '도영', '재현']\n",
        "\n",
        "result = list(permutations(data, 3))  # 세개 뽑아서 모든 순열 구하기\n",
        "print(result)"
      ],
      "metadata": {
        "colab": {
          "base_uri": "https://localhost:8080/"
        },
        "id": "AeCc4fmS-pt1",
        "outputId": "99094815-cc81-4860-a972-98654ab03e94"
      },
      "execution_count": null,
      "outputs": [
        {
          "output_type": "stream",
          "name": "stdout",
          "text": [
            "[('해찬', '도영', '재현'), ('해찬', '재현', '도영'), ('도영', '해찬', '재현'), ('도영', '재현', '해찬'), ('재현', '해찬', '도영'), ('재현', '도영', '해찬')]\n"
          ]
        }
      ]
    },
    {
      "cell_type": "code",
      "source": [
        "# 조합\n",
        "\n",
        "from itertools import combinations\n",
        "\n",
        "data = ['해찬', '도영', '재현']\n",
        "\n",
        "result = list(combinations(data, 2))\n",
        "print(result)"
      ],
      "metadata": {
        "colab": {
          "base_uri": "https://localhost:8080/"
        },
        "id": "dQ-rfunh-prf",
        "outputId": "43792741-defa-4010-cd49-51b70ce88d93"
      },
      "execution_count": null,
      "outputs": [
        {
          "output_type": "stream",
          "name": "stdout",
          "text": [
            "[('해찬', '도영'), ('해찬', '재현'), ('도영', '재현')]\n"
          ]
        }
      ]
    },
    {
      "cell_type": "markdown",
      "source": [
        "### 중복순열과 중복조합"
      ],
      "metadata": {
        "id": "sObBYEzxHW3g"
      }
    },
    {
      "cell_type": "code",
      "source": [
        "from itertools import product\n",
        "\n",
        "data = ['해찬', '도영', '재현']\n",
        "\n",
        "result = list(product(data, repeat=2)) # 2개 뽑는 모든 순열 구하기 (중복 허용)\n",
        "print(result)\n",
        "\n",
        "from itertools import combinations_with_replacement\n",
        "\n",
        "result = list(combinations_with_replacement(data, 2)) # 중복 허용하여 2개 뽑기\n",
        "print(result)"
      ],
      "metadata": {
        "colab": {
          "base_uri": "https://localhost:8080/"
        },
        "id": "4Ek34mD2G_XI",
        "outputId": "478b04a0-bea4-4235-d8a2-636c006fea29"
      },
      "execution_count": null,
      "outputs": [
        {
          "output_type": "stream",
          "name": "stdout",
          "text": [
            "[('해찬', '해찬'), ('해찬', '도영'), ('해찬', '재현'), ('도영', '해찬'), ('도영', '도영'), ('도영', '재현'), ('재현', '해찬'), ('재현', '도영'), ('재현', '재현')]\n",
            "[('해찬', '해찬'), ('해찬', '도영'), ('해찬', '재현'), ('도영', '도영'), ('도영', '재현'), ('재현', '재현')]\n"
          ]
        }
      ]
    },
    {
      "cell_type": "markdown",
      "source": [
        "## Counter\n",
        "\n",
        "- 각 원소의 등장 횟수를 세는 기능!!!!!!!!!!!!!!\n",
        "- 리스트와 같은 반복 가능한 객체 주어졌을 때 내부 원소가 몇 번 등장했는지 알려줌"
      ],
      "metadata": {
        "id": "NNp1Yv9lHzOx"
      }
    },
    {
      "cell_type": "code",
      "source": [
        "from collections import Counter\n",
        "\n",
        "counter = Counter(['red', 'blue', 'red', 'green', 'blue', 'blue'])\n",
        "\n",
        "print(counter['blue']) \n",
        "print(counter['green'])\n",
        "print(dict(counter)) # 사전 자료형으로 반환"
      ],
      "metadata": {
        "colab": {
          "base_uri": "https://localhost:8080/"
        },
        "id": "blE86pJWG_Un",
        "outputId": "622d5994-8a6a-40a2-f597-604eaec0172c"
      },
      "execution_count": null,
      "outputs": [
        {
          "output_type": "stream",
          "name": "stdout",
          "text": [
            "3\n",
            "1\n",
            "{'red': 2, 'blue': 3, 'green': 1}\n"
          ]
        }
      ]
    },
    {
      "cell_type": "markdown",
      "source": [
        "## 최대공약수와 최소공배수"
      ],
      "metadata": {
        "id": "JxsMwC_gNXKs"
      }
    },
    {
      "cell_type": "code",
      "source": [
        "import math\n",
        "\n",
        "# 최소공배수(LCM)\n",
        "def lcm(a, b):\n",
        "    return a * b // math.gcd(a, b) # 최소공배수 공식에 따라 최대공약수로 나눈 결과값 리턴\n",
        "  \n",
        "a = 21\n",
        "b = 14\n",
        "\n",
        "print(math.gcd(21, 14)) # 최대 공약수\n",
        "print(lcm(21, 14)) # 최소 공배수"
      ],
      "metadata": {
        "colab": {
          "base_uri": "https://localhost:8080/"
        },
        "id": "8PJiuA7cG_R8",
        "outputId": "e9a90c61-77c2-4b0a-986e-ab679a3c8236"
      },
      "execution_count": null,
      "outputs": [
        {
          "output_type": "stream",
          "name": "stdout",
          "text": [
            "7\n",
            "42\n"
          ]
        }
      ]
    },
    {
      "cell_type": "code",
      "source": [],
      "metadata": {
        "id": "eYBtP8jcG_Pn"
      },
      "execution_count": null,
      "outputs": []
    },
    {
      "cell_type": "code",
      "source": [],
      "metadata": {
        "id": "dq0pe10FG_NE"
      },
      "execution_count": null,
      "outputs": []
    },
    {
      "cell_type": "code",
      "source": [],
      "metadata": {
        "id": "-lRhCI8_G_Kp"
      },
      "execution_count": null,
      "outputs": []
    },
    {
      "cell_type": "code",
      "source": [],
      "metadata": {
        "id": "C-09yroO-pom"
      },
      "execution_count": null,
      "outputs": []
    }
  ]
}