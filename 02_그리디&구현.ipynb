git config --global core.quotepath false

{
  "nbformat": 4,
  "nbformat_minor": 0,
  "metadata": {
    "colab": {
      "provenance": [],
      "toc_visible": true,
      "collapsed_sections": [],
      "authorship_tag": "ABX9TyPR+5qxLgx2Bp1zPobcRVW8",
      "include_colab_link": true
    },
    "kernelspec": {
      "name": "python3",
      "display_name": "Python 3"
    },
    "language_info": {
      "name": "python"
    }
  },
  "cells": [
    {
      "cell_type": "markdown",
      "metadata": {
        "id": "view-in-github",
        "colab_type": "text"
      },
      "source": [
        "<a href=\"https://colab.research.google.com/github/BeBrave-BeHumble/Coding_test/blob/main/02_%EA%B7%B8%EB%A6%AC%EB%94%94%26%EA%B5%AC%ED%98%84.ipynb\" target=\"_parent\"><img src=\"https://colab.research.google.com/assets/colab-badge.svg\" alt=\"Open In Colab\"/></a>"
      ]
    },
    {
      "cell_type": "markdown",
      "source": [
        "이것이 취업을 위한 코딩 테스트다 with 파이썬(나동빈 저) 책을 기반으로 작성함"
      ],
      "metadata": {
        "id": "JFq10Pvtfadh"
      }
    },
    {
      "cell_type": "markdown",
      "source": [
        "# Greedy (탐욕법)\n",
        "\n",
        "- 현재 상황에서 지금 당장 좋은 것만 고르는 방법\n",
        "- 문제를 풀기 위한 최소한의 아이디어를 떠올릴 수 있는 능력 요구\n",
        "- 정당성 분석이 중요함\n",
        "  - 단순히 가장 좋아보이는 것을 반복적으로 선택해도 최적의 해를 구할 수 있는지 검토 필요\n",
        "  - 코딩테스트에서 대부분의 그리디 문제는 탐욕법으로 얻은 해가 최적의 해가 되는 상황에서, 이를 추론할 수 있어야 풀리도록 출제됨. 즉, 탐욕법으로 얻은 해가 최적의 해가 되는 경우만 출제함"
      ],
      "metadata": {
        "id": "mWJysk9ifesj"
      }
    },
    {
      "cell_type": "markdown",
      "source": [
        "## 예제1: 거스름돈\n",
        "\n",
        "**Q. 거스름돈이 500원, 100원, 50원, 10원짜리가 무한히 있다고 하자. 어떤 금액이 주어지든 최소의 동전 수로 거슬러 주는 코드 작성하기.**\n",
        "\n",
        "=> 가장 큰 화폐 단위부터 거슬러줄 수 있는만큼 거슬러 주면 됨. \n",
        "\n",
        "  정당성: 가지고 있는 동전 중에 큰 단위가 항상 작은 단위의 배수이므로 작은 단위의 동전을 조합해 다른 해가 나올 수 없기 때문.\n",
        "\n",
        "- 만약에 800원 거슬러 줘야하는데 화폐단위가 500, 400, 100이라면? 우리의 알고리즘으로는 500원 1개, 100원 3개가 되지만, 최적의 답은 400원짜리 2개임. 이렇듯 작은 단위가 큰 단위의 배수가 아니므로 정당성이 없어짐.\n",
        "\n",
        "  이처럼 문제 풀이를 위한 최소한의 아이디어를 떠올리고 정당성을 검토해야함"
      ],
      "metadata": {
        "id": "dlreEnCzgYcl"
      }
    },
    {
      "cell_type": "code",
      "execution_count": null,
      "metadata": {
        "colab": {
          "base_uri": "https://localhost:8080/"
        },
        "id": "8csOujMyfO0T",
        "outputId": "0bf2634b-e475-4058-cf33-0b489897a6c2"
      },
      "outputs": [
        {
          "output_type": "stream",
          "name": "stdout",
          "text": [
            "5\n"
          ]
        }
      ],
      "source": [
        "N = 1260\n",
        "count = 0\n",
        "\n",
        "coins = [500, 100, 50, 10]\n",
        "\n",
        "for coin in coins :\n",
        "\n",
        "    count += n // coin # 몫을 담음. 즉 현재 남아있는 돈을 현재 거스름돈 단위로 가장 많이 거슬러 주는 것임\n",
        "    n %= coin # 나머지 구해서 n에 대입\n",
        "\n",
        "print(count)\n"
      ]
    },
    {
      "cell_type": "markdown",
      "source": [
        "- 시간 복잡도는 O(K)임. 반복문은 화폐의 종류만큼만 돌아가기 때문임. 금액과는 무관함\n"
      ],
      "metadata": {
        "id": "0rwTgxZdiMky"
      }
    },
    {
      "cell_type": "markdown",
      "source": [
        "## 문제1: 1이 될 때까지\n",
        "\n",
        "**Q. 어떠한 수 N이 1이 될 때까지 다음의 두 과정 중 하나를 반복적을로 수행하려 함. 단, 두 번째 연산은 N이 K로 나누어 떨어질 때만 선택 가능**\n",
        "\n",
        "  1. N에서 1을 뺌\n",
        "  2. N을 K로 나눔\n",
        "\n",
        "예를들어 N이 17, K가 4라고 가정하자. 이때 최적의 해는 1번의 과정을 한 번 수행하면 16 -> 이후 2번을 두 번 수행하면 1.\n",
        "\n",
        "N과 K가 주어질 때 N이 1이 될 때까지 1번 혹은 2번의 과정을 수행해야 하는 최소 횟수를 구하는 프로그램을 작성하기.\n"
      ],
      "metadata": {
        "id": "p6PxAJH2iZWX"
      }
    },
    {
      "cell_type": "markdown",
      "source": [
        "- 입력 조건: 첫째 줄에 N(1<=N<=100,000)과 K(2<=K<=100,000)가 공백 기준으로 각각 자연수로 제시됨.\n",
        "- 출력 조건: 첫째 줄에 N이 1이 될 때까지 1번 혹은 2번의 과정을 수행해야 하는 횟수의 최소값 출력\n",
        "\n",
        "\n",
        "- 문제 해결 아이디어: 주어진 N에 대해 최대한 많이 나누기를 수행하면 됨.\n",
        "  - 정당성: N의 값을 줄일 때 2 이상의 수로 나누는 작업이 1을 빼는 작업보다 수를 훨씬 많이 줄임. 또한, 1을 계속 빼다보면 언젠간 1에 도달함"
      ],
      "metadata": {
        "id": "dStTqOZqjw9L"
      }
    },
    {
      "cell_type": "code",
      "source": [
        "# N, K를 공백 기준으로 구분하여 입력 받기\n",
        "\n",
        "n, k = map(int, input().split())\n",
        "\n",
        "result = 0 \n",
        "\n",
        "while True:\n",
        "\n",
        "    # N이 K로 나누어지는 수가 될 때까지 빼기\n",
        "    target = (n // k) * k # k가 최대 몇까지 들어갈 수 있는지 한 번에 계산 \n",
        "    result += (n - target) # -1을 몇 번 시행할 지 한번에 계산. k를 q번 나누고 나머지는 다 -1로 빼야하니까.\n",
        "    n = target # -1 시행하고 남은 값\n",
        "\n",
        "    if n < k:\n",
        "        break # 더이상 나누지 못하면 멈춤\n",
        "    # k로 나누기\n",
        "    result += 1 # k로 한 번 나눠줄 것이기 때문에 +1 해줌\n",
        "    n //= k # 나눈 몫\n",
        "\n",
        "# 이제 n이 몫의 수로 줄었음. 1만 남을 때까지 빼야하므로 n-1을 해주면 그 횟수가 계산됨.\n",
        "result += (n - 1) \n",
        "print(result)"
      ],
      "metadata": {
        "colab": {
          "base_uri": "https://localhost:8080/"
        },
        "id": "6YtdpxMEfeBH",
        "outputId": "9525091b-d761-40ff-c5fb-c15afb7570d7"
      },
      "execution_count": null,
      "outputs": [
        {
          "output_type": "stream",
          "name": "stdout",
          "text": [
            "34233 33\n",
            "58\n"
          ]
        }
      ]
    },
    {
      "cell_type": "markdown",
      "source": [
        "## 문제2: 곱하기 혹은 더하기\n",
        "\n",
        "**Q. 각 자리가 숫자 (0~9)로만 이루어진 문자열 S가 주어졌을 때, 왼쪽부터 하나씩 모든 숫자를 확인하며 숫자 사이에 'x' 혹은 '+'를 넣어 결과적으로 만들어질 수 있는 가장 큰 수를 구하는 프로그램 작성. 단, +보다 x를 먼저 계산하는 일반적인 방식과 달리, 모든 연산은 왼쪽부터 순차적으로 진행.**\n",
        "\n",
        "  예를 들어 02984라는 문자열로 만들 수 있는 가장 큰 수는 ((((0+2)x9)x8)x4)임. 또한 만들어질 수 있는 가장 큰 수는 항상 20억 이하의 정수가 되도록 입력이 주어짐.\n",
        "\n",
        "- 입력 조건: 첫째 줄에 여러 개의 숫자로 구성된 하나의 문자열 S가 주어짐. (1<=S 길이<=20)\n",
        "- 출력 조건: 첫째 줄에 만들어질 수 있는 가장 큰 수 출력해야함.\n",
        "\n",
        "\n",
        "- 문제 해결 아이디어: 대부분의 경우 +보다는 x가 값을 더 크게 함.\n",
        "\n",
        "  다만 두 수 중 하나라도 '0'이거나 '1'인 경우는 더하기.\n",
        "\n",
        "  따라서 두 수 중에 하나라도 1이하인 경우는 더하기, 아닌 경우는 곱하기\n"
      ],
      "metadata": {
        "id": "Zl7PUpmU2UxQ"
      }
    },
    {
      "cell_type": "code",
      "source": [
        "data = input()\n",
        "\n",
        "# 첫 번째 문자를 숫자로 변경하여 대입\n",
        "result = int(data[0])\n",
        "\n",
        "for i in range(1, len(data)) :\n",
        "\n",
        "    # 두 수 중 하나라도 '0' 혹은 '1'인 경우 더하기 수행\n",
        "    num = int(data[i])\n",
        "    if n <= 1 or result <= 1:\n",
        "        result += num\n",
        "    else:\n",
        "        result * num\n",
        "\n",
        "print(result)\n",
        "\n"
      ],
      "metadata": {
        "colab": {
          "base_uri": "https://localhost:8080/"
        },
        "id": "IoPyWMWkfd8R",
        "outputId": "ddab5fd1-cf29-4d2a-a6ed-d392f75133c4"
      },
      "execution_count": null,
      "outputs": [
        {
          "output_type": "stream",
          "name": "stdout",
          "text": [
            "12345\n",
            "15\n"
          ]
        }
      ]
    },
    {
      "cell_type": "markdown",
      "source": [
        "## 문제3: 모험가 길드\n",
        "\n",
        "**Q. 한 마을에 모험가 N명 있음. 모험가 길드에서는 N명을 대상으로 '공포도'를 측정했고, '공포도'가 높은 모험가는 위험 대처 능력이 떨어짐. 모험가 길드장인은 모험가 그룹을 안전하게 구성하고자 공포도가 x인 모험가는 반드시 x명 이상으로 구성한 모험가 그룹에 참여해야 여행을 떠나도록 규정함. 길드장인은 최대 몇 개의 모험가 그룹을 만들 수 있을 것인가? N명에 대한 정보가 주어졌을 때, 여행을 떠날 수 있는 그룹 수의 최댓값 구하기**\n",
        "\n",
        "  예를 들어 N=5, 공포도={2,3,1,2,2} 라고 하자. 이 경우 그룹1에 공포도가 1,2,3인 모험가를 한 명씩 넣고, 그룹2에 2인 두명을 넣으면 총 2개 그룹 만들어짐.\n",
        "\n",
        "  또한 몇 명의 모험가는 마을에 남아있어도 되기 때문에, 모든 모험가를 그룹에 넣을 필요 없음.\n",
        "\n",
        "- 입력 조건: 첫째 줄에 모험가 수 N 주어짐. (1<=S 길이<=100,000)\n",
        "    \n",
        "    둘째 줄에 각 모험가의 공포도 값을 N 이하의 자연수로 주어지며, 각 자연수는 공백으로 구분.\n",
        "- 출력 조건: 여행 떠날 수 있는 최대 그룹 수.\n",
        "\n",
        "\n",
        "- 문제 해결 아이디어: 오름차순 정렬 후 공포도가 낮은 모험가부터 확인.\n",
        "\n",
        "  앞에서부터 공포도를 확인하며 '현재 그룹에 포함된 모험가의 수'가 '현재 확인하고 있는 공포도'보다 크거나 같다면 이를 그룹으로 설정.\n",
        "\n",
        "  이러한 방법을 이용하면 공포도가 오름차순으로 정렬되어 있기 때문에 항상 최소한의 모험가만 포함하여 그룹 설정 가능함."
      ],
      "metadata": {
        "id": "4lROMn3s5DqT"
      }
    },
    {
      "cell_type": "code",
      "source": [
        "n = int(input()) # 모험가 수\n",
        "data = list(map(int, input().split())) # 공포도. 공백으로 구분\n",
        "data.sort() # 오름차순 정렬\n",
        "\n",
        "\n",
        "result = 0 # 총 그룹 수\n",
        "count = 0 # 현재 그룹에 있는 인원\n",
        "\n",
        "for i in data: # 공포도가 낮은 순으로 하나씩 확인\n",
        "\n",
        "    count += 1 # 모험가 넣기\n",
        "    if count >= i : # 공포도보다 모험가 수가 크거나 같을 때 그룹 설정이므로\n",
        "        result += 1 # 그룹 결성\n",
        "        count = 0 # 모험자 수 초기화\n",
        "\n",
        "print(result)\n"
      ],
      "metadata": {
        "colab": {
          "base_uri": "https://localhost:8080/"
        },
        "id": "4Vr0gD0bfd53",
        "outputId": "7c8e0112-07bb-4e00-d598-604068d560e4"
      },
      "execution_count": null,
      "outputs": [
        {
          "output_type": "stream",
          "name": "stdout",
          "text": [
            "5\n",
            "4 7 2 1 7\n",
            "1\n"
          ]
        }
      ]
    },
    {
      "cell_type": "markdown",
      "source": [
        "# 구현 (시뮬레이션과 완전 탐색)\n",
        "\n",
        "- 구현이란 머릿속에 있는 알고리즘을 소스코드로 바꾸는 과정\n",
        "- 풀이를 떠올리는 것은 쉽지만 소스코드로 옮기기 어려운 문제\n",
        "  - 알고리즘은 간단하지만 코드가 지나치게 긴 문제\n",
        "  - 실수 연산을 다루고, 특정 소수점 자리까지 출력하는 문제\n",
        "  - 문자열을 특정한 기준에 따라 끊어 처리해야 하는 문제\n",
        "  - 적절한 라이브러리 찾아 해결해야 하는 문제"
      ],
      "metadata": {
        "id": "uxFMz5AjFlmB"
      }
    },
    {
      "cell_type": "markdown",
      "source": [
        "- 일반적으로 알고리즘 문제에서의 2차원 공간은 matrix 의미로 사용됨\n",
        "  - 이차원 맵에 한 공간에 존재하는 캐릭터가 위치 이동\n",
        "- 시뮬레이션 문제의 경우 2차원 공간에서의 방향 벡터가 자주 활용됨\n",
        "  - 특정 위치에서 어디로 이동할 것인지.. (2,2)에서 왼쪽 한칸 이동하면 (1,2)"
      ],
      "metadata": {
        "id": "DpfdPV7vKDkU"
      }
    },
    {
      "cell_type": "markdown",
      "source": [
        "## 예제1: 상하좌우(구현)\n",
        "\n",
        "**Q. 여행가 A는 NxN 크기의 정사각형 공간 위에 있음. 이 공간은 1x1 크기의 정사각형으로 나누어져있음. left top 좌표는 (1,1)이며 right bottom 좌표는 (N,N)임. 상하좌우로 이동할 수 있으며, 시작 좌표는 항상 (1,1)임. 우리 앞에는 A가 이동할 계획이 적힌 계획서가 있음**\n",
        "\n",
        "  계획서에는 하나의 줄에 띄어쓰기를 기준으로  L, R, U, D 중 하나의 문자가 반복적으로 적혀있음.\n",
        "\n",
        "  L: 왼쪽으로 한 칸\n",
        "\n",
        "  R: 오른쪽으로 한 칸\n",
        "  \n",
        "  U: 위로 한 칸\n",
        "  \n",
        "  D: 아래로 한 칸\n",
        "\n",
        "  이 때 A가 NxN 크기의 공간을 벗어나는 움직임은 무시됨. 예를들어 (1,1)의 위치에서 L 혹은 U를 만나면 무시.\n",
        "\n",
        "- 입력 조건: 첫째 줄에 공간 크기 N 주어짐. (1<=N<=100)\n",
        "    \n",
        "    둘째 줄에 A가 이동할 계획서 주어짐. (1<=이동횟수<=100)\n",
        "- 출력 조건: 첫째 줄에 A가 최종적으로 도착할 지점의 좌표 (X,Y)를 공백 기준으로 구분하여 출력.\n",
        "\n",
        "\n",
        "- 문제 해결 아이디어: 요구사항대로 이행하면 됨.\n",
        "\n",
        "  일련의 명령에 따라 개체를 차례대로 이동시킨다는 점에서 시뮬레이션 유형으로도 분류 되며 구현이 중요한 대표적인 문제임.\n",
        "\n",
        "  시뮬레이션, 구현, 완전탐색은 유사한 점이 많고 교재 별로 구분이 다름."
      ],
      "metadata": {
        "id": "GegrP_A4O0-v"
      }
    },
    {
      "cell_type": "code",
      "source": [
        "n = int(input()) # 공간 입력받기\n",
        "plans = input().split() # 계획 입력 받기\n",
        "x, y = 1, 1 # 시작\n",
        "\n",
        "# L, R, U, D에 따른 이동 방향\n",
        "dx = [0, 0, -1, 1] # U: 행-1, D: 행+1\n",
        "dy = [-1, 1, 0, 0] # L: 열-1, R: 열+1\n",
        "move = ['L', 'R', 'U', 'D']\n",
        "\n",
        "# 이동 계획을 하나씩 확인하기\n",
        "for plan in plans:\n",
        "\n",
        "    # 이동 후 좌표 구하기\n",
        "    for i in range(len(move)):\n",
        "\n",
        "        if plan == move[i]:\n",
        "            nx = x + dx[i]\n",
        "            ny = y + dy[i]\n",
        "    # 공간 벗어나는 경우 무시\n",
        "    if nx < 1 or ny < 1 or nx > n or ny > n:\n",
        "        continue\n",
        "    # 이동\n",
        "    x, y = nx, ny\n",
        "\n",
        "print(x, y)"
      ],
      "metadata": {
        "id": "nW0A8o1ufd3R",
        "colab": {
          "base_uri": "https://localhost:8080/"
        },
        "outputId": "5045fa5b-349d-4af2-bca6-7fdd1d746bdb"
      },
      "execution_count": null,
      "outputs": [
        {
          "output_type": "stream",
          "name": "stdout",
          "text": [
            "7\n",
            "R R D D D U L R R D L\n",
            "4 3\n"
          ]
        }
      ]
    },
    {
      "cell_type": "markdown",
      "source": [
        "## 문제1: 시각\n",
        "\n",
        "**Q. 정수 N이 입력되면 00시 00분 00초부터 N시 59분 59초까지의 모든 시각 중에서 3이 하나라도 포함되는 모든 경우의 수를 구하는 프로그램 작성하기.**\n",
        "\n",
        "  예를들어 1을 입력하면,\n",
        "\n",
        "  00시 00분 03초, 00시 13분 30초 <- 3이 하나라도 포함되므로 세어야 함\n",
        "\n",
        "  반면 00시 02분 55초는 3이 하나도 없으므로 세면 안 됨\n",
        "  \n",
        "- 입력 조건: 첫째 줄에 정수 N 주어짐. (1<=N<=23)\n",
        "    \n",
        "- 출력 조건: 00시 00분 00초부터 N시 59분 59초까지 모든 시각 중에서 3이 하나라도 포함되는 모든 경우의 수 출력.\n",
        "\n",
        "\n",
        "- 문제 해결 아이디어: 가능한 모든 시각의 경우를 하나씩 모두 세서 풀 수 있는 문제임. 가능한 경우의 수를 모두 따지는 문제이므로 전형적인 '완전탐색'.\n",
        "\n",
        "  하루는 86,400초이므로 모든 경우의 수는 86,400가지임.\n",
        "\n",
        "  파이썬은 1초에 2천만번 연산 수행하므로 이정도는 금방 함.\n",
        "\n",
        "  따라서 단순히 시각을 1씩 증가시키면서 3이 하나라도 포함되어 있는지 확인하면 됨."
      ],
      "metadata": {
        "id": "9k6WVGHEWFap"
      }
    },
    {
      "cell_type": "code",
      "source": [
        "h = int(input()) # hour 입력받기\n",
        "\n",
        "count = 0\n",
        "for i in range(h + 1): # 0시부터 h시까지\n",
        "\n",
        "    for j in range(60): # 60분\n",
        "\n",
        "        for k in range(60): # 60초\n",
        "\n",
        "            # 매 시각 안에 '3'이 있으면 카운트 +1\n",
        "            if '3' in str(i) + str(j) + str(k):\n",
        "\n",
        "                count += 1\n",
        "\n",
        "print(count)"
      ],
      "metadata": {
        "id": "Ar7-Xam-fdyj",
        "colab": {
          "base_uri": "https://localhost:8080/"
        },
        "outputId": "6b27cc44-660c-4360-89cb-fdafda244a84"
      },
      "execution_count": null,
      "outputs": [
        {
          "output_type": "stream",
          "name": "stdout",
          "text": [
            "4\n",
            "9900\n"
          ]
        }
      ]
    },
    {
      "cell_type": "markdown",
      "source": [
        "## 문제2: 왕실의 나이트\n",
        "\n",
        "**Q. 왕국의 왕실 정원은 체스판과 같은 8x8 좌표평면. 왕실 정원의 특정한 한 칸에 나이트가 서있음. 나이트는 L자 형태로만 이동 가능하며 정원 밖으로 나갈 수 없음. 나이트가 이동 가능한 방식은 아래 두 가지.**\n",
        "\n",
        "  1. 수평으로 두 칸 이동한 뒤에 수직으로 한 칸 이동\n",
        "  2. 수직으로 두 칸 이동한 뒤에 수평으로 한 칸 이동\n",
        "\n",
        "**8x8 좌표 평면상에서 나이트의 위치가 주어졌을 때 나이트가 이동할 수 있는 경우의 수를 출력하기. 행 위치를 표현할 때는 1부터 8로 표현하며, 열 위치는 a부터 h로 표현함.** \n",
        "\n",
        "- 입력 조건: 첫째 줄에 8x8 좌표 평면상에서 현재 나이트가 위치한 곳의 좌표를 나타내는 두 문자로 구성된 문자열 입력됨. 입력문자는 a1처럼 열과 행으로 이루어짐. \n",
        "    \n",
        "- 출력 조건: 첫째 줄에 나이트가 이동할 수 있는 경우의 수 출력.\n",
        "\n",
        "\n",
        "- 문제 해결 아이디어: 요구사항대로 구현하면 되는 문제. 나이트의 8가지 경로를 확인하며 각 위치로 이동 가능한지 확인.\n",
        "\n",
        "  리스트를 이용하여 8가지 방향에 대한 벡터 정의하기."
      ],
      "metadata": {
        "id": "VZAouqtsca6M"
      }
    },
    {
      "cell_type": "code",
      "source": [
        "# 현재 나이트의 위치 입력받기\n",
        "locat = input() # a1 <- 1:행 a:열. 아마 알파벳이 먼저 나오게 하려고 '열행'으로 넣는듯\n",
        "row = int(locat[1]) # 행 요소인 두 번째 위치\n",
        "col = int(ord(locat[0])) - int(ord('a')) + 1 # 아스키 코드로 변경하고 좌표는 (1,1)부터 시작이므로 +1 해줌. 만약 a이면 0 되어버리니까\n",
        "\n",
        "# 나이트가 이동할 8가지 방향 정의\n",
        "steps = [(-2, -1), (-1, -2), (1, -2), (1, 2), (2, -1), (2, 1), (-2, 1)] # dx dy로 표현할 수도 있지만 이렇게도 가능함\n",
        "\n",
        "# 8가지 방향에 대해 위치로 이동 가능한지 확인\n",
        "result = 0\n",
        "for step in steps:\n",
        "\n",
        "    # 이동하려는 위치 확인\n",
        "    next_row = row + step[0]\n",
        "    next_col = col + step[1]\n",
        "\n",
        "    # 해당 위치로 이동 가능하면 카운트 증가\n",
        "    if next_row >= 1 and next_row <= 8 and next_col >= 1 and next_col <= 8:\n",
        "        result += 1\n",
        "      \n",
        "print(result)\n"
      ],
      "metadata": {
        "id": "5ud6EEFtfdwN",
        "colab": {
          "base_uri": "https://localhost:8080/"
        },
        "outputId": "f3dfa9fd-a36d-46f1-8544-0a382f29f258"
      },
      "execution_count": null,
      "outputs": [
        {
          "output_type": "stream",
          "name": "stdout",
          "text": [
            "a2 b7 c5 c3 d2 a1\n",
            "2\n"
          ]
        }
      ]
    },
    {
      "cell_type": "code",
      "source": [
        "int(ord('b'))"
      ],
      "metadata": {
        "id": "dOlcn6yYfdt_",
        "colab": {
          "base_uri": "https://localhost:8080/"
        },
        "outputId": "e5311d8e-a7af-47bb-e546-5708d052aaa2"
      },
      "execution_count": null,
      "outputs": [
        {
          "output_type": "execute_result",
          "data": {
            "text/plain": [
              "98"
            ]
          },
          "metadata": {},
          "execution_count": 23
        }
      ]
    },
    {
      "cell_type": "code",
      "source": [
        "print(int(ord('a')))\n",
        "print(int(ord('b')) - int(ord('a')))"
      ],
      "metadata": {
        "id": "WW1IA5Zpfdrh",
        "colab": {
          "base_uri": "https://localhost:8080/"
        },
        "outputId": "4899f796-2eb3-4549-cb89-4db30446346f"
      },
      "execution_count": null,
      "outputs": [
        {
          "output_type": "stream",
          "name": "stdout",
          "text": [
            "1\n"
          ]
        }
      ]
    },
    {
      "cell_type": "markdown",
      "source": [
        "## 문제3: 문자열 재정렬\n",
        "\n",
        "**Q. 알파벳 대문자와 숫자(0~9)로만 구성된 문자열이 입력으로 주어짐. 이때 모든 알파벳을 오름차순으로 정리하여 출력한 뒤, 숫자를 더한 값을 붙여서 출력**\n",
        "\n",
        "  예를들어 K1KA5CB7이 들어오면 ABCKK13 출력\n",
        "  \n",
        "\n",
        "- 입력 조건: 첫째 줄에 하나의 문자열 S 주어짐 (1<=S<=10,000)\n",
        "    \n",
        "- 출력 조건: 첫째 줄에 문제에서 요하는 정답 출력\n",
        "\n",
        "\n",
        "- 문제 해결 아이디어: 요구사항대로 구현하면 되는 문제. 문자열이 입력되었을 때 문자를 하나씩 확인.\n",
        "  - 숫자인 경우 따로 합계 계산\n",
        "  - 문자는 별도 리스트로 저장\n",
        "\n",
        "  리스트에 지정된 알파벳 출력 후 붙여서 숫자 출력하면 됨."
      ],
      "metadata": {
        "id": "FI-eZvNTAUCQ"
      }
    },
    {
      "cell_type": "code",
      "source": [
        "data = input()\n",
        "result = [] # 문자열 담을 리스트\n",
        "value = 0 # 합계 변수 초기화\n",
        "\n",
        "# 문자 하나씩 확인하며\n",
        "for x in data:\n",
        "\n",
        "    # 알파벳이면 결과 리스트에 삽입\n",
        "    if x.isalpha():\n",
        "        result.append(x)\n",
        "    # 숫자 합계\n",
        "    else:\n",
        "        value += int(x)\n",
        "\n",
        "# 알파벳 정렬\n",
        "result.sort()\n",
        "\n",
        "# 숫자가 하나라도 존재하면 가장 뒤에 삽입\n",
        "if value != 0:\n",
        "    result.append(str(value)) # 문자형으로 바꿔서 삽입할 것\n",
        "\n",
        "# 최종 결과 출력 (리스트를 문자열로 변환하여 출력)\n",
        "print(''.join(result))"
      ],
      "metadata": {
        "colab": {
          "base_uri": "https://localhost:8080/"
        },
        "id": "-3cIueBvV-Kn",
        "outputId": "d6eb8ca1-47c6-4306-a4b1-959cf1fa282f"
      },
      "execution_count": null,
      "outputs": [
        {
          "output_type": "stream",
          "name": "stdout",
          "text": [
            "DD7S67S5273V7X6Z\n",
            "DDSSVXZ50\n"
          ]
        }
      ]
    }
  ]
}
