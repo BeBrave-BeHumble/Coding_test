{
  "nbformat": 4,
  "nbformat_minor": 0,
  "metadata": {
    "colab": {
      "provenance": [],
      "collapsed_sections": [],
      "toc_visible": true,
      "authorship_tag": "ABX9TyNVn+i8OS150zYIesyS5hkr",
      "include_colab_link": true
    },
    "kernelspec": {
      "name": "python3",
      "display_name": "Python 3"
    },
    "language_info": {
      "name": "python"
    }
  },
  "cells": [
    {
      "cell_type": "markdown",
      "metadata": {
        "id": "view-in-github",
        "colab_type": "text"
      },
      "source": [
        "<a href=\"https://colab.research.google.com/github/BeBrave-BeHumble/Coding_test/blob/main/%EB%A8%B8%EC%8B%A0%EB%9F%AC%EB%8B%9D_%ED%94%84%EB%A1%9C%EC%84%B8%EC%8A%A4_A_to_Z.ipynb\" target=\"_parent\"><img src=\"https://colab.research.google.com/assets/colab-badge.svg\" alt=\"Open In Colab\"/></a>"
      ]
    },
    {
      "cell_type": "markdown",
      "source": [
        "# 머신러닝 프로세스 A to Z\n"
      ],
      "metadata": {
        "id": "qnXo0qDyyn5V"
      }
    },
    {
      "cell_type": "markdown",
      "source": [
        "## section1. 머신러닝 프로세스\n",
        "\n",
        "- Data set 분할\n",
        "  - training:validation:test = 70-90 : 10-20 : 10-20\n",
        "  - validation set 없이 학습데이터와 테스트 데이터로 진행하는 경우가 많음 => 8:2\n",
        "  - 학습 데이터를 그룹으로 나누어서 cross validation하는 경우도 많이 사용됨\n",
        "- 데이터 전처리\n",
        "  - feature 표준화/정규화 (MinMaxScaler, StandardScaler)\n",
        "    - 정규화: feature들의 단위가 다르기 때문에 생기는 문제 해결하기 위해 단위 통일\n",
        "  - 범주형 변수 더미화 (One-Hot or multinomial) <= 데이터 분할 전에 할 것!!\n",
        "  - 고차원의 경우 PCA 방법 등으로 차원 축소\n",
        "- 모델 적용\n",
        "  - regression/classification/Unsupervised 등 알고리즘으로 학습\n",
        "    - 대부분의 알고리즘은 회귀, 분류에 모두 가능하지만 로지스틱처럼 분류에만 적합하거나 릿지, 라소, 엘라스틱넷과 같이 회귀에 적합한 경우도 있음\n",
        "    - 여러 알고리즘 병합한 emsemble 고려해보기\n",
        "  - 학습된 모델에 검증 데이터로 평가\n",
        "  - 정확도, overfitting/underfitting 체크\n",
        "    - 분류모델: confusion matrix\n",
        "    - 회귀모델: R^2, RMSE\n",
        "  - 하이퍼 파라미터 조장 통한 최적 모델 결정\n",
        "    - Grid search: 분석자가 몇 가지 임의의 파라미터 설정하여 그 결과 중 가장 좋은 모델평가지표 선정\n",
        "    - Random search: 분석자가 설정한 일정 범위 이내에 무작위로 하이퍼 파라미터 뽑아서 최적 결과 도출\n",
        "- Hyper parameters 탐색 및 결정\n",
        "  - 최종 분류기에서 검증셋은 사용하지 않는 것이 좋음\n",
        "  - 최종 모델을 test set에 대해 성능 평가\n",
        "  - test set에 대한 정확도 제시\n"
      ],
      "metadata": {
        "id": "A8WB7jVClSqy"
      }
    },
    {
      "cell_type": "markdown",
      "source": [
        "## section2. 데이터셋 분할과 모델 검증"
      ],
      "metadata": {
        "id": "F5KYY0QiwZMI"
      }
    },
    {
      "cell_type": "markdown",
      "source": [
        "### 구글 드라이브 마운트해서 데이터 가져오기\n",
        "\n",
        "(colab 환경이 아닌 분들은 필요없는 과정입니다!)"
      ],
      "metadata": {
        "id": "LUZHEvugw0mF"
      }
    },
    {
      "cell_type": "code",
      "source": [
        "from google.colab import drive\n",
        "\n",
        "drive.mount('/content/gdrive/')"
      ],
      "metadata": {
        "colab": {
          "base_uri": "https://localhost:8080/"
        },
        "id": "nSJZWbkCw4rn",
        "outputId": "c628e6bd-fa18-4bb4-ea2c-b2815428a6f5"
      },
      "execution_count": null,
      "outputs": [
        {
          "output_type": "stream",
          "name": "stdout",
          "text": [
            "Mounted at /content/gdrive/\n"
          ]
        }
      ]
    },
    {
      "cell_type": "code",
      "source": [
        "import shutil\n",
        "import os\n",
        "\n",
        "try:\n",
        "    dataset_path = '/content/gdrive/MyDrive/CodingTest/data_science/data_수정본'\n",
        "\n",
        "    shutil.copy(os.path.join(dataset_path, 'Fvote.csv'), '/content')\n",
        "\n",
        "except Exception as err:\n",
        "    print(str(err))"
      ],
      "metadata": {
        "id": "AToIw3Hnw9-4"
      },
      "execution_count": null,
      "outputs": []
    },
    {
      "cell_type": "code",
      "execution_count": null,
      "metadata": {
        "colab": {
          "base_uri": "https://localhost:8080/",
          "height": 270
        },
        "id": "nqmQHoH6lGly",
        "outputId": "7e056868-97cb-4deb-b81d-ffefdb1515f6"
      },
      "outputs": [
        {
          "output_type": "execute_result",
          "data": {
            "text/plain": [
              "   gender_female  gender_male  region_Chungcheung  region_Honam  \\\n",
              "0              0            1                   0             0   \n",
              "1              0            1                   0             0   \n",
              "2              0            1                   0             1   \n",
              "3              1            0                   0             0   \n",
              "4              0            1                   0             0   \n",
              "\n",
              "   region_Others  region_Sudo  region_Youngnam  edu  income  age  score_gov  \\\n",
              "0              0            0                1    3       3    3          2   \n",
              "1              1            0                0    2       3    3          2   \n",
              "2              0            0                0    1       2    4          1   \n",
              "3              0            1                0    2       1    3          5   \n",
              "4              0            1                0    1       2    4          4   \n",
              "\n",
              "   score_progress  score_intention  vote  parties  \n",
              "0               2              4.0     1        2  \n",
              "1               4              3.0     0        3  \n",
              "2               3              2.8     1        4  \n",
              "3               4              2.6     1        1  \n",
              "4               3              2.4     1        1  "
            ],
            "text/html": [
              "\n",
              "  <div id=\"df-a5d81b57-b4a2-4b79-9412-b5e14ed2e26c\">\n",
              "    <div class=\"colab-df-container\">\n",
              "      <div>\n",
              "<style scoped>\n",
              "    .dataframe tbody tr th:only-of-type {\n",
              "        vertical-align: middle;\n",
              "    }\n",
              "\n",
              "    .dataframe tbody tr th {\n",
              "        vertical-align: top;\n",
              "    }\n",
              "\n",
              "    .dataframe thead th {\n",
              "        text-align: right;\n",
              "    }\n",
              "</style>\n",
              "<table border=\"1\" class=\"dataframe\">\n",
              "  <thead>\n",
              "    <tr style=\"text-align: right;\">\n",
              "      <th></th>\n",
              "      <th>gender_female</th>\n",
              "      <th>gender_male</th>\n",
              "      <th>region_Chungcheung</th>\n",
              "      <th>region_Honam</th>\n",
              "      <th>region_Others</th>\n",
              "      <th>region_Sudo</th>\n",
              "      <th>region_Youngnam</th>\n",
              "      <th>edu</th>\n",
              "      <th>income</th>\n",
              "      <th>age</th>\n",
              "      <th>score_gov</th>\n",
              "      <th>score_progress</th>\n",
              "      <th>score_intention</th>\n",
              "      <th>vote</th>\n",
              "      <th>parties</th>\n",
              "    </tr>\n",
              "  </thead>\n",
              "  <tbody>\n",
              "    <tr>\n",
              "      <th>0</th>\n",
              "      <td>0</td>\n",
              "      <td>1</td>\n",
              "      <td>0</td>\n",
              "      <td>0</td>\n",
              "      <td>0</td>\n",
              "      <td>0</td>\n",
              "      <td>1</td>\n",
              "      <td>3</td>\n",
              "      <td>3</td>\n",
              "      <td>3</td>\n",
              "      <td>2</td>\n",
              "      <td>2</td>\n",
              "      <td>4.0</td>\n",
              "      <td>1</td>\n",
              "      <td>2</td>\n",
              "    </tr>\n",
              "    <tr>\n",
              "      <th>1</th>\n",
              "      <td>0</td>\n",
              "      <td>1</td>\n",
              "      <td>0</td>\n",
              "      <td>0</td>\n",
              "      <td>1</td>\n",
              "      <td>0</td>\n",
              "      <td>0</td>\n",
              "      <td>2</td>\n",
              "      <td>3</td>\n",
              "      <td>3</td>\n",
              "      <td>2</td>\n",
              "      <td>4</td>\n",
              "      <td>3.0</td>\n",
              "      <td>0</td>\n",
              "      <td>3</td>\n",
              "    </tr>\n",
              "    <tr>\n",
              "      <th>2</th>\n",
              "      <td>0</td>\n",
              "      <td>1</td>\n",
              "      <td>0</td>\n",
              "      <td>1</td>\n",
              "      <td>0</td>\n",
              "      <td>0</td>\n",
              "      <td>0</td>\n",
              "      <td>1</td>\n",
              "      <td>2</td>\n",
              "      <td>4</td>\n",
              "      <td>1</td>\n",
              "      <td>3</td>\n",
              "      <td>2.8</td>\n",
              "      <td>1</td>\n",
              "      <td>4</td>\n",
              "    </tr>\n",
              "    <tr>\n",
              "      <th>3</th>\n",
              "      <td>1</td>\n",
              "      <td>0</td>\n",
              "      <td>0</td>\n",
              "      <td>0</td>\n",
              "      <td>0</td>\n",
              "      <td>1</td>\n",
              "      <td>0</td>\n",
              "      <td>2</td>\n",
              "      <td>1</td>\n",
              "      <td>3</td>\n",
              "      <td>5</td>\n",
              "      <td>4</td>\n",
              "      <td>2.6</td>\n",
              "      <td>1</td>\n",
              "      <td>1</td>\n",
              "    </tr>\n",
              "    <tr>\n",
              "      <th>4</th>\n",
              "      <td>0</td>\n",
              "      <td>1</td>\n",
              "      <td>0</td>\n",
              "      <td>0</td>\n",
              "      <td>0</td>\n",
              "      <td>1</td>\n",
              "      <td>0</td>\n",
              "      <td>1</td>\n",
              "      <td>2</td>\n",
              "      <td>4</td>\n",
              "      <td>4</td>\n",
              "      <td>3</td>\n",
              "      <td>2.4</td>\n",
              "      <td>1</td>\n",
              "      <td>1</td>\n",
              "    </tr>\n",
              "  </tbody>\n",
              "</table>\n",
              "</div>\n",
              "      <button class=\"colab-df-convert\" onclick=\"convertToInteractive('df-a5d81b57-b4a2-4b79-9412-b5e14ed2e26c')\"\n",
              "              title=\"Convert this dataframe to an interactive table.\"\n",
              "              style=\"display:none;\">\n",
              "        \n",
              "  <svg xmlns=\"http://www.w3.org/2000/svg\" height=\"24px\"viewBox=\"0 0 24 24\"\n",
              "       width=\"24px\">\n",
              "    <path d=\"M0 0h24v24H0V0z\" fill=\"none\"/>\n",
              "    <path d=\"M18.56 5.44l.94 2.06.94-2.06 2.06-.94-2.06-.94-.94-2.06-.94 2.06-2.06.94zm-11 1L8.5 8.5l.94-2.06 2.06-.94-2.06-.94L8.5 2.5l-.94 2.06-2.06.94zm10 10l.94 2.06.94-2.06 2.06-.94-2.06-.94-.94-2.06-.94 2.06-2.06.94z\"/><path d=\"M17.41 7.96l-1.37-1.37c-.4-.4-.92-.59-1.43-.59-.52 0-1.04.2-1.43.59L10.3 9.45l-7.72 7.72c-.78.78-.78 2.05 0 2.83L4 21.41c.39.39.9.59 1.41.59.51 0 1.02-.2 1.41-.59l7.78-7.78 2.81-2.81c.8-.78.8-2.07 0-2.86zM5.41 20L4 18.59l7.72-7.72 1.47 1.35L5.41 20z\"/>\n",
              "  </svg>\n",
              "      </button>\n",
              "      \n",
              "  <style>\n",
              "    .colab-df-container {\n",
              "      display:flex;\n",
              "      flex-wrap:wrap;\n",
              "      gap: 12px;\n",
              "    }\n",
              "\n",
              "    .colab-df-convert {\n",
              "      background-color: #E8F0FE;\n",
              "      border: none;\n",
              "      border-radius: 50%;\n",
              "      cursor: pointer;\n",
              "      display: none;\n",
              "      fill: #1967D2;\n",
              "      height: 32px;\n",
              "      padding: 0 0 0 0;\n",
              "      width: 32px;\n",
              "    }\n",
              "\n",
              "    .colab-df-convert:hover {\n",
              "      background-color: #E2EBFA;\n",
              "      box-shadow: 0px 1px 2px rgba(60, 64, 67, 0.3), 0px 1px 3px 1px rgba(60, 64, 67, 0.15);\n",
              "      fill: #174EA6;\n",
              "    }\n",
              "\n",
              "    [theme=dark] .colab-df-convert {\n",
              "      background-color: #3B4455;\n",
              "      fill: #D2E3FC;\n",
              "    }\n",
              "\n",
              "    [theme=dark] .colab-df-convert:hover {\n",
              "      background-color: #434B5C;\n",
              "      box-shadow: 0px 1px 3px 1px rgba(0, 0, 0, 0.15);\n",
              "      filter: drop-shadow(0px 1px 2px rgba(0, 0, 0, 0.3));\n",
              "      fill: #FFFFFF;\n",
              "    }\n",
              "  </style>\n",
              "\n",
              "      <script>\n",
              "        const buttonEl =\n",
              "          document.querySelector('#df-a5d81b57-b4a2-4b79-9412-b5e14ed2e26c button.colab-df-convert');\n",
              "        buttonEl.style.display =\n",
              "          google.colab.kernel.accessAllowed ? 'block' : 'none';\n",
              "\n",
              "        async function convertToInteractive(key) {\n",
              "          const element = document.querySelector('#df-a5d81b57-b4a2-4b79-9412-b5e14ed2e26c');\n",
              "          const dataTable =\n",
              "            await google.colab.kernel.invokeFunction('convertToInteractive',\n",
              "                                                     [key], {});\n",
              "          if (!dataTable) return;\n",
              "\n",
              "          const docLinkHtml = 'Like what you see? Visit the ' +\n",
              "            '<a target=\"_blank\" href=https://colab.research.google.com/notebooks/data_table.ipynb>data table notebook</a>'\n",
              "            + ' to learn more about interactive tables.';\n",
              "          element.innerHTML = '';\n",
              "          dataTable['output_type'] = 'display_data';\n",
              "          await google.colab.output.renderOutput(dataTable, element);\n",
              "          const docLink = document.createElement('div');\n",
              "          docLink.innerHTML = docLinkHtml;\n",
              "          element.appendChild(docLink);\n",
              "        }\n",
              "      </script>\n",
              "    </div>\n",
              "  </div>\n",
              "  "
            ]
          },
          "metadata": {},
          "execution_count": 3
        }
      ],
      "source": [
        "# 분석 결과 외에 다른 것 출력 안 하는 옵션인데 할 필요 없음  나도 잘 안 함..\n",
        "import warnings \n",
        "warnings.filterwarnings(\"ignore\")\n",
        "\n",
        "\n",
        "import pandas as pd\n",
        "\n",
        "data = pd.read_csv(\"Fvote.csv\", encoding = \"utf-8\")\n",
        "data.head()"
      ]
    },
    {
      "cell_type": "code",
      "source": [
        "# 데이터 확인\n",
        "\n",
        "print(data.describe().T)"
      ],
      "metadata": {
        "colab": {
          "base_uri": "https://localhost:8080/"
        },
        "id": "sHNRf3anG8kl",
        "outputId": "b1a84360-1e61-40f1-d5b8-f671951a6f26"
      },
      "execution_count": null,
      "outputs": [
        {
          "output_type": "stream",
          "name": "stdout",
          "text": [
            "                    count      mean       std  min  25%  50%  75%  max\n",
            "gender_female       211.0  0.341232  0.475251  0.0  0.0  0.0  1.0  1.0\n",
            "gender_male         211.0  0.658768  0.475251  0.0  0.0  1.0  1.0  1.0\n",
            "region_Chungcheung  211.0  0.080569  0.272819  0.0  0.0  0.0  0.0  1.0\n",
            "region_Honam        211.0  0.090047  0.286930  0.0  0.0  0.0  0.0  1.0\n",
            "region_Others       211.0  0.094787  0.293617  0.0  0.0  0.0  0.0  1.0\n",
            "region_Sudo         211.0  0.597156  0.491636  0.0  0.0  1.0  1.0  1.0\n",
            "region_Youngnam     211.0  0.137441  0.345131  0.0  0.0  0.0  0.0  1.0\n",
            "edu                 211.0  1.867299  0.625963  1.0  1.0  2.0  2.0  3.0\n",
            "income              211.0  2.208531  1.066424  1.0  1.0  2.0  3.0  4.0\n",
            "age                 211.0  2.654028  0.872173  1.0  2.0  3.0  3.0  4.0\n",
            "score_gov           211.0  3.056872  0.944451  1.0  3.0  3.0  4.0  5.0\n",
            "score_progress      211.0  3.094787  0.961408  1.0  2.0  3.0  4.0  5.0\n",
            "score_intention     211.0  2.910900  0.725078  1.0  2.4  3.0  3.4  5.0\n",
            "vote                211.0  0.710900  0.454422  0.0  0.0  1.0  1.0  1.0\n",
            "parties             211.0  2.668246  1.220416  1.0  2.0  3.0  4.0  4.0\n"
          ]
        }
      ]
    },
    {
      "cell_type": "code",
      "source": [
        "# 요약정보 확인\n",
        "\n",
        "print(data.info())"
      ],
      "metadata": {
        "colab": {
          "base_uri": "https://localhost:8080/"
        },
        "id": "mLZgiTcGG9fk",
        "outputId": "e545df9d-9b97-401c-c654-02b544c09ccd"
      },
      "execution_count": null,
      "outputs": [
        {
          "output_type": "stream",
          "name": "stdout",
          "text": [
            "<class 'pandas.core.frame.DataFrame'>\n",
            "RangeIndex: 211 entries, 0 to 210\n",
            "Data columns (total 15 columns):\n",
            " #   Column              Non-Null Count  Dtype  \n",
            "---  ------              --------------  -----  \n",
            " 0   gender_female       211 non-null    int64  \n",
            " 1   gender_male         211 non-null    int64  \n",
            " 2   region_Chungcheung  211 non-null    int64  \n",
            " 3   region_Honam        211 non-null    int64  \n",
            " 4   region_Others       211 non-null    int64  \n",
            " 5   region_Sudo         211 non-null    int64  \n",
            " 6   region_Youngnam     211 non-null    int64  \n",
            " 7   edu                 211 non-null    int64  \n",
            " 8   income              211 non-null    int64  \n",
            " 9   age                 211 non-null    int64  \n",
            " 10  score_gov           211 non-null    int64  \n",
            " 11  score_progress      211 non-null    int64  \n",
            " 12  score_intention     211 non-null    float64\n",
            " 13  vote                211 non-null    int64  \n",
            " 14  parties             211 non-null    int64  \n",
            "dtypes: float64(1), int64(14)\n",
            "memory usage: 24.9 KB\n",
            "None\n"
          ]
        }
      ]
    },
    {
      "cell_type": "markdown",
      "source": [
        "### Feature, Target 분리하기"
      ],
      "metadata": {
        "id": "RgbmBCJLzRc7"
      }
    },
    {
      "cell_type": "code",
      "source": [
        "X_data = data.drop(columns = 'vote')\n",
        "y_data = data[['vote']]"
      ],
      "metadata": {
        "id": "yW8u1APTyATR"
      },
      "execution_count": null,
      "outputs": []
    },
    {
      "cell_type": "markdown",
      "source": [
        "### 방법1: train-test set 나누기"
      ],
      "metadata": {
        "id": "gbUlnMLOzyx9"
      }
    },
    {
      "cell_type": "code",
      "source": [
        "from sklearn.model_selection import train_test_split\n",
        "\n",
        "X_train, X_test, y_train, y_test = train_test_split(X_data, y_data,\n",
        "                                                    stratify = y_data, # 비율 맞추기 위함\n",
        "                                                    random_state = 56,\n",
        "                                                    test_size = 0.2)"
      ],
      "metadata": {
        "id": "_4a4IvV4yAQa"
      },
      "execution_count": null,
      "outputs": []
    },
    {
      "cell_type": "code",
      "source": [
        "print(X_train.shape, X_test.shape, y_train.shape, y_test.shape)"
      ],
      "metadata": {
        "colab": {
          "base_uri": "https://localhost:8080/"
        },
        "id": "fVcGMfCbyANT",
        "outputId": "1e15e305-4d91-48da-d475-e3098e097faf"
      },
      "execution_count": null,
      "outputs": [
        {
          "output_type": "stream",
          "name": "stdout",
          "text": [
            "(168, 14) (43, 14) (168, 1) (43, 1)\n"
          ]
        }
      ]
    },
    {
      "cell_type": "markdown",
      "source": [
        "- 모델 적용"
      ],
      "metadata": {
        "id": "7pjD4pnq0dBJ"
      }
    },
    {
      "cell_type": "code",
      "source": [
        "from sklearn.linear_model import LogisticRegression\n",
        "\n",
        "model = LogisticRegression()"
      ],
      "metadata": {
        "id": "PycBvPrOyAKd"
      },
      "execution_count": null,
      "outputs": []
    },
    {
      "cell_type": "markdown",
      "source": [
        "#### cross_val_score\n",
        "\n",
        "- 랜덤 없는 교차검증\n",
        "- 데이터를 순서대로 k 분할"
      ],
      "metadata": {
        "id": "ZVYIl1anbkCa"
      }
    },
    {
      "cell_type": "code",
      "source": [
        "from sklearn.model_selection import cross_val_score, KFold\n",
        "\n",
        "score = cross_val_score(model, X_train, y_train, cv = 5)\n",
        "\n",
        "print(\"5-fold 정확도:\", score)\n",
        "print(\"정확도 평균:\", score.mean())"
      ],
      "metadata": {
        "colab": {
          "base_uri": "https://localhost:8080/"
        },
        "id": "cRrS-7rXbvcJ",
        "outputId": "bf509df0-bfa0-450c-95b4-1b020cb1723f"
      },
      "execution_count": null,
      "outputs": [
        {
          "output_type": "stream",
          "name": "stdout",
          "text": [
            "5-fold 정확도: [0.76470588 0.61764706 0.67647059 0.81818182 0.63636364]\n",
            "정확도 평균: 0.7026737967914438\n"
          ]
        }
      ]
    },
    {
      "cell_type": "markdown",
      "source": [
        "#### k-fold cross validation\n",
        "  - 랜덤 있는 교차검증\n",
        "  - 오버피팅 혹은 언더피팅을 막기 위해 사용\n",
        "  - cross_val_score(model, X, y, cv = ) 형태"
      ],
      "metadata": {
        "id": "APKKyDxO0y2y"
      }
    },
    {
      "cell_type": "code",
      "source": [
        "from sklearn.model_selection import cross_val_score, KFold\n",
        "\n",
        "kfold = KFold(n_splits = 5, shuffle = True, random_state = 56) # bias 줄이기 위해 shuffle = True 데이터 섞어서 추출\n",
        "\n",
        "score = cross_val_score(model, X_train, y_train, cv = kfold)\n",
        "\n",
        "print(\"5-fold 정확도:\", score)\n",
        "print(\"정확도 평균:\", score.mean())"
      ],
      "metadata": {
        "colab": {
          "base_uri": "https://localhost:8080/"
        },
        "id": "pQgjMgPfyAHy",
        "outputId": "e8ed9acd-5b0f-4eeb-c9d0-25edfcf27e56"
      },
      "execution_count": null,
      "outputs": [
        {
          "output_type": "stream",
          "name": "stdout",
          "text": [
            "5-fold 정확도: [0.73529412 0.55882353 0.67647059 0.78787879 0.75757576]\n",
            "정확도 평균: 0.7032085561497328\n"
          ]
        }
      ]
    },
    {
      "cell_type": "markdown",
      "source": [
        "### 방법2: train-validation-test 나누기\n",
        "\n",
        "- 딥러닝은 데이터 수가 많아 이렇게 세 그룹으로 나누는데, 머신러닝에서는 데이터 수에 따라 융통성 있게 사용\n",
        "- 먼저 train:test로 나눈 후 train을 다시 train:valid로 분할함\n",
        "- 빅데이터 분석기사 시험이나 일반 기업 코딩 테스트에선 test셋이 미리 주어지기 때문에 train, val만 나누면 될 듯? 전자는 확실한데 후자는 모름.."
      ],
      "metadata": {
        "id": "Zcu-rNpI2b4k"
      }
    },
    {
      "cell_type": "code",
      "source": [
        "from sklearn.model_selection import train_test_split\n",
        "\n",
        "X_train_val, X_test, y_train_val, y_test = train_test_split(X_data, y_data,\n",
        "                                                            stratify = y_data,\n",
        "                                                            random_state = 56, test_size = 0.2)"
      ],
      "metadata": {
        "id": "J_KjA3TayAEy"
      },
      "execution_count": null,
      "outputs": []
    },
    {
      "cell_type": "code",
      "source": [
        "X_train, X_val, y_train, y_val = train_test_split(X_train_val, y_train_val,\n",
        "                                                  stratify = y_train_val,\n",
        "                                                  random_state = 56, test_size = 0.2)"
      ],
      "metadata": {
        "id": "kCh0dNlTyACE"
      },
      "execution_count": null,
      "outputs": []
    },
    {
      "cell_type": "code",
      "source": [
        "print(X_train.shape, X_val.shape, X_test.shape,'\\n', y_train.shape, y_val.shape, y_test.shape)\n",
        "# 65:15:20 정도로 쪼개짐"
      ],
      "metadata": {
        "colab": {
          "base_uri": "https://localhost:8080/"
        },
        "id": "AOgelojS2y2v",
        "outputId": "c7e24ae2-c5ca-4fd5-cf5a-869003a9c72c"
      },
      "execution_count": null,
      "outputs": [
        {
          "output_type": "stream",
          "name": "stdout",
          "text": [
            "(134, 14) (34, 14) (43, 14) \n",
            " (134, 1) (34, 1) (43, 1)\n"
          ]
        }
      ]
    },
    {
      "cell_type": "code",
      "source": [
        "# 랜덤없는 교차검증\n",
        "\n",
        "from sklearn.linear_model import LogisticRegression\n",
        "from sklearn.model_selection import cross_val_score\n",
        "\n",
        "model = LogisticRegression()\n",
        "\n",
        "model.fit(X_train, y_train)\n",
        "\n",
        "score = cross_val_score(model, X_train, y_train, cv = 5)\n",
        "\n",
        "print(\"교차검증 정확도:\", score)\n",
        "print(\"교차검증 정확도 평균:\", score.mean())"
      ],
      "metadata": {
        "colab": {
          "base_uri": "https://localhost:8080/"
        },
        "id": "4iUWP_xn2yxS",
        "outputId": "49079bdc-ae24-42f8-c341-252b3c12a278"
      },
      "execution_count": null,
      "outputs": [
        {
          "output_type": "stream",
          "name": "stdout",
          "text": [
            "교차검증 정확도: [0.74074074 0.66666667 0.59259259 0.62962963 0.73076923]\n",
            "교차검증 정확도 평균: 0.6720797720797721\n"
          ]
        }
      ]
    },
    {
      "cell_type": "code",
      "source": [
        "# 랜덤있는 교차검증\n",
        "\n",
        "from sklearn.linear_model import LogisticRegression\n",
        "from sklearn.model_selection import KFold, cross_val_score\n",
        "\n",
        "model = LogisticRegression()\n",
        "\n",
        "model.fit(X_train, y_train)\n",
        "\n",
        "kfold = KFold(n_splits = 5, shuffle = True, random_state = 56)\n",
        "score = cross_val_score(model, X_train, y_train, cv = kfold)\n",
        "\n",
        "print(\"교차검증 정확도:\", score)\n",
        "print(\"교차검증 정확도 평균:\", score.mean())"
      ],
      "metadata": {
        "colab": {
          "base_uri": "https://localhost:8080/"
        },
        "id": "bpgTBFsr2yuY",
        "outputId": "ab8e9d66-7421-494f-ecd9-af78131049c4"
      },
      "execution_count": null,
      "outputs": [
        {
          "output_type": "stream",
          "name": "stdout",
          "text": [
            "교차검증 정확도: [0.59259259 0.7037037  0.55555556 0.7037037  0.80769231]\n",
            "교차검증 정확도 평균: 0.6726495726495726\n"
          ]
        }
      ]
    },
    {
      "cell_type": "code",
      "source": [
        "# validation set 정확도\n",
        "model.score(X_val, y_val)"
      ],
      "metadata": {
        "colab": {
          "base_uri": "https://localhost:8080/"
        },
        "id": "v34CLk9L2yrf",
        "outputId": "148ef1fa-0968-406e-b9f2-896515a673ce"
      },
      "execution_count": null,
      "outputs": [
        {
          "output_type": "execute_result",
          "data": {
            "text/plain": [
              "0.6764705882352942"
            ]
          },
          "metadata": {},
          "execution_count": 15
        }
      ]
    },
    {
      "cell_type": "code",
      "source": [
        "# test set 정확도\n",
        "model.score(X_test, y_test)"
      ],
      "metadata": {
        "colab": {
          "base_uri": "https://localhost:8080/"
        },
        "id": "HZWJj3gncIhc",
        "outputId": "894c928c-3af4-46dc-bccb-0be2d6606011"
      },
      "execution_count": null,
      "outputs": [
        {
          "output_type": "execute_result",
          "data": {
            "text/plain": [
              "0.6511627906976745"
            ]
          },
          "metadata": {},
          "execution_count": 16
        }
      ]
    },
    {
      "cell_type": "markdown",
      "source": [
        "- 결과적으로 65~75% 수준으로 정확도 수준은 낮지만, 과대적합될 가능성을 이미 교차검증에서 확인함 "
      ],
      "metadata": {
        "id": "gTokw2yNcgP7"
      }
    },
    {
      "cell_type": "markdown",
      "source": [
        "## section3. model fitting과 tuning"
      ],
      "metadata": {
        "id": "5cyGOhEzcpvs"
      }
    },
    {
      "cell_type": "markdown",
      "source": [
        "- Hyper parameter 찾는 모델 튜닝"
      ],
      "metadata": {
        "id": "_u_a9rrgcy0H"
      }
    },
    {
      "cell_type": "code",
      "source": [
        "# train test set 7:3 분리하고 시작\n",
        "from sklearn.model_selection import train_test_split # 중복된 코드를 계속 적는 이유는 요즘 딥러닝만 하다보니 ML이 손에 안 익어서 일부러 쓰는 거\n",
        "\n",
        "X_train_val, X_test, y_train_val, y_test = train_test_split(X_data, y_data,\n",
        "                                                    stratify = y_data, \n",
        "                                                    random_state = 56, test_size = 0.3)\n",
        "\n",
        "X_train, X_val, y_train, y_val = train_test_split(X_train_val, y_train_val,\n",
        "                                                  stratify = y_train_val,\n",
        "                                                  random_state = 56, test_size = 0.3)\n",
        "\n",
        "X_train\n",
        "# 디폴트가 7:3이라 0.3 굳이 안 써도 되는데 난 그냥.. 습관임"
      ],
      "metadata": {
        "colab": {
          "base_uri": "https://localhost:8080/",
          "height": 488
        },
        "id": "qGKNN2cYcIe2",
        "outputId": "b449d1b7-2765-4b31-d5d6-c034ad5941c0"
      },
      "execution_count": null,
      "outputs": [
        {
          "output_type": "execute_result",
          "data": {
            "text/plain": [
              "     gender_female  gender_male  region_Chungcheung  region_Honam  \\\n",
              "192              1            0                   1             0   \n",
              "108              0            1                   0             0   \n",
              "172              0            1                   0             0   \n",
              "41               0            1                   0             1   \n",
              "132              1            0                   0             0   \n",
              "..             ...          ...                 ...           ...   \n",
              "15               0            1                   0             0   \n",
              "137              1            0                   0             0   \n",
              "76               0            1                   0             0   \n",
              "184              0            1                   0             0   \n",
              "159              1            0                   0             0   \n",
              "\n",
              "     region_Others  region_Sudo  region_Youngnam  edu  income  age  score_gov  \\\n",
              "192              0            0                0    1       1    1          3   \n",
              "108              0            1                0    2       3    2          2   \n",
              "172              0            1                0    2       1    2          3   \n",
              "41               0            0                0    3       3    4          4   \n",
              "132              0            1                0    1       1    2          2   \n",
              "..             ...          ...              ...  ...     ...  ...        ...   \n",
              "15               0            1                0    2       3    3          3   \n",
              "137              0            1                0    2       2    2          3   \n",
              "76               0            0                1    3       2    3          3   \n",
              "184              0            0                1    1       1    2          1   \n",
              "159              0            1                0    2       3    2          2   \n",
              "\n",
              "     score_progress  score_intention  parties  \n",
              "192               4              2.8        4  \n",
              "108               1              3.0        2  \n",
              "172               3              2.6        4  \n",
              "41                2              4.0        4  \n",
              "132               2              2.8        2  \n",
              "..              ...              ...      ...  \n",
              "15                3              3.2        4  \n",
              "137               3              3.6        4  \n",
              "76                3              2.8        4  \n",
              "184               4              2.8        4  \n",
              "159               3              2.8        3  \n",
              "\n",
              "[102 rows x 14 columns]"
            ],
            "text/html": [
              "\n",
              "  <div id=\"df-35057a47-8eab-4d21-a109-710ad170c663\">\n",
              "    <div class=\"colab-df-container\">\n",
              "      <div>\n",
              "<style scoped>\n",
              "    .dataframe tbody tr th:only-of-type {\n",
              "        vertical-align: middle;\n",
              "    }\n",
              "\n",
              "    .dataframe tbody tr th {\n",
              "        vertical-align: top;\n",
              "    }\n",
              "\n",
              "    .dataframe thead th {\n",
              "        text-align: right;\n",
              "    }\n",
              "</style>\n",
              "<table border=\"1\" class=\"dataframe\">\n",
              "  <thead>\n",
              "    <tr style=\"text-align: right;\">\n",
              "      <th></th>\n",
              "      <th>gender_female</th>\n",
              "      <th>gender_male</th>\n",
              "      <th>region_Chungcheung</th>\n",
              "      <th>region_Honam</th>\n",
              "      <th>region_Others</th>\n",
              "      <th>region_Sudo</th>\n",
              "      <th>region_Youngnam</th>\n",
              "      <th>edu</th>\n",
              "      <th>income</th>\n",
              "      <th>age</th>\n",
              "      <th>score_gov</th>\n",
              "      <th>score_progress</th>\n",
              "      <th>score_intention</th>\n",
              "      <th>parties</th>\n",
              "    </tr>\n",
              "  </thead>\n",
              "  <tbody>\n",
              "    <tr>\n",
              "      <th>192</th>\n",
              "      <td>1</td>\n",
              "      <td>0</td>\n",
              "      <td>1</td>\n",
              "      <td>0</td>\n",
              "      <td>0</td>\n",
              "      <td>0</td>\n",
              "      <td>0</td>\n",
              "      <td>1</td>\n",
              "      <td>1</td>\n",
              "      <td>1</td>\n",
              "      <td>3</td>\n",
              "      <td>4</td>\n",
              "      <td>2.8</td>\n",
              "      <td>4</td>\n",
              "    </tr>\n",
              "    <tr>\n",
              "      <th>108</th>\n",
              "      <td>0</td>\n",
              "      <td>1</td>\n",
              "      <td>0</td>\n",
              "      <td>0</td>\n",
              "      <td>0</td>\n",
              "      <td>1</td>\n",
              "      <td>0</td>\n",
              "      <td>2</td>\n",
              "      <td>3</td>\n",
              "      <td>2</td>\n",
              "      <td>2</td>\n",
              "      <td>1</td>\n",
              "      <td>3.0</td>\n",
              "      <td>2</td>\n",
              "    </tr>\n",
              "    <tr>\n",
              "      <th>172</th>\n",
              "      <td>0</td>\n",
              "      <td>1</td>\n",
              "      <td>0</td>\n",
              "      <td>0</td>\n",
              "      <td>0</td>\n",
              "      <td>1</td>\n",
              "      <td>0</td>\n",
              "      <td>2</td>\n",
              "      <td>1</td>\n",
              "      <td>2</td>\n",
              "      <td>3</td>\n",
              "      <td>3</td>\n",
              "      <td>2.6</td>\n",
              "      <td>4</td>\n",
              "    </tr>\n",
              "    <tr>\n",
              "      <th>41</th>\n",
              "      <td>0</td>\n",
              "      <td>1</td>\n",
              "      <td>0</td>\n",
              "      <td>1</td>\n",
              "      <td>0</td>\n",
              "      <td>0</td>\n",
              "      <td>0</td>\n",
              "      <td>3</td>\n",
              "      <td>3</td>\n",
              "      <td>4</td>\n",
              "      <td>4</td>\n",
              "      <td>2</td>\n",
              "      <td>4.0</td>\n",
              "      <td>4</td>\n",
              "    </tr>\n",
              "    <tr>\n",
              "      <th>132</th>\n",
              "      <td>1</td>\n",
              "      <td>0</td>\n",
              "      <td>0</td>\n",
              "      <td>0</td>\n",
              "      <td>0</td>\n",
              "      <td>1</td>\n",
              "      <td>0</td>\n",
              "      <td>1</td>\n",
              "      <td>1</td>\n",
              "      <td>2</td>\n",
              "      <td>2</td>\n",
              "      <td>2</td>\n",
              "      <td>2.8</td>\n",
              "      <td>2</td>\n",
              "    </tr>\n",
              "    <tr>\n",
              "      <th>...</th>\n",
              "      <td>...</td>\n",
              "      <td>...</td>\n",
              "      <td>...</td>\n",
              "      <td>...</td>\n",
              "      <td>...</td>\n",
              "      <td>...</td>\n",
              "      <td>...</td>\n",
              "      <td>...</td>\n",
              "      <td>...</td>\n",
              "      <td>...</td>\n",
              "      <td>...</td>\n",
              "      <td>...</td>\n",
              "      <td>...</td>\n",
              "      <td>...</td>\n",
              "    </tr>\n",
              "    <tr>\n",
              "      <th>15</th>\n",
              "      <td>0</td>\n",
              "      <td>1</td>\n",
              "      <td>0</td>\n",
              "      <td>0</td>\n",
              "      <td>0</td>\n",
              "      <td>1</td>\n",
              "      <td>0</td>\n",
              "      <td>2</td>\n",
              "      <td>3</td>\n",
              "      <td>3</td>\n",
              "      <td>3</td>\n",
              "      <td>3</td>\n",
              "      <td>3.2</td>\n",
              "      <td>4</td>\n",
              "    </tr>\n",
              "    <tr>\n",
              "      <th>137</th>\n",
              "      <td>1</td>\n",
              "      <td>0</td>\n",
              "      <td>0</td>\n",
              "      <td>0</td>\n",
              "      <td>0</td>\n",
              "      <td>1</td>\n",
              "      <td>0</td>\n",
              "      <td>2</td>\n",
              "      <td>2</td>\n",
              "      <td>2</td>\n",
              "      <td>3</td>\n",
              "      <td>3</td>\n",
              "      <td>3.6</td>\n",
              "      <td>4</td>\n",
              "    </tr>\n",
              "    <tr>\n",
              "      <th>76</th>\n",
              "      <td>0</td>\n",
              "      <td>1</td>\n",
              "      <td>0</td>\n",
              "      <td>0</td>\n",
              "      <td>0</td>\n",
              "      <td>0</td>\n",
              "      <td>1</td>\n",
              "      <td>3</td>\n",
              "      <td>2</td>\n",
              "      <td>3</td>\n",
              "      <td>3</td>\n",
              "      <td>3</td>\n",
              "      <td>2.8</td>\n",
              "      <td>4</td>\n",
              "    </tr>\n",
              "    <tr>\n",
              "      <th>184</th>\n",
              "      <td>0</td>\n",
              "      <td>1</td>\n",
              "      <td>0</td>\n",
              "      <td>0</td>\n",
              "      <td>0</td>\n",
              "      <td>0</td>\n",
              "      <td>1</td>\n",
              "      <td>1</td>\n",
              "      <td>1</td>\n",
              "      <td>2</td>\n",
              "      <td>1</td>\n",
              "      <td>4</td>\n",
              "      <td>2.8</td>\n",
              "      <td>4</td>\n",
              "    </tr>\n",
              "    <tr>\n",
              "      <th>159</th>\n",
              "      <td>1</td>\n",
              "      <td>0</td>\n",
              "      <td>0</td>\n",
              "      <td>0</td>\n",
              "      <td>0</td>\n",
              "      <td>1</td>\n",
              "      <td>0</td>\n",
              "      <td>2</td>\n",
              "      <td>3</td>\n",
              "      <td>2</td>\n",
              "      <td>2</td>\n",
              "      <td>3</td>\n",
              "      <td>2.8</td>\n",
              "      <td>3</td>\n",
              "    </tr>\n",
              "  </tbody>\n",
              "</table>\n",
              "<p>102 rows × 14 columns</p>\n",
              "</div>\n",
              "      <button class=\"colab-df-convert\" onclick=\"convertToInteractive('df-35057a47-8eab-4d21-a109-710ad170c663')\"\n",
              "              title=\"Convert this dataframe to an interactive table.\"\n",
              "              style=\"display:none;\">\n",
              "        \n",
              "  <svg xmlns=\"http://www.w3.org/2000/svg\" height=\"24px\"viewBox=\"0 0 24 24\"\n",
              "       width=\"24px\">\n",
              "    <path d=\"M0 0h24v24H0V0z\" fill=\"none\"/>\n",
              "    <path d=\"M18.56 5.44l.94 2.06.94-2.06 2.06-.94-2.06-.94-.94-2.06-.94 2.06-2.06.94zm-11 1L8.5 8.5l.94-2.06 2.06-.94-2.06-.94L8.5 2.5l-.94 2.06-2.06.94zm10 10l.94 2.06.94-2.06 2.06-.94-2.06-.94-.94-2.06-.94 2.06-2.06.94z\"/><path d=\"M17.41 7.96l-1.37-1.37c-.4-.4-.92-.59-1.43-.59-.52 0-1.04.2-1.43.59L10.3 9.45l-7.72 7.72c-.78.78-.78 2.05 0 2.83L4 21.41c.39.39.9.59 1.41.59.51 0 1.02-.2 1.41-.59l7.78-7.78 2.81-2.81c.8-.78.8-2.07 0-2.86zM5.41 20L4 18.59l7.72-7.72 1.47 1.35L5.41 20z\"/>\n",
              "  </svg>\n",
              "      </button>\n",
              "      \n",
              "  <style>\n",
              "    .colab-df-container {\n",
              "      display:flex;\n",
              "      flex-wrap:wrap;\n",
              "      gap: 12px;\n",
              "    }\n",
              "\n",
              "    .colab-df-convert {\n",
              "      background-color: #E8F0FE;\n",
              "      border: none;\n",
              "      border-radius: 50%;\n",
              "      cursor: pointer;\n",
              "      display: none;\n",
              "      fill: #1967D2;\n",
              "      height: 32px;\n",
              "      padding: 0 0 0 0;\n",
              "      width: 32px;\n",
              "    }\n",
              "\n",
              "    .colab-df-convert:hover {\n",
              "      background-color: #E2EBFA;\n",
              "      box-shadow: 0px 1px 2px rgba(60, 64, 67, 0.3), 0px 1px 3px 1px rgba(60, 64, 67, 0.15);\n",
              "      fill: #174EA6;\n",
              "    }\n",
              "\n",
              "    [theme=dark] .colab-df-convert {\n",
              "      background-color: #3B4455;\n",
              "      fill: #D2E3FC;\n",
              "    }\n",
              "\n",
              "    [theme=dark] .colab-df-convert:hover {\n",
              "      background-color: #434B5C;\n",
              "      box-shadow: 0px 1px 3px 1px rgba(0, 0, 0, 0.15);\n",
              "      filter: drop-shadow(0px 1px 2px rgba(0, 0, 0, 0.3));\n",
              "      fill: #FFFFFF;\n",
              "    }\n",
              "  </style>\n",
              "\n",
              "      <script>\n",
              "        const buttonEl =\n",
              "          document.querySelector('#df-35057a47-8eab-4d21-a109-710ad170c663 button.colab-df-convert');\n",
              "        buttonEl.style.display =\n",
              "          google.colab.kernel.accessAllowed ? 'block' : 'none';\n",
              "\n",
              "        async function convertToInteractive(key) {\n",
              "          const element = document.querySelector('#df-35057a47-8eab-4d21-a109-710ad170c663');\n",
              "          const dataTable =\n",
              "            await google.colab.kernel.invokeFunction('convertToInteractive',\n",
              "                                                     [key], {});\n",
              "          if (!dataTable) return;\n",
              "\n",
              "          const docLinkHtml = 'Like what you see? Visit the ' +\n",
              "            '<a target=\"_blank\" href=https://colab.research.google.com/notebooks/data_table.ipynb>data table notebook</a>'\n",
              "            + ' to learn more about interactive tables.';\n",
              "          element.innerHTML = '';\n",
              "          dataTable['output_type'] = 'display_data';\n",
              "          await google.colab.output.renderOutput(dataTable, element);\n",
              "          const docLink = document.createElement('div');\n",
              "          docLink.innerHTML = docLinkHtml;\n",
              "          element.appendChild(docLink);\n",
              "        }\n",
              "      </script>\n",
              "    </div>\n",
              "  </div>\n",
              "  "
            ]
          },
          "metadata": {},
          "execution_count": 36
        }
      ]
    },
    {
      "cell_type": "markdown",
      "source": [
        "### Grid search\n",
        "\n",
        "- 그리드서치는 분석가가 하이퍼파라미터의 특정 값을 지정하고, 각 모델에 적용하여 모델 적합도를 비교하는 방법임\n",
        "- 하이퍼파라미터와 그리드서치 형식\n",
        "  - param_grid = {'hyperparameter': [value1, value2, value3, ..., valuen]}\n",
        "  - GridSearchCV(model명(), param_grid, cv = , return_train_score=True)\n",
        "  - cv와 return_train_score는 옵션임! 안 넣어도 됨\n",
        "  - return_train_score=Ture: 훈련 정확도 결과 제시 디폴트는 False"
      ],
      "metadata": {
        "id": "LsWtHGeleg31"
      }
    },
    {
      "cell_type": "markdown",
      "source": [
        "+혹시 빅데이터 분석기사 준비하는 분들이 볼까봐 적는데, 시험장에선 그리드 서치랑 cv하면 시간 초과날 가능성이 크므로 몇 개만 대입해보고 가장 좋은 모델 셀렉하는 것을 추천드립니다. 러닝타임 초과되면 당연 0점이고, 코드 작성할 땐 돌아갔는지 어쨌는지 기억이 안 나네요.. 아무튼 저는 몇 개 씩 끊어서 쭈욱 돌린 후 최종 결과는 하이퍼파라미터를 직접 대입하는 방법을 사용했습니다.\n",
        "그래도 정확도가 낮아서 불합일 줄 알았는데 시험 끝나고 커뮤니티 보니 제가 제일 높더라구요. 이렇게 사용해보시는 거 추천드립니다~!"
      ],
      "metadata": {
        "id": "Kx9F2qiffY0Q"
      }
    },
    {
      "cell_type": "code",
      "source": [
        "from sklearn.model_selection import GridSearchCV\n",
        "\n",
        "param_grid = {'C': [0.001, 0.01, 0.1, 1, 10, 100]}"
      ],
      "metadata": {
        "id": "xwrJUhqrcIbD"
      },
      "execution_count": null,
      "outputs": []
    },
    {
      "cell_type": "code",
      "source": [
        "from sklearn.linear_model import LogisticRegression\n",
        "\n",
        "# cv=5, return_train_score = True\n",
        "grid_search = GridSearchCV(LogisticRegression(),\n",
        "                           param_grid  = param_grid,\n",
        "                           cv = 5, # 옵션\n",
        "                           return_train_score = True) # 옵션\n",
        "\n",
        "grid_search.fit(X_train, y_train)"
      ],
      "metadata": {
        "colab": {
          "base_uri": "https://localhost:8080/"
        },
        "id": "J2_QnrbzcIYa",
        "outputId": "d335c364-170d-4f91-e8eb-44554c0072fb"
      },
      "execution_count": null,
      "outputs": [
        {
          "output_type": "execute_result",
          "data": {
            "text/plain": [
              "GridSearchCV(cv=5, estimator=LogisticRegression(),\n",
              "             param_grid={'C': [0.001, 0.01, 0.1, 1, 10, 100]},\n",
              "             return_train_score=True)"
            ]
          },
          "metadata": {},
          "execution_count": 38
        }
      ]
    },
    {
      "cell_type": "markdown",
      "source": [
        "- 정확도 가장 높은 하이퍼파라미터는 grid_search.best_params_로 확인\n",
        "- 그 때의 정확도는 grid_search.best_socre_로 확인"
      ],
      "metadata": {
        "id": "Q-tZQT_KhBi3"
      }
    },
    {
      "cell_type": "code",
      "source": [
        "print(f\"Best Parameter: {grid_search.best_params_}\")\n",
        "print(f\"Best Score: {grid_search.best_score_:.3f}\")"
      ],
      "metadata": {
        "colab": {
          "base_uri": "https://localhost:8080/"
        },
        "id": "Oy_nv55WcISo",
        "outputId": "7f95a914-2a84-4981-bf2d-67df12b66493"
      },
      "execution_count": null,
      "outputs": [
        {
          "output_type": "stream",
          "name": "stdout",
          "text": [
            "Best Parameter: {'C': 1}\n",
            "Best Score: 0.774\n"
          ]
        }
      ]
    },
    {
      "cell_type": "code",
      "source": [
        "# validation셋에 C = 0.1 적용하기\n",
        "print(f\"Test set socre: {grid_search.score(X_val, y_val):.3f}\") # fit 아니고 score임!!"
      ],
      "metadata": {
        "colab": {
          "base_uri": "https://localhost:8080/"
        },
        "id": "OuhMPOpih3XO",
        "outputId": "dc1ce754-1e64-4e41-9790-3312476ebfd7"
      },
      "execution_count": null,
      "outputs": [
        {
          "output_type": "stream",
          "name": "stdout",
          "text": [
            "Test set socre: 0.711\n"
          ]
        }
      ]
    },
    {
      "cell_type": "markdown",
      "source": [
        "- 하이퍼 파라미터 별, cross validation 별 상세 결과값은 'grid_search.cv_resilts_'"
      ],
      "metadata": {
        "id": "buKTU1kNjOUO"
      }
    },
    {
      "cell_type": "code",
      "source": [
        "# 하이퍼파라미터별, CV 별 결과값 보기\n",
        "\n",
        "result = grid_search.cv_results_\n",
        "pd.DataFrame(result)"
      ],
      "metadata": {
        "colab": {
          "base_uri": "https://localhost:8080/",
          "height": 400
        },
        "id": "jXNy5vYgh3Uw",
        "outputId": "8e389e51-b124-4b53-ac92-27a6993b3d9a"
      },
      "execution_count": null,
      "outputs": [
        {
          "output_type": "execute_result",
          "data": {
            "text/plain": [
              "   mean_fit_time  std_fit_time  mean_score_time  std_score_time param_C  \\\n",
              "0       0.005556      0.000730         0.001562        0.000090   0.001   \n",
              "1       0.005881      0.000154         0.001727        0.000101    0.01   \n",
              "2       0.007659      0.000254         0.002279        0.000708     0.1   \n",
              "3       0.012041      0.001077         0.002089        0.000098       1   \n",
              "4       0.016762      0.002549         0.002270        0.000292      10   \n",
              "5       0.017914      0.000803         0.002188        0.000204     100   \n",
              "\n",
              "         params  split0_test_score  split1_test_score  split2_test_score  \\\n",
              "0  {'C': 0.001}           0.714286           0.714286               0.70   \n",
              "1   {'C': 0.01}           0.714286           0.714286               0.70   \n",
              "2    {'C': 0.1}           0.809524           0.714286               0.65   \n",
              "3      {'C': 1}           0.857143           0.761905               0.70   \n",
              "4     {'C': 10}           0.904762           0.761905               0.60   \n",
              "5    {'C': 100}           0.904762           0.761905               0.60   \n",
              "\n",
              "   split3_test_score  ...  mean_test_score  std_test_score  rank_test_score  \\\n",
              "0               0.70  ...         0.715714        0.018295                5   \n",
              "1               0.70  ...         0.715714        0.018295                5   \n",
              "2               0.70  ...         0.734762        0.061086                4   \n",
              "3               0.75  ...         0.773810        0.052511                1   \n",
              "4               0.75  ...         0.753333        0.096475                2   \n",
              "5               0.75  ...         0.753333        0.096475                2   \n",
              "\n",
              "   split0_train_score  split1_train_score  split2_train_score  \\\n",
              "0            0.716049            0.716049            0.719512   \n",
              "1            0.716049            0.716049            0.719512   \n",
              "2            0.728395            0.765432            0.756098   \n",
              "3            0.790123            0.802469            0.853659   \n",
              "4            0.790123            0.839506            0.804878   \n",
              "5            0.790123            0.839506            0.804878   \n",
              "\n",
              "   split3_train_score  split4_train_score  mean_train_score  std_train_score  \n",
              "0            0.719512            0.707317          0.715688         0.004463  \n",
              "1            0.719512            0.707317          0.715688         0.004463  \n",
              "2            0.768293            0.780488          0.759741         0.017503  \n",
              "3            0.829268            0.817073          0.818519         0.021983  \n",
              "4            0.817073            0.829268          0.816170         0.017452  \n",
              "5            0.817073            0.841463          0.818609         0.019806  \n",
              "\n",
              "[6 rows x 21 columns]"
            ],
            "text/html": [
              "\n",
              "  <div id=\"df-a1ef096a-cbd0-48f7-b094-6812097e55d6\">\n",
              "    <div class=\"colab-df-container\">\n",
              "      <div>\n",
              "<style scoped>\n",
              "    .dataframe tbody tr th:only-of-type {\n",
              "        vertical-align: middle;\n",
              "    }\n",
              "\n",
              "    .dataframe tbody tr th {\n",
              "        vertical-align: top;\n",
              "    }\n",
              "\n",
              "    .dataframe thead th {\n",
              "        text-align: right;\n",
              "    }\n",
              "</style>\n",
              "<table border=\"1\" class=\"dataframe\">\n",
              "  <thead>\n",
              "    <tr style=\"text-align: right;\">\n",
              "      <th></th>\n",
              "      <th>mean_fit_time</th>\n",
              "      <th>std_fit_time</th>\n",
              "      <th>mean_score_time</th>\n",
              "      <th>std_score_time</th>\n",
              "      <th>param_C</th>\n",
              "      <th>params</th>\n",
              "      <th>split0_test_score</th>\n",
              "      <th>split1_test_score</th>\n",
              "      <th>split2_test_score</th>\n",
              "      <th>split3_test_score</th>\n",
              "      <th>...</th>\n",
              "      <th>mean_test_score</th>\n",
              "      <th>std_test_score</th>\n",
              "      <th>rank_test_score</th>\n",
              "      <th>split0_train_score</th>\n",
              "      <th>split1_train_score</th>\n",
              "      <th>split2_train_score</th>\n",
              "      <th>split3_train_score</th>\n",
              "      <th>split4_train_score</th>\n",
              "      <th>mean_train_score</th>\n",
              "      <th>std_train_score</th>\n",
              "    </tr>\n",
              "  </thead>\n",
              "  <tbody>\n",
              "    <tr>\n",
              "      <th>0</th>\n",
              "      <td>0.005556</td>\n",
              "      <td>0.000730</td>\n",
              "      <td>0.001562</td>\n",
              "      <td>0.000090</td>\n",
              "      <td>0.001</td>\n",
              "      <td>{'C': 0.001}</td>\n",
              "      <td>0.714286</td>\n",
              "      <td>0.714286</td>\n",
              "      <td>0.70</td>\n",
              "      <td>0.70</td>\n",
              "      <td>...</td>\n",
              "      <td>0.715714</td>\n",
              "      <td>0.018295</td>\n",
              "      <td>5</td>\n",
              "      <td>0.716049</td>\n",
              "      <td>0.716049</td>\n",
              "      <td>0.719512</td>\n",
              "      <td>0.719512</td>\n",
              "      <td>0.707317</td>\n",
              "      <td>0.715688</td>\n",
              "      <td>0.004463</td>\n",
              "    </tr>\n",
              "    <tr>\n",
              "      <th>1</th>\n",
              "      <td>0.005881</td>\n",
              "      <td>0.000154</td>\n",
              "      <td>0.001727</td>\n",
              "      <td>0.000101</td>\n",
              "      <td>0.01</td>\n",
              "      <td>{'C': 0.01}</td>\n",
              "      <td>0.714286</td>\n",
              "      <td>0.714286</td>\n",
              "      <td>0.70</td>\n",
              "      <td>0.70</td>\n",
              "      <td>...</td>\n",
              "      <td>0.715714</td>\n",
              "      <td>0.018295</td>\n",
              "      <td>5</td>\n",
              "      <td>0.716049</td>\n",
              "      <td>0.716049</td>\n",
              "      <td>0.719512</td>\n",
              "      <td>0.719512</td>\n",
              "      <td>0.707317</td>\n",
              "      <td>0.715688</td>\n",
              "      <td>0.004463</td>\n",
              "    </tr>\n",
              "    <tr>\n",
              "      <th>2</th>\n",
              "      <td>0.007659</td>\n",
              "      <td>0.000254</td>\n",
              "      <td>0.002279</td>\n",
              "      <td>0.000708</td>\n",
              "      <td>0.1</td>\n",
              "      <td>{'C': 0.1}</td>\n",
              "      <td>0.809524</td>\n",
              "      <td>0.714286</td>\n",
              "      <td>0.65</td>\n",
              "      <td>0.70</td>\n",
              "      <td>...</td>\n",
              "      <td>0.734762</td>\n",
              "      <td>0.061086</td>\n",
              "      <td>4</td>\n",
              "      <td>0.728395</td>\n",
              "      <td>0.765432</td>\n",
              "      <td>0.756098</td>\n",
              "      <td>0.768293</td>\n",
              "      <td>0.780488</td>\n",
              "      <td>0.759741</td>\n",
              "      <td>0.017503</td>\n",
              "    </tr>\n",
              "    <tr>\n",
              "      <th>3</th>\n",
              "      <td>0.012041</td>\n",
              "      <td>0.001077</td>\n",
              "      <td>0.002089</td>\n",
              "      <td>0.000098</td>\n",
              "      <td>1</td>\n",
              "      <td>{'C': 1}</td>\n",
              "      <td>0.857143</td>\n",
              "      <td>0.761905</td>\n",
              "      <td>0.70</td>\n",
              "      <td>0.75</td>\n",
              "      <td>...</td>\n",
              "      <td>0.773810</td>\n",
              "      <td>0.052511</td>\n",
              "      <td>1</td>\n",
              "      <td>0.790123</td>\n",
              "      <td>0.802469</td>\n",
              "      <td>0.853659</td>\n",
              "      <td>0.829268</td>\n",
              "      <td>0.817073</td>\n",
              "      <td>0.818519</td>\n",
              "      <td>0.021983</td>\n",
              "    </tr>\n",
              "    <tr>\n",
              "      <th>4</th>\n",
              "      <td>0.016762</td>\n",
              "      <td>0.002549</td>\n",
              "      <td>0.002270</td>\n",
              "      <td>0.000292</td>\n",
              "      <td>10</td>\n",
              "      <td>{'C': 10}</td>\n",
              "      <td>0.904762</td>\n",
              "      <td>0.761905</td>\n",
              "      <td>0.60</td>\n",
              "      <td>0.75</td>\n",
              "      <td>...</td>\n",
              "      <td>0.753333</td>\n",
              "      <td>0.096475</td>\n",
              "      <td>2</td>\n",
              "      <td>0.790123</td>\n",
              "      <td>0.839506</td>\n",
              "      <td>0.804878</td>\n",
              "      <td>0.817073</td>\n",
              "      <td>0.829268</td>\n",
              "      <td>0.816170</td>\n",
              "      <td>0.017452</td>\n",
              "    </tr>\n",
              "    <tr>\n",
              "      <th>5</th>\n",
              "      <td>0.017914</td>\n",
              "      <td>0.000803</td>\n",
              "      <td>0.002188</td>\n",
              "      <td>0.000204</td>\n",
              "      <td>100</td>\n",
              "      <td>{'C': 100}</td>\n",
              "      <td>0.904762</td>\n",
              "      <td>0.761905</td>\n",
              "      <td>0.60</td>\n",
              "      <td>0.75</td>\n",
              "      <td>...</td>\n",
              "      <td>0.753333</td>\n",
              "      <td>0.096475</td>\n",
              "      <td>2</td>\n",
              "      <td>0.790123</td>\n",
              "      <td>0.839506</td>\n",
              "      <td>0.804878</td>\n",
              "      <td>0.817073</td>\n",
              "      <td>0.841463</td>\n",
              "      <td>0.818609</td>\n",
              "      <td>0.019806</td>\n",
              "    </tr>\n",
              "  </tbody>\n",
              "</table>\n",
              "<p>6 rows × 21 columns</p>\n",
              "</div>\n",
              "      <button class=\"colab-df-convert\" onclick=\"convertToInteractive('df-a1ef096a-cbd0-48f7-b094-6812097e55d6')\"\n",
              "              title=\"Convert this dataframe to an interactive table.\"\n",
              "              style=\"display:none;\">\n",
              "        \n",
              "  <svg xmlns=\"http://www.w3.org/2000/svg\" height=\"24px\"viewBox=\"0 0 24 24\"\n",
              "       width=\"24px\">\n",
              "    <path d=\"M0 0h24v24H0V0z\" fill=\"none\"/>\n",
              "    <path d=\"M18.56 5.44l.94 2.06.94-2.06 2.06-.94-2.06-.94-.94-2.06-.94 2.06-2.06.94zm-11 1L8.5 8.5l.94-2.06 2.06-.94-2.06-.94L8.5 2.5l-.94 2.06-2.06.94zm10 10l.94 2.06.94-2.06 2.06-.94-2.06-.94-.94-2.06-.94 2.06-2.06.94z\"/><path d=\"M17.41 7.96l-1.37-1.37c-.4-.4-.92-.59-1.43-.59-.52 0-1.04.2-1.43.59L10.3 9.45l-7.72 7.72c-.78.78-.78 2.05 0 2.83L4 21.41c.39.39.9.59 1.41.59.51 0 1.02-.2 1.41-.59l7.78-7.78 2.81-2.81c.8-.78.8-2.07 0-2.86zM5.41 20L4 18.59l7.72-7.72 1.47 1.35L5.41 20z\"/>\n",
              "  </svg>\n",
              "      </button>\n",
              "      \n",
              "  <style>\n",
              "    .colab-df-container {\n",
              "      display:flex;\n",
              "      flex-wrap:wrap;\n",
              "      gap: 12px;\n",
              "    }\n",
              "\n",
              "    .colab-df-convert {\n",
              "      background-color: #E8F0FE;\n",
              "      border: none;\n",
              "      border-radius: 50%;\n",
              "      cursor: pointer;\n",
              "      display: none;\n",
              "      fill: #1967D2;\n",
              "      height: 32px;\n",
              "      padding: 0 0 0 0;\n",
              "      width: 32px;\n",
              "    }\n",
              "\n",
              "    .colab-df-convert:hover {\n",
              "      background-color: #E2EBFA;\n",
              "      box-shadow: 0px 1px 2px rgba(60, 64, 67, 0.3), 0px 1px 3px 1px rgba(60, 64, 67, 0.15);\n",
              "      fill: #174EA6;\n",
              "    }\n",
              "\n",
              "    [theme=dark] .colab-df-convert {\n",
              "      background-color: #3B4455;\n",
              "      fill: #D2E3FC;\n",
              "    }\n",
              "\n",
              "    [theme=dark] .colab-df-convert:hover {\n",
              "      background-color: #434B5C;\n",
              "      box-shadow: 0px 1px 3px 1px rgba(0, 0, 0, 0.15);\n",
              "      filter: drop-shadow(0px 1px 2px rgba(0, 0, 0, 0.3));\n",
              "      fill: #FFFFFF;\n",
              "    }\n",
              "  </style>\n",
              "\n",
              "      <script>\n",
              "        const buttonEl =\n",
              "          document.querySelector('#df-a1ef096a-cbd0-48f7-b094-6812097e55d6 button.colab-df-convert');\n",
              "        buttonEl.style.display =\n",
              "          google.colab.kernel.accessAllowed ? 'block' : 'none';\n",
              "\n",
              "        async function convertToInteractive(key) {\n",
              "          const element = document.querySelector('#df-a1ef096a-cbd0-48f7-b094-6812097e55d6');\n",
              "          const dataTable =\n",
              "            await google.colab.kernel.invokeFunction('convertToInteractive',\n",
              "                                                     [key], {});\n",
              "          if (!dataTable) return;\n",
              "\n",
              "          const docLinkHtml = 'Like what you see? Visit the ' +\n",
              "            '<a target=\"_blank\" href=https://colab.research.google.com/notebooks/data_table.ipynb>data table notebook</a>'\n",
              "            + ' to learn more about interactive tables.';\n",
              "          element.innerHTML = '';\n",
              "          dataTable['output_type'] = 'display_data';\n",
              "          await google.colab.output.renderOutput(dataTable, element);\n",
              "          const docLink = document.createElement('div');\n",
              "          docLink.innerHTML = docLinkHtml;\n",
              "          element.appendChild(docLink);\n",
              "        }\n",
              "      </script>\n",
              "    </div>\n",
              "  </div>\n",
              "  "
            ]
          },
          "metadata": {},
          "execution_count": 42
        }
      ]
    },
    {
      "cell_type": "markdown",
      "source": [
        "- plot으로 하이퍼파라미터 별로 훈련셋과 테스트셋 정확도 살펴보기"
      ],
      "metadata": {
        "id": "7bcN09K9j25p"
      }
    },
    {
      "cell_type": "code",
      "source": [
        "import matplotlib.pyplot as plt\n",
        "\n",
        "plt.plot(result['param_C'], result['mean_train_score'], label = 'Train')\n",
        "plt.plot(result['param_C'], result['mean_test_score'], label = 'Validation')\n",
        "plt.legend()"
      ],
      "metadata": {
        "colab": {
          "base_uri": "https://localhost:8080/",
          "height": 283
        },
        "id": "x_v_-UaTh3Pz",
        "outputId": "8b7c2cde-3dce-4b9e-8c36-4b884e8e6b0d"
      },
      "execution_count": null,
      "outputs": [
        {
          "output_type": "execute_result",
          "data": {
            "text/plain": [
              "<matplotlib.legend.Legend at 0x7fe5019650d0>"
            ]
          },
          "metadata": {},
          "execution_count": 43
        },
        {
          "output_type": "display_data",
          "data": {
            "text/plain": [
              "<Figure size 432x288 with 1 Axes>"
            ],
            "image/png": "[encoded data removed]"
          },
          "metadata": {
            "needs_background": "light"
          }
        }
      ]
    },
    {
      "cell_type": "markdown",
      "source": [
        "### Random search\n",
        "\n",
        "- 범위를 정하고 그 안에서 무작위로 하이퍼파라미터를 찾음\n",
        "- 랜덤하게 뽑아야 하니 randint 라이브러리 사용함\n",
        "- 무작위로 많이 찾아 돌려보는  greedy 방법이라 컴퓨팅 인프라 필요함"
      ],
      "metadata": {
        "id": "4B92GyfXkiV8"
      }
    },
    {
      "cell_type": "code",
      "source": [
        "from sklearn.model_selection import RandomizedSearchCV\n",
        "from scipy.stats import randint\n",
        "\n",
        "param_distribs = {'C': randint(low = 0.001, high = 100)}"
      ],
      "metadata": {
        "id": "zwo0jZVxh3M4"
      },
      "execution_count": null,
      "outputs": []
    },
    {
      "cell_type": "code",
      "source": [
        "# model fitting\n",
        "\n",
        "from sklearn.linear_model import LogisticRegression\n",
        "\n",
        "random_search = RandomizedSearchCV(LogisticRegression(),\n",
        "                                   param_distributions = param_distribs,\n",
        "                                   cv = 5, # 옵션\n",
        "                                   n_iter = 10, # 디폴트 10\n",
        "                                   return_train_score = True) # 옵션\n",
        "\n",
        "random_search.fit(X_train, y_train)"
      ],
      "metadata": {
        "colab": {
          "base_uri": "https://localhost:8080/"
        },
        "id": "ziC74PoKh3Hs",
        "outputId": "a9100623-ca73-4b9c-a5d0-30e40c94c929"
      },
      "execution_count": null,
      "outputs": [
        {
          "output_type": "execute_result",
          "data": {
            "text/plain": [
              "RandomizedSearchCV(cv=5, estimator=LogisticRegression(),\n",
              "                   param_distributions={'C': <scipy.stats._distn_infrastructure.rv_frozen object at 0x7fe501924c50>},\n",
              "                   return_train_score=True)"
            ]
          },
          "metadata": {},
          "execution_count": 45
        }
      ]
    },
    {
      "cell_type": "code",
      "source": [
        "print(f\"Best Parameter: {random_search.best_params_}\")\n",
        "print(f\"Best CV score: {random_search.best_score_ :.3f}\")"
      ],
      "metadata": {
        "colab": {
          "base_uri": "https://localhost:8080/"
        },
        "id": "F977pAO3h3E0",
        "outputId": "e02c0e53-3cda-4d83-ed63-3508fb4f4847"
      },
      "execution_count": null,
      "outputs": [
        {
          "output_type": "stream",
          "name": "stdout",
          "text": [
            "Best Parameter: {'C': 7}\n",
            "Best CV score: 0.763\n"
          ]
        }
      ]
    },
    {
      "cell_type": "code",
      "source": [
        "print(f\"Test set Score: {random_search.score(X_val, y_val) :.3f}\") # fit 아니고 score임!!"
      ],
      "metadata": {
        "colab": {
          "base_uri": "https://localhost:8080/"
        },
        "id": "Jqp3Rtj2h3Bi",
        "outputId": "893a1426-6327-4700-a11e-4116031ff199"
      },
      "execution_count": null,
      "outputs": [
        {
          "output_type": "stream",
          "name": "stdout",
          "text": [
            "Test set Score: 0.644\n"
          ]
        }
      ]
    },
    {
      "cell_type": "code",
      "source": [
        "# 상세값 출력\n",
        "\n",
        "result = random_search.cv_results_\n",
        "pd.DataFrame(result)"
      ],
      "metadata": {
        "colab": {
          "base_uri": "https://localhost:8080/",
          "height": 456
        },
        "id": "g8JrhLBjl63m",
        "outputId": "c8734002-b9a0-41b2-9783-a882b5bf8196"
      },
      "execution_count": null,
      "outputs": [
        {
          "output_type": "execute_result",
          "data": {
            "text/plain": [
              "   mean_fit_time  std_fit_time  mean_score_time  std_score_time param_C  \\\n",
              "0       0.034612      0.011314         0.002539        0.000164      23   \n",
              "1       0.032314      0.011008         0.002174        0.000321      60   \n",
              "2       0.015517      0.002451         0.001607        0.000040      10   \n",
              "3       0.016732      0.002900         0.001832        0.000311      39   \n",
              "4       0.024391      0.006887         0.001927        0.000346      88   \n",
              "5       0.019022      0.003394         0.001718        0.000319      20   \n",
              "6       0.014914      0.002795         0.001616        0.000120      12   \n",
              "7       0.016588      0.000905         0.001585        0.000032      49   \n",
              "8       0.015978      0.002011         0.001555        0.000042      23   \n",
              "9       0.014389      0.000500         0.001486        0.000101       7   \n",
              "\n",
              "      params  split0_test_score  split1_test_score  split2_test_score  \\\n",
              "0  {'C': 23}           0.904762           0.761905               0.60   \n",
              "1  {'C': 60}           0.904762           0.761905               0.60   \n",
              "2  {'C': 10}           0.904762           0.761905               0.60   \n",
              "3  {'C': 39}           0.904762           0.761905               0.60   \n",
              "4  {'C': 88}           0.904762           0.761905               0.60   \n",
              "5  {'C': 20}           0.904762           0.761905               0.60   \n",
              "6  {'C': 12}           0.904762           0.761905               0.60   \n",
              "7  {'C': 49}           0.904762           0.761905               0.60   \n",
              "8  {'C': 23}           0.904762           0.761905               0.60   \n",
              "9   {'C': 7}           0.904762           0.761905               0.65   \n",
              "\n",
              "   split3_test_score  ...  mean_test_score  std_test_score  rank_test_score  \\\n",
              "0               0.75  ...         0.753333        0.096475                2   \n",
              "1               0.75  ...         0.753333        0.096475                2   \n",
              "2               0.75  ...         0.753333        0.096475                2   \n",
              "3               0.75  ...         0.753333        0.096475                2   \n",
              "4               0.75  ...         0.753333        0.096475                2   \n",
              "5               0.75  ...         0.753333        0.096475                2   \n",
              "6               0.75  ...         0.753333        0.096475                2   \n",
              "7               0.75  ...         0.753333        0.096475                2   \n",
              "8               0.75  ...         0.753333        0.096475                2   \n",
              "9               0.75  ...         0.763333        0.081491                1   \n",
              "\n",
              "   split0_train_score  split1_train_score  split2_train_score  \\\n",
              "0            0.790123            0.839506            0.804878   \n",
              "1            0.790123            0.839506            0.804878   \n",
              "2            0.790123            0.839506            0.804878   \n",
              "3            0.790123            0.839506            0.804878   \n",
              "4            0.790123            0.839506            0.804878   \n",
              "5            0.790123            0.839506            0.804878   \n",
              "6            0.790123            0.839506            0.804878   \n",
              "7            0.790123            0.839506            0.804878   \n",
              "8            0.790123            0.839506            0.804878   \n",
              "9            0.790123            0.839506            0.804878   \n",
              "\n",
              "   split3_train_score  split4_train_score  mean_train_score  std_train_score  \n",
              "0            0.817073            0.841463          0.818609         0.019806  \n",
              "1            0.817073            0.841463          0.818609         0.019806  \n",
              "2            0.817073            0.829268          0.816170         0.017452  \n",
              "3            0.817073            0.841463          0.818609         0.019806  \n",
              "4            0.817073            0.841463          0.818609         0.019806  \n",
              "5            0.817073            0.841463          0.818609         0.019806  \n",
              "6            0.817073            0.829268          0.816170         0.017452  \n",
              "7            0.817073            0.841463          0.818609         0.019806  \n",
              "8            0.817073            0.841463          0.818609         0.019806  \n",
              "9            0.817073            0.829268          0.816170         0.017452  \n",
              "\n",
              "[10 rows x 21 columns]"
            ],
            "text/html": [
              "\n",
              "  <div id=\"df-25aa9de4-791b-44e2-b745-ab491e9c3557\">\n",
              "    <div class=\"colab-df-container\">\n",
              "      <div>\n",
              "<style scoped>\n",
              "    .dataframe tbody tr th:only-of-type {\n",
              "        vertical-align: middle;\n",
              "    }\n",
              "\n",
              "    .dataframe tbody tr th {\n",
              "        vertical-align: top;\n",
              "    }\n",
              "\n",
              "    .dataframe thead th {\n",
              "        text-align: right;\n",
              "    }\n",
              "</style>\n",
              "<table border=\"1\" class=\"dataframe\">\n",
              "  <thead>\n",
              "    <tr style=\"text-align: right;\">\n",
              "      <th></th>\n",
              "      <th>mean_fit_time</th>\n",
              "      <th>std_fit_time</th>\n",
              "      <th>mean_score_time</th>\n",
              "      <th>std_score_time</th>\n",
              "      <th>param_C</th>\n",
              "      <th>params</th>\n",
              "      <th>split0_test_score</th>\n",
              "      <th>split1_test_score</th>\n",
              "      <th>split2_test_score</th>\n",
              "      <th>split3_test_score</th>\n",
              "      <th>...</th>\n",
              "      <th>mean_test_score</th>\n",
              "      <th>std_test_score</th>\n",
              "      <th>rank_test_score</th>\n",
              "      <th>split0_train_score</th>\n",
              "      <th>split1_train_score</th>\n",
              "      <th>split2_train_score</th>\n",
              "      <th>split3_train_score</th>\n",
              "      <th>split4_train_score</th>\n",
              "      <th>mean_train_score</th>\n",
              "      <th>std_train_score</th>\n",
              "    </tr>\n",
              "  </thead>\n",
              "  <tbody>\n",
              "    <tr>\n",
              "      <th>0</th>\n",
              "      <td>0.034612</td>\n",
              "      <td>0.011314</td>\n",
              "      <td>0.002539</td>\n",
              "      <td>0.000164</td>\n",
              "      <td>23</td>\n",
              "      <td>{'C': 23}</td>\n",
              "      <td>0.904762</td>\n",
              "      <td>0.761905</td>\n",
              "      <td>0.60</td>\n",
              "      <td>0.75</td>\n",
              "      <td>...</td>\n",
              "      <td>0.753333</td>\n",
              "      <td>0.096475</td>\n",
              "      <td>2</td>\n",
              "      <td>0.790123</td>\n",
              "      <td>0.839506</td>\n",
              "      <td>0.804878</td>\n",
              "      <td>0.817073</td>\n",
              "      <td>0.841463</td>\n",
              "      <td>0.818609</td>\n",
              "      <td>0.019806</td>\n",
              "    </tr>\n",
              "    <tr>\n",
              "      <th>1</th>\n",
              "      <td>0.032314</td>\n",
              "      <td>0.011008</td>\n",
              "      <td>0.002174</td>\n",
              "      <td>0.000321</td>\n",
              "      <td>60</td>\n",
              "      <td>{'C': 60}</td>\n",
              "      <td>0.904762</td>\n",
              "      <td>0.761905</td>\n",
              "      <td>0.60</td>\n",
              "      <td>0.75</td>\n",
              "      <td>...</td>\n",
              "      <td>0.753333</td>\n",
              "      <td>0.096475</td>\n",
              "      <td>2</td>\n",
              "      <td>0.790123</td>\n",
              "      <td>0.839506</td>\n",
              "      <td>0.804878</td>\n",
              "      <td>0.817073</td>\n",
              "      <td>0.841463</td>\n",
              "      <td>0.818609</td>\n",
              "      <td>0.019806</td>\n",
              "    </tr>\n",
              "    <tr>\n",
              "      <th>2</th>\n",
              "      <td>0.015517</td>\n",
              "      <td>0.002451</td>\n",
              "      <td>0.001607</td>\n",
              "      <td>0.000040</td>\n",
              "      <td>10</td>\n",
              "      <td>{'C': 10}</td>\n",
              "      <td>0.904762</td>\n",
              "      <td>0.761905</td>\n",
              "      <td>0.60</td>\n",
              "      <td>0.75</td>\n",
              "      <td>...</td>\n",
              "      <td>0.753333</td>\n",
              "      <td>0.096475</td>\n",
              "      <td>2</td>\n",
              "      <td>0.790123</td>\n",
              "      <td>0.839506</td>\n",
              "      <td>0.804878</td>\n",
              "      <td>0.817073</td>\n",
              "      <td>0.829268</td>\n",
              "      <td>0.816170</td>\n",
              "      <td>0.017452</td>\n",
              "    </tr>\n",
              "    <tr>\n",
              "      <th>3</th>\n",
              "      <td>0.016732</td>\n",
              "      <td>0.002900</td>\n",
              "      <td>0.001832</td>\n",
              "      <td>0.000311</td>\n",
              "      <td>39</td>\n",
              "      <td>{'C': 39}</td>\n",
              "      <td>0.904762</td>\n",
              "      <td>0.761905</td>\n",
              "      <td>0.60</td>\n",
              "      <td>0.75</td>\n",
              "      <td>...</td>\n",
              "      <td>0.753333</td>\n",
              "      <td>0.096475</td>\n",
              "      <td>2</td>\n",
              "      <td>0.790123</td>\n",
              "      <td>0.839506</td>\n",
              "      <td>0.804878</td>\n",
              "      <td>0.817073</td>\n",
              "      <td>0.841463</td>\n",
              "      <td>0.818609</td>\n",
              "      <td>0.019806</td>\n",
              "    </tr>\n",
              "    <tr>\n",
              "      <th>4</th>\n",
              "      <td>0.024391</td>\n",
              "      <td>0.006887</td>\n",
              "      <td>0.001927</td>\n",
              "      <td>0.000346</td>\n",
              "      <td>88</td>\n",
              "      <td>{'C': 88}</td>\n",
              "      <td>0.904762</td>\n",
              "      <td>0.761905</td>\n",
              "      <td>0.60</td>\n",
              "      <td>0.75</td>\n",
              "      <td>...</td>\n",
              "      <td>0.753333</td>\n",
              "      <td>0.096475</td>\n",
              "      <td>2</td>\n",
              "      <td>0.790123</td>\n",
              "      <td>0.839506</td>\n",
              "      <td>0.804878</td>\n",
              "      <td>0.817073</td>\n",
              "      <td>0.841463</td>\n",
              "      <td>0.818609</td>\n",
              "      <td>0.019806</td>\n",
              "    </tr>\n",
              "    <tr>\n",
              "      <th>5</th>\n",
              "      <td>0.019022</td>\n",
              "      <td>0.003394</td>\n",
              "      <td>0.001718</td>\n",
              "      <td>0.000319</td>\n",
              "      <td>20</td>\n",
              "      <td>{'C': 20}</td>\n",
              "      <td>0.904762</td>\n",
              "      <td>0.761905</td>\n",
              "      <td>0.60</td>\n",
              "      <td>0.75</td>\n",
              "      <td>...</td>\n",
              "      <td>0.753333</td>\n",
              "      <td>0.096475</td>\n",
              "      <td>2</td>\n",
              "      <td>0.790123</td>\n",
              "      <td>0.839506</td>\n",
              "      <td>0.804878</td>\n",
              "      <td>0.817073</td>\n",
              "      <td>0.841463</td>\n",
              "      <td>0.818609</td>\n",
              "      <td>0.019806</td>\n",
              "    </tr>\n",
              "    <tr>\n",
              "      <th>6</th>\n",
              "      <td>0.014914</td>\n",
              "      <td>0.002795</td>\n",
              "      <td>0.001616</td>\n",
              "      <td>0.000120</td>\n",
              "      <td>12</td>\n",
              "      <td>{'C': 12}</td>\n",
              "      <td>0.904762</td>\n",
              "      <td>0.761905</td>\n",
              "      <td>0.60</td>\n",
              "      <td>0.75</td>\n",
              "      <td>...</td>\n",
              "      <td>0.753333</td>\n",
              "      <td>0.096475</td>\n",
              "      <td>2</td>\n",
              "      <td>0.790123</td>\n",
              "      <td>0.839506</td>\n",
              "      <td>0.804878</td>\n",
              "      <td>0.817073</td>\n",
              "      <td>0.829268</td>\n",
              "      <td>0.816170</td>\n",
              "      <td>0.017452</td>\n",
              "    </tr>\n",
              "    <tr>\n",
              "      <th>7</th>\n",
              "      <td>0.016588</td>\n",
              "      <td>0.000905</td>\n",
              "      <td>0.001585</td>\n",
              "      <td>0.000032</td>\n",
              "      <td>49</td>\n",
              "      <td>{'C': 49}</td>\n",
              "      <td>0.904762</td>\n",
              "      <td>0.761905</td>\n",
              "      <td>0.60</td>\n",
              "      <td>0.75</td>\n",
              "      <td>...</td>\n",
              "      <td>0.753333</td>\n",
              "      <td>0.096475</td>\n",
              "      <td>2</td>\n",
              "      <td>0.790123</td>\n",
              "      <td>0.839506</td>\n",
              "      <td>0.804878</td>\n",
              "      <td>0.817073</td>\n",
              "      <td>0.841463</td>\n",
              "      <td>0.818609</td>\n",
              "      <td>0.019806</td>\n",
              "    </tr>\n",
              "    <tr>\n",
              "      <th>8</th>\n",
              "      <td>0.015978</td>\n",
              "      <td>0.002011</td>\n",
              "      <td>0.001555</td>\n",
              "      <td>0.000042</td>\n",
              "      <td>23</td>\n",
              "      <td>{'C': 23}</td>\n",
              "      <td>0.904762</td>\n",
              "      <td>0.761905</td>\n",
              "      <td>0.60</td>\n",
              "      <td>0.75</td>\n",
              "      <td>...</td>\n",
              "      <td>0.753333</td>\n",
              "      <td>0.096475</td>\n",
              "      <td>2</td>\n",
              "      <td>0.790123</td>\n",
              "      <td>0.839506</td>\n",
              "      <td>0.804878</td>\n",
              "      <td>0.817073</td>\n",
              "      <td>0.841463</td>\n",
              "      <td>0.818609</td>\n",
              "      <td>0.019806</td>\n",
              "    </tr>\n",
              "    <tr>\n",
              "      <th>9</th>\n",
              "      <td>0.014389</td>\n",
              "      <td>0.000500</td>\n",
              "      <td>0.001486</td>\n",
              "      <td>0.000101</td>\n",
              "      <td>7</td>\n",
              "      <td>{'C': 7}</td>\n",
              "      <td>0.904762</td>\n",
              "      <td>0.761905</td>\n",
              "      <td>0.65</td>\n",
              "      <td>0.75</td>\n",
              "      <td>...</td>\n",
              "      <td>0.763333</td>\n",
              "      <td>0.081491</td>\n",
              "      <td>1</td>\n",
              "      <td>0.790123</td>\n",
              "      <td>0.839506</td>\n",
              "      <td>0.804878</td>\n",
              "      <td>0.817073</td>\n",
              "      <td>0.829268</td>\n",
              "      <td>0.816170</td>\n",
              "      <td>0.017452</td>\n",
              "    </tr>\n",
              "  </tbody>\n",
              "</table>\n",
              "<p>10 rows × 21 columns</p>\n",
              "</div>\n",
              "      <button class=\"colab-df-convert\" onclick=\"convertToInteractive('df-25aa9de4-791b-44e2-b745-ab491e9c3557')\"\n",
              "              title=\"Convert this dataframe to an interactive table.\"\n",
              "              style=\"display:none;\">\n",
              "        \n",
              "  <svg xmlns=\"http://www.w3.org/2000/svg\" height=\"24px\"viewBox=\"0 0 24 24\"\n",
              "       width=\"24px\">\n",
              "    <path d=\"M0 0h24v24H0V0z\" fill=\"none\"/>\n",
              "    <path d=\"M18.56 5.44l.94 2.06.94-2.06 2.06-.94-2.06-.94-.94-2.06-.94 2.06-2.06.94zm-11 1L8.5 8.5l.94-2.06 2.06-.94-2.06-.94L8.5 2.5l-.94 2.06-2.06.94zm10 10l.94 2.06.94-2.06 2.06-.94-2.06-.94-.94-2.06-.94 2.06-2.06.94z\"/><path d=\"M17.41 7.96l-1.37-1.37c-.4-.4-.92-.59-1.43-.59-.52 0-1.04.2-1.43.59L10.3 9.45l-7.72 7.72c-.78.78-.78 2.05 0 2.83L4 21.41c.39.39.9.59 1.41.59.51 0 1.02-.2 1.41-.59l7.78-7.78 2.81-2.81c.8-.78.8-2.07 0-2.86zM5.41 20L4 18.59l7.72-7.72 1.47 1.35L5.41 20z\"/>\n",
              "  </svg>\n",
              "      </button>\n",
              "      \n",
              "  <style>\n",
              "    .colab-df-container {\n",
              "      display:flex;\n",
              "      flex-wrap:wrap;\n",
              "      gap: 12px;\n",
              "    }\n",
              "\n",
              "    .colab-df-convert {\n",
              "      background-color: #E8F0FE;\n",
              "      border: none;\n",
              "      border-radius: 50%;\n",
              "      cursor: pointer;\n",
              "      display: none;\n",
              "      fill: #1967D2;\n",
              "      height: 32px;\n",
              "      padding: 0 0 0 0;\n",
              "      width: 32px;\n",
              "    }\n",
              "\n",
              "    .colab-df-convert:hover {\n",
              "      background-color: #E2EBFA;\n",
              "      box-shadow: 0px 1px 2px rgba(60, 64, 67, 0.3), 0px 1px 3px 1px rgba(60, 64, 67, 0.15);\n",
              "      fill: #174EA6;\n",
              "    }\n",
              "\n",
              "    [theme=dark] .colab-df-convert {\n",
              "      background-color: #3B4455;\n",
              "      fill: #D2E3FC;\n",
              "    }\n",
              "\n",
              "    [theme=dark] .colab-df-convert:hover {\n",
              "      background-color: #434B5C;\n",
              "      box-shadow: 0px 1px 3px 1px rgba(0, 0, 0, 0.15);\n",
              "      filter: drop-shadow(0px 1px 2px rgba(0, 0, 0, 0.3));\n",
              "      fill: #FFFFFF;\n",
              "    }\n",
              "  </style>\n",
              "\n",
              "      <script>\n",
              "        const buttonEl =\n",
              "          document.querySelector('#df-25aa9de4-791b-44e2-b745-ab491e9c3557 button.colab-df-convert');\n",
              "        buttonEl.style.display =\n",
              "          google.colab.kernel.accessAllowed ? 'block' : 'none';\n",
              "\n",
              "        async function convertToInteractive(key) {\n",
              "          const element = document.querySelector('#df-25aa9de4-791b-44e2-b745-ab491e9c3557');\n",
              "          const dataTable =\n",
              "            await google.colab.kernel.invokeFunction('convertToInteractive',\n",
              "                                                     [key], {});\n",
              "          if (!dataTable) return;\n",
              "\n",
              "          const docLinkHtml = 'Like what you see? Visit the ' +\n",
              "            '<a target=\"_blank\" href=https://colab.research.google.com/notebooks/data_table.ipynb>data table notebook</a>'\n",
              "            + ' to learn more about interactive tables.';\n",
              "          element.innerHTML = '';\n",
              "          dataTable['output_type'] = 'display_data';\n",
              "          await google.colab.output.renderOutput(dataTable, element);\n",
              "          const docLink = document.createElement('div');\n",
              "          docLink.innerHTML = docLinkHtml;\n",
              "          element.appendChild(docLink);\n",
              "        }\n",
              "      </script>\n",
              "    </div>\n",
              "  </div>\n",
              "  "
            ]
          },
          "metadata": {},
          "execution_count": 48
        }
      ]
    },
    {
      "cell_type": "code",
      "source": [
        "# 그래프 출력\n",
        "import matplotlib.pyplot as plt\n",
        "\n",
        "plt.plot(result['param_C'], result['mean_train_score'], label = \"Train\")\n",
        "plt.plot(result['param_C'], result['mean_test_score'], label = \"Validation\")\n",
        "plt.legend()"
      ],
      "metadata": {
        "colab": {
          "base_uri": "https://localhost:8080/",
          "height": 283
        },
        "id": "xVSwDPrIl60s",
        "outputId": "80492422-3f3e-447a-e3c6-46700c3d5a82"
      },
      "execution_count": null,
      "outputs": [
        {
          "output_type": "execute_result",
          "data": {
            "text/plain": [
              "<matplotlib.legend.Legend at 0x7fe501965c90>"
            ]
          },
          "metadata": {},
          "execution_count": 49
        },
        {
          "output_type": "display_data",
          "data": {
            "text/plain": [
              "<Figure size 432x288 with 1 Axes>"
            ],
            "image/png": "[encoded data removed]"
          },
          "metadata": {
            "needs_background": "light"
          }
        }
      ]
    },
    {
      "cell_type": "markdown",
      "source": [
        "## section4. model evaluation"
      ],
      "metadata": {
        "id": "Ohnrsvzf4R2E"
      }
    },
    {
      "cell_type": "code",
      "source": [
        "# 위에서 best로 뽑힌 C = 0.1 사용하여 모델 학습하기\n",
        "\n",
        "fin_model = LogisticRegression(C = 0.1)\n",
        "fin_model.fit(X_train, y_train)\n",
        "\n",
        "y_train_pred = fin_model.predict(X_train)\n",
        "y_val_pred = fin_model.predict(X_val)"
      ],
      "metadata": {
        "id": "uDvlcvjSl6yJ"
      },
      "execution_count": null,
      "outputs": []
    },
    {
      "cell_type": "code",
      "source": [
        "# 모델 평가하기\n",
        "from sklearn.metrics import accuracy_score\n",
        "\n",
        "print(accuracy_score(y_val, y_val_pred))"
      ],
      "metadata": {
        "colab": {
          "base_uri": "https://localhost:8080/"
        },
        "id": "CDa5vHasl6vc",
        "outputId": "37eb8f2b-cf4c-4ecd-990f-16b45e09ff2a"
      },
      "execution_count": null,
      "outputs": [
        {
          "output_type": "stream",
          "name": "stdout",
          "text": [
            "0.7111111111111111\n"
          ]
        }
      ]
    },
    {
      "cell_type": "markdown",
      "source": [
        "### 혼동행렬 및 모델 평가"
      ],
      "metadata": {
        "id": "328X9xUL_z7_"
      }
    },
    {
      "cell_type": "code",
      "source": [
        "# train set의 혼동행렬, 모델 평가\n",
        "from sklearn.metrics import confusion_matrix, classification_report\n",
        "\n",
        "confusion_train = confusion_matrix(y_train, y_train_pred)\n",
        "print(confusion_train)\n",
        "print('='*56)\n",
        "creport_train = classification_report(y_train, y_train_pred)\n",
        "print(creport_train)\n",
        "\n",
        "# 투표 안 한 사람이 29명 중 6만 제대로 예측해냄.. 투표 안 할지에 대한 예측이 어렵다는 것을 알 수 있음."
      ],
      "metadata": {
        "colab": {
          "base_uri": "https://localhost:8080/"
        },
        "id": "ZNbXCP4E8ux3",
        "outputId": "7a75b350-4b0b-423b-d871-3a38bbee3aee"
      },
      "execution_count": null,
      "outputs": [
        {
          "output_type": "stream",
          "name": "stdout",
          "text": [
            "[[ 6 23]\n",
            " [ 1 72]]\n",
            "========================================================\n",
            "              precision    recall  f1-score   support\n",
            "\n",
            "           0       0.86      0.21      0.33        29\n",
            "           1       0.76      0.99      0.86        73\n",
            "\n",
            "    accuracy                           0.76       102\n",
            "   macro avg       0.81      0.60      0.60       102\n",
            "weighted avg       0.79      0.76      0.71       102\n",
            "\n"
          ]
        }
      ]
    },
    {
      "cell_type": "code",
      "source": [
        "# validation set의 혼동행렬, 모델 평가\n",
        "from sklearn.metrics import confusion_matrix, classification_report\n",
        "\n",
        "confusion_val = confusion_matrix(y_val, y_val_pred)\n",
        "print(confusion_val)\n",
        "print('='*56)\n",
        "creport_val = classification_report(y_val, y_val_pred)\n",
        "print(creport_val)\n",
        "\n",
        "# 역시나 투표 안 한 사람들을 예측하지 못하고 있음"
      ],
      "metadata": {
        "colab": {
          "base_uri": "https://localhost:8080/"
        },
        "id": "Q5G60pL18uve",
        "outputId": "f98a130f-cc19-4cec-b444-1b103e83c1ae"
      },
      "execution_count": null,
      "outputs": [
        {
          "output_type": "stream",
          "name": "stdout",
          "text": [
            "[[ 1 12]\n",
            " [ 1 31]]\n",
            "========================================================\n",
            "              precision    recall  f1-score   support\n",
            "\n",
            "           0       0.50      0.08      0.13        13\n",
            "           1       0.72      0.97      0.83        32\n",
            "\n",
            "    accuracy                           0.71        45\n",
            "   macro avg       0.61      0.52      0.48        45\n",
            "weighted avg       0.66      0.71      0.63        45\n",
            "\n"
          ]
        }
      ]
    },
    {
      "cell_type": "markdown",
      "source": [
        "### ROC Curve"
      ],
      "metadata": {
        "id": "EAYIXJWn_0o-"
      }
    },
    {
      "cell_type": "code",
      "source": [
        "from sklearn.metrics import roc_auc_score\n",
        "\n",
        "print(roc_auc_score(y_train, y_train_pred))\n",
        "print(roc_auc_score(y_val, y_val_pred))"
      ],
      "metadata": {
        "colab": {
          "base_uri": "https://localhost:8080/"
        },
        "id": "BLNnJ--Q8utM",
        "outputId": "1474e8cf-e2fb-4daf-9109-d8c695bdc538"
      },
      "execution_count": null,
      "outputs": [
        {
          "output_type": "stream",
          "name": "stdout",
          "text": [
            "0.5965989607935758\n",
            "0.5228365384615384\n"
          ]
        }
      ]
    },
    {
      "cell_type": "code",
      "source": [
        "# sklearn에서 plot 기능은 제공하지 않기 때문에 따로 그려야함\n",
        "\n",
        "from sklearn.metrics import roc_curve, auc\n",
        "\n",
        "false_pos_rate, true_pos_rate, thresholds = roc_curve(y_val, fin_model.decision_function(X_val))\n",
        "\n",
        "roc_auc = roc_auc_score(y_val, y_val_pred)"
      ],
      "metadata": {
        "id": "Ptps7HHu8uqb"
      },
      "execution_count": null,
      "outputs": []
    },
    {
      "cell_type": "code",
      "source": [
        "fin_model.decision_function(X_val)"
      ],
      "metadata": {
        "colab": {
          "base_uri": "https://localhost:8080/"
        },
        "id": "UGaYxaZf8un0",
        "outputId": "da395ad6-9585-417d-b076-e745beaec7aa"
      },
      "execution_count": null,
      "outputs": [
        {
          "output_type": "execute_result",
          "data": {
            "text/plain": [
              "array([ 0.47163822,  1.06077357,  1.39282789,  1.26267622,  0.63631647,\n",
              "        0.69652342,  0.67218732,  0.82787272, -0.09276405,  1.48582751,\n",
              "        1.75960688,  1.17579335,  0.52020023,  1.20622155,  1.51765913,\n",
              "        1.0818189 ,  0.98338458,  0.98538276,  1.84200312,  1.73853198,\n",
              "        0.7912778 ,  0.65824456,  1.98642338,  0.96630935,  1.05502531,\n",
              "        0.82522401,  1.42775205,  0.62377912,  1.88457394,  1.25792362,\n",
              "        1.27176096,  0.91474011,  1.2178329 ,  1.09084392,  0.05554144,\n",
              "       -0.1575476 ,  1.37773939,  1.75414917,  0.83091252,  0.47402871,\n",
              "        1.35485166,  1.22833455,  1.64201058,  0.60392015,  0.94781637])"
            ]
          },
          "metadata": {},
          "execution_count": 62
        }
      ]
    },
    {
      "cell_type": "code",
      "source": [
        "roc_curve(y_val, fin_model.decision_function(X_val))"
      ],
      "metadata": {
        "colab": {
          "base_uri": "https://localhost:8080/"
        },
        "id": "F1e3JIwxCV-y",
        "outputId": "ce1eba5a-d060-4c51-9e50-1854828c0f8c"
      },
      "execution_count": null,
      "outputs": [
        {
          "output_type": "execute_result",
          "data": {
            "text/plain": [
              "(array([0.        , 0.        , 0.        , 0.07692308, 0.07692308,\n",
              "        0.30769231, 0.30769231, 0.46153846, 0.46153846, 0.53846154,\n",
              "        0.53846154, 0.61538462, 0.61538462, 0.84615385, 0.84615385,\n",
              "        1.        , 1.        ]),\n",
              " array([0.     , 0.03125, 0.28125, 0.28125, 0.5625 , 0.5625 , 0.59375,\n",
              "        0.59375, 0.6875 , 0.6875 , 0.71875, 0.71875, 0.9375 , 0.9375 ,\n",
              "        0.96875, 0.96875, 1.     ]),\n",
              " array([ 2.98642338,  1.98642338,  1.48582751,  1.42775205,  1.20622155,\n",
              "         1.0818189 ,  1.06077357,  0.98538276,  0.94781637,  0.91474011,\n",
              "         0.83091252,  0.82787272,  0.62377912,  0.47402871,  0.47163822,\n",
              "        -0.09276405, -0.1575476 ]))"
            ]
          },
          "metadata": {},
          "execution_count": 64
        }
      ]
    },
    {
      "cell_type": "code",
      "source": [
        "import matplotlib.pyplot as plt\n",
        "\n",
        "plt.plot(false_pos_rate, true_pos_rate, 'b', label = f'Model(AUC={roc_auc :.2f}')\n",
        "plt.plot([0,1], [1,1], 'y--')\n",
        "plt.plot([0,1], [0,1], 'r--')\n",
        "\n",
        "plt.title('ROC curve')\n",
        "plt.xlabel('False positive rate(1 - Specificity)')\n",
        "plt.ylabel('True positive rate(Sensitivity)')\n",
        "plt.legend(loc = 'best')\n",
        "\n",
        "plt.show()"
      ],
      "metadata": {
        "colab": {
          "base_uri": "https://localhost:8080/",
          "height": 376
        },
        "id": "TCJa5RkQCciJ",
        "outputId": "0836043e-53c7-4ae5-d378-460cf70033a4"
      },
      "execution_count": null,
      "outputs": [
        {
          "output_type": "display_data",
          "data": {
            "text/plain": [
              "<Figure size 576x396 with 1 Axes>"
            ],
            "image/png": "[encoded data removed]"
          },
          "metadata": {}
        }
      ]
    },
    {
      "cell_type": "markdown",
      "source": [
        "- 종합적으로 볼 때, 결과는.. 쓰레기임\n",
        "- 모델 문제보다는 투표 여부 예측하기에 X 변수가 부족함"
      ],
      "metadata": {
        "id": "zTKvySe0EDqV"
      }
    },
    {
      "cell_type": "markdown",
      "source": [
        "## section5. 다중분류"
      ],
      "metadata": {
        "id": "PRDNheQ-ELYF"
      }
    },
    {
      "cell_type": "markdown",
      "source": [
        "- 2022년 제4회 빅데이터분석기사 실기 시험에서 다중분류가 나왔습니다. 이전 회차들은 이중분류와 회귀였는데 다중분류가 나와 당황했다는 후기가 몇 개 있던 기억이 납니다. 저는 xgboost, RF 중 더 좋은 결과 썼습니다만,, 매번 새로운 형태의 문제를 내는 거 보면 다음은 또 다른 문제가 나오지 않을까 싶다가도 평가가 어려운 비지도 학습은 안 나올 것 같네요\n",
        "\n",
        "(누가 볼까봐 존댓말 썼다가 아무도 안 보겠지 싶어서 반말 썼다가 아주 난리네)"
      ],
      "metadata": {
        "id": "j37EHmLaEY0O"
      }
    },
    {
      "cell_type": "markdown",
      "source": [
        "- 데이터 설명\n",
        "  - 다른 변수는 Fvote와 동일, target값만 지지정당인 (1,2,3,4) 4개 범주로 되어있음"
      ],
      "metadata": {
        "id": "uyNVOTykFqs-"
      }
    },
    {
      "cell_type": "code",
      "source": [
        "# 데이터 불러오기\n",
        "\n",
        "import pandas as pd\n",
        "data = pd.read_csv('Fvote.csv', encoding = 'utf-8')"
      ],
      "metadata": {
        "id": "gT8DBz2LFYPA"
      },
      "execution_count": null,
      "outputs": []
    },
    {
      "cell_type": "code",
      "source": [
        "data.head()"
      ],
      "metadata": {
        "colab": {
          "base_uri": "https://localhost:8080/",
          "height": 270
        },
        "id": "CNowICo0GeWX",
        "outputId": "bb7e6e7a-4e67-495b-b63d-ffd2596cfcb0"
      },
      "execution_count": null,
      "outputs": [
        {
          "output_type": "execute_result",
          "data": {
            "text/plain": [
              "   gender_female  gender_male  region_Chungcheung  region_Honam  \\\n",
              "0              0            1                   0             0   \n",
              "1              0            1                   0             0   \n",
              "2              0            1                   0             1   \n",
              "3              1            0                   0             0   \n",
              "4              0            1                   0             0   \n",
              "\n",
              "   region_Others  region_Sudo  region_Youngnam  edu  income  age  score_gov  \\\n",
              "0              0            0                1    3       3    3          2   \n",
              "1              1            0                0    2       3    3          2   \n",
              "2              0            0                0    1       2    4          1   \n",
              "3              0            1                0    2       1    3          5   \n",
              "4              0            1                0    1       2    4          4   \n",
              "\n",
              "   score_progress  score_intention  vote  parties  \n",
              "0               2              4.0     1        2  \n",
              "1               4              3.0     0        3  \n",
              "2               3              2.8     1        4  \n",
              "3               4              2.6     1        1  \n",
              "4               3              2.4     1        1  "
            ],
            "text/html": [
              "\n",
              "  <div id=\"df-061de118-62be-4f74-97f1-67f14bdabddd\">\n",
              "    <div class=\"colab-df-container\">\n",
              "      <div>\n",
              "<style scoped>\n",
              "    .dataframe tbody tr th:only-of-type {\n",
              "        vertical-align: middle;\n",
              "    }\n",
              "\n",
              "    .dataframe tbody tr th {\n",
              "        vertical-align: top;\n",
              "    }\n",
              "\n",
              "    .dataframe thead th {\n",
              "        text-align: right;\n",
              "    }\n",
              "</style>\n",
              "<table border=\"1\" class=\"dataframe\">\n",
              "  <thead>\n",
              "    <tr style=\"text-align: right;\">\n",
              "      <th></th>\n",
              "      <th>gender_female</th>\n",
              "      <th>gender_male</th>\n",
              "      <th>region_Chungcheung</th>\n",
              "      <th>region_Honam</th>\n",
              "      <th>region_Others</th>\n",
              "      <th>region_Sudo</th>\n",
              "      <th>region_Youngnam</th>\n",
              "      <th>edu</th>\n",
              "      <th>income</th>\n",
              "      <th>age</th>\n",
              "      <th>score_gov</th>\n",
              "      <th>score_progress</th>\n",
              "      <th>score_intention</th>\n",
              "      <th>vote</th>\n",
              "      <th>parties</th>\n",
              "    </tr>\n",
              "  </thead>\n",
              "  <tbody>\n",
              "    <tr>\n",
              "      <th>0</th>\n",
              "      <td>0</td>\n",
              "      <td>1</td>\n",
              "      <td>0</td>\n",
              "      <td>0</td>\n",
              "      <td>0</td>\n",
              "      <td>0</td>\n",
              "      <td>1</td>\n",
              "      <td>3</td>\n",
              "      <td>3</td>\n",
              "      <td>3</td>\n",
              "      <td>2</td>\n",
              "      <td>2</td>\n",
              "      <td>4.0</td>\n",
              "      <td>1</td>\n",
              "      <td>2</td>\n",
              "    </tr>\n",
              "    <tr>\n",
              "      <th>1</th>\n",
              "      <td>0</td>\n",
              "      <td>1</td>\n",
              "      <td>0</td>\n",
              "      <td>0</td>\n",
              "      <td>1</td>\n",
              "      <td>0</td>\n",
              "      <td>0</td>\n",
              "      <td>2</td>\n",
              "      <td>3</td>\n",
              "      <td>3</td>\n",
              "      <td>2</td>\n",
              "      <td>4</td>\n",
              "      <td>3.0</td>\n",
              "      <td>0</td>\n",
              "      <td>3</td>\n",
              "    </tr>\n",
              "    <tr>\n",
              "      <th>2</th>\n",
              "      <td>0</td>\n",
              "      <td>1</td>\n",
              "      <td>0</td>\n",
              "      <td>1</td>\n",
              "      <td>0</td>\n",
              "      <td>0</td>\n",
              "      <td>0</td>\n",
              "      <td>1</td>\n",
              "      <td>2</td>\n",
              "      <td>4</td>\n",
              "      <td>1</td>\n",
              "      <td>3</td>\n",
              "      <td>2.8</td>\n",
              "      <td>1</td>\n",
              "      <td>4</td>\n",
              "    </tr>\n",
              "    <tr>\n",
              "      <th>3</th>\n",
              "      <td>1</td>\n",
              "      <td>0</td>\n",
              "      <td>0</td>\n",
              "      <td>0</td>\n",
              "      <td>0</td>\n",
              "      <td>1</td>\n",
              "      <td>0</td>\n",
              "      <td>2</td>\n",
              "      <td>1</td>\n",
              "      <td>3</td>\n",
              "      <td>5</td>\n",
              "      <td>4</td>\n",
              "      <td>2.6</td>\n",
              "      <td>1</td>\n",
              "      <td>1</td>\n",
              "    </tr>\n",
              "    <tr>\n",
              "      <th>4</th>\n",
              "      <td>0</td>\n",
              "      <td>1</td>\n",
              "      <td>0</td>\n",
              "      <td>0</td>\n",
              "      <td>0</td>\n",
              "      <td>1</td>\n",
              "      <td>0</td>\n",
              "      <td>1</td>\n",
              "      <td>2</td>\n",
              "      <td>4</td>\n",
              "      <td>4</td>\n",
              "      <td>3</td>\n",
              "      <td>2.4</td>\n",
              "      <td>1</td>\n",
              "      <td>1</td>\n",
              "    </tr>\n",
              "  </tbody>\n",
              "</table>\n",
              "</div>\n",
              "      <button class=\"colab-df-convert\" onclick=\"convertToInteractive('df-061de118-62be-4f74-97f1-67f14bdabddd')\"\n",
              "              title=\"Convert this dataframe to an interactive table.\"\n",
              "              style=\"display:none;\">\n",
              "        \n",
              "  <svg xmlns=\"http://www.w3.org/2000/svg\" height=\"24px\"viewBox=\"0 0 24 24\"\n",
              "       width=\"24px\">\n",
              "    <path d=\"M0 0h24v24H0V0z\" fill=\"none\"/>\n",
              "    <path d=\"M18.56 5.44l.94 2.06.94-2.06 2.06-.94-2.06-.94-.94-2.06-.94 2.06-2.06.94zm-11 1L8.5 8.5l.94-2.06 2.06-.94-2.06-.94L8.5 2.5l-.94 2.06-2.06.94zm10 10l.94 2.06.94-2.06 2.06-.94-2.06-.94-.94-2.06-.94 2.06-2.06.94z\"/><path d=\"M17.41 7.96l-1.37-1.37c-.4-.4-.92-.59-1.43-.59-.52 0-1.04.2-1.43.59L10.3 9.45l-7.72 7.72c-.78.78-.78 2.05 0 2.83L4 21.41c.39.39.9.59 1.41.59.51 0 1.02-.2 1.41-.59l7.78-7.78 2.81-2.81c.8-.78.8-2.07 0-2.86zM5.41 20L4 18.59l7.72-7.72 1.47 1.35L5.41 20z\"/>\n",
              "  </svg>\n",
              "      </button>\n",
              "      \n",
              "  <style>\n",
              "    .colab-df-container {\n",
              "      display:flex;\n",
              "      flex-wrap:wrap;\n",
              "      gap: 12px;\n",
              "    }\n",
              "\n",
              "    .colab-df-convert {\n",
              "      background-color: #E8F0FE;\n",
              "      border: none;\n",
              "      border-radius: 50%;\n",
              "      cursor: pointer;\n",
              "      display: none;\n",
              "      fill: #1967D2;\n",
              "      height: 32px;\n",
              "      padding: 0 0 0 0;\n",
              "      width: 32px;\n",
              "    }\n",
              "\n",
              "    .colab-df-convert:hover {\n",
              "      background-color: #E2EBFA;\n",
              "      box-shadow: 0px 1px 2px rgba(60, 64, 67, 0.3), 0px 1px 3px 1px rgba(60, 64, 67, 0.15);\n",
              "      fill: #174EA6;\n",
              "    }\n",
              "\n",
              "    [theme=dark] .colab-df-convert {\n",
              "      background-color: #3B4455;\n",
              "      fill: #D2E3FC;\n",
              "    }\n",
              "\n",
              "    [theme=dark] .colab-df-convert:hover {\n",
              "      background-color: #434B5C;\n",
              "      box-shadow: 0px 1px 3px 1px rgba(0, 0, 0, 0.15);\n",
              "      filter: drop-shadow(0px 1px 2px rgba(0, 0, 0, 0.3));\n",
              "      fill: #FFFFFF;\n",
              "    }\n",
              "  </style>\n",
              "\n",
              "      <script>\n",
              "        const buttonEl =\n",
              "          document.querySelector('#df-061de118-62be-4f74-97f1-67f14bdabddd button.colab-df-convert');\n",
              "        buttonEl.style.display =\n",
              "          google.colab.kernel.accessAllowed ? 'block' : 'none';\n",
              "\n",
              "        async function convertToInteractive(key) {\n",
              "          const element = document.querySelector('#df-061de118-62be-4f74-97f1-67f14bdabddd');\n",
              "          const dataTable =\n",
              "            await google.colab.kernel.invokeFunction('convertToInteractive',\n",
              "                                                     [key], {});\n",
              "          if (!dataTable) return;\n",
              "\n",
              "          const docLinkHtml = 'Like what you see? Visit the ' +\n",
              "            '<a target=\"_blank\" href=https://colab.research.google.com/notebooks/data_table.ipynb>data table notebook</a>'\n",
              "            + ' to learn more about interactive tables.';\n",
              "          element.innerHTML = '';\n",
              "          dataTable['output_type'] = 'display_data';\n",
              "          await google.colab.output.renderOutput(dataTable, element);\n",
              "          const docLink = document.createElement('div');\n",
              "          docLink.innerHTML = docLinkHtml;\n",
              "          element.appendChild(docLink);\n",
              "        }\n",
              "      </script>\n",
              "    </div>\n",
              "  </div>\n",
              "  "
            ]
          },
          "metadata": {},
          "execution_count": 74
        }
      ]
    },
    {
      "cell_type": "code",
      "source": [
        "# 데이터 확인\n",
        "\n",
        "print(data.describe().T)"
      ],
      "metadata": {
        "colab": {
          "base_uri": "https://localhost:8080/"
        },
        "id": "2ChY157_FYMX",
        "outputId": "73b166da-3ed1-4e10-afa0-cfa1f00d9699"
      },
      "execution_count": null,
      "outputs": [
        {
          "output_type": "stream",
          "name": "stdout",
          "text": [
            "                    count      mean       std  min  25%  50%  75%  max\n",
            "gender_female       211.0  0.341232  0.475251  0.0  0.0  0.0  1.0  1.0\n",
            "gender_male         211.0  0.658768  0.475251  0.0  0.0  1.0  1.0  1.0\n",
            "region_Chungcheung  211.0  0.080569  0.272819  0.0  0.0  0.0  0.0  1.0\n",
            "region_Honam        211.0  0.090047  0.286930  0.0  0.0  0.0  0.0  1.0\n",
            "region_Others       211.0  0.094787  0.293617  0.0  0.0  0.0  0.0  1.0\n",
            "region_Sudo         211.0  0.597156  0.491636  0.0  0.0  1.0  1.0  1.0\n",
            "region_Youngnam     211.0  0.137441  0.345131  0.0  0.0  0.0  0.0  1.0\n",
            "edu                 211.0  1.867299  0.625963  1.0  1.0  2.0  2.0  3.0\n",
            "income              211.0  2.208531  1.066424  1.0  1.0  2.0  3.0  4.0\n",
            "age                 211.0  2.654028  0.872173  1.0  2.0  3.0  3.0  4.0\n",
            "score_gov           211.0  3.056872  0.944451  1.0  3.0  3.0  4.0  5.0\n",
            "score_progress      211.0  3.094787  0.961408  1.0  2.0  3.0  4.0  5.0\n",
            "score_intention     211.0  2.910900  0.725078  1.0  2.4  3.0  3.4  5.0\n",
            "vote                211.0  0.710900  0.454422  0.0  0.0  1.0  1.0  1.0\n",
            "parties             211.0  2.668246  1.220416  1.0  2.0  3.0  4.0  4.0\n"
          ]
        }
      ]
    },
    {
      "cell_type": "code",
      "source": [
        "# 요약정보 확인\n",
        "\n",
        "print(data.info())"
      ],
      "metadata": {
        "colab": {
          "base_uri": "https://localhost:8080/"
        },
        "id": "dK6hpBTGFYJV",
        "outputId": "6cf8f952-c118-4ddf-9066-76999d32fcc2"
      },
      "execution_count": null,
      "outputs": [
        {
          "output_type": "stream",
          "name": "stdout",
          "text": [
            "<class 'pandas.core.frame.DataFrame'>\n",
            "RangeIndex: 211 entries, 0 to 210\n",
            "Data columns (total 15 columns):\n",
            " #   Column              Non-Null Count  Dtype  \n",
            "---  ------              --------------  -----  \n",
            " 0   gender_female       211 non-null    int64  \n",
            " 1   gender_male         211 non-null    int64  \n",
            " 2   region_Chungcheung  211 non-null    int64  \n",
            " 3   region_Honam        211 non-null    int64  \n",
            " 4   region_Others       211 non-null    int64  \n",
            " 5   region_Sudo         211 non-null    int64  \n",
            " 6   region_Youngnam     211 non-null    int64  \n",
            " 7   edu                 211 non-null    int64  \n",
            " 8   income              211 non-null    int64  \n",
            " 9   age                 211 non-null    int64  \n",
            " 10  score_gov           211 non-null    int64  \n",
            " 11  score_progress      211 non-null    int64  \n",
            " 12  score_intention     211 non-null    float64\n",
            " 13  vote                211 non-null    int64  \n",
            " 14  parties             211 non-null    int64  \n",
            "dtypes: float64(1), int64(14)\n",
            "memory usage: 24.9 KB\n",
            "None\n"
          ]
        }
      ]
    },
    {
      "cell_type": "markdown",
      "source": [
        "### Feature, Target 분리"
      ],
      "metadata": {
        "id": "m9Sf1eN1HDOI"
      }
    },
    {
      "cell_type": "code",
      "source": [
        "X_data = data.drop(columns = ['parties', 'vote']) \n",
        "y_data = data[['parties']]\n"
      ],
      "metadata": {
        "id": "zWrLqtZwFYGu"
      },
      "execution_count": null,
      "outputs": []
    },
    {
      "cell_type": "markdown",
      "source": [
        "위 분석에서 까먹고 parties 안 뺏네요.. 귀찮으니 그냥 두겠습니다.."
      ],
      "metadata": {
        "id": "U5yyx-oZHnA0"
      }
    },
    {
      "cell_type": "code",
      "source": [
        "print(X_data.shape, y_data.shape)"
      ],
      "metadata": {
        "colab": {
          "base_uri": "https://localhost:8080/"
        },
        "id": "zkspOi5mFYEF",
        "outputId": "8322a8d5-b959-4053-bcba-7536dcc4cc84"
      },
      "execution_count": null,
      "outputs": [
        {
          "output_type": "stream",
          "name": "stdout",
          "text": [
            "(211, 13) (211, 1)\n"
          ]
        }
      ]
    },
    {
      "cell_type": "markdown",
      "source": [
        "### 데이터 분리"
      ],
      "metadata": {
        "id": "y3Md2n3wH9KA"
      }
    },
    {
      "cell_type": "code",
      "source": [
        "from sklearn.model_selection import train_test_split\n",
        "\n",
        "X_train_val, X_test, y_train_val, y_test = train_test_split(X_data, y_data,\n",
        "                                                            random_state = 56,\n",
        "                                                            stratify = y_data,\n",
        "                                                            test_size = 0.2)\n",
        "\n",
        "print(X_train_val.shape, X_test.shape, y_train_val.shape, y_test.shape)"
      ],
      "metadata": {
        "colab": {
          "base_uri": "https://localhost:8080/"
        },
        "id": "VCYZYHddFYBM",
        "outputId": "947796c6-9d78-4e24-90f9-d0efa53849c5"
      },
      "execution_count": null,
      "outputs": [
        {
          "output_type": "stream",
          "name": "stdout",
          "text": [
            "(168, 13) (43, 13) (168, 1) (43, 1)\n"
          ]
        }
      ]
    },
    {
      "cell_type": "code",
      "source": [
        "X_train, X_val, y_train, y_val = train_test_split(X_train_val, y_train_val,\n",
        "                                                  random_state = 56,\n",
        "                                                  stratify = y_train_val,\n",
        "                                                  test_size = 0.2)\n",
        "\n",
        "print(X_train.shape, X_val.shape, y_train.shape, y_val.shape)"
      ],
      "metadata": {
        "colab": {
          "base_uri": "https://localhost:8080/"
        },
        "id": "nmaC64M0FX9_",
        "outputId": "56e946f3-bd79-47d0-ba44-2767022e672c"
      },
      "execution_count": null,
      "outputs": [
        {
          "output_type": "stream",
          "name": "stdout",
          "text": [
            "(134, 13) (34, 13) (134, 1) (34, 1)\n"
          ]
        }
      ]
    },
    {
      "cell_type": "markdown",
      "source": [
        "### model fitting"
      ],
      "metadata": {
        "id": "yjjHXD8oU6z2"
      }
    },
    {
      "cell_type": "code",
      "source": [
        "from sklearn.linear_model import LogisticRegression\n",
        "\n",
        "model = LogisticRegression()"
      ],
      "metadata": {
        "id": "98AbvnRhU6dq"
      },
      "execution_count": null,
      "outputs": []
    },
    {
      "cell_type": "markdown",
      "source": [
        "### Grid search"
      ],
      "metadata": {
        "id": "ZiU4Vj6wTMuJ"
      }
    },
    {
      "cell_type": "code",
      "source": [
        "from sklearn.model_selection import cross_val_score, KFold\n",
        "\n",
        "kfold = KFold(n_splits = 5, shuffle = True, random_state = 56)\n",
        "\n",
        "score = cross_val_score(model, X_train, y_train, cv = kfold)\n",
        "print(\"5-fold mean acc.:\", score.mean())"
      ],
      "metadata": {
        "colab": {
          "base_uri": "https://localhost:8080/"
        },
        "id": "HoauHR74UxQQ",
        "outputId": "8b884393-eadb-4014-b028-0c2d7c9ce3c7"
      },
      "execution_count": null,
      "outputs": [
        {
          "output_type": "stream",
          "name": "stdout",
          "text": [
            "5-fold mean acc.: 0.5452991452991454\n"
          ]
        }
      ]
    },
    {
      "cell_type": "code",
      "source": [
        "from sklearn.model_selection import GridSearchCV\n",
        "from sklearn.linear_model import LogisticRegression\n",
        "\n",
        "\n",
        "param_grid = {'C': [0.001, 0.01, 0.1, 1, 10, 100]}\n",
        "\n",
        "grid_search = GridSearchCV(LogisticRegression(), param_grid = param_grid,\n",
        "                           cv = kfold, return_train_score = True)\n",
        "\n",
        "grid_search.fit(X_train, y_train)"
      ],
      "metadata": {
        "colab": {
          "base_uri": "https://localhost:8080/"
        },
        "id": "UYX9KeLrH4wM",
        "outputId": "6a02fabe-3d5f-48b6-ee61-8c52d7700a36"
      },
      "execution_count": null,
      "outputs": [
        {
          "output_type": "execute_result",
          "data": {
            "text/plain": [
              "GridSearchCV(cv=KFold(n_splits=5, random_state=56, shuffle=True),\n",
              "             estimator=LogisticRegression(),\n",
              "             param_grid={'C': [0.001, 0.01, 0.1, 1, 10, 100]},\n",
              "             return_train_score=True)"
            ]
          },
          "metadata": {},
          "execution_count": 99
        }
      ]
    },
    {
      "cell_type": "code",
      "source": [
        "print(f\"best parameter: {grid_search.best_params_}\")\n",
        "print(f\"best score: {grid_search.best_score_}\")"
      ],
      "metadata": {
        "colab": {
          "base_uri": "https://localhost:8080/"
        },
        "id": "xiE4WLbRH4s_",
        "outputId": "d99ef0e7-b79d-48ba-b8a3-e4576a4809e9"
      },
      "execution_count": null,
      "outputs": [
        {
          "output_type": "stream",
          "name": "stdout",
          "text": [
            "best parameter: {'C': 1}\n",
            "best score: 0.5452991452991454\n"
          ]
        }
      ]
    },
    {
      "cell_type": "code",
      "source": [
        "# validation set score\n",
        "\n",
        "print(f'Validation score: {grid_search.score(X_val, y_val)}')"
      ],
      "metadata": {
        "colab": {
          "base_uri": "https://localhost:8080/"
        },
        "id": "K7GxIxxvXdPV",
        "outputId": "55f55567-bc06-43b5-c337-12f123ec89f8"
      },
      "execution_count": null,
      "outputs": [
        {
          "output_type": "stream",
          "name": "stdout",
          "text": [
            "Validation score: 0.5\n"
          ]
        }
      ]
    },
    {
      "cell_type": "markdown",
      "source": [
        "### Random search"
      ],
      "metadata": {
        "id": "bW3vH09GVpvN"
      }
    },
    {
      "cell_type": "code",
      "source": [
        "from sklearn.model_selection import RandomizedSearchCV\n",
        "from scipy.stats import randint\n",
        "\n",
        "param_distribs = {'C': randint(low = 0.001, high = 100)}\n",
        "\n",
        "model = LogisticRegression()\n",
        "\n",
        "rand_search = RandomizedSearchCV(model,\n",
        "                                 param_distributions = param_distribs,\n",
        "                                 cv = kfold,\n",
        "                                 n_iter = 30,\n",
        "                                 return_train_score = True)\n",
        "\n",
        "rand_search.fit(X_train, y_train)"
      ],
      "metadata": {
        "colab": {
          "base_uri": "https://localhost:8080/"
        },
        "id": "4vF0nPmeH4oZ",
        "outputId": "507c7aa8-8795-46d7-9075-ee70b01ee157"
      },
      "execution_count": null,
      "outputs": [
        {
          "output_type": "execute_result",
          "data": {
            "text/plain": [
              "RandomizedSearchCV(cv=KFold(n_splits=5, random_state=56, shuffle=True),\n",
              "                   estimator=LogisticRegression(), n_iter=30,\n",
              "                   param_distributions={'C': <scipy.stats._distn_infrastructure.rv_frozen object at 0x7fe501ad9250>},\n",
              "                   return_train_score=True)"
            ]
          },
          "metadata": {},
          "execution_count": 102
        }
      ]
    },
    {
      "cell_type": "code",
      "source": [
        "print(f'best param: {rand_search.best_params_}')\n",
        "print(f'best_score: {rand_search.best_score_}')"
      ],
      "metadata": {
        "colab": {
          "base_uri": "https://localhost:8080/"
        },
        "id": "Hr87w5ShH4gP",
        "outputId": "491c43c6-ff23-475c-af6c-71686c2b5e3c"
      },
      "execution_count": null,
      "outputs": [
        {
          "output_type": "stream",
          "name": "stdout",
          "text": [
            "best param: {'C': 78}\n",
            "best_score: 0.5452991452991452\n"
          ]
        }
      ]
    },
    {
      "cell_type": "code",
      "source": [
        "# validation set acc.\n",
        "\n",
        "print(f'Validation set socre: {rand_search.score(X_val, y_val)}')"
      ],
      "metadata": {
        "colab": {
          "base_uri": "https://localhost:8080/"
        },
        "id": "ZhiGwFfqH4d4",
        "outputId": "0338fee9-fbd1-41b4-f80e-46a30a69f7de"
      },
      "execution_count": null,
      "outputs": [
        {
          "output_type": "stream",
          "name": "stdout",
          "text": [
            "Validation set socre: 0.5\n"
          ]
        }
      ]
    },
    {
      "cell_type": "code",
      "source": [
        "from sklearn.metrics import f1_score\n",
        "\n",
        "model = LogisticRegression(C = 1)\n",
        "model.fit(X_train, y_train)"
      ],
      "metadata": {
        "id": "z2UW9OZRYYFt"
      },
      "execution_count": null,
      "outputs": []
    }
  ]
}