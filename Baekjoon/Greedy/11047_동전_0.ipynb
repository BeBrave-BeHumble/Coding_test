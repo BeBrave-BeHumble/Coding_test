{
  "nbformat": 4,
  "nbformat_minor": 0,
  "metadata": {
    "colab": {
      "provenance": [],
      "authorship_tag": "ABX9TyMBwY5DHHU5it2wM5ILUni8",
      "include_colab_link": true
    },
    "kernelspec": {
      "name": "python3",
      "display_name": "Python 3"
    },
    "language_info": {
      "name": "python"
    }
  },
  "cells": [
    {
      "cell_type": "markdown",
      "metadata": {
        "id": "view-in-github",
        "colab_type": "text"
      },
      "source": [
        "<a href=\"https://colab.research.google.com/github/BeBrave-BeHumble/Coding_test/blob/main/Baekjoon/Greedy/11047_%EB%8F%99%EC%A0%84_0.ipynb\" target=\"_parent\"><img src=\"https://colab.research.google.com/assets/colab-badge.svg\" alt=\"Open In Colab\"/></a>"
      ]
    },
    {
      "cell_type": "markdown",
      "source": [
        "# 11047: 동전 0\n",
        "\n",
        "준규가 가지고 있는 동전은 총 N종류이고, 각각의 동전을 매우 많이 가지고 있다.\n",
        "\n",
        "동전을 적절히 사용해서 그 가치의 합을 K로 만들려고 한다. 이때 필요한 동전 개수의 최솟값을 구하는 프로그램을 작성하시오.\n",
        "\n",
        "입력 : 첫째 줄에 N과 K가 주어진다. (1 ≤ N ≤ 10, 1 ≤ K ≤ 100,000,000)\n",
        "\n",
        "둘째 줄부터 N개의 줄에 동전의 가치 Ai가 오름차순으로 주어진다. (1 ≤ Ai ≤ 1,000,000, A1 = 1, i ≥ 2인 경우에 Ai는 Ai-1의 배수)\n",
        "\n",
        "출력 :\n",
        "첫째 줄에 K원을 만드는데 필요한 동전 개수의 최솟값을 출력한다."
      ],
      "metadata": {
        "id": "uvw3NjgmnRZK"
      }
    },
    {
      "cell_type": "code",
      "source": [
        "# 정당성: i ≥ 2인 경우에 Ai는 Ai-1의 배수이니까, 결국 An은 앞선 A들의 공배수\n",
        "# => 큰 수부터 최대한 넣어야 최소한의 동전으로 K를 만들 수 있음\n",
        "\n",
        "N, K = 10, 4200\n",
        "A = [1,5,10,50,100,500,1000,5000,10000,50000]\n"
      ],
      "metadata": {
        "id": "IvHClbStJVVv"
      },
      "execution_count": null,
      "outputs": []
    },
    {
      "cell_type": "code",
      "source": [
        "A.sort(reverse = True)\n",
        "coins = 0\n",
        "\n",
        "for i in range(len(A)):\n",
        "    if K >= A[i] :\n",
        "        coins += (K // A[i]) # 동전 수 더해줌\n",
        "        K = (K % A[i]) # 잔액 업데이트\n",
        "print(coins)\n",
        "\n"
      ],
      "metadata": {
        "colab": {
          "base_uri": "https://localhost:8080/"
        },
        "id": "5-ezRajaMb4U",
        "outputId": "2f1d864d-f00e-44a2-cd3d-b23172bddcb0"
      },
      "execution_count": null,
      "outputs": [
        {
          "output_type": "stream",
          "name": "stdout",
          "text": [
            "12\n"
          ]
        }
      ]
    },
    {
      "cell_type": "code",
      "source": [
        "# 어차피 K가 A보다 작으면 몫이 0이니까 coins + 0 하고 넘어가게 됨.\n",
        "# => 굳이 if 조건 안 걸어도 됨.\n",
        "\n",
        "A.sort(reverse = True)\n",
        "coins = 0\n",
        "\n",
        "for i in A :\n",
        "    coins += (K // i) # 동전 수 업데이트\n",
        "    K %= i # 잔액 업데이트\n",
        "print(coins)\n"
      ],
      "metadata": {
        "colab": {
          "base_uri": "https://localhost:8080/"
        },
        "id": "HS2yYeyhrBH6",
        "outputId": "fd668c32-9729-4762-9e03-734f58764ad7"
      },
      "execution_count": null,
      "outputs": [
        {
          "output_type": "stream",
          "name": "stdout",
          "text": [
            "6\n"
          ]
        }
      ]
    },
    {
      "cell_type": "code",
      "source": [
        "# 최종 제출\n",
        "\n",
        "N, K = map(int, input().split())\n",
        "A = [int(input()) for i in range(N)]\n",
        "\n",
        "A.sort(reverse = True)\n",
        "coins = 0\n",
        "\n",
        "for i in A :\n",
        "    coins += (K // i) # 동전 수 업데이트\n",
        "    K %= i # 잔액 업데이트\n",
        "print(coins)"
      ],
      "metadata": {
        "colab": {
          "base_uri": "https://localhost:8080/"
        },
        "collapsed": true,
        "id": "4YsCy_dxV6wI",
        "outputId": "71adcb7a-76f1-4452-d1d8-c11a3d7744fe"
      },
      "execution_count": null,
      "outputs": [
        {
          "output_type": "stream",
          "name": "stdout",
          "text": [
            "10 4200\n",
            "1\n",
            "5\n",
            "10\n",
            "50\n",
            "100\n",
            "500\n",
            "1000\n",
            "5000\n",
            "10000\n",
            "50000\n",
            "6\n"
          ]
        }
      ]
    }
  ]
}