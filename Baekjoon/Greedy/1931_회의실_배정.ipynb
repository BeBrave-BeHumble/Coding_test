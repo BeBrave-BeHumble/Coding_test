{
  "nbformat": 4,
  "nbformat_minor": 0,
  "metadata": {
    "colab": {
      "provenance": [],
      "authorship_tag": "ABX9TyOSu1zEo4GTMdTddKb0pfHx",
      "include_colab_link": true
    },
    "kernelspec": {
      "name": "python3",
      "display_name": "Python 3"
    },
    "language_info": {
      "name": "python"
    }
  },
  "cells": [
    {
      "cell_type": "markdown",
      "metadata": {
        "id": "view-in-github",
        "colab_type": "text"
      },
      "source": [
        "<a href=\"https://colab.research.google.com/github/BeBrave-BeHumble/Coding_test/blob/main/Baekjoon/Greedy/1931_%ED%9A%8C%EC%9D%98%EC%8B%A4_%EB%B0%B0%EC%A0%95.ipynb\" target=\"_parent\"><img src=\"https://colab.research.google.com/assets/colab-badge.svg\" alt=\"Open In Colab\"/></a>"
      ]
    },
    {
      "cell_type": "markdown",
      "source": [
        "#1931: 회의실 배정\n",
        "\n",
        "한 개의 회의실이 있는데 이를 사용하고자 하는 N개의 회의에 대하여 회의실 사용표를 만들려고 한다. 각 회의 I에 대해 시작시간과 끝나는 시간이 주어져 있고, 각 회의가 겹치지 않게 하면서 회의실을 사용할 수 있는 회의의 최대 개수를 찾아보자. 단, 회의는 한번 시작하면 중간에 중단될 수 없으며 한 회의가 끝나는 것과 동시에 다음 회의가 시작될 수 있다. 회의의 시작시간과 끝나는 시간이 같을 수도 있다. 이 경우에는 시작하자마자 끝나는 것으로 생각하면 된다.\n",
        "\n",
        "입력:\n",
        "첫째 줄에 회의의 수 N(1 ≤ N ≤ 100,000)이 주어진다. 둘째 줄부터 N+1 줄까지 각 회의의 정보가 주어지는데 이것은 공백을 사이에 두고 회의의 시작시간과 끝나는 시간이 주어진다. 시작 시간과 끝나는 시간은 231-1보다 작거나 같은 자연수 또는 0이다.\n",
        "\n",
        "출력:\n",
        "첫째 줄에 최대 사용할 수 있는 회의의 최대 개수를 출력한다."
      ],
      "metadata": {
        "id": "wEFqtrDbx8d5"
      }
    },
    {
      "cell_type": "markdown",
      "source": [
        "- 처음 풀이\n",
        "\n",
        "\n",
        "---\n",
        "무조건 입력 순으로 배치해야 하는 줄 알았는데, 회의시간 재배치 가능함\n"
      ],
      "metadata": {
        "id": "aMLjzpIlQcK-"
      }
    },
    {
      "cell_type": "code",
      "source": [
        "N = 11\n",
        "times = [(1, 4),(3, 5),(0, 6),(5, 7),(3, 8),(5, 9),(6, 10),(8, 11),(8, 12),(2, 13),(12, 14)]"
      ],
      "metadata": {
        "id": "DSg5zmbhV6lw"
      },
      "execution_count": null,
      "outputs": []
    },
    {
      "cell_type": "code",
      "source": [
        "N = int(input())\n",
        "times = []\n",
        "for _ in range(N) :\n",
        "    times.append(list(map(int, input().split())))"
      ],
      "metadata": {
        "id": "lTSETcU3WenI"
      },
      "execution_count": null,
      "outputs": []
    },
    {
      "cell_type": "code",
      "source": [
        "result = 1 # [1, 4]는 무조건 회의 들어가고 시작하니까\n",
        "j = 0\n",
        "i = 0\n",
        "\n",
        "while j < (N-1) : # 인덱싱이 0~10까지라 N-1인데, 거기다가 j=1을 더하고 시작하니 j<=9여야  j=9가 들어왔을 때 j+1=10인 [12,14]까지 돌고 종료됨\n",
        "  j += 1\n",
        "  if times[j][0] < times[i][1] :\n",
        "      continue\n",
        "  elif times[j][0] >= times[i][1] :\n",
        "      result += 1\n",
        "      print('i=', i, 'j=', j, 'time:', times[j])\n",
        "      i = j\n",
        "print(result)"
      ],
      "metadata": {
        "colab": {
          "base_uri": "https://localhost:8080/"
        },
        "id": "oGoBwTV5V6je",
        "outputId": "260710a9-bfe8-4b8e-a2d8-65c0a5fbd79b"
      },
      "execution_count": null,
      "outputs": [
        {
          "output_type": "stream",
          "name": "stdout",
          "text": [
            "i= 0 j= 3 time: [5, 7]\n",
            "i= 3 j= 7 time: [8, 11]\n",
            "i= 7 j= 10 time: [12, 14]\n",
            "4\n"
          ]
        }
      ]
    },
    {
      "cell_type": "markdown",
      "source": [
        "- 수정 코드\n",
        "\n",
        "1. 회의 시간 전부 입력 받은 후, 종료시간이 가장 빠른 순으로 정렬.\n",
        "  종료 시간이 빠르면, 시작 시간도 빠르고, 동시에 회의 시간도 짧음\n",
        "2. 종료시간이 동점인 경우, 시작 시간은 오름/내림차순 상관 없음. 회의실이 비는 시간이 있고, 없고의 차이이지 count에는 영향 미치지 않음."
      ],
      "metadata": {
        "id": "ZjUDSKEIQng6"
      }
    },
    {
      "cell_type": "code",
      "source": [
        "# colab은 sys.stdin이 실행되지 않으므로 input으로 입력 받음\n",
        "\n",
        "# N = int(input())\n",
        "# times = []\n",
        "# for _ in range(N) :\n",
        "#     times.append(list(map(int, input().split())))\n",
        "\n",
        "times.sort(key = lambda times : (times[1], times[0])) # 종료시간이 빠른 순\n",
        "times"
      ],
      "metadata": {
        "id": "SJn_Q9AQQnDF",
        "colab": {
          "base_uri": "https://localhost:8080/"
        },
        "outputId": "865ec0ad-6a15-4612-db70-21ad134894c8"
      },
      "execution_count": null,
      "outputs": [
        {
          "output_type": "execute_result",
          "data": {
            "text/plain": [
              "[(1, 4),\n",
              " (3, 5),\n",
              " (0, 6),\n",
              " (5, 7),\n",
              " (3, 8),\n",
              " (5, 9),\n",
              " (6, 10),\n",
              " (8, 11),\n",
              " (8, 12),\n",
              " (2, 13),\n",
              " (12, 14)]"
            ]
          },
          "metadata": {},
          "execution_count": 20
        }
      ]
    },
    {
      "cell_type": "code",
      "source": [
        "result = 1 # 첫 회의는 무조건 선택\n",
        "\n",
        "end = times[0][1] # 첫 번째 회의's 끝나는 시간\n",
        "# 이 끝나는 시간을 시작 시간과 비교하여 시작 시간이 크면 count\n",
        "\n",
        "for i in range(1, N) :\n",
        "    if times[i][0] >= end :\n",
        "        result += 1\n",
        "        end = times[i][1]\n",
        "print(result)"
      ],
      "metadata": {
        "colab": {
          "base_uri": "https://localhost:8080/"
        },
        "id": "6242HmKRpSOJ",
        "outputId": "3b006aac-3a6a-4330-c5fb-1734499690ff"
      },
      "execution_count": null,
      "outputs": [
        {
          "output_type": "stream",
          "name": "stdout",
          "text": [
            "4\n"
          ]
        }
      ]
    },
    {
      "cell_type": "code",
      "source": [
        "# 최종 제출\n",
        "import sys\n",
        "N = int(sys.stdin.readline())\n",
        "times = []\n",
        "for i in range(N) :\n",
        "    start, end = map(int, sys.stdin.readline().split())\n",
        "    times.append((start, end))\n",
        "\n",
        "times.sort(key = lambda x: (x[1], x[0]))\n",
        "\n",
        "result = 1\n",
        "end = times[0][1]\n",
        "\n",
        "for i in range(1, N) :\n",
        "    if times[i][0] >= end :\n",
        "        result += 1\n",
        "        end = times[i][1]\n",
        "print(result)"
      ],
      "metadata": {
        "id": "wIiZjl3LQm3v"
      },
      "execution_count": null,
      "outputs": []
    }
  ]
}