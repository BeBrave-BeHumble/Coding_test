{
  "nbformat": 4,
  "nbformat_minor": 0,
  "metadata": {
    "colab": {
      "provenance": [],
      "toc_visible": true,
      "authorship_tag": "ABX9TyNrS/BI8wYdSDxZYAl+Fub2",
      "include_colab_link": true
    },
    "kernelspec": {
      "name": "python3",
      "display_name": "Python 3"
    },
    "language_info": {
      "name": "python"
    }
  },
  "cells": [
    {
      "cell_type": "markdown",
      "metadata": {
        "id": "view-in-github",
        "colab_type": "text"
      },
      "source": [
        "<a href=\"https://colab.research.google.com/github/BeBrave-BeHumble/Coding_test/blob/main/Baekjoon/BAEKJOON_Greedy1.ipynb\" target=\"_parent\"><img src=\"https://colab.research.google.com/assets/colab-badge.svg\" alt=\"Open In Colab\"/></a>"
      ]
    },
    {
      "cell_type": "markdown",
      "source": [
        "# 2839: 설탕 배달\n",
        "\n",
        "상근이는 요즘 설탕공장에서 설탕을 배달하고 있다. 상근이는 지금 사탕가게에 설탕을 정확하게 N킬로그램을 배달해야 한다. 설탕공장에서 만드는 설탕은 봉지에 담겨져 있다. 봉지는 3킬로그램 봉지와 5킬로그램 봉지가 있다.\n",
        "\n",
        "상근이는 귀찮기 때문에, 최대한 적은 봉지를 들고 가려고 한다. 예를 들어, 18킬로그램 설탕을 배달해야 할 때, 3킬로그램 봉지 6개를 가져가도 되지만, 5킬로그램 3개와 3킬로그램 1개를 배달하면, 더 적은 개수의 봉지를 배달할 수 있다.\n",
        "\n",
        "상근이가 설탕을 정확하게 N킬로그램 배달해야 할 때, 봉지 몇 개를 가져가면 되는지 그 수를 구하는 프로그램을 작성하시오.\n",
        "\n",
        "첫째 줄에 N이 주어진다. (3 ≤ N ≤ 5000)"
      ],
      "metadata": {
        "id": "5fCZmWiVor2X"
      }
    },
    {
      "cell_type": "code",
      "execution_count": null,
      "metadata": {
        "colab": {
          "base_uri": "https://localhost:8080/"
        },
        "id": "dvDK23rhogdM",
        "outputId": "d891120c-b306-4bec-bfd2-b70b423d68f9"
      },
      "outputs": [
        {
          "output_type": "stream",
          "name": "stdout",
          "text": [
            "4\n",
            "-1\n"
          ]
        }
      ],
      "source": [
        "# 5로 나눌 수 있는만큼 최대한 나누고 3으로 나눔\n",
        "\n",
        "N = int(input())\n",
        "total = 0\n",
        "\n",
        "while N >= 0:\n",
        "    if N % 5 == 0 :\n",
        "        total += (N//5)\n",
        "        print(total) # 5로 한 번에 나누어 떨어지면 바로 total 리턴\n",
        "        break\n",
        "    N -= 3 # 5로 나누어 떨어지지 않으면 3을 한 번 뺌\n",
        "    total += 1 # 3 하나 뺀 만큼 +1 하고 다시 루프로 돌아가서 5를 나눠봄. 반복.\n",
        "else :\n",
        "    print(-1)\n"
      ]
    },
    {
      "cell_type": "code",
      "source": [
        "# 숏코딩\n",
        "n = int(input())\n",
        "print(-(n in[4,7])or n-2*n//5*2)"
      ],
      "metadata": {
        "id": "JZUFKt0KqcOl"
      },
      "execution_count": null,
      "outputs": []
    },
    {
      "cell_type": "markdown",
      "source": [
        "- 해설"
      ],
      "metadata": {
        "id": "ZlcaIO3IJTSL"
      }
    },
    {
      "cell_type": "markdown",
      "source": [
        "1: 3과 5의 조합으로 만들 수 없음\n",
        "\n",
        "2: 3과 5의 조합으로 만들 수 없음\n",
        "\n",
        "3: 3 (1개)\n",
        "\n",
        "4: 3과 5의 조합으로 만들 수 없음\n",
        "\n",
        "5: 5 (1개)\n",
        "\n",
        "6: 3 (2개)\n",
        "\n",
        "7: 3과 5의 조합으로 만들 수 없음\n",
        "\n",
        "8: 3 (1개) + 5 (1개)\n",
        "\n",
        "9: 3 (3개)\n",
        "\n",
        "10: 5 (2개)\n",
        "\n",
        "입력 조건이 3 ≤ N ≤ 5000이므로 4, 7 제외 모든 숫자를 3과 5 조합으로 만들 수 있음.\n",
        "\n",
        "따라서 -(n in [4,7]) n이 4와 7이면 -(true) = -1 출력\n",
        "\n",
        "\n",
        "---\n",
        "\n",
        "1. 5의 배수인 경우 -> n//5\n",
        "\n",
        "2. 5로 나눈 나머지가 1인 경우 -> n//5 -1 + 2 = n//5 + 1 -> 즉, 만약 n=16일 때 5를 3번 곱해버리면 나머지가 1이 남아서 처리 불능. 이렇게 하는 게 아니라 -> 5를 2번만 곱하면 16-10 = 6이 남으니, 3을 2번 더하면 처리 가능.\n",
        "    따라서 (n//5 - 1) + 2 가 total이 되는 것임.\n",
        "\n",
        "3. 5로 나눈 나머지가 2인 경우 -> n//5 -2 + 4 =n//5 + 2\n",
        "\n",
        "4. 5로 나눈 나머지가 3인 경우 -> n//5 + 1\n",
        "\n",
        "5. 5로 나눈 나머지가 4인 경우 -> n//5 -1 + 3 = n//5 + 2\n",
        "\n",
        "\n",
        "이렇게 하면, 결국 n//5 + 1과 n//5 + 2로 표현할 수 있음.\n",
        "\n",
        "이 식을 일반화 한 것이\n",
        "\n",
        "\n",
        "\n",
        "```\n",
        "n-2*n//5*2\n",
        "```\n"
      ],
      "metadata": {
        "id": "sww-pDDUGR7X"
      }
    },
    {
      "cell_type": "markdown",
      "source": [
        "# 11399: ATM\n",
        "\n",
        "인하은행에는 ATM이 1대밖에 없다. 지금 이 ATM앞에 N명의 사람들이 줄을 서있다. 사람은 1번부터 N번까지 번호가 매겨져 있으며, i번 사람이 돈을 인출하는데 걸리는 시간은 Pi분이다.\n",
        "\n",
        "사람들이 줄을 서는 순서에 따라서, 돈을 인출하는데 필요한 시간의 합이 달라지게 된다. 예를 들어, 총 5명이 있고, P1 = 3, P2 = 1, P3 = 4, P4 = 3, P5 = 2 인 경우를 생각해보자. [1, 2, 3, 4, 5] 순서로 줄을 선다면, 1번 사람은 3분만에 돈을 뽑을 수 있다. 2번 사람은 1번 사람이 돈을 뽑을 때 까지 기다려야 하기 때문에, 3+1 = 4분이 걸리게 된다. 3번 사람은 1번, 2번 사람이 돈을 뽑을 때까지 기다려야 하기 때문에, 총 3+1+4 = 8분이 필요하게 된다. 4번 사람은 3+1+4+3 = 11분, 5번 사람은 3+1+4+3+2 = 13분이 걸리게 된다. 이 경우에 각 사람이 돈을 인출하는데 필요한 시간의 합은 3+4+8+11+13 = 39분이 된다.\n",
        "\n",
        "줄을 [2, 5, 1, 4, 3] 순서로 줄을 서면, 2번 사람은 1분만에, 5번 사람은 1+2 = 3분, 1번 사람은 1+2+3 = 6분, 4번 사람은 1+2+3+3 = 9분, 3번 사람은 1+2+3+3+4 = 13분이 걸리게 된다. 각 사람이 돈을 인출하는데 필요한 시간의 합은 1+3+6+9+13 = 32분이다. 이 방법보다 더 필요한 시간의 합을 최소로 만들 수는 없다.\n",
        "\n",
        "줄을 서 있는 사람의 수 N과 각 사람이 돈을 인출하는데 걸리는 시간 Pi가 주어졌을 때, 각 사람이 돈을 인출하는데 필요한 시간의 합의 최솟값을 구하는 프로그램을 작성하시오."
      ],
      "metadata": {
        "id": "5mYPrxunJdNB"
      }
    },
    {
      "cell_type": "markdown",
      "source": [
        "입력: 첫째 줄에 사람의 수 N(1 ≤ N ≤ 1,000)이 주어진다. 둘째 줄에는 각 사람이 돈을 인출하는데 걸리는 시간 Pi가 주어진다. (1 ≤ Pi ≤ 1,000)\n",
        "\n",
        "출력: 첫째 줄에 각 사람이 돈을 인출하는데 필요한 시간의 합의 최솟값을 출력한다."
      ],
      "metadata": {
        "id": "XWGGBcfN9njz"
      }
    },
    {
      "cell_type": "code",
      "source": [
        "N = int(input())\n",
        "P = list(map(int,input().split()))\n",
        "\n",
        "temp = 0\n",
        "total = 0\n",
        "for i in sorted(P) :\n",
        "    temp += i\n",
        "    total += temp\n",
        "print(total)"
      ],
      "metadata": {
        "id": "9EdJSTibJVl5",
        "colab": {
          "base_uri": "https://localhost:8080/"
        },
        "outputId": "d8a88cf6-8140-4df9-8d18-a63775c90c44"
      },
      "execution_count": null,
      "outputs": [
        {
          "output_type": "stream",
          "name": "stdout",
          "text": [
            "5\n",
            "3 1 4 3 2\n",
            "32\n"
          ]
        }
      ]
    },
    {
      "cell_type": "code",
      "source": [
        "# 코드 간소화\n",
        "[sum(sorted(P)[:i+1]) for i in range(len(P))]"
      ],
      "metadata": {
        "id": "ppo50JKiJVfx",
        "colab": {
          "base_uri": "https://localhost:8080/"
        },
        "outputId": "8cd96ed2-10a3-48ee-edd0-40f518d86f73"
      },
      "execution_count": null,
      "outputs": [
        {
          "output_type": "execute_result",
          "data": {
            "text/plain": [
              "[1, 3, 6, 9, 13]"
            ]
          },
          "metadata": {},
          "execution_count": 16
        }
      ]
    },
    {
      "cell_type": "code",
      "source": [
        "print(sum([ sum(sorted(P)[:i+1]) for i in range(len(P)) ]))"
      ],
      "metadata": {
        "id": "AmVPCvVkJVdA",
        "colab": {
          "base_uri": "https://localhost:8080/"
        },
        "outputId": "5b85763c-f778-4c97-dd97-c3a26ed82687"
      },
      "execution_count": null,
      "outputs": [
        {
          "output_type": "stream",
          "name": "stdout",
          "text": [
            "32\n"
          ]
        }
      ]
    },
    {
      "cell_type": "code",
      "source": [
        "# 최종 제출\n",
        "N = int(input())\n",
        "P = list(map(int, input().split()))\n",
        "\n",
        "print( sum([ sum(sorted(P)[:i+1]) for i in range(len(P)) ]) )"
      ],
      "metadata": {
        "id": "v_xgOQ3lJVa-",
        "colab": {
          "base_uri": "https://localhost:8080/"
        },
        "outputId": "4e626b29-0548-4969-a841-2f7142d4d4a9"
      },
      "execution_count": null,
      "outputs": [
        {
          "output_type": "stream",
          "name": "stdout",
          "text": [
            "5\n",
            "3 1 4 3 2\n",
            "32\n"
          ]
        }
      ]
    },
    {
      "cell_type": "markdown",
      "source": [
        "# 11047: 동전 0\n",
        "\n",
        "준규가 가지고 있는 동전은 총 N종류이고, 각각의 동전을 매우 많이 가지고 있다.\n",
        "\n",
        "동전을 적절히 사용해서 그 가치의 합을 K로 만들려고 한다. 이때 필요한 동전 개수의 최솟값을 구하는 프로그램을 작성하시오.\n",
        "\n",
        "입력 : 첫째 줄에 N과 K가 주어진다. (1 ≤ N ≤ 10, 1 ≤ K ≤ 100,000,000)\n",
        "\n",
        "둘째 줄부터 N개의 줄에 동전의 가치 Ai가 오름차순으로 주어진다. (1 ≤ Ai ≤ 1,000,000, A1 = 1, i ≥ 2인 경우에 Ai는 Ai-1의 배수)\n",
        "\n",
        "출력 :\n",
        "첫째 줄에 K원을 만드는데 필요한 동전 개수의 최솟값을 출력한다."
      ],
      "metadata": {
        "id": "uvw3NjgmnRZK"
      }
    },
    {
      "cell_type": "code",
      "source": [
        "# 정당성: i ≥ 2인 경우에 Ai는 Ai-1의 배수이니까, 결국 An은 앞선 A들의 공배수\n",
        "# => 큰 수부터 최대한 넣어야 최소한의 동전으로 K를 만들 수 있음\n",
        "\n",
        "N, K = 10, 4200\n",
        "A = [1,5,10,50,100,500,1000,5000,10000,50000]\n"
      ],
      "metadata": {
        "id": "IvHClbStJVVv"
      },
      "execution_count": null,
      "outputs": []
    },
    {
      "cell_type": "code",
      "source": [
        "A.sort(reverse = True)\n",
        "coins = 0\n",
        "\n",
        "for i in range(len(A)):\n",
        "    if K >= A[i] :\n",
        "        coins += (K // A[i]) # 동전 수 더해줌\n",
        "        K = (K % A[i]) # 잔액 업데이트\n",
        "print(coins)\n",
        "\n"
      ],
      "metadata": {
        "colab": {
          "base_uri": "https://localhost:8080/"
        },
        "id": "5-ezRajaMb4U",
        "outputId": "2f1d864d-f00e-44a2-cd3d-b23172bddcb0"
      },
      "execution_count": null,
      "outputs": [
        {
          "output_type": "stream",
          "name": "stdout",
          "text": [
            "12\n"
          ]
        }
      ]
    },
    {
      "cell_type": "code",
      "source": [
        "# 어차피 K가 A보다 작으면 몫이 0이니까 coins + 0 하고 넘어가게 됨.\n",
        "# => 굳이 if 조건 안 걸어도 됨.\n",
        "\n",
        "A.sort(reverse = True)\n",
        "coins = 0\n",
        "\n",
        "for i in A :\n",
        "    coins += (K // i) # 동전 수 업데이트\n",
        "    K %= i # 잔액 업데이트\n",
        "print(coins)\n"
      ],
      "metadata": {
        "colab": {
          "base_uri": "https://localhost:8080/"
        },
        "id": "HS2yYeyhrBH6",
        "outputId": "fd668c32-9729-4762-9e03-734f58764ad7"
      },
      "execution_count": null,
      "outputs": [
        {
          "output_type": "stream",
          "name": "stdout",
          "text": [
            "6\n"
          ]
        }
      ]
    },
    {
      "cell_type": "code",
      "source": [
        "# 최종 제출\n",
        "\n",
        "N, K = map(int, input().split())\n",
        "A = [int(input()) for i in range(N)]\n",
        "\n",
        "A.sort(reverse = True)\n",
        "coins = 0\n",
        "\n",
        "for i in A :\n",
        "    coins += (K // i) # 동전 수 업데이트\n",
        "    K %= i # 잔액 업데이트\n",
        "print(coins)"
      ],
      "metadata": {
        "colab": {
          "base_uri": "https://localhost:8080/"
        },
        "collapsed": true,
        "id": "4YsCy_dxV6wI",
        "outputId": "71adcb7a-76f1-4452-d1d8-c11a3d7744fe"
      },
      "execution_count": null,
      "outputs": [
        {
          "output_type": "stream",
          "name": "stdout",
          "text": [
            "10 4200\n",
            "1\n",
            "5\n",
            "10\n",
            "50\n",
            "100\n",
            "500\n",
            "1000\n",
            "5000\n",
            "10000\n",
            "50000\n",
            "6\n"
          ]
        }
      ]
    },
    {
      "cell_type": "markdown",
      "source": [
        "#1931: 회의실 배정\n",
        "\n",
        "한 개의 회의실이 있는데 이를 사용하고자 하는 N개의 회의에 대하여 회의실 사용표를 만들려고 한다. 각 회의 I에 대해 시작시간과 끝나는 시간이 주어져 있고, 각 회의가 겹치지 않게 하면서 회의실을 사용할 수 있는 회의의 최대 개수를 찾아보자. 단, 회의는 한번 시작하면 중간에 중단될 수 없으며 한 회의가 끝나는 것과 동시에 다음 회의가 시작될 수 있다. 회의의 시작시간과 끝나는 시간이 같을 수도 있다. 이 경우에는 시작하자마자 끝나는 것으로 생각하면 된다.\n",
        "\n",
        "입력:\n",
        "첫째 줄에 회의의 수 N(1 ≤ N ≤ 100,000)이 주어진다. 둘째 줄부터 N+1 줄까지 각 회의의 정보가 주어지는데 이것은 공백을 사이에 두고 회의의 시작시간과 끝나는 시간이 주어진다. 시작 시간과 끝나는 시간은 231-1보다 작거나 같은 자연수 또는 0이다.\n",
        "\n",
        "출력:\n",
        "첫째 줄에 최대 사용할 수 있는 회의의 최대 개수를 출력한다."
      ],
      "metadata": {
        "id": "wEFqtrDbx8d5"
      }
    },
    {
      "cell_type": "markdown",
      "source": [
        "- 처음 풀이\n",
        "\n",
        "\n",
        "---\n",
        "무조건 입력 순으로 배치해야 하는 줄 알았는데, 회의시간 재배치 가능함\n"
      ],
      "metadata": {
        "id": "aMLjzpIlQcK-"
      }
    },
    {
      "cell_type": "code",
      "source": [
        "N = 11\n",
        "times = [(1, 4),(3, 5),(0, 6),(5, 7),(3, 8),(5, 9),(6, 10),(8, 11),(8, 12),(2, 13),(12, 14)]"
      ],
      "metadata": {
        "id": "DSg5zmbhV6lw"
      },
      "execution_count": null,
      "outputs": []
    },
    {
      "cell_type": "code",
      "source": [
        "N = int(input())\n",
        "times = []\n",
        "for _ in range(N) :\n",
        "    times.append(list(map(int, input().split())))"
      ],
      "metadata": {
        "id": "lTSETcU3WenI"
      },
      "execution_count": null,
      "outputs": []
    },
    {
      "cell_type": "code",
      "source": [
        "result = 1 # [1, 4]는 무조건 회의 들어가고 시작하니까\n",
        "j = 0\n",
        "i = 0\n",
        "\n",
        "while j < (N-1) : # 인덱싱이 0~10까지라 N-1인데, 거기다가 j=1을 더하고 시작하니 j<=9여야  j=9가 들어왔을 때 j+1=10인 [12,14]까지 돌고 종료됨\n",
        "  j += 1\n",
        "  if times[j][0] < times[i][1] :\n",
        "      continue\n",
        "  elif times[j][0] >= times[i][1] :\n",
        "      result += 1\n",
        "      print('i=', i, 'j=', j, 'time:', times[j])\n",
        "      i = j\n",
        "print(result)"
      ],
      "metadata": {
        "colab": {
          "base_uri": "https://localhost:8080/"
        },
        "id": "oGoBwTV5V6je",
        "outputId": "260710a9-bfe8-4b8e-a2d8-65c0a5fbd79b"
      },
      "execution_count": null,
      "outputs": [
        {
          "output_type": "stream",
          "name": "stdout",
          "text": [
            "i= 0 j= 3 time: [5, 7]\n",
            "i= 3 j= 7 time: [8, 11]\n",
            "i= 7 j= 10 time: [12, 14]\n",
            "4\n"
          ]
        }
      ]
    },
    {
      "cell_type": "markdown",
      "source": [
        "- 수정 코드\n",
        "\n",
        "1. 회의 시간 전부 입력 받은 후, 종료시간이 가장 빠른 순으로 정렬.\n",
        "  종료 시간이 빠르면, 시작 시간도 빠르고, 동시에 회의 시간도 짧음\n",
        "2. 종료시간이 동점인 경우, 시작 시간은 오름/내림차순 상관 없음. 회의실이 비는 시간이 있고, 없고의 차이이지 count에는 영향 미치지 않음."
      ],
      "metadata": {
        "id": "ZjUDSKEIQng6"
      }
    },
    {
      "cell_type": "code",
      "source": [
        "# colab은 sys.stdin이 실행되지 않으므로 input으로 입력 받음\n",
        "\n",
        "# N = int(input())\n",
        "# times = []\n",
        "# for _ in range(N) :\n",
        "#     times.append(list(map(int, input().split())))\n",
        "\n",
        "times.sort(key = lambda times : (times[1], times[0])) # 종료시간이 빠른 순\n",
        "times"
      ],
      "metadata": {
        "id": "SJn_Q9AQQnDF",
        "colab": {
          "base_uri": "https://localhost:8080/"
        },
        "outputId": "865ec0ad-6a15-4612-db70-21ad134894c8"
      },
      "execution_count": null,
      "outputs": [
        {
          "output_type": "execute_result",
          "data": {
            "text/plain": [
              "[(1, 4),\n",
              " (3, 5),\n",
              " (0, 6),\n",
              " (5, 7),\n",
              " (3, 8),\n",
              " (5, 9),\n",
              " (6, 10),\n",
              " (8, 11),\n",
              " (8, 12),\n",
              " (2, 13),\n",
              " (12, 14)]"
            ]
          },
          "metadata": {},
          "execution_count": 20
        }
      ]
    },
    {
      "cell_type": "code",
      "source": [
        "result = 1 # 첫 회의는 무조건 선택\n",
        "\n",
        "end = times[0][1] # 첫 번째 회의's 끝나는 시간\n",
        "# 이 끝나는 시간을 시작 시간과 비교하여 시작 시간이 크면 count\n",
        "\n",
        "for i in range(1, N) :\n",
        "    if times[i][0] >= end :\n",
        "        result += 1\n",
        "        end = times[i][1]\n",
        "print(result)"
      ],
      "metadata": {
        "colab": {
          "base_uri": "https://localhost:8080/"
        },
        "id": "6242HmKRpSOJ",
        "outputId": "3b006aac-3a6a-4330-c5fb-1734499690ff"
      },
      "execution_count": null,
      "outputs": [
        {
          "output_type": "stream",
          "name": "stdout",
          "text": [
            "4\n"
          ]
        }
      ]
    },
    {
      "cell_type": "code",
      "source": [
        "# 최종 제출\n",
        "import sys\n",
        "N = int(sys.stdin.readline())\n",
        "times = []\n",
        "for i in range(N) :\n",
        "    start, end = map(int, sys.stdin.readline().split())\n",
        "    times.append((start, end))\n",
        "\n",
        "times.sort(key = lambda x: (x[1], x[0]))\n",
        "\n",
        "result = 1\n",
        "end = times[0][1]\n",
        "\n",
        "for i in range(1, N) :\n",
        "    if times[i][0] >= end :\n",
        "        result += 1\n",
        "        end = times[i][1]\n",
        "print(result)"
      ],
      "metadata": {
        "id": "wIiZjl3LQm3v"
      },
      "execution_count": null,
      "outputs": []
    },
    {
      "cell_type": "markdown",
      "source": [
        "# 1541: 잃어버린 괄호\n",
        "\n",
        "문제\n",
        "\n",
        "  세준이는 양수와 +, -, 그리고 괄호를 가지고 식을 만들었다. 그리고 나서 세준이는 괄호를 모두 지웠다.\n",
        "\n",
        "  그리고 나서 세준이는 괄호를 적절히 쳐서 이 식의 값을 최소로 만들려고 한다.\n",
        "\n",
        "  괄호를 적절히 쳐서 이 식의 값을 최소로 만드는 프로그램을 작성하시오.\n",
        "\n",
        "입력\n",
        "\n",
        "  첫째 줄에 식이 주어진다. 식은 ‘0’~‘9’, ‘+’, 그리고 ‘-’만으로 이루어져 있고, 가장 처음과 마지막 문자는 숫자이다. 그리고 연속해서 두 개 이상의 연산자가 나타나지 않고, 5자리보다 많이 연속되는 숫자는 없다. 수는 0으로 시작할 수 있다. 입력으로 주어지는 식의 길이는 50보다 작거나 같다.\n",
        "\n",
        "출력\n",
        "\n",
        "  첫째 줄에 정답을 출력한다."
      ],
      "metadata": {
        "id": "MX5p8_VRuQxS"
      }
    },
    {
      "cell_type": "markdown",
      "source": [
        "정당성:\n",
        "\n",
        "  - 마이너스가 발견되기 전까지 묶음 ㅁㅁ - (ㅁㅁ+ㅁㅁ+ㅁㅁ)\n",
        "  - 이 경우를 빼고 나머지는 어떻게 묶든 상관없음\n",
        "=> 마이너스 기준으로 split"
      ],
      "metadata": {
        "id": "TLpjR44LQ0yu"
      }
    },
    {
      "cell_type": "code",
      "source": [
        "Formula = list(map( str, input().split('-') )) # = input().split('-')이랑 똑같긴한데 확실히 하려고 map, str 사용\n",
        "print(Formula)"
      ],
      "metadata": {
        "colab": {
          "base_uri": "https://localhost:8080/"
        },
        "id": "XM0_yVzBSqR2",
        "outputId": "64bddbc4-a079-4f35-98b0-ccd616cf8d97"
      },
      "execution_count": null,
      "outputs": [
        {
          "output_type": "stream",
          "name": "stdout",
          "text": [
            "00009-00009\n",
            "['00009', '00009']\n"
          ]
        }
      ]
    },
    {
      "cell_type": "markdown",
      "source": [
        "1. '-' 기준으로 split 해서 list에 담음 -> [30, 40+50, 20+10]\n",
        "2. list 속 각 요소를 연산함 -> [30, 90. 30]\n",
        "3. 맨 앞 원소에서 뒷 원소들을 뺌 -> 30-90-30"
      ],
      "metadata": {
        "id": "ZONWyNAWSWuo"
      }
    },
    {
      "cell_type": "code",
      "source": [
        "item = []\n",
        "for i in Formula :\n",
        "    subtotal = 0\n",
        "    temp = i.split('+') # i번째 요소를 + 기준으로 split -> 50+40 = [50, 40]\n",
        "    for j in temp :\n",
        "        subtotal += int(j) # '-' 기준으로 split 했던 요소들의 합을 구함\n",
        "    item.append(subtotal)\n",
        "\n",
        "result = item[0]\n",
        "for i in item[1:] :\n",
        "    result -= i\n",
        "print(result)"
      ],
      "metadata": {
        "colab": {
          "base_uri": "https://localhost:8080/"
        },
        "id": "5FQcdO07LT1i",
        "outputId": "074f0825-38cc-4846-c403-56a56763e00d"
      },
      "execution_count": null,
      "outputs": [
        {
          "output_type": "stream",
          "name": "stdout",
          "text": [
            "0\n"
          ]
        }
      ]
    },
    {
      "cell_type": "code",
      "source": [
        "# 최종제출\n",
        "import sys\n",
        "Formula = sys.stdin.readline().strip().split('-') # 이미 문자열 리스트를 반환해서 굳이 map 쓸 필요 X\n",
        "\n",
        "item = []\n",
        "for i in Formula :\n",
        "    subtotal = 0\n",
        "    temp = i.split('+')\n",
        "    for j in temp :\n",
        "        subtotal += int(j)\n",
        "    item.append(subtotal)\n",
        "\n",
        "result = item[0]\n",
        "for i in item[1:] :\n",
        "    result -= i\n",
        "print(result)"
      ],
      "metadata": {
        "id": "nsb3S6YCSqMf"
      },
      "execution_count": null,
      "outputs": []
    },
    {
      "cell_type": "code",
      "source": [],
      "metadata": {
        "id": "UFEi_bcpSqJx"
      },
      "execution_count": null,
      "outputs": []
    },
    {
      "cell_type": "code",
      "source": [],
      "metadata": {
        "id": "X4eRTKwEQmvV"
      },
      "execution_count": null,
      "outputs": []
    },
    {
      "cell_type": "code",
      "source": [],
      "metadata": {
        "id": "_nMHADdEQmsS"
      },
      "execution_count": null,
      "outputs": []
    }
  ]
}
