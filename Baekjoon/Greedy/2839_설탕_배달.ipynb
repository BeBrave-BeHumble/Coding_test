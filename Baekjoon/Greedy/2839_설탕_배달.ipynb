{
  "nbformat": 4,
  "nbformat_minor": 0,
  "metadata": {
    "colab": {
      "provenance": [],
      "authorship_tag": "ABX9TyOb5eg05xqUtBFEP5sq4Ecd",
      "include_colab_link": true
    },
    "kernelspec": {
      "name": "python3",
      "display_name": "Python 3"
    },
    "language_info": {
      "name": "python"
    }
  },
  "cells": [
    {
      "cell_type": "markdown",
      "metadata": {
        "id": "view-in-github",
        "colab_type": "text"
      },
      "source": [
        "<a href=\"https://colab.research.google.com/github/BeBrave-BeHumble/Coding_test/blob/main/Baekjoon/Greedy/2839_%EC%84%A4%ED%83%95_%EB%B0%B0%EB%8B%AC.ipynb\" target=\"_parent\"><img src=\"https://colab.research.google.com/assets/colab-badge.svg\" alt=\"Open In Colab\"/></a>"
      ]
    },
    {
      "cell_type": "markdown",
      "source": [
        "# 2839: 설탕 배달\n",
        "\n",
        "상근이는 요즘 설탕공장에서 설탕을 배달하고 있다. 상근이는 지금 사탕가게에 설탕을 정확하게 N킬로그램을 배달해야 한다. 설탕공장에서 만드는 설탕은 봉지에 담겨져 있다. 봉지는 3킬로그램 봉지와 5킬로그램 봉지가 있다.\n",
        "\n",
        "상근이는 귀찮기 때문에, 최대한 적은 봉지를 들고 가려고 한다. 예를 들어, 18킬로그램 설탕을 배달해야 할 때, 3킬로그램 봉지 6개를 가져가도 되지만, 5킬로그램 3개와 3킬로그램 1개를 배달하면, 더 적은 개수의 봉지를 배달할 수 있다.\n",
        "\n",
        "상근이가 설탕을 정확하게 N킬로그램 배달해야 할 때, 봉지 몇 개를 가져가면 되는지 그 수를 구하는 프로그램을 작성하시오.\n",
        "\n",
        "첫째 줄에 N이 주어진다. (3 ≤ N ≤ 5000)"
      ],
      "metadata": {
        "id": "5fCZmWiVor2X"
      }
    },
    {
      "cell_type": "code",
      "execution_count": null,
      "metadata": {
        "colab": {
          "base_uri": "https://localhost:8080/"
        },
        "id": "dvDK23rhogdM",
        "outputId": "d891120c-b306-4bec-bfd2-b70b423d68f9"
      },
      "outputs": [
        {
          "output_type": "stream",
          "name": "stdout",
          "text": [
            "4\n",
            "-1\n"
          ]
        }
      ],
      "source": [
        "# 5로 나눌 수 있는만큼 최대한 나누고 3으로 나눔\n",
        "\n",
        "N = int(input())\n",
        "total = 0\n",
        "\n",
        "while N >= 0:\n",
        "    if N % 5 == 0 :\n",
        "        total += (N//5)\n",
        "        print(total) # 5로 한 번에 나누어 떨어지면 바로 total 리턴\n",
        "        break\n",
        "    N -= 3 # 5로 나누어 떨어지지 않으면 3을 한 번 뺌\n",
        "    total += 1 # 3 하나 뺀 만큼 +1 하고 다시 루프로 돌아가서 5를 나눠봄. 반복.\n",
        "else :\n",
        "    print(-1)\n"
      ]
    },
    {
      "cell_type": "code",
      "source": [
        "# 숏코딩\n",
        "n = int(input())\n",
        "print(-(n in[4,7])or n-2*n//5*2)"
      ],
      "metadata": {
        "id": "JZUFKt0KqcOl"
      },
      "execution_count": null,
      "outputs": []
    },
    {
      "cell_type": "markdown",
      "source": [
        "- 해설"
      ],
      "metadata": {
        "id": "ZlcaIO3IJTSL"
      }
    },
    {
      "cell_type": "markdown",
      "source": [
        "1: 3과 5의 조합으로 만들 수 없음\n",
        "\n",
        "2: 3과 5의 조합으로 만들 수 없음\n",
        "\n",
        "3: 3 (1개)\n",
        "\n",
        "4: 3과 5의 조합으로 만들 수 없음\n",
        "\n",
        "5: 5 (1개)\n",
        "\n",
        "6: 3 (2개)\n",
        "\n",
        "7: 3과 5의 조합으로 만들 수 없음\n",
        "\n",
        "8: 3 (1개) + 5 (1개)\n",
        "\n",
        "9: 3 (3개)\n",
        "\n",
        "10: 5 (2개)\n",
        "\n",
        "입력 조건이 3 ≤ N ≤ 5000이므로 4, 7 제외 모든 숫자를 3과 5 조합으로 만들 수 있음.\n",
        "\n",
        "따라서 -(n in [4,7]) n이 4와 7이면 -(true) = -1 출력\n",
        "\n",
        "\n",
        "---\n",
        "\n",
        "1. 5의 배수인 경우 -> n//5\n",
        "\n",
        "2. 5로 나눈 나머지가 1인 경우 -> n//5 -1 + 2 = n//5 + 1 -> 즉, 만약 n=16일 때 5를 3번 곱해버리면 나머지가 1이 남아서 처리 불능. 이렇게 하는 게 아니라 -> 5를 2번만 곱하면 16-10 = 6이 남으니, 3을 2번 더하면 처리 가능.\n",
        "    따라서 (n//5 - 1) + 2 가 total이 되는 것임.\n",
        "\n",
        "3. 5로 나눈 나머지가 2인 경우 -> n//5 -2 + 4 =n//5 + 2\n",
        "\n",
        "4. 5로 나눈 나머지가 3인 경우 -> n//5 + 1\n",
        "\n",
        "5. 5로 나눈 나머지가 4인 경우 -> n//5 -1 + 3 = n//5 + 2\n",
        "\n",
        "\n",
        "이렇게 하면, 결국 n//5 + 1과 n//5 + 2로 표현할 수 있음.\n",
        "\n",
        "이 식을 일반화 한 것이\n",
        "\n",
        "\n",
        "\n",
        "```\n",
        "n-2*n//5*2\n",
        "```\n"
      ],
      "metadata": {
        "id": "sww-pDDUGR7X"
      }
    }
  ]
}