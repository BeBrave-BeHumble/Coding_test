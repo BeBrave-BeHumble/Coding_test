{
  "nbformat": 4,
  "nbformat_minor": 0,
  "metadata": {
    "colab": {
      "provenance": [],
      "authorship_tag": "ABX9TyPH4mxAMfUMwgFeQQqfXpmc",
      "include_colab_link": true
    },
    "kernelspec": {
      "name": "python3",
      "display_name": "Python 3"
    },
    "language_info": {
      "name": "python"
    }
  },
  "cells": [
    {
      "cell_type": "markdown",
      "metadata": {
        "id": "view-in-github",
        "colab_type": "text"
      },
      "source": [
        "<a href=\"https://colab.research.google.com/github/BeBrave-BeHumble/Coding_test/blob/main/Baekjoon/Greedy/1541_%EC%9E%83%EC%96%B4%EB%B2%84%EB%A6%B0_%EA%B4%84%ED%98%B8.ipynb\" target=\"_parent\"><img src=\"https://colab.research.google.com/assets/colab-badge.svg\" alt=\"Open In Colab\"/></a>"
      ]
    },
    {
      "cell_type": "markdown",
      "source": [
        "# 1541: 잃어버린 괄호\n",
        "\n",
        "문제\n",
        "\n",
        "  세준이는 양수와 +, -, 그리고 괄호를 가지고 식을 만들었다. 그리고 나서 세준이는 괄호를 모두 지웠다.\n",
        "\n",
        "  그리고 나서 세준이는 괄호를 적절히 쳐서 이 식의 값을 최소로 만들려고 한다.\n",
        "\n",
        "  괄호를 적절히 쳐서 이 식의 값을 최소로 만드는 프로그램을 작성하시오.\n",
        "\n",
        "입력\n",
        "\n",
        "  첫째 줄에 식이 주어진다. 식은 ‘0’~‘9’, ‘+’, 그리고 ‘-’만으로 이루어져 있고, 가장 처음과 마지막 문자는 숫자이다. 그리고 연속해서 두 개 이상의 연산자가 나타나지 않고, 5자리보다 많이 연속되는 숫자는 없다. 수는 0으로 시작할 수 있다. 입력으로 주어지는 식의 길이는 50보다 작거나 같다.\n",
        "\n",
        "출력\n",
        "\n",
        "  첫째 줄에 정답을 출력한다."
      ],
      "metadata": {
        "id": "MX5p8_VRuQxS"
      }
    },
    {
      "cell_type": "markdown",
      "source": [
        "정당성:\n",
        "\n",
        "  - 마이너스가 발견되기 전까지 묶음 ㅁㅁ - (ㅁㅁ+ㅁㅁ+ㅁㅁ)\n",
        "  - 이 경우를 빼고 나머지는 어떻게 묶든 상관없음\n",
        "=> 마이너스 기준으로 split"
      ],
      "metadata": {
        "id": "TLpjR44LQ0yu"
      }
    },
    {
      "cell_type": "code",
      "source": [
        "Formula = list(map( str, input().split('-') )) # = input().split('-')이랑 똑같긴한데 확실히 하려고 map, str 사용\n",
        "print(Formula)"
      ],
      "metadata": {
        "colab": {
          "base_uri": "https://localhost:8080/"
        },
        "id": "XM0_yVzBSqR2",
        "outputId": "64bddbc4-a079-4f35-98b0-ccd616cf8d97"
      },
      "execution_count": null,
      "outputs": [
        {
          "output_type": "stream",
          "name": "stdout",
          "text": [
            "00009-00009\n",
            "['00009', '00009']\n"
          ]
        }
      ]
    },
    {
      "cell_type": "markdown",
      "source": [
        "1. '-' 기준으로 split 해서 list에 담음 -> [30, 40+50, 20+10]\n",
        "2. list 속 각 요소를 연산함 -> [30, 90. 30]\n",
        "3. 맨 앞 원소에서 뒷 원소들을 뺌 -> 30-90-30"
      ],
      "metadata": {
        "id": "ZONWyNAWSWuo"
      }
    },
    {
      "cell_type": "code",
      "source": [
        "item = []\n",
        "for i in Formula :\n",
        "    subtotal = 0\n",
        "    temp = i.split('+') # i번째 요소를 + 기준으로 split -> 50+40 = [50, 40]\n",
        "    for j in temp :\n",
        "        subtotal += int(j) # '-' 기준으로 split 했던 요소들의 합을 구함\n",
        "    item.append(subtotal)\n",
        "\n",
        "result = item[0]\n",
        "for i in item[1:] :\n",
        "    result -= i\n",
        "print(result)"
      ],
      "metadata": {
        "colab": {
          "base_uri": "https://localhost:8080/"
        },
        "id": "5FQcdO07LT1i",
        "outputId": "074f0825-38cc-4846-c403-56a56763e00d"
      },
      "execution_count": null,
      "outputs": [
        {
          "output_type": "stream",
          "name": "stdout",
          "text": [
            "0\n"
          ]
        }
      ]
    },
    {
      "cell_type": "code",
      "source": [
        "# 최종제출\n",
        "import sys\n",
        "Formula = sys.stdin.readline().strip().split('-') # 이미 문자열 리스트를 반환해서 굳이 map 쓸 필요 X\n",
        "\n",
        "item = []\n",
        "for i in Formula :\n",
        "    subtotal = 0\n",
        "    temp = i.split('+')\n",
        "    for j in temp :\n",
        "        subtotal += int(j)\n",
        "    item.append(subtotal)\n",
        "\n",
        "result = item[0]\n",
        "for i in item[1:] :\n",
        "    result -= i\n",
        "print(result)"
      ],
      "metadata": {
        "id": "nsb3S6YCSqMf"
      },
      "execution_count": null,
      "outputs": []
    }
  ]
}